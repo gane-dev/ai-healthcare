{
 "cells": [
  {
   "cell_type": "code",
   "execution_count": 1,
   "metadata": {},
   "outputs": [
    {
     "name": "stdout",
     "output_type": "stream",
     "text": [
      "Anatomy_Gray.jsonl\t       Neurology_Adams.jsonl\n",
      "Biochemistry_Lippincott.jsonl  Obstentrics_Williams.jsonl\n",
      "Cell_Biology_Alberts.jsonl     Pathology_Robbins.jsonl\n",
      "First_Aid_Step1.jsonl\t       Pathoma_Husain.jsonl\n",
      "First_Aid_Step2.jsonl\t       Pediatrics_Nelson.jsonl\n",
      "Gynecology_Novak.jsonl\t       Pharmacology_Katzung.jsonl\n",
      "Histology_Ross.jsonl\t       Physiology_Levy.jsonl\n",
      "Immunology_Janeway.jsonl       Psichiatry_DSM-5.jsonl\n",
      "InternalMed_Harrison.jsonl     Surgery_Schwartz.jsonl\n"
     ]
    }
   ],
   "source": [
    "# read from /opt\n",
    "!ls /opt/textbooks/chunk/"
   ]
  },
  {
   "cell_type": "code",
   "execution_count": 2,
   "metadata": {},
   "outputs": [
    {
     "name": "stdout",
     "output_type": "stream",
     "text": [
      "               id         title  \\\n",
      "0  Anatomy_Gray_0  Anatomy_Gray   \n",
      "1  Anatomy_Gray_1  Anatomy_Gray   \n",
      "2  Anatomy_Gray_2  Anatomy_Gray   \n",
      "3  Anatomy_Gray_3  Anatomy_Gray   \n",
      "4  Anatomy_Gray_4  Anatomy_Gray   \n",
      "\n",
      "                                             content  \\\n",
      "0  What is anatomy? Anatomy includes those struct...   \n",
      "1  Observation and visualization are the primary ...   \n",
      "2  How can gross anatomy be studied? The term ana...   \n",
      "3  This includes the vasculature, the nerves, the...   \n",
      "4  Each of these approaches has benefits and defi...   \n",
      "\n",
      "                                            contents  \n",
      "0  Anatomy_Gray. What is anatomy? Anatomy include...  \n",
      "1  Anatomy_Gray. Observation and visualization ar...  \n",
      "2  Anatomy_Gray. How can gross anatomy be studied...  \n",
      "3  Anatomy_Gray. This includes the vasculature, t...  \n",
      "4  Anatomy_Gray. Each of these approaches has ben...  \n",
      "(3017, 4)\n",
      "Index(['id', 'title', 'content', 'contents'], dtype='object')\n"
     ]
    }
   ],
   "source": [
    "# read from /opt/textbooks/chunk/Anatomy_Gray.jsonl\n",
    "import json\n",
    "import pandas as pd\n",
    "# read the jsonl file to pandas dataframe\n",
    "anatomy = pd.read_json('/opt/textbooks/chunk/Anatomy_Gray.jsonl', lines=True)\n",
    "print(anatomy.head())\n",
    "print(anatomy.shape)\n",
    "print(anatomy.columns)\n"
   ]
  },
  {
   "cell_type": "code",
   "execution_count": 8,
   "metadata": {},
   "outputs": [],
   "source": [
    "# parse jsonl file\n",
    "import json\n",
    "\n",
    "data = []\n",
    "with open('/opt/textbooks/chunk/Anatomy_Gray.jsonl', \"r\") as f:\n",
    "    for line in f:\n",
    "        data.append(json.loads(line))"
   ]
  },
  {
   "cell_type": "code",
   "execution_count": 9,
   "metadata": {},
   "outputs": [],
   "source": [
    "text_to_process = data[0]"
   ]
  },
  {
   "cell_type": "code",
   "execution_count": 2,
   "metadata": {},
   "outputs": [],
   "source": [
    "# clean data\n",
    "import pandas as pd\n",
    "import re\n",
    "\n",
    "df = pd.DataFrame(data)\n",
    "df['content_cleaned'] = df['content'].apply(lambda x: re.sub(r'\\s+', ' ', x.lower()))\n"
   ]
  },
  {
   "cell_type": "code",
   "execution_count": 16,
   "metadata": {},
   "outputs": [
    {
     "name": "stderr",
     "output_type": "stream",
     "text": [
      "[nltk_data] Downloading package stopwords to /home/ganesh/nltk_data...\n",
      "[nltk_data]   Package stopwords is already up-to-date!\n",
      "[nltk_data] Downloading package punkt to /home/ganesh/nltk_data...\n",
      "[nltk_data]   Package punkt is already up-to-date!\n",
      "[nltk_data] Downloading package wordnet to /home/ganesh/nltk_data...\n",
      "[nltk_data]   Package wordnet is already up-to-date!\n"
     ]
    }
   ],
   "source": [
    "import nltk\n",
    "nltk.download('stopwords')\n",
    "nltk.download('punkt')\n",
    "nltk.download('wordnet')\n",
    "from nltk.corpus import stopwords\n",
    "from nltk.tokenize import word_tokenize\n",
    "from nltk.stem import WordNetLemmatizer\n",
    "import re"
   ]
  },
  {
   "cell_type": "code",
   "execution_count": 17,
   "metadata": {},
   "outputs": [],
   "source": [
    "def clean_text(text):\n",
    "    # Tokenize the text into words\n",
    "    words = text.split()\n",
    "\n",
    "    # Remove special characters and convert to lowercase\n",
    "    clean_words = [word.lower() for word in words if word.isalnum()]\n",
    "\n",
    "    # Remove stopwords\n",
    "    stop_words = set(stopwords.words(\"english\"))\n",
    "    filtered_words = [word for word in clean_words if word not in stop_words]\n",
    "\n",
    "    # Remove words with less than 4 characters and numbers. This is done in order to reduce noisy data and numbers dont contribute much in any NLP applications\n",
    "    filtered_words = [word for word in filtered_words if len(word) >= 4 and not word.isdigit()]\n",
    "\n",
    "    # Remove duplicate words\n",
    "    cleaned_text = \" \".join(dict.fromkeys(filtered_words))  # This is useful while plotting t-SNE plots\n",
    "\n",
    "    return cleaned_text"
   ]
  },
  {
   "cell_type": "code",
   "execution_count": 14,
   "metadata": {},
   "outputs": [],
   "source": [
    "import numpy as np\n",
    "from sklearn.manifold import TSNE\n",
    "import string\n",
    "import matplotlib.pyplot as plt\n",
    "from transformers import AutoModel, AutoTokenizer\n",
    "import torch\n",
    "\n",
    "# Load the BERT model and tokenizer\n",
    "clinical_model = AutoModel.from_pretrained(\"emilyalsentzer/Bio_ClinicalBERT\")\n",
    "clinical_tokenizer = AutoTokenizer.from_pretrained(\"emilyalsentzer/Bio_ClinicalBERT\")\n",
    "clinical_model.eval()\n",
    "\n",
    "\n",
    "# Example input text\n",
    "input_text = clean_text(text_to_process['content'])\n",
    "\n",
    "# Tokenize the input text using the BERT tokenizer\n",
    "#input_tokens = clinical_tokenizer.tokenize(input_text)\n",
    "input_tokens = input_text.split()\n",
    "# Initialize an empty list to store word embeddings\n",
    "word_embs = []\n",
    "\n",
    "for token in input_tokens:\n",
    "    # Check if the token is a valid word\n",
    "    if token not in string.punctuation:\n",
    "        # Encode the token using the BERT model\n",
    "        inputs = clinical_tokenizer(token, return_tensors=\"pt\")\n",
    "        with torch.no_grad():\n",
    "            outputs = clinical_model(**inputs)\n",
    "        token_emb = outputs.last_hidden_state.mean(dim=1).squeeze().numpy()\n",
    "        word_embs.append(token_emb)\n"
   ]
  },
  {
   "cell_type": "code",
   "execution_count": 13,
   "metadata": {},
   "outputs": [
    {
     "data": {
      "image/png": "[encoded data removed]",
      "text/plain": [
       "<Figure size 2500x2500 with 1 Axes>"
      ]
     },
     "metadata": {},
     "output_type": "display_data"
    }
   ],
   "source": [
    "# Perform t-SNE dimensionality reduction\n",
    "tsne_model = TSNE(n_components=2, perplexity=10, random_state=42)\n",
    "word_embs_2d = tsne_model.fit_transform(np.array(word_embs))\n",
    "\n",
    "# Create a scatter plot of the word embeddings in 2D space\n",
    "plt.figure(figsize=(25, 25))\n",
    "for i in range(len(word_embs_2d)):\n",
    "    plt.scatter(word_embs_2d[i, 0], word_embs_2d[i, 1])\n",
    "    plt.annotate(input_tokens[i], (word_embs_2d[i, 0], word_embs_2d[i, 1]))\n",
    "\n",
    "plt.title(\"t-SNE Visualization of Word Embeddings\")\n",
    "plt.show()"
   ]
  },
  {
   "cell_type": "code",
   "execution_count": 10,
   "metadata": {},
   "outputs": [
    {
     "name": "stderr",
     "output_type": "stream",
     "text": [
      "/home/ganesh/.conda/envs/pytorch-rl-ds/lib/python3.9/site-packages/torchvision/io/image.py:13: UserWarning: Failed to load image Python extension: '/home/ganesh/.conda/envs/pytorch-rl-ds/lib/python3.9/site-packages/torchvision/image.so: undefined symbol: _ZN3c1017RegisterOperatorsD1Ev'If you don't plan on using image functionality from `torchvision.io`, you can ignore this warning. Otherwise, there might be something wrong with your environment. Did you have `libjpeg` or `libpng` installed before building `torchvision` from source?\n",
      "  warn(\n"
     ]
    },
    {
     "ename": "NameError",
     "evalue": "name 'clean_text' is not defined",
     "output_type": "error",
     "traceback": [
      "\u001b[0;31m---------------------------------------------------------------------------\u001b[0m",
      "\u001b[0;31mNameError\u001b[0m                                 Traceback (most recent call last)",
      "Cell \u001b[0;32mIn[10], line 4\u001b[0m\n\u001b[1;32m      2\u001b[0m \u001b[38;5;66;03m# Initialize SentenceTransformer for embeddings\u001b[39;00m\n\u001b[1;32m      3\u001b[0m model \u001b[38;5;241m=\u001b[39m SentenceTransformer(\u001b[38;5;124m'\u001b[39m\u001b[38;5;124mall-MiniLM-L6-v2\u001b[39m\u001b[38;5;124m'\u001b[39m)\n\u001b[0;32m----> 4\u001b[0m input_text \u001b[38;5;241m=\u001b[39m \u001b[43mclean_text\u001b[49m(text_to_process[\u001b[38;5;124m'\u001b[39m\u001b[38;5;124mcontent\u001b[39m\u001b[38;5;124m'\u001b[39m])\n\u001b[1;32m      5\u001b[0m vector \u001b[38;5;241m=\u001b[39m model\u001b[38;5;241m.\u001b[39mencode(input_text)\u001b[38;5;241m.\u001b[39mtolist()  \u001b[38;5;66;03m# Generate vector\u001b[39;00m\n\u001b[1;32m      6\u001b[0m \u001b[38;5;28mprint\u001b[39m(vector)\n",
      "\u001b[0;31mNameError\u001b[0m: name 'clean_text' is not defined"
     ]
    }
   ],
   "source": [
    "from sentence_transformers import SentenceTransformer\n",
    "# Initialize SentenceTransformer for embeddings\n",
    "model = SentenceTransformer('all-MiniLM-L6-v2')\n",
    "input_text = clean_text(text_to_process['content'])\n",
    "vector = model.encode(input_text).tolist()  # Generate vector\n",
    "print(vector)\n",
    "    "
   ]
  },
  {
   "cell_type": "code",
   "execution_count": null,
   "metadata": {},
   "outputs": [],
   "source": []
  },
  {
   "cell_type": "code",
   "execution_count": 13,
   "metadata": {},
   "outputs": [
    {
     "data": {
      "text/plain": [
       "{'id': 'Anatomy_Gray_0',\n",
       " 'title': 'Anatomy_Gray',\n",
       " 'content': 'What is anatomy? Anatomy includes those structures that can be seen grossly (without the aid of magnification) and microscopically (with the aid of magnification). Typically, when used by itself, the term anatomy tends to mean gross or macroscopic anatomy—that is, the study of structures that can be seen without using a microscopic. Microscopic anatomy, also called histology, is the study of cells and tissues using a microscope. Anatomy forms the basis for the practice of medicine. Anatomy leads the physician toward an understanding of a patient’s disease, whether he or she is carrying out a physical examination or using the most advanced imaging techniques. Anatomy is also important for dentists, chiropractors, physical therapists, and all others involved in any aspect of patient treatment that begins with an analysis of clinical signs. The ability to interpret a clinical observation correctly is therefore the endpoint of a sound anatomical understanding.',\n",
       " 'contents': 'Anatomy_Gray. What is anatomy? Anatomy includes those structures that can be seen grossly (without the aid of magnification) and microscopically (with the aid of magnification). Typically, when used by itself, the term anatomy tends to mean gross or macroscopic anatomy—that is, the study of structures that can be seen without using a microscopic. Microscopic anatomy, also called histology, is the study of cells and tissues using a microscope. Anatomy forms the basis for the practice of medicine. Anatomy leads the physician toward an understanding of a patient’s disease, whether he or she is carrying out a physical examination or using the most advanced imaging techniques. Anatomy is also important for dentists, chiropractors, physical therapists, and all others involved in any aspect of patient treatment that begins with an analysis of clinical signs. The ability to interpret a clinical observation correctly is therefore the endpoint of a sound anatomical understanding.'}"
      ]
     },
     "execution_count": 13,
     "metadata": {},
     "output_type": "execute_result"
    }
   ],
   "source": [
    "text_to_process"
   ]
  },
  {
   "cell_type": "code",
   "execution_count": 23,
   "metadata": {},
   "outputs": [],
   "source": [
    "insert_documents_to_weaviate(None)"
   ]
  },
  {
   "cell_type": "code",
   "execution_count": 9,
   "metadata": {},
   "outputs": [],
   "source": [
    "from neo4j import GraphDatabase\n",
    "\n",
    "# Define the URI, username, and password\n",
    "uri = \"bolt://localhost:7687\"  # This is the default URI for local Neo4j\n",
    "username = \"neo4j\"             # Replace with your username\n",
    "password = \"\"     # Replace with your password\n",
    "\n",
    "# Initialize the driver\n",
    "#driver = GraphDatabase.driver(uri, auth=(username, password))\n",
    "driver = GraphDatabase.driver(uri, encrypted=False)  \n",
    "\n",
    "# Define a function to execute Cypher queries\n",
    "def run_query(query):\n",
    "    with driver.session() as session:\n",
    "        result = session.run(query)\n",
    "        return [record for record in result]\n",
    "\n",
    "# Example query to return all nodes in the database\n",
    "query = \"MATCH (n) RETURN n LIMIT 5\"\n",
    "result = run_query(query)\n",
    "\n",
    "# Display the results\n",
    "for record in result:\n",
    "    print(record)\n"
   ]
  },
  {
   "cell_type": "code",
   "execution_count": 26,
   "metadata": {},
   "outputs": [
    {
     "name": "stdout",
     "output_type": "stream",
     "text": [
      "['anatomy', 'includes', 'structures', 'seen', 'grossly', 'microscopically', 'used', 'term', 'tends', 'mean', 'gross', 'macroscopic', 'study', 'without', 'using', 'microscopic', 'also', 'called', 'cells', 'tissues', 'forms', 'basis', 'practice', 'leads', 'physician', 'toward', 'understanding', 'whether', 'carrying', 'physical', 'examination', 'advanced', 'imaging', 'important', 'others', 'involved', 'aspect', 'patient', 'treatment', 'begins', 'analysis', 'clinical', 'ability', 'interpret', 'observation', 'correctly', 'therefore', 'endpoint', 'sound', 'anatomical']\n"
     ]
    }
   ],
   "source": [
    "print(input_tokens)"
   ]
  },
  {
   "cell_type": "code",
   "execution_count": 38,
   "metadata": {},
   "outputs": [],
   "source": [
    "def insert_entities_to_neo4j(documents):\n",
    "    with driver.session() as session:\n",
    "        #for doc in documents:\n",
    "            # Extract entities (assuming already extracted)\n",
    "        for i in range(len(input_tokens)):\n",
    "            session.run(\"\"\"\n",
    "            MERGE (d:Document {id: $doc_id, title: $doc_title})\n",
    "            MERGE (e:Entity {name: $entity_name})\n",
    "            MERGE (d)-[:HAS_ENTITY]->(e)\n",
    "            \"\"\", {\n",
    "                \"doc_id\": text_to_process['id'],\n",
    "                \"doc_title\": text_to_process['title'],\n",
    "                \"entity_name\": input_tokens[i],\n",
    "                \"entity_embedding\": word_embs[i].tolist()\n",
    "                \n",
    "            })\n"
   ]
  },
  {
   "cell_type": "code",
   "execution_count": 39,
   "metadata": {},
   "outputs": [],
   "source": [
    "insert_entities_to_neo4j(None)\n"
   ]
  },
  {
   "cell_type": "code",
   "execution_count": 40,
   "metadata": {},
   "outputs": [],
   "source": [
    "\n",
    "# Query Weaviate for relevant documents\n",
    "query = \"What is human anatomy and it impacts health?\"\n",
    "\n"
   ]
  },
  {
   "cell_type": "code",
   "execution_count": null,
   "metadata": {},
   "outputs": [],
   "source": [
    "# Retrieve graph relationships for a document\n",
    "doc_id = \"1\"\n",
    "graph_data = get_graph_relationships(doc_id)\n",
    "print(\"Graph Relationships:\", graph_data)"
   ]
  },
  {
   "cell_type": "code",
   "execution_count": 42,
   "metadata": {},
   "outputs": [
    {
     "data": {
      "text/plain": [
       "['human', 'anatomy', 'impacts']"
      ]
     },
     "execution_count": 42,
     "metadata": {},
     "output_type": "execute_result"
    }
   ],
   "source": [
    "input_tokens"
   ]
  },
  {
   "cell_type": "code",
   "execution_count": 43,
   "metadata": {},
   "outputs": [
    {
     "name": "stderr",
     "output_type": "stream",
     "text": [
      "Received notification from DBMS server: {severity: WARNING} {code: Neo.ClientNotification.Statement.UnknownRelationshipTypeWarning} {category: UNRECOGNIZED} {title: The provided relationship type is not in the database.} {description: One of the relationship types in your query is not available in the database, make sure you didn't misspell it or that the label is available when you run this statement in your application (the missing relationship type is: RELATED_TO)} {position: line: 2, column: 28, offset: 28} for query: '\\n        MATCH (e:Entity)-[:RELATED_TO]->(r)\\n        WHERE e.name CONTAINS $query\\n        RETURN e.name AS entity, r.name AS related_entity, labels(r) AS community\\n        '\n"
     ]
    }
   ],
   "source": [
    "with driver.session() as session:\n",
    "        result = session.run(\"\"\"\n",
    "        MATCH (e:Entity)-[:RELATED_TO]->(r)\n",
    "        WHERE e.name CONTAINS $query\n",
    "        RETURN e.name AS entity, r.name AS related_entity, labels(r) AS community\n",
    "        \"\"\", {\"query\": input_tokens[0]})"
   ]
  },
  {
   "cell_type": "code",
   "execution_count": 47,
   "metadata": {},
   "outputs": [],
   "source": [
    "from sklearn.metrics.pairwise import cosine_similarity\n",
    "\n",
    "def insert_entities_with_relationships(session, input_tokens):\n",
    "    for i in range(len(input_tokens)):\n",
    "        # Insert Document and Entity nodes with HAS_ENTITY relationship\n",
    "        session.run(\"\"\"\n",
    "        MERGE (d:Document {id: $doc_id, title: $doc_title})\n",
    "        MERGE (e:Entity {name: $entity_name,  embedding: $entity_embedding})\n",
    "        MERGE (d)-[:HAS_ENTITY]->(e)\n",
    "        MERGE (e)-[:IN_DOCUMENT]->(d)\n",
    "        \"\"\", {\n",
    "            \"doc_id\": text_to_process['id'],\n",
    "            \"doc_title\": text_to_process['title'],\n",
    "            \"entity_name\": input_tokens[i],  # Adjusted for explicit field names\n",
    "            \n",
    "            \"entity_embedding\": word_embs[i].tolist() # Storing the embedding vector\n",
    "        })\n",
    "\n",
    "    # Add relationships between entities based on embedding similarity\n",
    "    entity_embeddings = {input_tokens[i]: word_embs[i] for i in range(len(input_tokens))}\n",
    "    entity_names = list(entity_embeddings.keys())\n",
    "    embeddings = list(entity_embeddings.values())\n",
    "\n",
    "    # Compute pairwise cosine similarity\n",
    "    similarity_matrix = cosine_similarity(embeddings)\n",
    "\n",
    "    for i in range(len(entity_names)):\n",
    "        for j in range(i + 1, len(entity_names)):\n",
    "            if similarity_matrix[i][j] > 0.8:  # Threshold for similarity\n",
    "                session.run(\"\"\"\n",
    "                MATCH (e1:Entity {name: $entity1_name}), (e2:Entity {name: $entity2_name})\n",
    "                MERGE (e1)-[:RELATED_TO {similarity: $similarity}]->(e2)\n",
    "                \"\"\", {\n",
    "                    \"entity1_name\": entity_names[i],\n",
    "                    \"entity2_name\": entity_names[j],\n",
    "                    \"similarity\": similarity_matrix[i][j]\n",
    "                })\n"
   ]
  },
  {
   "cell_type": "code",
   "execution_count": 48,
   "metadata": {},
   "outputs": [],
   "source": [
    "insert_entities_with_relationships(driver.session(), input_tokens)"
   ]
  },
  {
   "cell_type": "code",
   "execution_count": 14,
   "metadata": {},
   "outputs": [
    {
     "name": "stdout",
     "output_type": "stream",
     "text": [
      "Collecting elasticsearch\n",
      "  Downloading elasticsearch-8.16.0-py3-none-any.whl.metadata (8.8 kB)\n",
      "Collecting elastic-transport<9,>=8.15.1 (from elasticsearch)\n",
      "  Downloading elastic_transport-8.15.1-py3-none-any.whl.metadata (3.7 kB)\n",
      "Requirement already satisfied: urllib3<3,>=1.26.2 in /home/ganesh/.conda/envs/pytorch-rl-ds/lib/python3.9/site-packages (from elastic-transport<9,>=8.15.1->elasticsearch) (1.26.18)\n",
      "Requirement already satisfied: certifi in /home/ganesh/.conda/envs/pytorch-rl-ds/lib/python3.9/site-packages (from elastic-transport<9,>=8.15.1->elasticsearch) (2024.8.30)\n",
      "Downloading elasticsearch-8.16.0-py3-none-any.whl (543 kB)\n",
      "\u001b[2K   \u001b[90m━━━━━━━━━━━━━━━━━━━━━━━━━━━━━━━━━━━━━━━━\u001b[0m \u001b[32m543.1/543.1 kB\u001b[0m \u001b[31m8.4 MB/s\u001b[0m eta \u001b[36m0:00:00\u001b[0ma \u001b[36m0:00:01\u001b[0m\n",
      "\u001b[?25hDownloading elastic_transport-8.15.1-py3-none-any.whl (64 kB)\n",
      "\u001b[2K   \u001b[90m━━━━━━━━━━━━━━━━━━━━━━━━━━━━━━━━━━━━━━━━\u001b[0m \u001b[32m64.4/64.4 kB\u001b[0m \u001b[31m8.9 MB/s\u001b[0m eta \u001b[36m0:00:00\u001b[0m\n",
      "\u001b[?25hInstalling collected packages: elastic-transport, elasticsearch\n",
      "Successfully installed elastic-transport-8.15.1 elasticsearch-8.16.0\n",
      "Note: you may need to restart the kernel to use updated packages.\n"
     ]
    }
   ],
   "source": [
    "%pip install elasticsearch"
   ]
  },
  {
   "cell_type": "code",
   "execution_count": 1,
   "metadata": {},
   "outputs": [
    {
     "data": {
      "text/plain": [
       "True"
      ]
     },
     "execution_count": 1,
     "metadata": {},
     "output_type": "execute_result"
    }
   ],
   "source": [
    "# load .env file\n",
    "from dotenv import load_dotenv\n",
    "import os\n",
    "load_dotenv()\n"
   ]
  },
  {
   "cell_type": "code",
   "execution_count": null,
   "metadata": {},
   "outputs": [
    {
     "name": "stdout",
     "output_type": "stream",
     "text": [
      "zrx48E9La*2Whl19iON7\n",
      "{\n",
      "  \"name\" : \"503424cc0b4b\",\n",
      "  \"cluster_name\" : \"docker-cluster\",\n",
      "  \"cluster_uuid\" : \"CKvKVlXZTiiNKAXhCHrteA\",\n",
      "  \"version\" : {\n",
      "    \"number\" : \"8.16.1\",\n",
      "    \"build_flavor\" : \"default\",\n",
      "    \"build_type\" : \"docker\",\n",
      "    \"build_hash\" : \"ffe992aa682c1968b5df375b5095b3a21f122bf3\",\n",
      "    \"build_date\" : \"2024-11-19T16:00:31.793213192Z\",\n",
      "    \"build_snapshot\" : false,\n",
      "    \"lucene_version\" : \"9.12.0\",\n",
      "    \"minimum_wire_compatibility_version\" : \"7.17.0\",\n",
      "    \"minimum_index_compatibility_version\" : \"7.0.0\"\n",
      "  },\n",
      "  \"tagline\" : \"You Know, for Search\"\n",
      "}\n"
     ]
    }
   ],
   "source": [
    "\n",
    "!curl --cacert \"http_ca.crt\" -u elastic:$ELASTIC_PASSWORD https://localhost:9200\n"
   ]
  },
  {
   "cell_type": "code",
   "execution_count": 3,
   "metadata": {},
   "outputs": [
    {
     "data": {
      "text/plain": [
       "(2, [])"
      ]
     },
     "execution_count": 3,
     "metadata": {},
     "output_type": "execute_result"
    }
   ],
   "source": [
    "from elasticsearch import Elasticsearch, helpers\n",
    "\n",
    "# Initialize ElasticSearch client\n",
    "es = Elasticsearch(hosts=[\"https://localhost:9200\"],ca_certs=\"http_ca.crt\",basic_auth=(\"elastic\", os.getenv(\"ELASTIC_PASSWORD\")))\n",
    "\n",
    "# Example documents\n",
    "documents = [\n",
    "    {\n",
    "        \"_index\": \"documents\",\n",
    "        \"_id\": \"1\",\n",
    "        \"_source\": {\n",
    "            \"file_name\": \"doc1.txt\",\n",
    "            \"line_number\": 1,\n",
    "            \"entity\": \"diabetes\",\n",
    "            \"content\": \"Diabetes is a chronic disease that affects the metabolism.\"\n",
    "        }\n",
    "    },\n",
    "    {\n",
    "        \"_index\": \"documents\",\n",
    "        \"_id\": \"2\",\n",
    "        \"_source\": {\n",
    "            \"file_name\": \"doc1.txt\",\n",
    "            \"line_number\": 2,\n",
    "            \"entity\": \"insulin\",\n",
    "            \"content\": \"Insulin is used to manage blood sugar levels.\"\n",
    "        }\n",
    "    }\n",
    "]\n",
    "\n",
    "# Bulk insert\n",
    "helpers.bulk(es, documents)\n"
   ]
  },
  {
   "cell_type": "code",
   "execution_count": 3,
   "metadata": {},
   "outputs": [
    {
     "name": "stdout",
     "output_type": "stream",
     "text": [
      "{'took': 3, 'timed_out': False, '_shards': {'total': 1, 'successful': 1, 'skipped': 0, 'failed': 0}, 'hits': {'total': {'value': 1, 'relation': 'eq'}, 'max_score': 0.6931471, 'hits': [{'_index': 'documents', '_id': '1', '_score': 0.6931471, '_source': {'file_name': 'doc1.txt', 'line_number': 1, 'entity': 'diabetes', 'content': 'Diabetes is a chronic disease that affects the metabolism.'}}]}}\n",
      "File: doc1.txt, Text: Diabetes is a chronic disease that affects the metabolism.\n"
     ]
    }
   ],
   "source": [
    "from elasticsearch import Elasticsearch, helpers\n",
    "import os\n",
    "# Initialize ElasticSearch client\n",
    "es = Elasticsearch(hosts=[\"https://localhost:9200\"],ca_certs=\"http_ca.crt\",basic_auth=(\"elastic\", os.getenv(\"ELASTIC_PASSWORD\")))\n",
    "response = es.search(\n",
    "    index=\"documents\",\n",
    "    body={\n",
    "        \"query\": {\n",
    "            \"match\": {\n",
    "                \"entity\": \"diabetes\"\n",
    "            }\n",
    "        },\n",
    "        \"size\": 10\n",
    "    }\n",
    ")\n",
    "print(response)\n",
    "# Extract results\n",
    "for hit in response['hits']['hits']:\n",
    "    print(f\"File: {hit['_source']['file_name']}, Text: {hit['_source']['content']}\")\n"
   ]
  },
  {
   "cell_type": "markdown",
   "metadata": {},
   "source": [
    "# Go to the Neo4j Graph Data Science Download Page.\n",
    "# Install GDS plugin in Neo4j\n",
    "- Download the appropriate GDS version for your Neo4j installation.\n",
    "- Place the downloaded .jar file into the plugins directory.\n",
    "- sudo chmod 644 /var/lib/neo4j/plugins/neo4j-graph-data-science-*.jar\n",
    "\n",
    "\n",
    "- On Linux: /var/lib/neo4j/plugins/\n",
    "- On Windows: C:\\Program Files\\Neo4j\\plugins\n",
    "- On macOS: /Users/<your-username>/Library/Application Support/Neo4j - Desktop/Application/relate-data/dbmss/<instance-id>/plugins\n",
    "\n",
    "- Enable  GDS Plugin\n",
    "* dbms.security.procedures.unrestricted=gds.*\n",
    "* dbms.security.procedures.allowlist=gds.*\n",
    "\n",
    "- sudo systemctl restart neo4j\n",
    "\n",
    "\n",
    "\n",
    "\n"
   ]
  },
  {
   "cell_type": "markdown",
   "metadata": {},
   "source": []
  },
  {
   "cell_type": "markdown",
   "metadata": {},
   "source": []
  },
  {
   "cell_type": "markdown",
   "metadata": {
    "vscode": {
     "languageId": "yaml"
    }
   },
   "source": [
    "# Improve Neo4j performance\n",
    "- Create index on entity (CREATE INDEX FOR (e:Entity) ON (e.name))\n",
    "- Batch processing of Large files\n",
    "- Use APOC for Bulk operations\n",
    "\n"
   ]
  },
  {
   "cell_type": "code",
   "execution_count": 21,
   "metadata": {},
   "outputs": [],
   "source": [
    "# Bulk insert\n",
    "from neo4j import GraphDatabase\n",
    "from sklearn.metrics.pairwise import cosine_similarity\n",
    "import numpy as np\n",
    "\n",
    "class Neo4jBulkInserter:\n",
    "    def __init__(self, uri):\n",
    "        self.driver = GraphDatabase.driver(uri)\n",
    "\n",
    "    def close(self):\n",
    "        self.driver.close()\n",
    "\n",
    "  \n",
    "\n",
    "    def insert_entities_and_relationships(self, entities, threshold=0.75):\n",
    "        with self.driver.session() as session:\n",
    "            # Step 1: Insert all entities in bulk\n",
    "            session.run(\"\"\"\n",
    "            UNWIND $entities AS entity\n",
    "            MERGE (e:Entity {name: entity.name})\n",
    "            SET e.embedding = entity.embedding\n",
    "            \"\"\", {\"entities\": [{\"name\": e[\"name\"], \"embedding\": e[\"embedding\"]} for e in entities]})\n",
    "\n",
    "            # Step 2: Calculate pairwise similarity and create relationships in bulk\n",
    "            similarities = []\n",
    "            for i, entity1 in enumerate(entities):\n",
    "                for j, entity2 in enumerate(entities):\n",
    "                    if i < j:  # Avoid duplicate and self-pairs\n",
    "                        sim = cosine_similarity(\n",
    "                            [entity1[\"embedding\"]],\n",
    "                            [entity2[\"embedding\"]]\n",
    "                        )[0][0]\n",
    "                        if sim >= threshold:\n",
    "                            similarities.append({\n",
    "                                \"entity1\": entity1[\"name\"],\n",
    "                                \"entity2\": entity2[\"name\"],\n",
    "                                \"similarity\": sim\n",
    "                            })\n",
    "\n",
    "            # Step 3: Insert relationships using APOC\n",
    "            session.run(\"\"\"\n",
    "            UNWIND $similarities AS sim\n",
    "            MATCH (e1:Entity {name: sim.entity1}), (e2:Entity {name: sim.entity2})\n",
    "            MERGE (e1)-[r:RELATED_TO {similarity: sim.similarity}]->(e2)\n",
    "            \"\"\", {\"similarities\": similarities})\n",
    "\n",
    "\n"
   ]
  },
  {
   "cell_type": "code",
   "execution_count": 8,
   "metadata": {},
   "outputs": [],
   "source": [
    "\n",
    "uri = \"bolt://localhost:7687\"\n",
    "user = \"neo4j\"\n",
    "password = \"your_password\"\n",
    "\n",
    "# Example entities with embeddings\n",
    "entities = [\n",
    "    {\"name\": \"Entity1\", \"embedding\": [0.1, 0.2, 0.7]},\n",
    "    {\"name\": \"Entity2\", \"embedding\": [0.2, 0.1, 0.6]},\n",
    "    {\"name\": \"Entity3\", \"embedding\": [0.1, 0.3, 0.8]}\n",
    "]\n",
    "\n",
    "# Initialize Neo4jBulkInserter\n",
    "inserter = Neo4jBulkInserter(uri)\n",
    "\n",
    "# Insert entities and relationships\n",
    "inserter.insert_entities_and_relationships(entities, threshold=0.75)\n",
    "\n",
    "# Close connection\n",
    "inserter.close()"
   ]
  },
  {
   "cell_type": "code",
   "execution_count": null,
   "metadata": {},
   "outputs": [],
   "source": [
    "# GDS query\n",
    "# community detection\n",
    "from neo4j import GraphDatabase\n",
    "\n",
    "class CommunityDetection:\n",
    "    def __init__(self, uri):\n",
    "        self.driver = GraphDatabase.driver(uri)\n",
    "\n",
    "    def close(self):\n",
    "        self.driver.close()\n",
    "\n",
    "    \n",
    "\n",
    "    def run_community_detection(self, graph_name):\n",
    "        with self.driver.session() as session:\n",
    "            # Step 1: Drop existing GDS graph (if any)\n",
    "            session.run(f\"CALL gds.graph.drop('{graph_name}', false) YIELD graphName;\")\n",
    "            \n",
    "            # Step 2: Create a GDS graph projection\n",
    "            session.run(f\"\"\"\n",
    "            CALL gds.graph.project(\n",
    "                '{graph_name}',\n",
    "                'Entity',\n",
    "                {{\n",
    "                    RELATED_TO: {{\n",
    "                        properties: 'similarity'\n",
    "                    }}\n",
    "                }}\n",
    "            )\n",
    "            \"\"\")\n",
    "\n",
    "            # Step 3: Run Louvain community detection\n",
    "            result = session.run(f\"\"\"\n",
    "            CALL gds.louvain.stream('{graph_name}')\n",
    "            YIELD nodeId, communityId\n",
    "            RETURN gds.util.asNode(nodeId).name AS entityName, communityId\n",
    "            ORDER BY communityId\n",
    "            \"\"\")\n",
    "\n",
    "            # Collect and return results\n",
    "            communities = []\n",
    "            for record in result:\n",
    "                communities.append({\"entityName\": record[\"entityName\"], \"communityId\": record[\"communityId\"]})\n",
    "            return communities\n",
    "\n",
    "\n"
   ]
  },
  {
   "cell_type": "code",
   "execution_count": 11,
   "metadata": {},
   "outputs": [
    {
     "name": "stdout",
     "output_type": "stream",
     "text": [
      "Entity: Entity1, Community: 2\n",
      "Entity: Entity2, Community: 2\n",
      "Entity: Entity3, Community: 2\n"
     ]
    }
   ],
   "source": [
    "uri = \"bolt://localhost:7687\"\n",
    "\n",
    "# Initialize CommunityDetection\n",
    "cd = CommunityDetection(uri)\n",
    "\n",
    "# Run community detection and retrieve results\n",
    "graph_name = \"entityGraph\"\n",
    "communities = cd.run_community_detection(graph_name)\n",
    "\n",
    "# Print results\n",
    "for community in communities:\n",
    "    print(f\"Entity: {community['entityName']}, Community: {community['communityId']}\")\n",
    "\n",
    "# Close connection\n",
    "cd.close()\n"
   ]
  },
  {
   "cell_type": "markdown",
   "metadata": {},
   "source": [
    "# Load textbooks to graph and elastic search\n",
    "- read the jsonl file\n",
    "    - for each line, get the entities, embeddings\n",
    "    - load the entities, embeddings to Neo4j\n",
    "    - load the entities and document to elastic search"
   ]
  },
  {
   "cell_type": "code",
   "execution_count": 7,
   "metadata": {},
   "outputs": [
    {
     "name": "stderr",
     "output_type": "stream",
     "text": [
      "/home/ganesh/.conda/envs/pytorch-rl-ds/lib/python3.9/site-packages/torchvision/io/image.py:13: UserWarning: Failed to load image Python extension: '/home/ganesh/.conda/envs/pytorch-rl-ds/lib/python3.9/site-packages/torchvision/image.so: undefined symbol: _ZN3c1017RegisterOperatorsD1Ev'If you don't plan on using image functionality from `torchvision.io`, you can ignore this warning. Otherwise, there might be something wrong with your environment. Did you have `libjpeg` or `libpng` installed before building `torchvision` from source?\n",
      "  warn(\n"
     ]
    }
   ],
   "source": [
    "# get token and embedding for given text\n",
    "import numpy as np\n",
    "from sklearn.manifold import TSNE\n",
    "import string\n",
    "import matplotlib.pyplot as plt\n",
    "from transformers import AutoModel, AutoTokenizer\n",
    "import torch\n",
    "\n",
    "# Load the BERT model and tokenizer\n",
    "clinical_model = AutoModel.from_pretrained(\"emilyalsentzer/Bio_ClinicalBERT\")\n",
    "clinical_tokenizer = AutoTokenizer.from_pretrained(\"emilyalsentzer/Bio_ClinicalBERT\")\n",
    "clinical_model.eval()\n",
    "\n",
    "def get_token_and_embedding(text):\n",
    "    # Example input text\n",
    "    tokens_all =[]\n",
    "    embeddings_all=[]\n",
    "    for i in range(len(text)):\n",
    "        input_text = clean_text(text[i])\n",
    "\n",
    "        # Tokenize the input text using the BERT tokenizer\n",
    "        input_tokens = clinical_tokenizer.tokenize(input_text)\n",
    "        # Initialize an empty list to store word embeddings\n",
    "        word_embs = []\n",
    "\n",
    "        for token in input_tokens:\n",
    "            # Check if the token is a valid word\n",
    "            if token not in string.punctuation:\n",
    "                # Encode the token using the BERT model\n",
    "                inputs = clinical_tokenizer(token, return_tensors=\"pt\")\n",
    "                with torch.no_grad():\n",
    "                    outputs = clinical_model(**inputs)\n",
    "                token_emb = outputs.last_hidden_state.mean(dim=1).squeeze().numpy()\n",
    "                word_embs.append(token_emb)\n",
    "        tokens_all.append(input_tokens)\n",
    "        embeddings_all.append(word_embs)\n",
    "\n",
    "\n",
    "    return tokens_all,embeddings_all\n"
   ]
  },
  {
   "cell_type": "code",
   "execution_count": 8,
   "metadata": {},
   "outputs": [],
   "source": [
    "uri = \"bolt://localhost:7687\"\n",
    "# insert to Neo4j\n",
    "inserter = Neo4jBulkInserter(uri)\n",
    "# Insert entities and relationships\n",
    "def insert_to_neo4j(input_tokens, embeddings):\n",
    "    entities=[]\n",
    "    for i in range(len(input_tokens)):\n",
    "        for j in range(len(input_tokens[i])):\n",
    "            entities.append({\"name\": input_tokens[j], \"embedding\": embeddings[i][j].tolist()})\n",
    "    inserter.insert_entities_and_relationships(entities, threshold=0.75)\n"
   ]
  },
  {
   "cell_type": "markdown",
   "metadata": {},
   "source": [
    "# Insert to Elastic Search"
   ]
  },
  {
   "cell_type": "code",
   "execution_count": 9,
   "metadata": {},
   "outputs": [],
   "source": [
    "from elasticsearch import Elasticsearch, helpers\n",
    "import uuid\n",
    "\n",
    "# Initialize ElasticSearch client\n",
    "es = Elasticsearch(hosts=[\"https://localhost:9200\"],ca_certs=\"http_ca.crt\",basic_auth=(\"elastic\", os.getenv(\"ELASTIC_PASSWORD\")))\n",
    "\n",
    "def insert_to_elasticsearch(tokens,text,file_name):\n",
    "    documents = []\n",
    "    for i in range(len(tokens)):\n",
    "        documents.append({\n",
    "            \"_index\": \"documents\",\n",
    "            \"_id\": str(uuid.UUID),\n",
    "            \"_source\": {\n",
    "                \"file_name\": file_name,\n",
    "                \"entities\": tokens[i],\n",
    "                \"content\": text[i]\n",
    "            }\n",
    "        })\n",
    "    # Bulk insert\n",
    "    helpers.bulk(es, documents)\n",
    "\n"
   ]
  },
  {
   "cell_type": "markdown",
   "metadata": {},
   "source": [
    "# Update code to process in batches"
   ]
  },
  {
   "cell_type": "code",
   "execution_count": 18,
   "metadata": {},
   "outputs": [],
   "source": [
    "import numpy as np\n",
    "import string\n",
    "from transformers import AutoModel, AutoTokenizer\n",
    "import torch\n",
    "from sklearn.manifold import TSNE\n",
    "# Load the BERT model and tokenizer\n",
    "clinical_model = AutoModel.from_pretrained(\"emilyalsentzer/Bio_ClinicalBERT\")\n",
    "clinical_tokenizer = AutoTokenizer.from_pretrained(\"emilyalsentzer/Bio_ClinicalBERT\")\n",
    "clinical_model.eval()\n",
    "\n",
    "\n",
    "\n",
    "def get_token_and_embedding(text_batch):\n",
    "    \"\"\"\n",
    "    Processes a batch of 100 lines, deduplicates tokens, and generates embeddings in a single batch.\n",
    "\n",
    "    Args:\n",
    "        text_batch (list): A list of 100 text lines.\n",
    "\n",
    "    Returns:\n",
    "        deduped_tokens (list): List of unique tokens.\n",
    "        batch_embeddings (list): List of embeddings corresponding to deduplicated tokens.\n",
    "    \"\"\"\n",
    "    # Step 1: Tokenize and clean the text\n",
    "    all_tokens = []\n",
    "    for text in text_batch:\n",
    "        input_text = clean_text(text)\n",
    "        input_tokens = clinical_tokenizer.tokenize(input_text)\n",
    "        # Keep only valid tokens (non-punctuation)\n",
    "        valid_tokens = [token for token in input_tokens if token not in string.punctuation]\n",
    "        all_tokens.extend(valid_tokens)\n",
    "\n",
    "    # Step 2: Deduplicate tokens\n",
    "    deduped_tokens = list(set(all_tokens))\n",
    "\n",
    "    # Step 3: Batch embedding generation\n",
    "    batch_embeddings = []\n",
    "    batch_inputs = clinical_tokenizer(deduped_tokens, padding=True, truncation=True, return_tensors=\"pt\")\n",
    "    tsne_model = TSNE(n_components=2, perplexity=10, random_state=42)\n",
    "    with torch.no_grad():\n",
    "        outputs = clinical_model(**batch_inputs)\n",
    "        # Average embeddings across the token's hidden states\n",
    "        token_embeddings = outputs.last_hidden_state.mean(dim=1).squeeze().numpy()\n",
    "        word_embs_2d = tsne_model.fit_transform(np.array(token_embeddings))\n",
    "\n",
    "        batch_embeddings.extend(word_embs_2d)\n",
    "\n",
    "    return deduped_tokens, batch_embeddings\n"
   ]
  },
  {
   "cell_type": "code",
   "execution_count": 19,
   "metadata": {},
   "outputs": [],
   "source": [
    "from elasticsearch import Elasticsearch, helpers\n",
    "import uuid\n",
    "import os\n",
    "\n",
    "# Initialize ElasticSearch client\n",
    "es = Elasticsearch(\n",
    "    hosts=[\"https://localhost:9200\"],\n",
    "    ca_certs=\"http_ca.crt\",\n",
    "    basic_auth=(\"elastic\", os.getenv(\"ELASTIC_PASSWORD\"))\n",
    ")\n",
    "\n",
    "def insert_to_elasticsearch(tokens, data_batch, file_name):\n",
    "    # Combine tokens and content from the batch into a single document\n",
    "    combined_tokens = [token for sublist in tokens for token in sublist]  # Flatten list of tokens\n",
    "    combined_content = \"\\n\".join([data['content'] for data in data_batch])  # Combine content lines\n",
    "\n",
    "    # Prepare the document\n",
    "    document = {\n",
    "        \"_index\": \"documents\",\n",
    "        \"_id\": str(uuid.uuid4()),  # Unique ID for the document\n",
    "        \"_source\": {\n",
    "            \"file_name\": file_name,\n",
    "            \"entities\": combined_tokens,  # All tokens from the batch\n",
    "            \"content\": combined_content,  # All content combined as a single string\n",
    "            \"metadata\": {\n",
    "                \"batch_size\": len(data_batch),  # Number of lines in the batch\n",
    "                \"additional_metadata\": [  # Preserve metadata from each line\n",
    "                    {key: data[key] for key in data if key != \"content\"} for data in data_batch\n",
    "                ]\n",
    "            }\n",
    "        }\n",
    "    }\n",
    "\n",
    "    # Insert the document into ElasticSearch\n",
    "    try:\n",
    "        helpers.bulk(es, [document])\n",
    "        print(f\"Successfully inserted 1 document (100 lines) into ElasticSearch.\")\n",
    "    except Exception as e:\n",
    "        print(f\"Error inserting document into ElasticSearch: {e}\")\n"
   ]
  },
  {
   "cell_type": "code",
   "execution_count": 20,
   "metadata": {},
   "outputs": [],
   "source": [
    "def insert_to_neo4j(deduped_tokens, embeddings):\n",
    "    \"\"\"\n",
    "    Inserts deduplicated tokens and their embeddings into Neo4j, creating relationships based on similarity.\n",
    "\n",
    "    Args:\n",
    "        deduped_tokens (list): List of unique tokens.\n",
    "        embeddings (list): List of embeddings corresponding to the deduplicated tokens.\n",
    "    \"\"\"\n",
    "    entities = [\n",
    "        {\"name\": token, \"embedding\": embedding.tolist()}\n",
    "        for token, embedding in zip(deduped_tokens, embeddings)\n",
    "    ]\n",
    "\n",
    "    # Insert entities and relationships into Neo4j\n",
    "    inserter.insert_entities_and_relationships(entities, threshold=0.75)\n"
   ]
  },
  {
   "cell_type": "code",
   "execution_count": 22,
   "metadata": {},
   "outputs": [
    {
     "name": "stderr",
     "output_type": "stream",
     "text": [
      "Asking to truncate to max_length but no maximum length is provided and the model has no predefined maximum length. Default to no truncation.\n"
     ]
    },
    {
     "name": "stdout",
     "output_type": "stream",
     "text": [
      "Processing file: Obstentrics_Williams.jsonl\n"
     ]
    },
    {
     "name": "stderr",
     "output_type": "stream",
     "text": [
      "huggingface/tokenizers: The current process just got forked, after parallelism has already been used. Disabling parallelism to avoid deadlocks...\n",
      "To disable this warning, you can either:\n",
      "\t- Avoid using `tokenizers` before the fork if possible\n",
      "\t- Explicitly set the environment variable TOKENIZERS_PARALLELISM=(true | false)\n",
      "huggingface/tokenizers: The current process just got forked, after parallelism has already been used. Disabling parallelism to avoid deadlocks...\n",
      "To disable this warning, you can either:\n",
      "\t- Avoid using `tokenizers` before the fork if possible\n",
      "\t- Explicitly set the environment variable TOKENIZERS_PARALLELISM=(true | false)\n"
     ]
    },
    {
     "name": "stdout",
     "output_type": "stream",
     "text": [
      "2345\n"
     ]
    },
    {
     "ename": "KeyboardInterrupt",
     "evalue": "",
     "output_type": "error",
     "traceback": [
      "\u001b[0;31m---------------------------------------------------------------------------\u001b[0m",
      "\u001b[0;31mKeyboardInterrupt\u001b[0m                         Traceback (most recent call last)",
      "Cell \u001b[0;32mIn[22], line 31\u001b[0m\n\u001b[1;32m     29\u001b[0m tokens, embeddings \u001b[38;5;241m=\u001b[39m get_token_and_embedding(lines)\n\u001b[1;32m     30\u001b[0m \u001b[38;5;28mprint\u001b[39m(\u001b[38;5;28mlen\u001b[39m(tokens))\n\u001b[0;32m---> 31\u001b[0m \u001b[43minsert_to_neo4j\u001b[49m\u001b[43m(\u001b[49m\u001b[43mtokens\u001b[49m\u001b[43m,\u001b[49m\u001b[43m \u001b[49m\u001b[43membeddings\u001b[49m\u001b[43m)\u001b[49m\n\u001b[1;32m     32\u001b[0m \u001b[38;5;28mprint\u001b[39m(\u001b[38;5;124mf\u001b[39m\u001b[38;5;124m\"\u001b[39m\u001b[38;5;124mCompleted inserting to neo4j\u001b[39m\u001b[38;5;124m\"\u001b[39m)\n\u001b[1;32m     33\u001b[0m insert_to_elasticsearch(tokens, data_batch, filename)\n",
      "Cell \u001b[0;32mIn[20], line 15\u001b[0m, in \u001b[0;36minsert_to_neo4j\u001b[0;34m(deduped_tokens, embeddings)\u001b[0m\n\u001b[1;32m      9\u001b[0m entities \u001b[38;5;241m=\u001b[39m [\n\u001b[1;32m     10\u001b[0m     {\u001b[38;5;124m\"\u001b[39m\u001b[38;5;124mname\u001b[39m\u001b[38;5;124m\"\u001b[39m: token, \u001b[38;5;124m\"\u001b[39m\u001b[38;5;124membedding\u001b[39m\u001b[38;5;124m\"\u001b[39m: embedding\u001b[38;5;241m.\u001b[39mtolist()}\n\u001b[1;32m     11\u001b[0m     \u001b[38;5;28;01mfor\u001b[39;00m token, embedding \u001b[38;5;129;01min\u001b[39;00m \u001b[38;5;28mzip\u001b[39m(deduped_tokens, embeddings)\n\u001b[1;32m     12\u001b[0m ]\n\u001b[1;32m     14\u001b[0m \u001b[38;5;66;03m# Insert entities and relationships into Neo4j\u001b[39;00m\n\u001b[0;32m---> 15\u001b[0m \u001b[43minserter\u001b[49m\u001b[38;5;241;43m.\u001b[39;49m\u001b[43minsert_entities_and_relationships\u001b[49m\u001b[43m(\u001b[49m\u001b[43mentities\u001b[49m\u001b[43m,\u001b[49m\u001b[43m \u001b[49m\u001b[43mthreshold\u001b[49m\u001b[38;5;241;43m=\u001b[39;49m\u001b[38;5;241;43m0.75\u001b[39;49m\u001b[43m)\u001b[49m\n",
      "Cell \u001b[0;32mIn[21], line 29\u001b[0m, in \u001b[0;36mNeo4jBulkInserter.insert_entities_and_relationships\u001b[0;34m(self, entities, threshold)\u001b[0m\n\u001b[1;32m     27\u001b[0m \u001b[38;5;28;01mfor\u001b[39;00m j, entity2 \u001b[38;5;129;01min\u001b[39;00m \u001b[38;5;28menumerate\u001b[39m(entities):\n\u001b[1;32m     28\u001b[0m     \u001b[38;5;28;01mif\u001b[39;00m i \u001b[38;5;241m<\u001b[39m j:  \u001b[38;5;66;03m# Avoid duplicate and self-pairs\u001b[39;00m\n\u001b[0;32m---> 29\u001b[0m         sim \u001b[38;5;241m=\u001b[39m \u001b[43mcosine_similarity\u001b[49m\u001b[43m(\u001b[49m\n\u001b[1;32m     30\u001b[0m \u001b[43m            \u001b[49m\u001b[43m[\u001b[49m\u001b[43mentity1\u001b[49m\u001b[43m[\u001b[49m\u001b[38;5;124;43m\"\u001b[39;49m\u001b[38;5;124;43membedding\u001b[39;49m\u001b[38;5;124;43m\"\u001b[39;49m\u001b[43m]\u001b[49m\u001b[43m]\u001b[49m\u001b[43m,\u001b[49m\n\u001b[1;32m     31\u001b[0m \u001b[43m            \u001b[49m\u001b[43m[\u001b[49m\u001b[43mentity2\u001b[49m\u001b[43m[\u001b[49m\u001b[38;5;124;43m\"\u001b[39;49m\u001b[38;5;124;43membedding\u001b[39;49m\u001b[38;5;124;43m\"\u001b[39;49m\u001b[43m]\u001b[49m\u001b[43m]\u001b[49m\n\u001b[1;32m     32\u001b[0m \u001b[43m        \u001b[49m\u001b[43m)\u001b[49m[\u001b[38;5;241m0\u001b[39m][\u001b[38;5;241m0\u001b[39m]\n\u001b[1;32m     33\u001b[0m         \u001b[38;5;28;01mif\u001b[39;00m sim \u001b[38;5;241m>\u001b[39m\u001b[38;5;241m=\u001b[39m threshold:\n\u001b[1;32m     34\u001b[0m             similarities\u001b[38;5;241m.\u001b[39mappend({\n\u001b[1;32m     35\u001b[0m                 \u001b[38;5;124m\"\u001b[39m\u001b[38;5;124mentity1\u001b[39m\u001b[38;5;124m\"\u001b[39m: entity1[\u001b[38;5;124m\"\u001b[39m\u001b[38;5;124mname\u001b[39m\u001b[38;5;124m\"\u001b[39m],\n\u001b[1;32m     36\u001b[0m                 \u001b[38;5;124m\"\u001b[39m\u001b[38;5;124mentity2\u001b[39m\u001b[38;5;124m\"\u001b[39m: entity2[\u001b[38;5;124m\"\u001b[39m\u001b[38;5;124mname\u001b[39m\u001b[38;5;124m\"\u001b[39m],\n\u001b[1;32m     37\u001b[0m                 \u001b[38;5;124m\"\u001b[39m\u001b[38;5;124msimilarity\u001b[39m\u001b[38;5;124m\"\u001b[39m: sim\n\u001b[1;32m     38\u001b[0m             })\n",
      "File \u001b[0;32m~/.conda/envs/pytorch-rl-ds/lib/python3.9/site-packages/sklearn/utils/_param_validation.py:204\u001b[0m, in \u001b[0;36mvalidate_params.<locals>.decorator.<locals>.wrapper\u001b[0;34m(*args, **kwargs)\u001b[0m\n\u001b[1;32m    201\u001b[0m to_ignore \u001b[38;5;241m+\u001b[39m\u001b[38;5;241m=\u001b[39m [\u001b[38;5;124m\"\u001b[39m\u001b[38;5;124mself\u001b[39m\u001b[38;5;124m\"\u001b[39m, \u001b[38;5;124m\"\u001b[39m\u001b[38;5;124mcls\u001b[39m\u001b[38;5;124m\"\u001b[39m]\n\u001b[1;32m    202\u001b[0m params \u001b[38;5;241m=\u001b[39m {k: v \u001b[38;5;28;01mfor\u001b[39;00m k, v \u001b[38;5;129;01min\u001b[39;00m params\u001b[38;5;241m.\u001b[39marguments\u001b[38;5;241m.\u001b[39mitems() \u001b[38;5;28;01mif\u001b[39;00m k \u001b[38;5;129;01mnot\u001b[39;00m \u001b[38;5;129;01min\u001b[39;00m to_ignore}\n\u001b[0;32m--> 204\u001b[0m \u001b[43mvalidate_parameter_constraints\u001b[49m\u001b[43m(\u001b[49m\n\u001b[1;32m    205\u001b[0m \u001b[43m    \u001b[49m\u001b[43mparameter_constraints\u001b[49m\u001b[43m,\u001b[49m\u001b[43m \u001b[49m\u001b[43mparams\u001b[49m\u001b[43m,\u001b[49m\u001b[43m \u001b[49m\u001b[43mcaller_name\u001b[49m\u001b[38;5;241;43m=\u001b[39;49m\u001b[43mfunc\u001b[49m\u001b[38;5;241;43m.\u001b[39;49m\u001b[38;5;18;43m__qualname__\u001b[39;49m\n\u001b[1;32m    206\u001b[0m \u001b[43m\u001b[49m\u001b[43m)\u001b[49m\n\u001b[1;32m    208\u001b[0m \u001b[38;5;28;01mtry\u001b[39;00m:\n\u001b[1;32m    209\u001b[0m     \u001b[38;5;28;01mwith\u001b[39;00m config_context(\n\u001b[1;32m    210\u001b[0m         skip_parameter_validation\u001b[38;5;241m=\u001b[39m(\n\u001b[1;32m    211\u001b[0m             prefer_skip_nested_validation \u001b[38;5;129;01mor\u001b[39;00m global_skip_validation\n\u001b[1;32m    212\u001b[0m         )\n\u001b[1;32m    213\u001b[0m     ):\n",
      "File \u001b[0;32m~/.conda/envs/pytorch-rl-ds/lib/python3.9/site-packages/sklearn/utils/_param_validation.py:73\u001b[0m, in \u001b[0;36mvalidate_parameter_constraints\u001b[0;34m(parameter_constraints, params, caller_name)\u001b[0m\n\u001b[1;32m     70\u001b[0m \u001b[38;5;28;01mif\u001b[39;00m constraints \u001b[38;5;241m==\u001b[39m \u001b[38;5;124m\"\u001b[39m\u001b[38;5;124mno_validation\u001b[39m\u001b[38;5;124m\"\u001b[39m:\n\u001b[1;32m     71\u001b[0m     \u001b[38;5;28;01mcontinue\u001b[39;00m\n\u001b[0;32m---> 73\u001b[0m constraints \u001b[38;5;241m=\u001b[39m [make_constraint(constraint) \u001b[38;5;28;01mfor\u001b[39;00m constraint \u001b[38;5;129;01min\u001b[39;00m constraints]\n\u001b[1;32m     75\u001b[0m \u001b[38;5;28;01mfor\u001b[39;00m constraint \u001b[38;5;129;01min\u001b[39;00m constraints:\n\u001b[1;32m     76\u001b[0m     \u001b[38;5;28;01mif\u001b[39;00m constraint\u001b[38;5;241m.\u001b[39mis_satisfied_by(param_val):\n\u001b[1;32m     77\u001b[0m         \u001b[38;5;66;03m# this constraint is satisfied, no need to check further.\u001b[39;00m\n",
      "File \u001b[0;32m~/.conda/envs/pytorch-rl-ds/lib/python3.9/site-packages/sklearn/utils/_param_validation.py:73\u001b[0m, in \u001b[0;36m<listcomp>\u001b[0;34m(.0)\u001b[0m\n\u001b[1;32m     70\u001b[0m \u001b[38;5;28;01mif\u001b[39;00m constraints \u001b[38;5;241m==\u001b[39m \u001b[38;5;124m\"\u001b[39m\u001b[38;5;124mno_validation\u001b[39m\u001b[38;5;124m\"\u001b[39m:\n\u001b[1;32m     71\u001b[0m     \u001b[38;5;28;01mcontinue\u001b[39;00m\n\u001b[0;32m---> 73\u001b[0m constraints \u001b[38;5;241m=\u001b[39m [\u001b[43mmake_constraint\u001b[49m\u001b[43m(\u001b[49m\u001b[43mconstraint\u001b[49m\u001b[43m)\u001b[49m \u001b[38;5;28;01mfor\u001b[39;00m constraint \u001b[38;5;129;01min\u001b[39;00m constraints]\n\u001b[1;32m     75\u001b[0m \u001b[38;5;28;01mfor\u001b[39;00m constraint \u001b[38;5;129;01min\u001b[39;00m constraints:\n\u001b[1;32m     76\u001b[0m     \u001b[38;5;28;01mif\u001b[39;00m constraint\u001b[38;5;241m.\u001b[39mis_satisfied_by(param_val):\n\u001b[1;32m     77\u001b[0m         \u001b[38;5;66;03m# this constraint is satisfied, no need to check further.\u001b[39;00m\n",
      "File \u001b[0;32m~/.conda/envs/pytorch-rl-ds/lib/python3.9/site-packages/sklearn/utils/_param_validation.py:117\u001b[0m, in \u001b[0;36mmake_constraint\u001b[0;34m(constraint)\u001b[0m\n\u001b[1;32m    115\u001b[0m \u001b[38;5;28;01mif\u001b[39;00m \u001b[38;5;28misinstance\u001b[39m(constraint, \u001b[38;5;28mstr\u001b[39m) \u001b[38;5;129;01mand\u001b[39;00m constraint \u001b[38;5;241m==\u001b[39m \u001b[38;5;124m\"\u001b[39m\u001b[38;5;124marray-like\u001b[39m\u001b[38;5;124m\"\u001b[39m:\n\u001b[1;32m    116\u001b[0m     \u001b[38;5;28;01mreturn\u001b[39;00m _ArrayLikes()\n\u001b[0;32m--> 117\u001b[0m \u001b[38;5;28;01mif\u001b[39;00m \u001b[38;5;28misinstance\u001b[39m(constraint, \u001b[38;5;28mstr\u001b[39m) \u001b[38;5;129;01mand\u001b[39;00m \u001b[43mconstraint\u001b[49m\u001b[43m \u001b[49m\u001b[38;5;241;43m==\u001b[39;49m\u001b[43m \u001b[49m\u001b[38;5;124;43m\"\u001b[39;49m\u001b[38;5;124;43msparse matrix\u001b[39;49m\u001b[38;5;124;43m\"\u001b[39;49m:\n\u001b[1;32m    118\u001b[0m     \u001b[38;5;28;01mreturn\u001b[39;00m _SparseMatrices()\n\u001b[1;32m    119\u001b[0m \u001b[38;5;28;01mif\u001b[39;00m \u001b[38;5;28misinstance\u001b[39m(constraint, \u001b[38;5;28mstr\u001b[39m) \u001b[38;5;129;01mand\u001b[39;00m constraint \u001b[38;5;241m==\u001b[39m \u001b[38;5;124m\"\u001b[39m\u001b[38;5;124mrandom_state\u001b[39m\u001b[38;5;124m\"\u001b[39m:\n",
      "\u001b[0;31mKeyboardInterrupt\u001b[0m: "
     ]
    }
   ],
   "source": [
    "import json\n",
    "import os\n",
    "\n",
    "# Directory containing JSONL files\n",
    "directory = '/opt/textbooks/chunk'\n",
    "\n",
    "\n",
    "\n",
    "# Process files in the directory\n",
    "for filename in os.listdir(directory):\n",
    "    if filename.endswith(\".jsonl\"):\n",
    "        file_path = os.path.join(directory, filename)\n",
    "        with open(file_path, \"r\") as f:\n",
    "            print(f\"Processing file: {filename}\")\n",
    "            \n",
    "            i = 0\n",
    "            lines = []\n",
    "            data_batch = []  # Stores metadata for ElasticSearch\n",
    "            \n",
    "            # Process lines in chunks of 100\n",
    "            for line in f:\n",
    "                data = json.loads(line)\n",
    "                lines.append(data['content'])\n",
    "                data_batch.append(data)  # Collect metadata\n",
    "                \n",
    "                i += 1\n",
    "                if i >= 100:\n",
    "                    # Process 100 lines at a time\n",
    "                    tokens, embeddings = get_token_and_embedding(lines)\n",
    "                    print(len(tokens))\n",
    "                    insert_to_neo4j(tokens, embeddings)\n",
    "                    print(f\"Completed inserting to neo4j\")\n",
    "                    insert_to_elasticsearch(tokens, data_batch, filename)\n",
    "                    \n",
    "                    # Reset counters and buffers\n",
    "                    i = 0\n",
    "                    lines = []\n",
    "                    data_batch = []\n",
    "                    print(f\"Completed a batch of 100 lines from {filename}\")\n",
    "            \n",
    "            # Process any remaining lines in the last batch\n",
    "            if lines:\n",
    "                tokens, embeddings = get_token_and_embedding(lines)\n",
    "                insert_to_neo4j(tokens, embeddings)\n",
    "                insert_to_elasticsearch(tokens, data_batch, filename)\n",
    "                print(f\"Completed the final batch from {filename}\")\n",
    "\n",
    "                \n",
    "                \n",
    "\n",
    "                "
   ]
  },
  {
   "cell_type": "code",
   "execution_count": null,
   "metadata": {},
   "outputs": [],
   "source": []
  },
  {
   "cell_type": "code",
   "execution_count": null,
   "metadata": {},
   "outputs": [],
   "source": []
  }
 ],
 "metadata": {
  "kernelspec": {
   "display_name": "pytorch-rl-ds",
   "language": "python",
   "name": "python3"
  },
  "language_info": {
   "codemirror_mode": {
    "name": "ipython",
    "version": 3
   },
   "file_extension": ".py",
   "mimetype": "text/x-python",
   "name": "python",
   "nbconvert_exporter": "python",
   "pygments_lexer": "ipython3",
   "version": "3.9.18"
  }
 },
 "nbformat": 4,
 "nbformat_minor": 2
}
