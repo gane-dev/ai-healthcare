{
 "cells": [
  {
   "cell_type": "code",
   "execution_count": 1,
   "metadata": {},
   "outputs": [
    {
     "name": "stderr",
     "output_type": "stream",
     "text": [
      "/tmp/ipykernel_10674/82368686.py:4: DtypeWarning: Columns (11) have mixed types. Specify dtype option on import or set low_memory=False.\n",
      "  df = pd.read_csv('mimic/PRESCRIPTIONS.csv')\n"
     ]
    },
    {
     "name": "stdout",
     "output_type": "stream",
     "text": [
      "Index(['ROW_ID', 'SUBJECT_ID', 'HADM_ID', 'ICUSTAY_ID', 'STARTDATE', 'ENDDATE',\n",
      "       'DRUG_TYPE', 'DRUG', 'DRUG_NAME_POE', 'DRUG_NAME_GENERIC',\n",
      "       'FORMULARY_DRUG_CD', 'GSN', 'NDC', 'PROD_STRENGTH', 'DOSE_VAL_RX',\n",
      "       'DOSE_UNIT_RX', 'FORM_VAL_DISP', 'FORM_UNIT_DISP', 'ROUTE'],\n",
      "      dtype='object')\n"
     ]
    }
   ],
   "source": [
    "import pandas as pd\n",
    "\n",
    "# Load the CSV file into a DataFrame\n",
    "df = pd.read_csv('mimic/PRESCRIPTIONS.csv')\n",
    "\n",
    "# Print the columns\n",
    "print(df.columns)"
   ]
  },
  {
   "cell_type": "code",
   "execution_count": 13,
   "metadata": {},
   "outputs": [
    {
     "data": {
      "text/html": [
       "    <style>\n",
       "        .bk-notebook-logo {\n",
       "            display: block;\n",
       "            width: 20px;\n",
       "            height: 20px;\n",
       "            background-image: url(data:image/png;base64,iVBORw0KGgoAAAANSUhEUgAAABQAAAAUCAYAAACNiR0NAAAABHNCSVQICAgIfAhkiAAAAAlwSFlzAAALEgAACxIB0t1+/AAAABx0RVh0U29mdHdhcmUAQWRvYmUgRmlyZXdvcmtzIENTNui8sowAAAOkSURBVDiNjZRtaJVlGMd/1/08zzln5zjP1LWcU9N0NkN8m2CYjpgQYQXqSs0I84OLIC0hkEKoPtiH3gmKoiJDU7QpLgoLjLIQCpEsNJ1vqUOdO7ppbuec5+V+rj4ctwzd8IIbbi6u+8f1539dt3A78eXC7QizUF7gyV1fD1Yqg4JWz84yffhm0qkFqBogB9rM8tZdtwVsPUhWhGcFJngGeWrPzHm5oaMmkfEg1usvLFyc8jLRqDOMru7AyC8saQr7GG7f5fvDeH7Ej8CM66nIF+8yngt6HWaKh7k49Soy9nXurCi1o3qUbS3zWfrYeQDTB/Qj6kX6Ybhw4B+bOYoLKCC9H3Nu/leUTZ1JdRWkkn2ldcCamzrcf47KKXdAJllSlxAOkRgyHsGC/zRday5Qld9DyoM4/q/rUoy/CXh3jzOu3bHUVZeU+DEn8FInkPBFlu3+nW3Nw0mk6vCDiWg8CeJaxEwuHS3+z5RgY+YBR6V1Z1nxSOfoaPa4LASWxxdNp+VWTk7+4vzaou8v8PN+xo+KY2xsw6une2frhw05CTYOmQvsEhjhWjn0bmXPjpE1+kplmmkP3suftwTubK9Vq22qKmrBhpY4jvd5afdRA3wGjFAgcnTK2s4hY0/GPNIb0nErGMCRxWOOX64Z8RAC4oCXdklmEvcL8o0BfkNK4lUg9HTl+oPlQxdNo3Mg4Nv175e/1LDGzZen30MEjRUtmXSfiTVu1kK8W4txyV6BMKlbgk3lMwYCiusNy9fVfvvwMxv8Ynl6vxoByANLTWplvuj/nF9m2+PDtt1eiHPBr1oIfhCChQMBw6Aw0UulqTKZdfVvfG7VcfIqLG9bcldL/+pdWTLxLUy8Qq38heUIjh4XlzZxzQm19lLFlr8vdQ97rjZVOLf8nclzckbcD4wxXMidpX30sFd37Fv/GtwwhzhxGVAprjbg0gCAEeIgwCZyTV2Z1REEW8O4py0wsjeloKoMr6iCY6dP92H6Vw/oTyICIthibxjm/DfN9lVz8IqtqKYLUXfoKVMVQVVJOElGjrnnUt9T9wbgp8AyYKaGlqingHZU/uG2NTZSVqwHQTWkx9hxjkpWDaCg6Ckj5qebgBVbT3V3NNXMSiWSDdGV3hrtzla7J+duwPOToIg42ChPQOQjspnSlp1V+Gjdged7+8UN5CRAV7a5EdFNwCjEaBR27b3W890TE7g24NAP/mMDXRWrGoFPQI9ls/MWO2dWFAar/xcOIImbbpA3zgAAAABJRU5ErkJggg==);\n",
       "        }\n",
       "    </style>\n",
       "    <div>\n",
       "        <a href=\"https://bokeh.org\" target=\"_blank\" class=\"bk-notebook-logo\"></a>\n",
       "        <span id=\"fe59150f-bef6-43ee-a0b4-4522124eb2c9\">Loading BokehJS ...</span>\n",
       "    </div>\n"
      ]
     },
     "metadata": {},
     "output_type": "display_data"
    },
    {
     "data": {
      "application/javascript": "'use strict';\n(function(root) {\n  function now() {\n    return new Date();\n  }\n\n  const force = true;\n\n  if (typeof root._bokeh_onload_callbacks === \"undefined\" || force === true) {\n    root._bokeh_onload_callbacks = [];\n    root._bokeh_is_loading = undefined;\n  }\n\nconst JS_MIME_TYPE = 'application/javascript';\n  const HTML_MIME_TYPE = 'text/html';\n  const EXEC_MIME_TYPE = 'application/vnd.bokehjs_exec.v0+json';\n  const CLASS_NAME = 'output_bokeh rendered_html';\n\n  /**\n   * Render data to the DOM node\n   */\n  function render(props, node) {\n    const script = document.createElement(\"script\");\n    node.appendChild(script);\n  }\n\n  /**\n   * Handle when an output is cleared or removed\n   */\n  function handleClearOutput(event, handle) {\n    function drop(id) {\n      const view = Bokeh.index.get_by_id(id)\n      if (view != null) {\n        view.model.document.clear()\n        Bokeh.index.delete(view)\n      }\n    }\n\n    const cell = handle.cell;\n\n    const id = cell.output_area._bokeh_element_id;\n    const server_id = cell.output_area._bokeh_server_id;\n\n    // Clean up Bokeh references\n    if (id != null) {\n      drop(id)\n    }\n\n    if (server_id !== undefined) {\n      // Clean up Bokeh references\n      const cmd_clean = \"from bokeh.io.state import curstate; print(curstate().uuid_to_server['\" + server_id + \"'].get_sessions()[0].document.roots[0]._id)\";\n      cell.notebook.kernel.execute(cmd_clean, {\n        iopub: {\n          output: function(msg) {\n            const id = msg.content.text.trim()\n            drop(id)\n          }\n        }\n      });\n      // Destroy server and session\n      const cmd_destroy = \"import bokeh.io.notebook as ion; ion.destroy_server('\" + server_id + \"')\";\n      cell.notebook.kernel.execute(cmd_destroy);\n    }\n  }\n\n  /**\n   * Handle when a new output is added\n   */\n  function handleAddOutput(event, handle) {\n    const output_area = handle.output_area;\n    const output = handle.output;\n\n    // limit handleAddOutput to display_data with EXEC_MIME_TYPE content only\n    if ((output.output_type != \"display_data\") || (!Object.prototype.hasOwnProperty.call(output.data, EXEC_MIME_TYPE))) {\n      return\n    }\n\n    const toinsert = output_area.element.find(\".\" + CLASS_NAME.split(' ')[0]);\n\n    if (output.metadata[EXEC_MIME_TYPE][\"id\"] !== undefined) {\n      toinsert[toinsert.length - 1].firstChild.textContent = output.data[JS_MIME_TYPE];\n      // store reference to embed id on output_area\n      output_area._bokeh_element_id = output.metadata[EXEC_MIME_TYPE][\"id\"];\n    }\n    if (output.metadata[EXEC_MIME_TYPE][\"server_id\"] !== undefined) {\n      const bk_div = document.createElement(\"div\");\n      bk_div.innerHTML = output.data[HTML_MIME_TYPE];\n      const script_attrs = bk_div.children[0].attributes;\n      for (let i = 0; i < script_attrs.length; i++) {\n        toinsert[toinsert.length - 1].firstChild.setAttribute(script_attrs[i].name, script_attrs[i].value);\n        toinsert[toinsert.length - 1].firstChild.textContent = bk_div.children[0].textContent\n      }\n      // store reference to server id on output_area\n      output_area._bokeh_server_id = output.metadata[EXEC_MIME_TYPE][\"server_id\"];\n    }\n  }\n\n  function register_renderer(events, OutputArea) {\n\n    function append_mime(data, metadata, element) {\n      // create a DOM node to render to\n      const toinsert = this.create_output_subarea(\n        metadata,\n        CLASS_NAME,\n        EXEC_MIME_TYPE\n      );\n      this.keyboard_manager.register_events(toinsert);\n      // Render to node\n      const props = {data: data, metadata: metadata[EXEC_MIME_TYPE]};\n      render(props, toinsert[toinsert.length - 1]);\n      element.append(toinsert);\n      return toinsert\n    }\n\n    /* Handle when an output is cleared or removed */\n    events.on('clear_output.CodeCell', handleClearOutput);\n    events.on('delete.Cell', handleClearOutput);\n\n    /* Handle when a new output is added */\n    events.on('output_added.OutputArea', handleAddOutput);\n\n    /**\n     * Register the mime type and append_mime function with output_area\n     */\n    OutputArea.prototype.register_mime_type(EXEC_MIME_TYPE, append_mime, {\n      /* Is output safe? */\n      safe: true,\n      /* Index of renderer in `output_area.display_order` */\n      index: 0\n    });\n  }\n\n  // register the mime type if in Jupyter Notebook environment and previously unregistered\n  if (root.Jupyter !== undefined) {\n    const events = require('base/js/events');\n    const OutputArea = require('notebook/js/outputarea').OutputArea;\n\n    if (OutputArea.prototype.mime_types().indexOf(EXEC_MIME_TYPE) == -1) {\n      register_renderer(events, OutputArea);\n    }\n  }\n  if (typeof (root._bokeh_timeout) === \"undefined\" || force === true) {\n    root._bokeh_timeout = Date.now() + 5000;\n    root._bokeh_failed_load = false;\n  }\n\n  const NB_LOAD_WARNING = {'data': {'text/html':\n     \"<div style='background-color: #fdd'>\\n\"+\n     \"<p>\\n\"+\n     \"BokehJS does not appear to have successfully loaded. If loading BokehJS from CDN, this \\n\"+\n     \"may be due to a slow or bad network connection. Possible fixes:\\n\"+\n     \"</p>\\n\"+\n     \"<ul>\\n\"+\n     \"<li>re-rerun `output_notebook()` to attempt to load from CDN again, or</li>\\n\"+\n     \"<li>use INLINE resources instead, as so:</li>\\n\"+\n     \"</ul>\\n\"+\n     \"<code>\\n\"+\n     \"from bokeh.resources import INLINE\\n\"+\n     \"output_notebook(resources=INLINE)\\n\"+\n     \"</code>\\n\"+\n     \"</div>\"}};\n\n  function display_loaded(error = null) {\n    const el = document.getElementById(\"fe59150f-bef6-43ee-a0b4-4522124eb2c9\");\n    if (el != null) {\n      const html = (() => {\n        if (typeof root.Bokeh === \"undefined\") {\n          if (error == null) {\n            return \"BokehJS is loading ...\";\n          } else {\n            return \"BokehJS failed to load.\";\n          }\n        } else {\n          const prefix = `BokehJS ${root.Bokeh.version}`;\n          if (error == null) {\n            return `${prefix} successfully loaded.`;\n          } else {\n            return `${prefix} <b>encountered errors</b> while loading and may not function as expected.`;\n          }\n        }\n      })();\n      el.innerHTML = html;\n\n      if (error != null) {\n        const wrapper = document.createElement(\"div\");\n        wrapper.style.overflow = \"auto\";\n        wrapper.style.height = \"5em\";\n        wrapper.style.resize = \"vertical\";\n        const content = document.createElement(\"div\");\n        content.style.fontFamily = \"monospace\";\n        content.style.whiteSpace = \"pre-wrap\";\n        content.style.backgroundColor = \"rgb(255, 221, 221)\";\n        content.textContent = error.stack ?? error.toString();\n        wrapper.append(content);\n        el.append(wrapper);\n      }\n    } else if (Date.now() < root._bokeh_timeout) {\n      setTimeout(() => display_loaded(error), 100);\n    }\n  }\n\n  function run_callbacks() {\n    try {\n      root._bokeh_onload_callbacks.forEach(function(callback) {\n        if (callback != null)\n          callback();\n      });\n    } finally {\n      delete root._bokeh_onload_callbacks\n    }\n    console.debug(\"Bokeh: all callbacks have finished\");\n  }\n\n  function load_libs(css_urls, js_urls, callback) {\n    if (css_urls == null) css_urls = [];\n    if (js_urls == null) js_urls = [];\n\n    root._bokeh_onload_callbacks.push(callback);\n    if (root._bokeh_is_loading > 0) {\n      console.debug(\"Bokeh: BokehJS is being loaded, scheduling callback at\", now());\n      return null;\n    }\n    if (js_urls == null || js_urls.length === 0) {\n      run_callbacks();\n      return null;\n    }\n    console.debug(\"Bokeh: BokehJS not loaded, scheduling load and callback at\", now());\n    root._bokeh_is_loading = css_urls.length + js_urls.length;\n\n    function on_load() {\n      root._bokeh_is_loading--;\n      if (root._bokeh_is_loading === 0) {\n        console.debug(\"Bokeh: all BokehJS libraries/stylesheets loaded\");\n        run_callbacks()\n      }\n    }\n\n    function on_error(url) {\n      console.error(\"failed to load \" + url);\n    }\n\n    for (let i = 0; i < css_urls.length; i++) {\n      const url = css_urls[i];\n      const element = document.createElement(\"link\");\n      element.onload = on_load;\n      element.onerror = on_error.bind(null, url);\n      element.rel = \"stylesheet\";\n      element.type = \"text/css\";\n      element.href = url;\n      console.debug(\"Bokeh: injecting link tag for BokehJS stylesheet: \", url);\n      document.body.appendChild(element);\n    }\n\n    for (let i = 0; i < js_urls.length; i++) {\n      const url = js_urls[i];\n      const element = document.createElement('script');\n      element.onload = on_load;\n      element.onerror = on_error.bind(null, url);\n      element.async = false;\n      element.src = url;\n      console.debug(\"Bokeh: injecting script tag for BokehJS library: \", url);\n      document.head.appendChild(element);\n    }\n  };\n\n  function inject_raw_css(css) {\n    const element = document.createElement(\"style\");\n    element.appendChild(document.createTextNode(css));\n    document.body.appendChild(element);\n  }\n\n  const js_urls = [\"https://cdn.bokeh.org/bokeh/release/bokeh-3.4.1.min.js\", \"https://cdn.bokeh.org/bokeh/release/bokeh-gl-3.4.1.min.js\", \"https://cdn.bokeh.org/bokeh/release/bokeh-widgets-3.4.1.min.js\", \"https://cdn.bokeh.org/bokeh/release/bokeh-tables-3.4.1.min.js\", \"https://cdn.bokeh.org/bokeh/release/bokeh-mathjax-3.4.1.min.js\"];\n  const css_urls = [];\n\n  const inline_js = [    function(Bokeh) {\n      Bokeh.set_log_level(\"info\");\n    },\nfunction(Bokeh) {\n    }\n  ];\n\n  function run_inline_js() {\n    if (root.Bokeh !== undefined || force === true) {\n      try {\n            for (let i = 0; i < inline_js.length; i++) {\n      inline_js[i].call(root, root.Bokeh);\n    }\n\n      } catch (error) {display_loaded(error);throw error;\n      }if (force === true) {\n        display_loaded();\n      }} else if (Date.now() < root._bokeh_timeout) {\n      setTimeout(run_inline_js, 100);\n    } else if (!root._bokeh_failed_load) {\n      console.log(\"Bokeh: BokehJS failed to load within specified timeout.\");\n      root._bokeh_failed_load = true;\n    } else if (force !== true) {\n      const cell = $(document.getElementById(\"fe59150f-bef6-43ee-a0b4-4522124eb2c9\")).parents('.cell').data().cell;\n      cell.output_area.append_execute_result(NB_LOAD_WARNING)\n    }\n  }\n\n  if (root._bokeh_is_loading === 0) {\n    console.debug(\"Bokeh: BokehJS loaded, going straight to plotting\");\n    run_inline_js();\n  } else {\n    load_libs(css_urls, js_urls, function() {\n      console.debug(\"Bokeh: BokehJS plotting callback run at\", now());\n      run_inline_js();\n    });\n  }\n}(window));",
      "application/vnd.bokehjs_load.v0+json": ""
     },
     "metadata": {},
     "output_type": "display_data"
    },
    {
     "data": {
      "text/html": [
       "\n",
       "  <div id=\"bc132bbf-3a9c-4c40-a4b1-11d2debbdba7\" data-root-id=\"p1376\" style=\"display: contents;\"></div>\n"
      ]
     },
     "metadata": {},
     "output_type": "display_data"
    },
    {
     "data": {
      "application/javascript": "(function(root) {\n  function embed_document(root) {\n  const docs_json = {\"05f4e5a5-382a-442a-871c-0984238aec28\":{\"version\":\"3.4.1\",\"title\":\"Bokeh Application\",\"roots\":[{\"type\":\"object\",\"name\":\"Figure\",\"id\":\"p1376\",\"attributes\":{\"width\":800,\"x_range\":{\"type\":\"object\",\"name\":\"FactorRange\",\"id\":\"p1386\",\"attributes\":{\"factors\":[\"Potassium Chloride\",\"Insulin\",\"D5W\",\"Furosemide\",\"0.9% Sodium Chloride\"]}},\"y_range\":{\"type\":\"object\",\"name\":\"DataRange1d\",\"id\":\"p1378\"},\"x_scale\":{\"type\":\"object\",\"name\":\"CategoricalScale\",\"id\":\"p1387\"},\"y_scale\":{\"type\":\"object\",\"name\":\"LinearScale\",\"id\":\"p1388\"},\"title\":{\"type\":\"object\",\"name\":\"Title\",\"id\":\"p1379\",\"attributes\":{\"text\":\"Top 5 Drugs by Prescription Count\"}},\"renderers\":[{\"type\":\"object\",\"name\":\"GlyphRenderer\",\"id\":\"p1413\",\"attributes\":{\"data_source\":{\"type\":\"object\",\"name\":\"ColumnDataSource\",\"id\":\"p1399\",\"attributes\":{\"selected\":{\"type\":\"object\",\"name\":\"Selection\",\"id\":\"p1400\",\"attributes\":{\"indices\":[],\"line_indices\":[]}},\"selection_policy\":{\"type\":\"object\",\"name\":\"UnionRenderers\",\"id\":\"p1401\"},\"data\":{\"type\":\"map\",\"entries\":[[\"drug_name\",{\"type\":\"ndarray\",\"array\":[\"Potassium Chloride\",\"Insulin\",\"D5W\",\"Furosemide\",\"0.9% Sodium Chloride\"],\"shape\":[5],\"dtype\":\"object\",\"order\":\"little\"}],[\"count\",{\"type\":\"ndarray\",\"array\":{\"type\":\"bytes\",\"data\":\"4fECAGkwAgChKwIAAggCAGP8AQA=\"},\"shape\":[5],\"dtype\":\"int32\",\"order\":\"little\"}]]}}},\"view\":{\"type\":\"object\",\"name\":\"CDSView\",\"id\":\"p1414\",\"attributes\":{\"filter\":{\"type\":\"object\",\"name\":\"AllIndices\",\"id\":\"p1415\"}}},\"glyph\":{\"type\":\"object\",\"name\":\"Scatter\",\"id\":\"p1410\",\"attributes\":{\"x\":{\"type\":\"field\",\"field\":\"drug_name\"},\"y\":{\"type\":\"field\",\"field\":\"count\"},\"size\":{\"type\":\"value\",\"value\":20},\"line_color\":{\"type\":\"value\",\"value\":null},\"fill_color\":{\"type\":\"field\",\"field\":\"count\",\"transform\":{\"type\":\"object\",\"name\":\"LinearColorMapper\",\"id\":\"p1402\",\"attributes\":{\"palette\":[\"#440154\",\"#440255\",\"#440357\",\"#450558\",\"#45065A\",\"#45085B\",\"#46095C\",\"#460B5E\",\"#460C5F\",\"#460E61\",\"#470F62\",\"#471163\",\"#471265\",\"#471466\",\"#471567\",\"#471669\",\"#47186A\",\"#48196B\",\"#481A6C\",\"#481C6E\",\"#481D6F\",\"#481E70\",\"#482071\",\"#482172\",\"#482273\",\"#482374\",\"#472575\",\"#472676\",\"#472777\",\"#472878\",\"#472A79\",\"#472B7A\",\"#472C7B\",\"#462D7C\",\"#462F7C\",\"#46307D\",\"#46317E\",\"#45327F\",\"#45347F\",\"#453580\",\"#453681\",\"#443781\",\"#443982\",\"#433A83\",\"#433B83\",\"#433C84\",\"#423D84\",\"#423E85\",\"#424085\",\"#414186\",\"#414286\",\"#404387\",\"#404487\",\"#3F4587\",\"#3F4788\",\"#3E4888\",\"#3E4989\",\"#3D4A89\",\"#3D4B89\",\"#3D4C89\",\"#3C4D8A\",\"#3C4E8A\",\"#3B508A\",\"#3B518A\",\"#3A528B\",\"#3A538B\",\"#39548B\",\"#39558B\",\"#38568B\",\"#38578C\",\"#37588C\",\"#37598C\",\"#365A8C\",\"#365B8C\",\"#355C8C\",\"#355D8C\",\"#345E8D\",\"#345F8D\",\"#33608D\",\"#33618D\",\"#32628D\",\"#32638D\",\"#31648D\",\"#31658D\",\"#31668D\",\"#30678D\",\"#30688D\",\"#2F698D\",\"#2F6A8D\",\"#2E6B8E\",\"#2E6C8E\",\"#2E6D8E\",\"#2D6E8E\",\"#2D6F8E\",\"#2C708E\",\"#2C718E\",\"#2C728E\",\"#2B738E\",\"#2B748E\",\"#2A758E\",\"#2A768E\",\"#2A778E\",\"#29788E\",\"#29798E\",\"#287A8E\",\"#287A8E\",\"#287B8E\",\"#277C8E\",\"#277D8E\",\"#277E8E\",\"#267F8E\",\"#26808E\",\"#26818E\",\"#25828E\",\"#25838D\",\"#24848D\",\"#24858D\",\"#24868D\",\"#23878D\",\"#23888D\",\"#23898D\",\"#22898D\",\"#228A8D\",\"#228B8D\",\"#218C8D\",\"#218D8C\",\"#218E8C\",\"#208F8C\",\"#20908C\",\"#20918C\",\"#1F928C\",\"#1F938B\",\"#1F948B\",\"#1F958B\",\"#1F968B\",\"#1E978A\",\"#1E988A\",\"#1E998A\",\"#1E998A\",\"#1E9A89\",\"#1E9B89\",\"#1E9C89\",\"#1E9D88\",\"#1E9E88\",\"#1E9F88\",\"#1EA087\",\"#1FA187\",\"#1FA286\",\"#1FA386\",\"#20A485\",\"#20A585\",\"#21A685\",\"#21A784\",\"#22A784\",\"#23A883\",\"#23A982\",\"#24AA82\",\"#25AB81\",\"#26AC81\",\"#27AD80\",\"#28AE7F\",\"#29AF7F\",\"#2AB07E\",\"#2BB17D\",\"#2CB17D\",\"#2EB27C\",\"#2FB37B\",\"#30B47A\",\"#32B57A\",\"#33B679\",\"#35B778\",\"#36B877\",\"#38B976\",\"#39B976\",\"#3BBA75\",\"#3DBB74\",\"#3EBC73\",\"#40BD72\",\"#42BE71\",\"#44BE70\",\"#45BF6F\",\"#47C06E\",\"#49C16D\",\"#4BC26C\",\"#4DC26B\",\"#4FC369\",\"#51C468\",\"#53C567\",\"#55C666\",\"#57C665\",\"#59C764\",\"#5BC862\",\"#5EC961\",\"#60C960\",\"#62CA5F\",\"#64CB5D\",\"#67CC5C\",\"#69CC5B\",\"#6BCD59\",\"#6DCE58\",\"#70CE56\",\"#72CF55\",\"#74D054\",\"#77D052\",\"#79D151\",\"#7CD24F\",\"#7ED24E\",\"#81D34C\",\"#83D34B\",\"#86D449\",\"#88D547\",\"#8BD546\",\"#8DD644\",\"#90D643\",\"#92D741\",\"#95D73F\",\"#97D83E\",\"#9AD83C\",\"#9DD93A\",\"#9FD938\",\"#A2DA37\",\"#A5DA35\",\"#A7DB33\",\"#AADB32\",\"#ADDC30\",\"#AFDC2E\",\"#B2DD2C\",\"#B5DD2B\",\"#B7DD29\",\"#BADE27\",\"#BDDE26\",\"#BFDF24\",\"#C2DF22\",\"#C5DF21\",\"#C7E01F\",\"#CAE01E\",\"#CDE01D\",\"#CFE11C\",\"#D2E11B\",\"#D4E11A\",\"#D7E219\",\"#DAE218\",\"#DCE218\",\"#DFE318\",\"#E1E318\",\"#E4E318\",\"#E7E419\",\"#E9E419\",\"#ECE41A\",\"#EEE51B\",\"#F1E51C\",\"#F3E51E\",\"#F6E61F\",\"#F8E621\",\"#FAE622\",\"#FDE724\"],\"low\":130147,\"high\":192993}}}}},\"nonselection_glyph\":{\"type\":\"object\",\"name\":\"Scatter\",\"id\":\"p1411\",\"attributes\":{\"x\":{\"type\":\"field\",\"field\":\"drug_name\"},\"y\":{\"type\":\"field\",\"field\":\"count\"},\"size\":{\"type\":\"value\",\"value\":20},\"line_color\":{\"type\":\"value\",\"value\":null},\"line_alpha\":{\"type\":\"value\",\"value\":0.1},\"fill_color\":{\"type\":\"field\",\"field\":\"count\",\"transform\":{\"id\":\"p1402\"}},\"fill_alpha\":{\"type\":\"value\",\"value\":0.1},\"hatch_alpha\":{\"type\":\"value\",\"value\":0.1}}},\"muted_glyph\":{\"type\":\"object\",\"name\":\"Scatter\",\"id\":\"p1412\",\"attributes\":{\"x\":{\"type\":\"field\",\"field\":\"drug_name\"},\"y\":{\"type\":\"field\",\"field\":\"count\"},\"size\":{\"type\":\"value\",\"value\":20},\"line_color\":{\"type\":\"value\",\"value\":null},\"line_alpha\":{\"type\":\"value\",\"value\":0.2},\"fill_color\":{\"type\":\"field\",\"field\":\"count\",\"transform\":{\"id\":\"p1402\"}},\"fill_alpha\":{\"type\":\"value\",\"value\":0.2},\"hatch_alpha\":{\"type\":\"value\",\"value\":0.2}}}}}],\"toolbar\":{\"type\":\"object\",\"name\":\"Toolbar\",\"id\":\"p1385\"},\"left\":[{\"type\":\"object\",\"name\":\"LinearAxis\",\"id\":\"p1394\",\"attributes\":{\"ticker\":{\"type\":\"object\",\"name\":\"BasicTicker\",\"id\":\"p1395\",\"attributes\":{\"mantissas\":[1,2,5]}},\"formatter\":{\"type\":\"object\",\"name\":\"BasicTickFormatter\",\"id\":\"p1396\",\"attributes\":{\"use_scientific\":false}},\"axis_label\":\"Number of Prescriptions\",\"major_label_policy\":{\"type\":\"object\",\"name\":\"AllLabels\",\"id\":\"p1397\"}}}],\"right\":[{\"type\":\"object\",\"name\":\"ColorBar\",\"id\":\"p1405\",\"attributes\":{\"location\":[0,0],\"ticker\":{\"type\":\"object\",\"name\":\"BasicTicker\",\"id\":\"p1403\",\"attributes\":{\"mantissas\":[1,2,5]}},\"formatter\":{\"type\":\"object\",\"name\":\"BasicTickFormatter\",\"id\":\"p1404\",\"attributes\":{\"use_scientific\":false}},\"major_label_policy\":{\"type\":\"object\",\"name\":\"NoOverlap\",\"id\":\"p1406\"},\"color_mapper\":{\"id\":\"p1402\"}}}],\"below\":[{\"type\":\"object\",\"name\":\"CategoricalAxis\",\"id\":\"p1389\",\"attributes\":{\"ticker\":{\"type\":\"object\",\"name\":\"CategoricalTicker\",\"id\":\"p1390\"},\"formatter\":{\"type\":\"object\",\"name\":\"CategoricalTickFormatter\",\"id\":\"p1391\"},\"axis_label\":\"Drug Name\",\"major_label_policy\":{\"type\":\"object\",\"name\":\"AllLabels\",\"id\":\"p1392\"}}}],\"center\":[{\"type\":\"object\",\"name\":\"Grid\",\"id\":\"p1393\",\"attributes\":{\"axis\":{\"id\":\"p1389\"}}},{\"type\":\"object\",\"name\":\"Grid\",\"id\":\"p1398\",\"attributes\":{\"dimension\":1,\"axis\":{\"id\":\"p1394\"}}}]}}]}};\n  const render_items = [{\"docid\":\"05f4e5a5-382a-442a-871c-0984238aec28\",\"roots\":{\"p1376\":\"bc132bbf-3a9c-4c40-a4b1-11d2debbdba7\"},\"root_ids\":[\"p1376\"]}];\n  void root.Bokeh.embed.embed_items_notebook(docs_json, render_items);\n  }\n  if (root.Bokeh !== undefined) {\n    embed_document(root);\n  } else {\n    let attempts = 0;\n    const timer = setInterval(function(root) {\n      if (root.Bokeh !== undefined) {\n        clearInterval(timer);\n        embed_document(root);\n      } else {\n        attempts++;\n        if (attempts > 100) {\n          clearInterval(timer);\n          console.log(\"Bokeh: ERROR: Unable to run BokehJS code because BokehJS library is missing\");\n        }\n      }\n    }, 10, root)\n  }\n})(window);",
      "application/vnd.bokehjs_exec.v0+json": ""
     },
     "metadata": {
      "application/vnd.bokehjs_exec.v0+json": {
       "id": "p1376"
      }
     },
     "output_type": "display_data"
    }
   ],
   "source": [
    "from bokeh.plotting import figure, show\n",
    "from bokeh.models import LinearColorMapper, ColorBar\n",
    "from bokeh.palettes import Viridis256\n",
    "from bokeh.plotting import figure\n",
    "from bokeh.models import ColumnDataSource, LinearColorMapper, ColorBar, BasicTicker, BasicTickFormatter\n",
    "from bokeh.io import output_notebook\n",
    "\n",
    "\n",
    "# Group the dataframe by 'DRUG' column and count the occurrences\n",
    "grouped_df = df.groupby('DRUG').size().reset_index(name='count')\n",
    "\n",
    "# Sort the grouped dataframe by count in descending order\n",
    "sorted_df = grouped_df.sort_values('count', ascending=False)\n",
    "\n",
    "# Select the top 5 drugs\n",
    "top_5_drugs = sorted_df.head(5)\n",
    "# Create a Bokeh figure\n",
    "p = figure(title = 'Top 5 Drugs by Prescription Count', \n",
    "           x_axis_label = 'Drug', \n",
    "           y_axis_label = 'Number of Prescriptions',\n",
    "           x_range = top_5_drugs['DRUG'],\n",
    "         \n",
    "           tools = '')\n",
    "# Create a ColumnDataSource\n",
    "source = ColumnDataSource(data=dict(drug_name=top_5_drugs['DRUG'],count=top_5_drugs['count']))\n",
    "p.xaxis.axis_label = 'Drug Name'\n",
    "p.yaxis.axis_label = 'Number of Prescriptions'\n",
    "\n",
    "# Create a LinearColorMapper\n",
    "color_mapper = LinearColorMapper(palette='Viridis256', low=top_5_drugs['count'].min(), high=top_5_drugs['count'].max())\n",
    "\n",
    "# Create a ColorBar\n",
    "color_bar = ColorBar(color_mapper=color_mapper, location=(0, 0), ticker=BasicTicker(), formatter=BasicTickFormatter(use_scientific=False))\n",
    "\n",
    "# Add the ColorBar to the figure\n",
    "p.add_layout(color_bar, 'right')\n",
    "p.scatter(x='drug_name', y='count', source=source, size=20, fill_color={'field': 'count', 'transform': color_mapper}, line_color=None)\n",
    "\n",
    "# Show the figure\n",
    "p.width = 800\n",
    "p.yaxis.formatter.use_scientific = False\n",
    "\n",
    "output_notebook()\n",
    "\n",
    "show(p)"
   ]
  },
  {
   "cell_type": "code",
   "execution_count": 1,
   "metadata": {},
   "outputs": [
    {
     "name": "stdout",
     "output_type": "stream",
     "text": [
      "Index(['ROW_ID', 'SUBJECT_ID', 'HADM_ID', 'ICUSTAY_ID', 'ITEMID', 'CHARTTIME',\n",
      "       'STORETIME', 'CGID', 'VALUE', 'VALUENUM', 'VALUEUOM', 'WARNING',\n",
      "       'ERROR', 'RESULTSTATUS', 'STOPPED'],\n",
      "      dtype='object')\n",
      "   ROW_ID  SUBJECT_ID  HADM_ID  ICUSTAY_ID  ITEMID            CHARTTIME  \\\n",
      "0     788          36   165660      241249  223834  2134-05-12 12:00:00   \n",
      "1     789          36   165660      241249  223835  2134-05-12 12:00:00   \n",
      "2     790          36   165660      241249  224328  2134-05-12 12:00:00   \n",
      "3     791          36   165660      241249  224329  2134-05-12 12:00:00   \n",
      "4     792          36   165660      241249  224330  2134-05-12 12:00:00   \n",
      "\n",
      "             STORETIME   CGID   VALUE  VALUENUM VALUEUOM  WARNING  ERROR  \\\n",
      "0  2134-05-12 13:56:00  17525   15.00     15.00    L/min        0      0   \n",
      "1  2134-05-12 13:56:00  17525  100.00    100.00      NaN        0      0   \n",
      "2  2134-05-12 12:18:00  20823    0.37      0.37      NaN        0      0   \n",
      "3  2134-05-12 12:19:00  20823    6.00      6.00      min        0      0   \n",
      "4  2134-05-12 12:19:00  20823    2.50      2.50      NaN        0      0   \n",
      "\n",
      "   RESULTSTATUS  STOPPED  \n",
      "0           NaN      NaN  \n",
      "1           NaN      NaN  \n",
      "2           NaN      NaN  \n",
      "3           NaN      NaN  \n",
      "4           NaN      NaN  \n",
      "['L/min' nan 'min' 'ml/hr' 'mmHg' 'units' 'mEq/L' 'mmol/L' 'bpm'\n",
      " 'insp/min' '%' 'cmH2O' '?F' 'mL' 'sec' 'kg' 'g/dl' 'K/uL' 'mg/dL' 'ug/mL'\n",
      " 'IU/L' 'ng/mL' 'Inch' 'cm' '?C' 'g/dL' 'hour']\n"
     ]
    }
   ],
   "source": [
    "import pandas as pd\n",
    "\n",
    "# Load the CSV file into a DataFrame\n",
    "#df = pd.read_csv('mimic/CHARTEVENTS.csv')\n",
    "\n",
    "# Print the columns\n",
    "#print(df.columns)\n",
    "# patient bpm data and use box annotation to highlight the normal range of 60-100 bpm\n",
    "# Read only the first 1000 lines from the CSV file\n",
    "df_evnt = pd.read_csv('mimic/CHARTEVENTS.csv', nrows=10000)\n",
    "\n",
    "# Print the columns\n",
    "print(df_evnt.columns)\n",
    "\n",
    "# print top 5 rows of the dataframe\n",
    "print(df_evnt.head())\n",
    "#print unique values of VALUEUOM column\n",
    "print(df_evnt['VALUEUOM'].unique())\n",
    "#remove records with VALUEUOM as 'NaN'\n",
    "df_evnt = df_evnt.dropna(subset=['VALUEUOM'])\n",
    "#filter records with VALUEUOM as 'bpm'\n",
    "df_evnt = df_evnt[df_evnt['VALUEUOM'] == 'bpm']\n",
    "# Add code for patient bpm data and box annotation here"
   ]
  },
  {
   "cell_type": "code",
   "execution_count": 1,
   "metadata": {},
   "outputs": [
    {
     "name": "stdout",
     "output_type": "stream",
     "text": [
      "Index(['ROW_ID', 'SUBJECT_ID', 'GENDER', 'DOB', 'DOD', 'DOD_HOSP', 'DOD_SSN',\n",
      "       'EXPIRE_FLAG'],\n",
      "      dtype='object')\n"
     ]
    }
   ],
   "source": [
    "import pandas as pd\n",
    "\n",
    "\n",
    "# Read only the first 1000 lines from the CSV file\n",
    "df_patients = pd.read_csv('mimic/PATIENTS.csv')\n",
    "\n",
    "# Print the columns\n",
    "print(df_patients.columns)"
   ]
  },
  {
   "cell_type": "code",
   "execution_count": 5,
   "metadata": {},
   "outputs": [
    {
     "data": {
      "text/html": [
       "    <style>\n",
       "        .bk-notebook-logo {\n",
       "            display: block;\n",
       "            width: 20px;\n",
       "            height: 20px;\n",
       "            background-image: url(data:image/png;base64,iVBORw0KGgoAAAANSUhEUgAAABQAAAAUCAYAAACNiR0NAAAABHNCSVQICAgIfAhkiAAAAAlwSFlzAAALEgAACxIB0t1+/AAAABx0RVh0U29mdHdhcmUAQWRvYmUgRmlyZXdvcmtzIENTNui8sowAAAOkSURBVDiNjZRtaJVlGMd/1/08zzln5zjP1LWcU9N0NkN8m2CYjpgQYQXqSs0I84OLIC0hkEKoPtiH3gmKoiJDU7QpLgoLjLIQCpEsNJ1vqUOdO7ppbuec5+V+rj4ctwzd8IIbbi6u+8f1539dt3A78eXC7QizUF7gyV1fD1Yqg4JWz84yffhm0qkFqBogB9rM8tZdtwVsPUhWhGcFJngGeWrPzHm5oaMmkfEg1usvLFyc8jLRqDOMru7AyC8saQr7GG7f5fvDeH7Ej8CM66nIF+8yngt6HWaKh7k49Soy9nXurCi1o3qUbS3zWfrYeQDTB/Qj6kX6Ybhw4B+bOYoLKCC9H3Nu/leUTZ1JdRWkkn2ldcCamzrcf47KKXdAJllSlxAOkRgyHsGC/zRday5Qld9DyoM4/q/rUoy/CXh3jzOu3bHUVZeU+DEn8FInkPBFlu3+nW3Nw0mk6vCDiWg8CeJaxEwuHS3+z5RgY+YBR6V1Z1nxSOfoaPa4LASWxxdNp+VWTk7+4vzaou8v8PN+xo+KY2xsw6une2frhw05CTYOmQvsEhjhWjn0bmXPjpE1+kplmmkP3suftwTubK9Vq22qKmrBhpY4jvd5afdRA3wGjFAgcnTK2s4hY0/GPNIb0nErGMCRxWOOX64Z8RAC4oCXdklmEvcL8o0BfkNK4lUg9HTl+oPlQxdNo3Mg4Nv175e/1LDGzZen30MEjRUtmXSfiTVu1kK8W4txyV6BMKlbgk3lMwYCiusNy9fVfvvwMxv8Ynl6vxoByANLTWplvuj/nF9m2+PDtt1eiHPBr1oIfhCChQMBw6Aw0UulqTKZdfVvfG7VcfIqLG9bcldL/+pdWTLxLUy8Qq38heUIjh4XlzZxzQm19lLFlr8vdQ97rjZVOLf8nclzckbcD4wxXMidpX30sFd37Fv/GtwwhzhxGVAprjbg0gCAEeIgwCZyTV2Z1REEW8O4py0wsjeloKoMr6iCY6dP92H6Vw/oTyICIthibxjm/DfN9lVz8IqtqKYLUXfoKVMVQVVJOElGjrnnUt9T9wbgp8AyYKaGlqingHZU/uG2NTZSVqwHQTWkx9hxjkpWDaCg6Ckj5qebgBVbT3V3NNXMSiWSDdGV3hrtzla7J+duwPOToIg42ChPQOQjspnSlp1V+Gjdged7+8UN5CRAV7a5EdFNwCjEaBR27b3W890TE7g24NAP/mMDXRWrGoFPQI9ls/MWO2dWFAar/xcOIImbbpA3zgAAAABJRU5ErkJggg==);\n",
       "        }\n",
       "    </style>\n",
       "    <div>\n",
       "        <a href=\"https://bokeh.org\" target=\"_blank\" class=\"bk-notebook-logo\"></a>\n",
       "        <span id=\"bc791638-4840-4f3b-8177-23aafa866c45\">Loading BokehJS ...</span>\n",
       "    </div>\n"
      ]
     },
     "metadata": {},
     "output_type": "display_data"
    },
    {
     "data": {
      "application/javascript": "'use strict';\n(function(root) {\n  function now() {\n    return new Date();\n  }\n\n  const force = true;\n\n  if (typeof root._bokeh_onload_callbacks === \"undefined\" || force === true) {\n    root._bokeh_onload_callbacks = [];\n    root._bokeh_is_loading = undefined;\n  }\n\nconst JS_MIME_TYPE = 'application/javascript';\n  const HTML_MIME_TYPE = 'text/html';\n  const EXEC_MIME_TYPE = 'application/vnd.bokehjs_exec.v0+json';\n  const CLASS_NAME = 'output_bokeh rendered_html';\n\n  /**\n   * Render data to the DOM node\n   */\n  function render(props, node) {\n    const script = document.createElement(\"script\");\n    node.appendChild(script);\n  }\n\n  /**\n   * Handle when an output is cleared or removed\n   */\n  function handleClearOutput(event, handle) {\n    function drop(id) {\n      const view = Bokeh.index.get_by_id(id)\n      if (view != null) {\n        view.model.document.clear()\n        Bokeh.index.delete(view)\n      }\n    }\n\n    const cell = handle.cell;\n\n    const id = cell.output_area._bokeh_element_id;\n    const server_id = cell.output_area._bokeh_server_id;\n\n    // Clean up Bokeh references\n    if (id != null) {\n      drop(id)\n    }\n\n    if (server_id !== undefined) {\n      // Clean up Bokeh references\n      const cmd_clean = \"from bokeh.io.state import curstate; print(curstate().uuid_to_server['\" + server_id + \"'].get_sessions()[0].document.roots[0]._id)\";\n      cell.notebook.kernel.execute(cmd_clean, {\n        iopub: {\n          output: function(msg) {\n            const id = msg.content.text.trim()\n            drop(id)\n          }\n        }\n      });\n      // Destroy server and session\n      const cmd_destroy = \"import bokeh.io.notebook as ion; ion.destroy_server('\" + server_id + \"')\";\n      cell.notebook.kernel.execute(cmd_destroy);\n    }\n  }\n\n  /**\n   * Handle when a new output is added\n   */\n  function handleAddOutput(event, handle) {\n    const output_area = handle.output_area;\n    const output = handle.output;\n\n    // limit handleAddOutput to display_data with EXEC_MIME_TYPE content only\n    if ((output.output_type != \"display_data\") || (!Object.prototype.hasOwnProperty.call(output.data, EXEC_MIME_TYPE))) {\n      return\n    }\n\n    const toinsert = output_area.element.find(\".\" + CLASS_NAME.split(' ')[0]);\n\n    if (output.metadata[EXEC_MIME_TYPE][\"id\"] !== undefined) {\n      toinsert[toinsert.length - 1].firstChild.textContent = output.data[JS_MIME_TYPE];\n      // store reference to embed id on output_area\n      output_area._bokeh_element_id = output.metadata[EXEC_MIME_TYPE][\"id\"];\n    }\n    if (output.metadata[EXEC_MIME_TYPE][\"server_id\"] !== undefined) {\n      const bk_div = document.createElement(\"div\");\n      bk_div.innerHTML = output.data[HTML_MIME_TYPE];\n      const script_attrs = bk_div.children[0].attributes;\n      for (let i = 0; i < script_attrs.length; i++) {\n        toinsert[toinsert.length - 1].firstChild.setAttribute(script_attrs[i].name, script_attrs[i].value);\n        toinsert[toinsert.length - 1].firstChild.textContent = bk_div.children[0].textContent\n      }\n      // store reference to server id on output_area\n      output_area._bokeh_server_id = output.metadata[EXEC_MIME_TYPE][\"server_id\"];\n    }\n  }\n\n  function register_renderer(events, OutputArea) {\n\n    function append_mime(data, metadata, element) {\n      // create a DOM node to render to\n      const toinsert = this.create_output_subarea(\n        metadata,\n        CLASS_NAME,\n        EXEC_MIME_TYPE\n      );\n      this.keyboard_manager.register_events(toinsert);\n      // Render to node\n      const props = {data: data, metadata: metadata[EXEC_MIME_TYPE]};\n      render(props, toinsert[toinsert.length - 1]);\n      element.append(toinsert);\n      return toinsert\n    }\n\n    /* Handle when an output is cleared or removed */\n    events.on('clear_output.CodeCell', handleClearOutput);\n    events.on('delete.Cell', handleClearOutput);\n\n    /* Handle when a new output is added */\n    events.on('output_added.OutputArea', handleAddOutput);\n\n    /**\n     * Register the mime type and append_mime function with output_area\n     */\n    OutputArea.prototype.register_mime_type(EXEC_MIME_TYPE, append_mime, {\n      /* Is output safe? */\n      safe: true,\n      /* Index of renderer in `output_area.display_order` */\n      index: 0\n    });\n  }\n\n  // register the mime type if in Jupyter Notebook environment and previously unregistered\n  if (root.Jupyter !== undefined) {\n    const events = require('base/js/events');\n    const OutputArea = require('notebook/js/outputarea').OutputArea;\n\n    if (OutputArea.prototype.mime_types().indexOf(EXEC_MIME_TYPE) == -1) {\n      register_renderer(events, OutputArea);\n    }\n  }\n  if (typeof (root._bokeh_timeout) === \"undefined\" || force === true) {\n    root._bokeh_timeout = Date.now() + 5000;\n    root._bokeh_failed_load = false;\n  }\n\n  const NB_LOAD_WARNING = {'data': {'text/html':\n     \"<div style='background-color: #fdd'>\\n\"+\n     \"<p>\\n\"+\n     \"BokehJS does not appear to have successfully loaded. If loading BokehJS from CDN, this \\n\"+\n     \"may be due to a slow or bad network connection. Possible fixes:\\n\"+\n     \"</p>\\n\"+\n     \"<ul>\\n\"+\n     \"<li>re-rerun `output_notebook()` to attempt to load from CDN again, or</li>\\n\"+\n     \"<li>use INLINE resources instead, as so:</li>\\n\"+\n     \"</ul>\\n\"+\n     \"<code>\\n\"+\n     \"from bokeh.resources import INLINE\\n\"+\n     \"output_notebook(resources=INLINE)\\n\"+\n     \"</code>\\n\"+\n     \"</div>\"}};\n\n  function display_loaded(error = null) {\n    const el = document.getElementById(\"bc791638-4840-4f3b-8177-23aafa866c45\");\n    if (el != null) {\n      const html = (() => {\n        if (typeof root.Bokeh === \"undefined\") {\n          if (error == null) {\n            return \"BokehJS is loading ...\";\n          } else {\n            return \"BokehJS failed to load.\";\n          }\n        } else {\n          const prefix = `BokehJS ${root.Bokeh.version}`;\n          if (error == null) {\n            return `${prefix} successfully loaded.`;\n          } else {\n            return `${prefix} <b>encountered errors</b> while loading and may not function as expected.`;\n          }\n        }\n      })();\n      el.innerHTML = html;\n\n      if (error != null) {\n        const wrapper = document.createElement(\"div\");\n        wrapper.style.overflow = \"auto\";\n        wrapper.style.height = \"5em\";\n        wrapper.style.resize = \"vertical\";\n        const content = document.createElement(\"div\");\n        content.style.fontFamily = \"monospace\";\n        content.style.whiteSpace = \"pre-wrap\";\n        content.style.backgroundColor = \"rgb(255, 221, 221)\";\n        content.textContent = error.stack ?? error.toString();\n        wrapper.append(content);\n        el.append(wrapper);\n      }\n    } else if (Date.now() < root._bokeh_timeout) {\n      setTimeout(() => display_loaded(error), 100);\n    }\n  }\n\n  function run_callbacks() {\n    try {\n      root._bokeh_onload_callbacks.forEach(function(callback) {\n        if (callback != null)\n          callback();\n      });\n    } finally {\n      delete root._bokeh_onload_callbacks\n    }\n    console.debug(\"Bokeh: all callbacks have finished\");\n  }\n\n  function load_libs(css_urls, js_urls, callback) {\n    if (css_urls == null) css_urls = [];\n    if (js_urls == null) js_urls = [];\n\n    root._bokeh_onload_callbacks.push(callback);\n    if (root._bokeh_is_loading > 0) {\n      console.debug(\"Bokeh: BokehJS is being loaded, scheduling callback at\", now());\n      return null;\n    }\n    if (js_urls == null || js_urls.length === 0) {\n      run_callbacks();\n      return null;\n    }\n    console.debug(\"Bokeh: BokehJS not loaded, scheduling load and callback at\", now());\n    root._bokeh_is_loading = css_urls.length + js_urls.length;\n\n    function on_load() {\n      root._bokeh_is_loading--;\n      if (root._bokeh_is_loading === 0) {\n        console.debug(\"Bokeh: all BokehJS libraries/stylesheets loaded\");\n        run_callbacks()\n      }\n    }\n\n    function on_error(url) {\n      console.error(\"failed to load \" + url);\n    }\n\n    for (let i = 0; i < css_urls.length; i++) {\n      const url = css_urls[i];\n      const element = document.createElement(\"link\");\n      element.onload = on_load;\n      element.onerror = on_error.bind(null, url);\n      element.rel = \"stylesheet\";\n      element.type = \"text/css\";\n      element.href = url;\n      console.debug(\"Bokeh: injecting link tag for BokehJS stylesheet: \", url);\n      document.body.appendChild(element);\n    }\n\n    for (let i = 0; i < js_urls.length; i++) {\n      const url = js_urls[i];\n      const element = document.createElement('script');\n      element.onload = on_load;\n      element.onerror = on_error.bind(null, url);\n      element.async = false;\n      element.src = url;\n      console.debug(\"Bokeh: injecting script tag for BokehJS library: \", url);\n      document.head.appendChild(element);\n    }\n  };\n\n  function inject_raw_css(css) {\n    const element = document.createElement(\"style\");\n    element.appendChild(document.createTextNode(css));\n    document.body.appendChild(element);\n  }\n\n  const js_urls = [\"https://cdn.bokeh.org/bokeh/release/bokeh-3.4.1.min.js\", \"https://cdn.bokeh.org/bokeh/release/bokeh-gl-3.4.1.min.js\", \"https://cdn.bokeh.org/bokeh/release/bokeh-widgets-3.4.1.min.js\", \"https://cdn.bokeh.org/bokeh/release/bokeh-tables-3.4.1.min.js\", \"https://cdn.bokeh.org/bokeh/release/bokeh-mathjax-3.4.1.min.js\"];\n  const css_urls = [];\n\n  const inline_js = [    function(Bokeh) {\n      Bokeh.set_log_level(\"info\");\n    },\nfunction(Bokeh) {\n    }\n  ];\n\n  function run_inline_js() {\n    if (root.Bokeh !== undefined || force === true) {\n      try {\n            for (let i = 0; i < inline_js.length; i++) {\n      inline_js[i].call(root, root.Bokeh);\n    }\n\n      } catch (error) {display_loaded(error);throw error;\n      }if (force === true) {\n        display_loaded();\n      }} else if (Date.now() < root._bokeh_timeout) {\n      setTimeout(run_inline_js, 100);\n    } else if (!root._bokeh_failed_load) {\n      console.log(\"Bokeh: BokehJS failed to load within specified timeout.\");\n      root._bokeh_failed_load = true;\n    } else if (force !== true) {\n      const cell = $(document.getElementById(\"bc791638-4840-4f3b-8177-23aafa866c45\")).parents('.cell').data().cell;\n      cell.output_area.append_execute_result(NB_LOAD_WARNING)\n    }\n  }\n\n  if (root._bokeh_is_loading === 0) {\n    console.debug(\"Bokeh: BokehJS loaded, going straight to plotting\");\n    run_inline_js();\n  } else {\n    load_libs(css_urls, js_urls, function() {\n      console.debug(\"Bokeh: BokehJS plotting callback run at\", now());\n      run_inline_js();\n    });\n  }\n}(window));",
      "application/vnd.bokehjs_load.v0+json": ""
     },
     "metadata": {},
     "output_type": "display_data"
    },
    {
     "data": {
      "text/html": [
       "\n",
       "  <div id=\"e1f5e6a9-e672-41e9-a32e-adf06a6c5312\" data-root-id=\"p1045\" style=\"display: contents;\"></div>\n"
      ]
     },
     "metadata": {},
     "output_type": "display_data"
    },
    {
     "data": {
      "application/javascript": "(function(root) {\n  function embed_document(root) {\n  const docs_json = {\"fe751caa-345b-40d3-8798-5304149e4941\":{\"version\":\"3.4.1\",\"title\":\"Bokeh Application\",\"roots\":[{\"type\":\"object\",\"name\":\"Figure\",\"id\":\"p1045\",\"attributes\":{\"x_range\":{\"type\":\"object\",\"name\":\"DataRange1d\",\"id\":\"p1046\"},\"y_range\":{\"type\":\"object\",\"name\":\"DataRange1d\",\"id\":\"p1047\"},\"x_scale\":{\"type\":\"object\",\"name\":\"LinearScale\",\"id\":\"p1055\"},\"y_scale\":{\"type\":\"object\",\"name\":\"LinearScale\",\"id\":\"p1056\"},\"title\":{\"type\":\"object\",\"name\":\"Title\",\"id\":\"p1048\",\"attributes\":{\"text\":\"Scatter Plot\"}},\"renderers\":[{\"type\":\"object\",\"name\":\"GlyphRenderer\",\"id\":\"p1084\",\"attributes\":{\"data_source\":{\"type\":\"object\",\"name\":\"ColumnDataSource\",\"id\":\"p1078\",\"attributes\":{\"selected\":{\"type\":\"object\",\"name\":\"Selection\",\"id\":\"p1079\",\"attributes\":{\"indices\":[],\"line_indices\":[]}},\"selection_policy\":{\"type\":\"object\",\"name\":\"UnionRenderers\",\"id\":\"p1080\"},\"data\":{\"type\":\"map\",\"entries\":[[\"x\",{\"type\":\"ndarray\",\"array\":{\"type\":\"bytes\",\"data\":\"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\"},\"shape\":[1067],\"dtype\":\"int32\",\"order\":\"little\"}],[\"y\",{\"type\":\"ndarray\",\"array\":{\"type\":\"bytes\",\"data\":\"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\"},\"shape\":[1067],\"dtype\":\"float64\",\"order\":\"little\"}]]}}},\"view\":{\"type\":\"object\",\"name\":\"CDSView\",\"id\":\"p1085\",\"attributes\":{\"filter\":{\"type\":\"object\",\"name\":\"AllIndices\",\"id\":\"p1086\"}}},\"glyph\":{\"type\":\"object\",\"name\":\"Scatter\",\"id\":\"p1081\",\"attributes\":{\"x\":{\"type\":\"field\",\"field\":\"x\"},\"y\":{\"type\":\"field\",\"field\":\"y\"},\"size\":{\"type\":\"value\",\"value\":8},\"line_color\":{\"type\":\"value\",\"value\":\"red\"},\"fill_color\":{\"type\":\"value\",\"value\":\"red\"},\"hatch_color\":{\"type\":\"value\",\"value\":\"red\"}}},\"nonselection_glyph\":{\"type\":\"object\",\"name\":\"Scatter\",\"id\":\"p1082\",\"attributes\":{\"x\":{\"type\":\"field\",\"field\":\"x\"},\"y\":{\"type\":\"field\",\"field\":\"y\"},\"size\":{\"type\":\"value\",\"value\":8},\"line_color\":{\"type\":\"value\",\"value\":\"red\"},\"line_alpha\":{\"type\":\"value\",\"value\":0.1},\"fill_color\":{\"type\":\"value\",\"value\":\"red\"},\"fill_alpha\":{\"type\":\"value\",\"value\":0.1},\"hatch_color\":{\"type\":\"value\",\"value\":\"red\"},\"hatch_alpha\":{\"type\":\"value\",\"value\":0.1}}},\"muted_glyph\":{\"type\":\"object\",\"name\":\"Scatter\",\"id\":\"p1083\",\"attributes\":{\"x\":{\"type\":\"field\",\"field\":\"x\"},\"y\":{\"type\":\"field\",\"field\":\"y\"},\"size\":{\"type\":\"value\",\"value\":8},\"line_color\":{\"type\":\"value\",\"value\":\"red\"},\"line_alpha\":{\"type\":\"value\",\"value\":0.2},\"fill_color\":{\"type\":\"value\",\"value\":\"red\"},\"fill_alpha\":{\"type\":\"value\",\"value\":0.2},\"hatch_color\":{\"type\":\"value\",\"value\":\"red\"},\"hatch_alpha\":{\"type\":\"value\",\"value\":0.2}}}}},{\"type\":\"object\",\"name\":\"GlyphRenderer\",\"id\":\"p1093\",\"attributes\":{\"data_source\":{\"type\":\"object\",\"name\":\"ColumnDataSource\",\"id\":\"p1087\",\"attributes\":{\"selected\":{\"type\":\"object\",\"name\":\"Selection\",\"id\":\"p1088\",\"attributes\":{\"indices\":[],\"line_indices\":[]}},\"selection_policy\":{\"type\":\"object\",\"name\":\"UnionRenderers\",\"id\":\"p1089\"},\"data\":{\"type\":\"map\",\"entries\":[[\"x\",{\"type\":\"ndarray\",\"array\":{\"type\":\"bytes\",\"data\":\"AAAAAAEAAAACAAAAAwAAAAQAAAAFAAAABgAAAAcAAAAIAAAACQAAAAoAAAALAAAADAAAAA0AAAAOAAAADwAAABAAAAARAAAAEgAAABMAAAAUAAAAFQAAABYAAAAXAAAAGAAAABkAAAAaAAAAGwAAABwAAAAdAAAAHgAAAB8AAAAgAAAAIQAAACIAAAAjAAAAJAAAACUAAAAmAAAAJwAAAFMAAABUAAAAVQAAAFYAAABXAAAAWAAAAFkAAABaAAAAWwAAAFwAAABdAAAAXgAAAF8AAABgAAAAYQAAAGIAAABjAAAAZAAAAGUAAABmAAAAZwAAAGgAAABpAAAAagAAAGsAAABsAAAAbQAAAG4AAABvAAAAcAAAAHEAAAByAAAAcwAAAHQAAAB1AAAAdgAAAHcAAAB4AAAAeQAAAHoAAAB7AAAAfAAAAH0AAAB+AAAAfwAAAIAAAACBAAAAggAAAIMAAACEAAAAhQAAAIYAAACHAAAAiAAAAIkAAACKAAAAiwAAAIwAAACNAAAAjgAAAI8AAACQAAAAkQAAAJIAAACTAAAAlAAAAJUAAACWAAAAlwAAAJgAAACZAAAAmgAAAJsAAACcAAAAnQAAAJ4AAACfAAAAoAAAAKEAAACiAAAAowAAAKQAAAClAAAApgAAAKcAAACoAAAAqQAAAKoAAACrAAAArAAAAK0AAACuAAAArwAAALAAAACxAAAAsgAAALMAAAC0AAAAtQAAALYAAAC3AAAAuAAAALkAAAC6AAAAuwAAALwAAAC9AAAAvgAAAL8AAADAAAAAwQAAAMIAAADDAAAAxAAAAMUAAADGAAAAxwAAAMgAAADJAAAAygAAAMsAAADMAAAAzQAAAAcBAAAIAQAACQEAAAoBAAALAQAADAEAAA0BAAAOAQAADwEAABABAAARAQAAEgEAABMBAAAUAQAAFQEAABYBAAAXAQAAGAEAABkBAAAaAQAAGwEAABwBAAAdAQAAHgEAAB8BAAAgAQAAIQEAACIBAAAjAQAAJAEAACUBAAAmAQAAJwEAACgBAAApAQAAKgEAACsBAAAsAQAALQEAAC4BAAAvAQAAMAEAADEBAAAyAQAAMwEAADQBAAA1AQAANgEAADcBAAA4AQAAOQEAADoBAAA7AQAAPAEAAD0BAAA+AQAAPwEAAEABAABBAQAAQgEAAEMBAABEAQAARQEAAEYBAABHAQAASAEAAEkBAABKAQAASwEAAEwBAABNAQAATgEAAE8BAABQAQAAUQEAAFIBAABTAQAAVAEAAFUBAABWAQAAVwEAAFgBAABZAQAAWgEAAFsBAABcAQAAXQEAAF4BAABfAQAAYAEAAGEBAABiAQAAYwEAAGQBAABlAQAAZgEAAGcBAABoAQAAaQEAAGoBAABrAQAAbAEAAG0BAABuAQAAbwEAAHABAABxAQAA\"},\"shape\":[270],\"dtype\":\"int32\",\"order\":\"little\"}],[\"y\",{\"type\":\"ndarray\",\"array\":{\"type\":\"bytes\",\"data\":\"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\"},\"shape\":[270],\"dtype\":\"float64\",\"order\":\"little\"}]]}}},\"view\":{\"type\":\"object\",\"name\":\"CDSView\",\"id\":\"p1094\",\"attributes\":{\"filter\":{\"type\":\"object\",\"name\":\"AllIndices\",\"id\":\"p1095\"}}},\"glyph\":{\"type\":\"object\",\"name\":\"Scatter\",\"id\":\"p1090\",\"attributes\":{\"x\":{\"type\":\"field\",\"field\":\"x\"},\"y\":{\"type\":\"field\",\"field\":\"y\"},\"size\":{\"type\":\"value\",\"value\":8},\"line_color\":{\"type\":\"value\",\"value\":\"green\"},\"fill_color\":{\"type\":\"value\",\"value\":\"green\"},\"hatch_color\":{\"type\":\"value\",\"value\":\"green\"}}},\"nonselection_glyph\":{\"type\":\"object\",\"name\":\"Scatter\",\"id\":\"p1091\",\"attributes\":{\"x\":{\"type\":\"field\",\"field\":\"x\"},\"y\":{\"type\":\"field\",\"field\":\"y\"},\"size\":{\"type\":\"value\",\"value\":8},\"line_color\":{\"type\":\"value\",\"value\":\"green\"},\"line_alpha\":{\"type\":\"value\",\"value\":0.1},\"fill_color\":{\"type\":\"value\",\"value\":\"green\"},\"fill_alpha\":{\"type\":\"value\",\"value\":0.1},\"hatch_color\":{\"type\":\"value\",\"value\":\"green\"},\"hatch_alpha\":{\"type\":\"value\",\"value\":0.1}}},\"muted_glyph\":{\"type\":\"object\",\"name\":\"Scatter\",\"id\":\"p1092\",\"attributes\":{\"x\":{\"type\":\"field\",\"field\":\"x\"},\"y\":{\"type\":\"field\",\"field\":\"y\"},\"size\":{\"type\":\"value\",\"value\":8},\"line_color\":{\"type\":\"value\",\"value\":\"green\"},\"line_alpha\":{\"type\":\"value\",\"value\":0.2},\"fill_color\":{\"type\":\"value\",\"value\":\"green\"},\"fill_alpha\":{\"type\":\"value\",\"value\":0.2},\"hatch_color\":{\"type\":\"value\",\"value\":\"green\"},\"hatch_alpha\":{\"type\":\"value\",\"value\":0.2}}}}}],\"toolbar\":{\"type\":\"object\",\"name\":\"Toolbar\",\"id\":\"p1054\",\"attributes\":{\"tools\":[{\"type\":\"object\",\"name\":\"PanTool\",\"id\":\"p1067\"},{\"type\":\"object\",\"name\":\"WheelZoomTool\",\"id\":\"p1068\",\"attributes\":{\"renderers\":\"auto\"}},{\"type\":\"object\",\"name\":\"BoxZoomTool\",\"id\":\"p1069\",\"attributes\":{\"overlay\":{\"type\":\"object\",\"name\":\"BoxAnnotation\",\"id\":\"p1070\",\"attributes\":{\"syncable\":false,\"level\":\"overlay\",\"visible\":false,\"left\":{\"type\":\"number\",\"value\":\"nan\"},\"right\":{\"type\":\"number\",\"value\":\"nan\"},\"top\":{\"type\":\"number\",\"value\":\"nan\"},\"bottom\":{\"type\":\"number\",\"value\":\"nan\"},\"left_units\":\"canvas\",\"right_units\":\"canvas\",\"top_units\":\"canvas\",\"bottom_units\":\"canvas\",\"line_color\":\"black\",\"line_alpha\":1.0,\"line_width\":2,\"line_dash\":[4,4],\"fill_color\":\"lightgrey\",\"fill_alpha\":0.5}}}},{\"type\":\"object\",\"name\":\"SaveTool\",\"id\":\"p1075\"},{\"type\":\"object\",\"name\":\"ResetTool\",\"id\":\"p1076\"},{\"type\":\"object\",\"name\":\"HelpTool\",\"id\":\"p1077\"}]}},\"left\":[{\"type\":\"object\",\"name\":\"LinearAxis\",\"id\":\"p1062\",\"attributes\":{\"ticker\":{\"type\":\"object\",\"name\":\"BasicTicker\",\"id\":\"p1063\",\"attributes\":{\"mantissas\":[1,2,5]}},\"formatter\":{\"type\":\"object\",\"name\":\"BasicTickFormatter\",\"id\":\"p1064\"},\"axis_label\":\"BPM\",\"major_label_policy\":{\"type\":\"object\",\"name\":\"AllLabels\",\"id\":\"p1065\"}}}],\"below\":[{\"type\":\"object\",\"name\":\"LinearAxis\",\"id\":\"p1057\",\"attributes\":{\"ticker\":{\"type\":\"object\",\"name\":\"BasicTicker\",\"id\":\"p1058\",\"attributes\":{\"mantissas\":[1,2,5]}},\"formatter\":{\"type\":\"object\",\"name\":\"BasicTickFormatter\",\"id\":\"p1059\"},\"axis_label\":\"Index\",\"major_label_policy\":{\"type\":\"object\",\"name\":\"AllLabels\",\"id\":\"p1060\"}}}],\"center\":[{\"type\":\"object\",\"name\":\"Grid\",\"id\":\"p1061\",\"attributes\":{\"axis\":{\"id\":\"p1057\"}}},{\"type\":\"object\",\"name\":\"Grid\",\"id\":\"p1066\",\"attributes\":{\"dimension\":1,\"axis\":{\"id\":\"p1062\"}}}]}}]}};\n  const render_items = [{\"docid\":\"fe751caa-345b-40d3-8798-5304149e4941\",\"roots\":{\"p1045\":\"e1f5e6a9-e672-41e9-a32e-adf06a6c5312\"},\"root_ids\":[\"p1045\"]}];\n  void root.Bokeh.embed.embed_items_notebook(docs_json, render_items);\n  }\n  if (root.Bokeh !== undefined) {\n    embed_document(root);\n  } else {\n    let attempts = 0;\n    const timer = setInterval(function(root) {\n      if (root.Bokeh !== undefined) {\n        clearInterval(timer);\n        embed_document(root);\n      } else {\n        attempts++;\n        if (attempts > 100) {\n          clearInterval(timer);\n          console.log(\"Bokeh: ERROR: Unable to run BokehJS code because BokehJS library is missing\");\n        }\n      }\n    }, 10, root)\n  }\n})(window);",
      "application/vnd.bokehjs_exec.v0+json": ""
     },
     "metadata": {
      "application/vnd.bokehjs_exec.v0+json": {
       "id": "p1045"
      }
     },
     "output_type": "display_data"
    }
   ],
   "source": [
    "from bokeh.plotting import figure, show\n",
    "from bokeh.io import output_notebook\n",
    "\n",
    "# Join df_patients and df_evnt on SUBJECT_ID\n",
    "merged_df = pd.merge(df_patients, df_evnt, on='SUBJECT_ID')\n",
    "# Filter the merged dataframe by expire_flag = 1\n",
    "filtered_df = merged_df[merged_df['EXPIRE_FLAG'] == 1]\n",
    "\n",
    "# Display the filtered dataframe\n",
    "# Filter the merged dataframe by expire_flag = 0\n",
    "filtered_df_0 = merged_df[merged_df['EXPIRE_FLAG'] == 0]\n",
    "\n",
    "# Create a new figure\n",
    "p = figure(title='Scatter Plot', x_axis_label='Index', y_axis_label='BPM')\n",
    "\n",
    "# Add scatter plot for expire_flag = 1 in blue color\n",
    "p.scatter(x=filtered_df.index, y=filtered_df['VALUE'], size=8, color='red')\n",
    "\n",
    "# Add scatter plot for expire_flag = 0 in green color\n",
    "p.scatter(x=filtered_df_0.index, y=filtered_df_0['VALUE'], size=8, color='green')\n",
    "\n",
    "# Show the plot\n",
    "output_notebook()\n",
    "show(p)\n"
   ]
  },
  {
   "cell_type": "code",
   "execution_count": 2,
   "metadata": {},
   "outputs": [
    {
     "name": "stdout",
     "output_type": "stream",
     "text": [
      "Index(['ROW_ID', 'SUBJECT_ID', 'HADM_ID', 'ICUSTAY_ID', 'DBSOURCE',\n",
      "       'FIRST_CAREUNIT', 'LAST_CAREUNIT', 'FIRST_WARDID', 'LAST_WARDID',\n",
      "       'INTIME', 'OUTTIME', 'LOS'],\n",
      "      dtype='object')\n"
     ]
    }
   ],
   "source": [
    "#patient weight category vs discharge/death or ICU stays\n",
    "#use transform markers\n",
    "import pandas as pd\n",
    "\n",
    "\n",
    "# Read only the first 1000 lines from the CSV file\n",
    "df_icu_stays = pd.read_csv('mimic/ICUSTAYS.csv')\n",
    "\n",
    "# Print the columns\n",
    "print(df_icu_stays.columns)"
   ]
  },
  {
   "cell_type": "code",
   "execution_count": 5,
   "metadata": {},
   "outputs": [],
   "source": [
    "# Convert INTIME and OUTTIME columns to datetime objects\n",
    "df_icu_stays['INTIME'] = pd.to_datetime(df_icu_stays['INTIME'])\n",
    "df_icu_stays['OUTTIME'] = pd.to_datetime(df_icu_stays['OUTTIME'])\n",
    "\n",
    "# Calculate the length of stay\n",
    "df_icu_stays['LOS'] = df_icu_stays['LOS'].dt.total_seconds() / 60"
   ]
  },
  {
   "cell_type": "code",
   "execution_count": 6,
   "metadata": {},
   "outputs": [
    {
     "data": {
      "image/png": "[encoded data removed]",
      "text/plain": [
       "<Figure size 640x480 with 1 Axes>"
      ]
     },
     "metadata": {},
     "output_type": "display_data"
    }
   ],
   "source": [
    "\n",
    "import matplotlib.pyplot as plt\n",
    "# Join df_patients and df_icu_stays on SUBJECT_ID\n",
    "merged_df = pd.merge(df_patients, df_icu_stays, on='SUBJECT_ID')\n",
    "\n",
    "# Filter the merged dataframe by expire_flag = 0\n",
    "filtered_df_0 = merged_df[merged_df['EXPIRE_FLAG'] == 0]\n",
    "\n",
    "# Calculate the average LOS for expire_flag = 0\n",
    "avg_los_0 = filtered_df_0['LOS'].mean()\n",
    "\n",
    "# Filter the merged dataframe by expire_flag = 1\n",
    "filtered_df_1 = merged_df[merged_df['EXPIRE_FLAG'] == 1]\n",
    "\n",
    "# Calculate the average LOS for expire_flag = 1\n",
    "avg_los_1 = filtered_df_1['LOS'].mean()\n",
    "\n",
    "\n",
    "# Data for the pie chart\n",
    "labels = ['Died', 'Alive']\n",
    "sizes = [avg_los_1, avg_los_0]\n",
    "colors = ['#1f77b4', '#ff7f0e']\n",
    "\n",
    "# Create the pie chart\n",
    "plt.pie(sizes, labels=labels, colors=colors, autopct='%1.1f%%', startangle=90)\n",
    "\n",
    "# Add a title\n",
    "plt.title('Average Length of Stay by Expire Flag')\n",
    "\n",
    "# Display the chart\n",
    "plt.show()"
   ]
  },
  {
   "cell_type": "code",
   "execution_count": 8,
   "metadata": {},
   "outputs": [
    {
     "name": "stdout",
     "output_type": "stream",
     "text": [
      "Index(['ROW_ID', 'ITEMID', 'LABEL', 'FLUID', 'CATEGORY', 'LOINC_CODE'], dtype='object')\n"
     ]
    },
    {
     "data": {
      "text/html": [
       "<div>\n",
       "<style scoped>\n",
       "    .dataframe tbody tr th:only-of-type {\n",
       "        vertical-align: middle;\n",
       "    }\n",
       "\n",
       "    .dataframe tbody tr th {\n",
       "        vertical-align: top;\n",
       "    }\n",
       "\n",
       "    .dataframe thead th {\n",
       "        text-align: right;\n",
       "    }\n",
       "</style>\n",
       "<table border=\"1\" class=\"dataframe\">\n",
       "  <thead>\n",
       "    <tr style=\"text-align: right;\">\n",
       "      <th></th>\n",
       "      <th>ROW_ID</th>\n",
       "      <th>ITEMID</th>\n",
       "      <th>LABEL</th>\n",
       "      <th>FLUID</th>\n",
       "      <th>CATEGORY</th>\n",
       "      <th>LOINC_CODE</th>\n",
       "    </tr>\n",
       "  </thead>\n",
       "  <tbody>\n",
       "    <tr>\n",
       "      <th>0</th>\n",
       "      <td>546</td>\n",
       "      <td>51346</td>\n",
       "      <td>Blasts</td>\n",
       "      <td>Cerebrospinal Fluid (CSF)</td>\n",
       "      <td>Hematology</td>\n",
       "      <td>26447-3</td>\n",
       "    </tr>\n",
       "    <tr>\n",
       "      <th>1</th>\n",
       "      <td>547</td>\n",
       "      <td>51347</td>\n",
       "      <td>Eosinophils</td>\n",
       "      <td>Cerebrospinal Fluid (CSF)</td>\n",
       "      <td>Hematology</td>\n",
       "      <td>26451-5</td>\n",
       "    </tr>\n",
       "    <tr>\n",
       "      <th>2</th>\n",
       "      <td>548</td>\n",
       "      <td>51348</td>\n",
       "      <td>Hematocrit, CSF</td>\n",
       "      <td>Cerebrospinal Fluid (CSF)</td>\n",
       "      <td>Hematology</td>\n",
       "      <td>30398-2</td>\n",
       "    </tr>\n",
       "    <tr>\n",
       "      <th>3</th>\n",
       "      <td>549</td>\n",
       "      <td>51349</td>\n",
       "      <td>Hypersegmented Neutrophils</td>\n",
       "      <td>Cerebrospinal Fluid (CSF)</td>\n",
       "      <td>Hematology</td>\n",
       "      <td>26506-6</td>\n",
       "    </tr>\n",
       "    <tr>\n",
       "      <th>4</th>\n",
       "      <td>550</td>\n",
       "      <td>51350</td>\n",
       "      <td>Immunophenotyping</td>\n",
       "      <td>Cerebrospinal Fluid (CSF)</td>\n",
       "      <td>Hematology</td>\n",
       "      <td>NaN</td>\n",
       "    </tr>\n",
       "  </tbody>\n",
       "</table>\n",
       "</div>"
      ],
      "text/plain": [
       "   ROW_ID  ITEMID                       LABEL                      FLUID  \\\n",
       "0     546   51346                      Blasts  Cerebrospinal Fluid (CSF)   \n",
       "1     547   51347                 Eosinophils  Cerebrospinal Fluid (CSF)   \n",
       "2     548   51348             Hematocrit, CSF  Cerebrospinal Fluid (CSF)   \n",
       "3     549   51349  Hypersegmented Neutrophils  Cerebrospinal Fluid (CSF)   \n",
       "4     550   51350           Immunophenotyping  Cerebrospinal Fluid (CSF)   \n",
       "\n",
       "     CATEGORY LOINC_CODE  \n",
       "0  Hematology    26447-3  \n",
       "1  Hematology    26451-5  \n",
       "2  Hematology    30398-2  \n",
       "3  Hematology    26506-6  \n",
       "4  Hematology        NaN  "
      ]
     },
     "execution_count": 8,
     "metadata": {},
     "output_type": "execute_result"
    }
   ],
   "source": [
    "import pandas as pd\n",
    "\n",
    "\n",
    "# Read only the first 1000 lines from the CSV file\n",
    "df_lab_items = pd.read_csv('mimic/D_LABITEMS.csv')\n",
    "\n",
    "# Print the columns\n",
    "print(df_lab_items.columns)\n",
    "df_lab_items.head()"
   ]
  },
  {
   "cell_type": "code",
   "execution_count": 10,
   "metadata": {},
   "outputs": [
    {
     "name": "stdout",
     "output_type": "stream",
     "text": [
      "Index(['ROW_ID', 'SUBJECT_ID', 'HADM_ID', 'ITEMID', 'CHARTTIME', 'VALUE',\n",
      "       'VALUENUM', 'VALUEUOM', 'FLAG'],\n",
      "      dtype='object')\n"
     ]
    },
    {
     "data": {
      "text/html": [
       "<div>\n",
       "<style scoped>\n",
       "    .dataframe tbody tr th:only-of-type {\n",
       "        vertical-align: middle;\n",
       "    }\n",
       "\n",
       "    .dataframe tbody tr th {\n",
       "        vertical-align: top;\n",
       "    }\n",
       "\n",
       "    .dataframe thead th {\n",
       "        text-align: right;\n",
       "    }\n",
       "</style>\n",
       "<table border=\"1\" class=\"dataframe\">\n",
       "  <thead>\n",
       "    <tr style=\"text-align: right;\">\n",
       "      <th></th>\n",
       "      <th>ROW_ID</th>\n",
       "      <th>SUBJECT_ID</th>\n",
       "      <th>HADM_ID</th>\n",
       "      <th>ITEMID</th>\n",
       "      <th>CHARTTIME</th>\n",
       "      <th>VALUE</th>\n",
       "      <th>VALUENUM</th>\n",
       "      <th>VALUEUOM</th>\n",
       "      <th>FLAG</th>\n",
       "    </tr>\n",
       "  </thead>\n",
       "  <tbody>\n",
       "    <tr>\n",
       "      <th>0</th>\n",
       "      <td>281</td>\n",
       "      <td>3</td>\n",
       "      <td>NaN</td>\n",
       "      <td>50820</td>\n",
       "      <td>2101-10-12 16:07:00</td>\n",
       "      <td>7.39</td>\n",
       "      <td>7.39</td>\n",
       "      <td>units</td>\n",
       "      <td>NaN</td>\n",
       "    </tr>\n",
       "    <tr>\n",
       "      <th>1</th>\n",
       "      <td>282</td>\n",
       "      <td>3</td>\n",
       "      <td>NaN</td>\n",
       "      <td>50800</td>\n",
       "      <td>2101-10-12 18:17:00</td>\n",
       "      <td>ART</td>\n",
       "      <td>NaN</td>\n",
       "      <td>NaN</td>\n",
       "      <td>NaN</td>\n",
       "    </tr>\n",
       "    <tr>\n",
       "      <th>2</th>\n",
       "      <td>283</td>\n",
       "      <td>3</td>\n",
       "      <td>NaN</td>\n",
       "      <td>50802</td>\n",
       "      <td>2101-10-12 18:17:00</td>\n",
       "      <td>-1</td>\n",
       "      <td>-1.00</td>\n",
       "      <td>mEq/L</td>\n",
       "      <td>NaN</td>\n",
       "    </tr>\n",
       "    <tr>\n",
       "      <th>3</th>\n",
       "      <td>284</td>\n",
       "      <td>3</td>\n",
       "      <td>NaN</td>\n",
       "      <td>50804</td>\n",
       "      <td>2101-10-12 18:17:00</td>\n",
       "      <td>22</td>\n",
       "      <td>22.00</td>\n",
       "      <td>mEq/L</td>\n",
       "      <td>NaN</td>\n",
       "    </tr>\n",
       "    <tr>\n",
       "      <th>4</th>\n",
       "      <td>285</td>\n",
       "      <td>3</td>\n",
       "      <td>NaN</td>\n",
       "      <td>50808</td>\n",
       "      <td>2101-10-12 18:17:00</td>\n",
       "      <td>0.93</td>\n",
       "      <td>0.93</td>\n",
       "      <td>mmol/L</td>\n",
       "      <td>abnormal</td>\n",
       "    </tr>\n",
       "  </tbody>\n",
       "</table>\n",
       "</div>"
      ],
      "text/plain": [
       "   ROW_ID  SUBJECT_ID  HADM_ID  ITEMID            CHARTTIME VALUE  VALUENUM  \\\n",
       "0     281           3      NaN   50820  2101-10-12 16:07:00  7.39      7.39   \n",
       "1     282           3      NaN   50800  2101-10-12 18:17:00   ART       NaN   \n",
       "2     283           3      NaN   50802  2101-10-12 18:17:00    -1     -1.00   \n",
       "3     284           3      NaN   50804  2101-10-12 18:17:00    22     22.00   \n",
       "4     285           3      NaN   50808  2101-10-12 18:17:00  0.93      0.93   \n",
       "\n",
       "  VALUEUOM      FLAG  \n",
       "0    units       NaN  \n",
       "1      NaN       NaN  \n",
       "2    mEq/L       NaN  \n",
       "3    mEq/L       NaN  \n",
       "4   mmol/L  abnormal  "
      ]
     },
     "execution_count": 10,
     "metadata": {},
     "output_type": "execute_result"
    }
   ],
   "source": [
    "import pandas as pd\n",
    "\n",
    "\n",
    "# Read only the first 1000 lines from the CSV file\n",
    "df_lab_events = pd.read_csv('mimic/LABEVENTS.csv', nrows=10000)\n",
    "\n",
    "# Print the columns\n",
    "print(df_lab_events.columns)\n",
    "df_lab_events.head()"
   ]
  },
  {
   "cell_type": "code",
   "execution_count": 13,
   "metadata": {},
   "outputs": [
    {
     "data": {
      "text/html": [
       "    <style>\n",
       "        .bk-notebook-logo {\n",
       "            display: block;\n",
       "            width: 20px;\n",
       "            height: 20px;\n",
       "            background-image: url(data:image/png;base64,iVBORw0KGgoAAAANSUhEUgAAABQAAAAUCAYAAACNiR0NAAAABHNCSVQICAgIfAhkiAAAAAlwSFlzAAALEgAACxIB0t1+/AAAABx0RVh0U29mdHdhcmUAQWRvYmUgRmlyZXdvcmtzIENTNui8sowAAAOkSURBVDiNjZRtaJVlGMd/1/08zzln5zjP1LWcU9N0NkN8m2CYjpgQYQXqSs0I84OLIC0hkEKoPtiH3gmKoiJDU7QpLgoLjLIQCpEsNJ1vqUOdO7ppbuec5+V+rj4ctwzd8IIbbi6u+8f1539dt3A78eXC7QizUF7gyV1fD1Yqg4JWz84yffhm0qkFqBogB9rM8tZdtwVsPUhWhGcFJngGeWrPzHm5oaMmkfEg1usvLFyc8jLRqDOMru7AyC8saQr7GG7f5fvDeH7Ej8CM66nIF+8yngt6HWaKh7k49Soy9nXurCi1o3qUbS3zWfrYeQDTB/Qj6kX6Ybhw4B+bOYoLKCC9H3Nu/leUTZ1JdRWkkn2ldcCamzrcf47KKXdAJllSlxAOkRgyHsGC/zRday5Qld9DyoM4/q/rUoy/CXh3jzOu3bHUVZeU+DEn8FInkPBFlu3+nW3Nw0mk6vCDiWg8CeJaxEwuHS3+z5RgY+YBR6V1Z1nxSOfoaPa4LASWxxdNp+VWTk7+4vzaou8v8PN+xo+KY2xsw6une2frhw05CTYOmQvsEhjhWjn0bmXPjpE1+kplmmkP3suftwTubK9Vq22qKmrBhpY4jvd5afdRA3wGjFAgcnTK2s4hY0/GPNIb0nErGMCRxWOOX64Z8RAC4oCXdklmEvcL8o0BfkNK4lUg9HTl+oPlQxdNo3Mg4Nv175e/1LDGzZen30MEjRUtmXSfiTVu1kK8W4txyV6BMKlbgk3lMwYCiusNy9fVfvvwMxv8Ynl6vxoByANLTWplvuj/nF9m2+PDtt1eiHPBr1oIfhCChQMBw6Aw0UulqTKZdfVvfG7VcfIqLG9bcldL/+pdWTLxLUy8Qq38heUIjh4XlzZxzQm19lLFlr8vdQ97rjZVOLf8nclzckbcD4wxXMidpX30sFd37Fv/GtwwhzhxGVAprjbg0gCAEeIgwCZyTV2Z1REEW8O4py0wsjeloKoMr6iCY6dP92H6Vw/oTyICIthibxjm/DfN9lVz8IqtqKYLUXfoKVMVQVVJOElGjrnnUt9T9wbgp8AyYKaGlqingHZU/uG2NTZSVqwHQTWkx9hxjkpWDaCg6Ckj5qebgBVbT3V3NNXMSiWSDdGV3hrtzla7J+duwPOToIg42ChPQOQjspnSlp1V+Gjdged7+8UN5CRAV7a5EdFNwCjEaBR27b3W890TE7g24NAP/mMDXRWrGoFPQI9ls/MWO2dWFAar/xcOIImbbpA3zgAAAABJRU5ErkJggg==);\n",
       "        }\n",
       "    </style>\n",
       "    <div>\n",
       "        <a href=\"https://bokeh.org\" target=\"_blank\" class=\"bk-notebook-logo\"></a>\n",
       "        <span id=\"eb3380b5-72ed-4bbc-b422-ab17a4f1f611\">Loading BokehJS ...</span>\n",
       "    </div>\n"
      ]
     },
     "metadata": {},
     "output_type": "display_data"
    },
    {
     "data": {
      "application/javascript": "'use strict';\n(function(root) {\n  function now() {\n    return new Date();\n  }\n\n  const force = true;\n\n  if (typeof root._bokeh_onload_callbacks === \"undefined\" || force === true) {\n    root._bokeh_onload_callbacks = [];\n    root._bokeh_is_loading = undefined;\n  }\n\nconst JS_MIME_TYPE = 'application/javascript';\n  const HTML_MIME_TYPE = 'text/html';\n  const EXEC_MIME_TYPE = 'application/vnd.bokehjs_exec.v0+json';\n  const CLASS_NAME = 'output_bokeh rendered_html';\n\n  /**\n   * Render data to the DOM node\n   */\n  function render(props, node) {\n    const script = document.createElement(\"script\");\n    node.appendChild(script);\n  }\n\n  /**\n   * Handle when an output is cleared or removed\n   */\n  function handleClearOutput(event, handle) {\n    function drop(id) {\n      const view = Bokeh.index.get_by_id(id)\n      if (view != null) {\n        view.model.document.clear()\n        Bokeh.index.delete(view)\n      }\n    }\n\n    const cell = handle.cell;\n\n    const id = cell.output_area._bokeh_element_id;\n    const server_id = cell.output_area._bokeh_server_id;\n\n    // Clean up Bokeh references\n    if (id != null) {\n      drop(id)\n    }\n\n    if (server_id !== undefined) {\n      // Clean up Bokeh references\n      const cmd_clean = \"from bokeh.io.state import curstate; print(curstate().uuid_to_server['\" + server_id + \"'].get_sessions()[0].document.roots[0]._id)\";\n      cell.notebook.kernel.execute(cmd_clean, {\n        iopub: {\n          output: function(msg) {\n            const id = msg.content.text.trim()\n            drop(id)\n          }\n        }\n      });\n      // Destroy server and session\n      const cmd_destroy = \"import bokeh.io.notebook as ion; ion.destroy_server('\" + server_id + \"')\";\n      cell.notebook.kernel.execute(cmd_destroy);\n    }\n  }\n\n  /**\n   * Handle when a new output is added\n   */\n  function handleAddOutput(event, handle) {\n    const output_area = handle.output_area;\n    const output = handle.output;\n\n    // limit handleAddOutput to display_data with EXEC_MIME_TYPE content only\n    if ((output.output_type != \"display_data\") || (!Object.prototype.hasOwnProperty.call(output.data, EXEC_MIME_TYPE))) {\n      return\n    }\n\n    const toinsert = output_area.element.find(\".\" + CLASS_NAME.split(' ')[0]);\n\n    if (output.metadata[EXEC_MIME_TYPE][\"id\"] !== undefined) {\n      toinsert[toinsert.length - 1].firstChild.textContent = output.data[JS_MIME_TYPE];\n      // store reference to embed id on output_area\n      output_area._bokeh_element_id = output.metadata[EXEC_MIME_TYPE][\"id\"];\n    }\n    if (output.metadata[EXEC_MIME_TYPE][\"server_id\"] !== undefined) {\n      const bk_div = document.createElement(\"div\");\n      bk_div.innerHTML = output.data[HTML_MIME_TYPE];\n      const script_attrs = bk_div.children[0].attributes;\n      for (let i = 0; i < script_attrs.length; i++) {\n        toinsert[toinsert.length - 1].firstChild.setAttribute(script_attrs[i].name, script_attrs[i].value);\n        toinsert[toinsert.length - 1].firstChild.textContent = bk_div.children[0].textContent\n      }\n      // store reference to server id on output_area\n      output_area._bokeh_server_id = output.metadata[EXEC_MIME_TYPE][\"server_id\"];\n    }\n  }\n\n  function register_renderer(events, OutputArea) {\n\n    function append_mime(data, metadata, element) {\n      // create a DOM node to render to\n      const toinsert = this.create_output_subarea(\n        metadata,\n        CLASS_NAME,\n        EXEC_MIME_TYPE\n      );\n      this.keyboard_manager.register_events(toinsert);\n      // Render to node\n      const props = {data: data, metadata: metadata[EXEC_MIME_TYPE]};\n      render(props, toinsert[toinsert.length - 1]);\n      element.append(toinsert);\n      return toinsert\n    }\n\n    /* Handle when an output is cleared or removed */\n    events.on('clear_output.CodeCell', handleClearOutput);\n    events.on('delete.Cell', handleClearOutput);\n\n    /* Handle when a new output is added */\n    events.on('output_added.OutputArea', handleAddOutput);\n\n    /**\n     * Register the mime type and append_mime function with output_area\n     */\n    OutputArea.prototype.register_mime_type(EXEC_MIME_TYPE, append_mime, {\n      /* Is output safe? */\n      safe: true,\n      /* Index of renderer in `output_area.display_order` */\n      index: 0\n    });\n  }\n\n  // register the mime type if in Jupyter Notebook environment and previously unregistered\n  if (root.Jupyter !== undefined) {\n    const events = require('base/js/events');\n    const OutputArea = require('notebook/js/outputarea').OutputArea;\n\n    if (OutputArea.prototype.mime_types().indexOf(EXEC_MIME_TYPE) == -1) {\n      register_renderer(events, OutputArea);\n    }\n  }\n  if (typeof (root._bokeh_timeout) === \"undefined\" || force === true) {\n    root._bokeh_timeout = Date.now() + 5000;\n    root._bokeh_failed_load = false;\n  }\n\n  const NB_LOAD_WARNING = {'data': {'text/html':\n     \"<div style='background-color: #fdd'>\\n\"+\n     \"<p>\\n\"+\n     \"BokehJS does not appear to have successfully loaded. If loading BokehJS from CDN, this \\n\"+\n     \"may be due to a slow or bad network connection. Possible fixes:\\n\"+\n     \"</p>\\n\"+\n     \"<ul>\\n\"+\n     \"<li>re-rerun `output_notebook()` to attempt to load from CDN again, or</li>\\n\"+\n     \"<li>use INLINE resources instead, as so:</li>\\n\"+\n     \"</ul>\\n\"+\n     \"<code>\\n\"+\n     \"from bokeh.resources import INLINE\\n\"+\n     \"output_notebook(resources=INLINE)\\n\"+\n     \"</code>\\n\"+\n     \"</div>\"}};\n\n  function display_loaded(error = null) {\n    const el = document.getElementById(\"eb3380b5-72ed-4bbc-b422-ab17a4f1f611\");\n    if (el != null) {\n      const html = (() => {\n        if (typeof root.Bokeh === \"undefined\") {\n          if (error == null) {\n            return \"BokehJS is loading ...\";\n          } else {\n            return \"BokehJS failed to load.\";\n          }\n        } else {\n          const prefix = `BokehJS ${root.Bokeh.version}`;\n          if (error == null) {\n            return `${prefix} successfully loaded.`;\n          } else {\n            return `${prefix} <b>encountered errors</b> while loading and may not function as expected.`;\n          }\n        }\n      })();\n      el.innerHTML = html;\n\n      if (error != null) {\n        const wrapper = document.createElement(\"div\");\n        wrapper.style.overflow = \"auto\";\n        wrapper.style.height = \"5em\";\n        wrapper.style.resize = \"vertical\";\n        const content = document.createElement(\"div\");\n        content.style.fontFamily = \"monospace\";\n        content.style.whiteSpace = \"pre-wrap\";\n        content.style.backgroundColor = \"rgb(255, 221, 221)\";\n        content.textContent = error.stack ?? error.toString();\n        wrapper.append(content);\n        el.append(wrapper);\n      }\n    } else if (Date.now() < root._bokeh_timeout) {\n      setTimeout(() => display_loaded(error), 100);\n    }\n  }\n\n  function run_callbacks() {\n    try {\n      root._bokeh_onload_callbacks.forEach(function(callback) {\n        if (callback != null)\n          callback();\n      });\n    } finally {\n      delete root._bokeh_onload_callbacks\n    }\n    console.debug(\"Bokeh: all callbacks have finished\");\n  }\n\n  function load_libs(css_urls, js_urls, callback) {\n    if (css_urls == null) css_urls = [];\n    if (js_urls == null) js_urls = [];\n\n    root._bokeh_onload_callbacks.push(callback);\n    if (root._bokeh_is_loading > 0) {\n      console.debug(\"Bokeh: BokehJS is being loaded, scheduling callback at\", now());\n      return null;\n    }\n    if (js_urls == null || js_urls.length === 0) {\n      run_callbacks();\n      return null;\n    }\n    console.debug(\"Bokeh: BokehJS not loaded, scheduling load and callback at\", now());\n    root._bokeh_is_loading = css_urls.length + js_urls.length;\n\n    function on_load() {\n      root._bokeh_is_loading--;\n      if (root._bokeh_is_loading === 0) {\n        console.debug(\"Bokeh: all BokehJS libraries/stylesheets loaded\");\n        run_callbacks()\n      }\n    }\n\n    function on_error(url) {\n      console.error(\"failed to load \" + url);\n    }\n\n    for (let i = 0; i < css_urls.length; i++) {\n      const url = css_urls[i];\n      const element = document.createElement(\"link\");\n      element.onload = on_load;\n      element.onerror = on_error.bind(null, url);\n      element.rel = \"stylesheet\";\n      element.type = \"text/css\";\n      element.href = url;\n      console.debug(\"Bokeh: injecting link tag for BokehJS stylesheet: \", url);\n      document.body.appendChild(element);\n    }\n\n    for (let i = 0; i < js_urls.length; i++) {\n      const url = js_urls[i];\n      const element = document.createElement('script');\n      element.onload = on_load;\n      element.onerror = on_error.bind(null, url);\n      element.async = false;\n      element.src = url;\n      console.debug(\"Bokeh: injecting script tag for BokehJS library: \", url);\n      document.head.appendChild(element);\n    }\n  };\n\n  function inject_raw_css(css) {\n    const element = document.createElement(\"style\");\n    element.appendChild(document.createTextNode(css));\n    document.body.appendChild(element);\n  }\n\n  const js_urls = [\"https://cdn.bokeh.org/bokeh/release/bokeh-3.4.1.min.js\", \"https://cdn.bokeh.org/bokeh/release/bokeh-gl-3.4.1.min.js\", \"https://cdn.bokeh.org/bokeh/release/bokeh-widgets-3.4.1.min.js\", \"https://cdn.bokeh.org/bokeh/release/bokeh-tables-3.4.1.min.js\", \"https://cdn.bokeh.org/bokeh/release/bokeh-mathjax-3.4.1.min.js\"];\n  const css_urls = [];\n\n  const inline_js = [    function(Bokeh) {\n      Bokeh.set_log_level(\"info\");\n    },\nfunction(Bokeh) {\n    }\n  ];\n\n  function run_inline_js() {\n    if (root.Bokeh !== undefined || force === true) {\n      try {\n            for (let i = 0; i < inline_js.length; i++) {\n      inline_js[i].call(root, root.Bokeh);\n    }\n\n      } catch (error) {display_loaded(error);throw error;\n      }if (force === true) {\n        display_loaded();\n      }} else if (Date.now() < root._bokeh_timeout) {\n      setTimeout(run_inline_js, 100);\n    } else if (!root._bokeh_failed_load) {\n      console.log(\"Bokeh: BokehJS failed to load within specified timeout.\");\n      root._bokeh_failed_load = true;\n    } else if (force !== true) {\n      const cell = $(document.getElementById(\"eb3380b5-72ed-4bbc-b422-ab17a4f1f611\")).parents('.cell').data().cell;\n      cell.output_area.append_execute_result(NB_LOAD_WARNING)\n    }\n  }\n\n  if (root._bokeh_is_loading === 0) {\n    console.debug(\"Bokeh: BokehJS loaded, going straight to plotting\");\n    run_inline_js();\n  } else {\n    load_libs(css_urls, js_urls, function() {\n      console.debug(\"Bokeh: BokehJS plotting callback run at\", now());\n      run_inline_js();\n    });\n  }\n}(window));",
      "application/vnd.bokehjs_load.v0+json": ""
     },
     "metadata": {},
     "output_type": "display_data"
    },
    {
     "data": {
      "text/html": [
       "\n",
       "  <div id=\"fabb713c-f9a7-4ebb-98dc-e771dfa0ed2d\" data-root-id=\"p1037\" style=\"display: contents;\"></div>\n"
      ]
     },
     "metadata": {},
     "output_type": "display_data"
    },
    {
     "data": {
      "application/javascript": "(function(root) {\n  function embed_document(root) {\n  const docs_json = {\"b4ff0e24-421b-45b2-bd23-c324e76fa098\":{\"version\":\"3.4.1\",\"title\":\"Bokeh Application\",\"roots\":[{\"type\":\"object\",\"name\":\"Figure\",\"id\":\"p1037\",\"attributes\":{\"width\":800,\"height\":400,\"x_range\":{\"type\":\"object\",\"name\":\"FactorRange\",\"id\":\"p1047\",\"attributes\":{\"factors\":[\"Glucose\",\"Hemoglobin\",\"Potassium\",\"Hematocrit\",\"pH\"]}},\"y_range\":{\"type\":\"object\",\"name\":\"DataRange1d\",\"id\":\"p1039\"},\"x_scale\":{\"type\":\"object\",\"name\":\"CategoricalScale\",\"id\":\"p1048\"},\"y_scale\":{\"type\":\"object\",\"name\":\"LinearScale\",\"id\":\"p1049\"},\"title\":{\"type\":\"object\",\"name\":\"Title\",\"id\":\"p1040\",\"attributes\":{\"text\":\"Top 5 Lab Tests for Expired Patients\"}},\"renderers\":[{\"type\":\"object\",\"name\":\"GlyphRenderer\",\"id\":\"p1066\",\"attributes\":{\"data_source\":{\"type\":\"object\",\"name\":\"ColumnDataSource\",\"id\":\"p1060\",\"attributes\":{\"selected\":{\"type\":\"object\",\"name\":\"Selection\",\"id\":\"p1061\",\"attributes\":{\"indices\":[],\"line_indices\":[]}},\"selection_policy\":{\"type\":\"object\",\"name\":\"UnionRenderers\",\"id\":\"p1062\"},\"data\":{\"type\":\"map\",\"entries\":[[\"x\",{\"type\":\"ndarray\",\"array\":[\"Glucose\",\"Hemoglobin\",\"Potassium\",\"Hematocrit\",\"pH\"],\"shape\":[5],\"dtype\":\"object\",\"order\":\"little\"}],[\"top\",{\"type\":\"ndarray\",\"array\":{\"type\":\"bytes\",\"data\":\"rAAAAJkAAACFAAAAgwAAAIIAAAA=\"},\"shape\":[5],\"dtype\":\"int32\",\"order\":\"little\"}],[\"line_color\",[\"#1f77b4\",\"#ff7f0e\",\"#2ca02c\",\"#d62728\",\"#9467bd\"]],[\"hatch_color\",[\"#1f77b4\",\"#ff7f0e\",\"#2ca02c\",\"#d62728\",\"#9467bd\"]],[\"fill_color\",[\"#1f77b4\",\"#ff7f0e\",\"#2ca02c\",\"#d62728\",\"#9467bd\"]]]}}},\"view\":{\"type\":\"object\",\"name\":\"CDSView\",\"id\":\"p1067\",\"attributes\":{\"filter\":{\"type\":\"object\",\"name\":\"AllIndices\",\"id\":\"p1068\"}}},\"glyph\":{\"type\":\"object\",\"name\":\"VBar\",\"id\":\"p1063\",\"attributes\":{\"x\":{\"type\":\"field\",\"field\":\"x\"},\"width\":{\"type\":\"value\",\"value\":0.9},\"top\":{\"type\":\"field\",\"field\":\"top\"},\"line_color\":{\"type\":\"field\",\"field\":\"line_color\"},\"fill_color\":{\"type\":\"field\",\"field\":\"fill_color\"},\"hatch_color\":{\"type\":\"field\",\"field\":\"hatch_color\"}}},\"nonselection_glyph\":{\"type\":\"object\",\"name\":\"VBar\",\"id\":\"p1064\",\"attributes\":{\"x\":{\"type\":\"field\",\"field\":\"x\"},\"width\":{\"type\":\"value\",\"value\":0.9},\"top\":{\"type\":\"field\",\"field\":\"top\"},\"line_color\":{\"type\":\"field\",\"field\":\"line_color\"},\"line_alpha\":{\"type\":\"value\",\"value\":0.1},\"fill_color\":{\"type\":\"field\",\"field\":\"fill_color\"},\"fill_alpha\":{\"type\":\"value\",\"value\":0.1},\"hatch_color\":{\"type\":\"field\",\"field\":\"hatch_color\"},\"hatch_alpha\":{\"type\":\"value\",\"value\":0.1}}},\"muted_glyph\":{\"type\":\"object\",\"name\":\"VBar\",\"id\":\"p1065\",\"attributes\":{\"x\":{\"type\":\"field\",\"field\":\"x\"},\"width\":{\"type\":\"value\",\"value\":0.9},\"top\":{\"type\":\"field\",\"field\":\"top\"},\"line_color\":{\"type\":\"field\",\"field\":\"line_color\"},\"line_alpha\":{\"type\":\"value\",\"value\":0.2},\"fill_color\":{\"type\":\"field\",\"field\":\"fill_color\"},\"fill_alpha\":{\"type\":\"value\",\"value\":0.2},\"hatch_color\":{\"type\":\"field\",\"field\":\"hatch_color\"},\"hatch_alpha\":{\"type\":\"value\",\"value\":0.2}}}}}],\"toolbar\":{\"type\":\"object\",\"name\":\"Toolbar\",\"id\":\"p1046\"},\"toolbar_location\":null,\"left\":[{\"type\":\"object\",\"name\":\"LinearAxis\",\"id\":\"p1055\",\"attributes\":{\"ticker\":{\"type\":\"object\",\"name\":\"BasicTicker\",\"id\":\"p1056\",\"attributes\":{\"mantissas\":[1,2,5]}},\"formatter\":{\"type\":\"object\",\"name\":\"BasicTickFormatter\",\"id\":\"p1057\"},\"axis_label\":\"Count\",\"major_label_policy\":{\"type\":\"object\",\"name\":\"AllLabels\",\"id\":\"p1058\"}}}],\"below\":[{\"type\":\"object\",\"name\":\"CategoricalAxis\",\"id\":\"p1050\",\"attributes\":{\"ticker\":{\"type\":\"object\",\"name\":\"CategoricalTicker\",\"id\":\"p1051\"},\"formatter\":{\"type\":\"object\",\"name\":\"CategoricalTickFormatter\",\"id\":\"p1052\"},\"axis_label\":\"Label\",\"major_label_orientation\":45,\"major_label_policy\":{\"type\":\"object\",\"name\":\"AllLabels\",\"id\":\"p1053\"}}}],\"center\":[{\"type\":\"object\",\"name\":\"Grid\",\"id\":\"p1054\",\"attributes\":{\"axis\":{\"id\":\"p1050\"}}},{\"type\":\"object\",\"name\":\"Grid\",\"id\":\"p1059\",\"attributes\":{\"dimension\":1,\"axis\":{\"id\":\"p1055\"}}}]}}]}};\n  const render_items = [{\"docid\":\"b4ff0e24-421b-45b2-bd23-c324e76fa098\",\"roots\":{\"p1037\":\"fabb713c-f9a7-4ebb-98dc-e771dfa0ed2d\"},\"root_ids\":[\"p1037\"]}];\n  void root.Bokeh.embed.embed_items_notebook(docs_json, render_items);\n  }\n  if (root.Bokeh !== undefined) {\n    embed_document(root);\n  } else {\n    let attempts = 0;\n    const timer = setInterval(function(root) {\n      if (root.Bokeh !== undefined) {\n        clearInterval(timer);\n        embed_document(root);\n      } else {\n        attempts++;\n        if (attempts > 100) {\n          clearInterval(timer);\n          console.log(\"Bokeh: ERROR: Unable to run BokehJS code because BokehJS library is missing\");\n        }\n      }\n    }, 10, root)\n  }\n})(window);",
      "application/vnd.bokehjs_exec.v0+json": ""
     },
     "metadata": {
      "application/vnd.bokehjs_exec.v0+json": {
       "id": "p1037"
      }
     },
     "output_type": "display_data"
    }
   ],
   "source": [
    "from bokeh.plotting import figure, show\n",
    "from bokeh.io import output_notebook\n",
    "from bokeh.palettes import Category10\n",
    "\n",
    "# Join df_lab_items and df_lab_events on ITEMID\n",
    "merged_df = pd.merge(df_lab_items, df_lab_events, on='ITEMID')\n",
    "\n",
    "# Join merged_df with df_patients on SUBJECT_ID and filter for patients with EXPIRE_FLAG = 1\n",
    "filtered_df = pd.merge(merged_df, df_patients[df_patients['EXPIRE_FLAG'] == 1], on='SUBJECT_ID')\n",
    "\n",
    "# Group the data by LABEL and count the occurrences\n",
    "grouped_df = filtered_df.groupby('LABEL').size().reset_index(name='count')\n",
    "\n",
    "# Sort the grouped dataframe by count in descending order\n",
    "sorted_df = grouped_df.sort_values('count', ascending=False)\n",
    "\n",
    "# Select the top 5 labels\n",
    "top_5_labels = sorted_df.head(5)\n",
    "\n",
    "# Create a Bokeh bar chart\n",
    "p = figure(x_range=top_5_labels['LABEL'], height=400, width=800, title='Top 5 Lab Tests for Expired Patients',\n",
    "           toolbar_location=None, tools='')\n",
    "\n",
    "# Add the bars to the chart\n",
    "p.vbar(x=top_5_labels['LABEL'], top=top_5_labels['count'], width=0.9, color=Category10[5])\n",
    "\n",
    "# Set the x-axis label\n",
    "p.xaxis.axis_label = 'Label'\n",
    "\n",
    "# Set the y-axis label\n",
    "p.yaxis.axis_label = 'Count'\n",
    "\n",
    "# Rotate the x-axis labels\n",
    "p.xaxis.major_label_orientation = 45\n",
    "\n",
    "# Show the chart\n",
    "output_notebook()\n",
    "show(p)"
   ]
  },
  {
   "cell_type": "code",
   "execution_count": 14,
   "metadata": {},
   "outputs": [
    {
     "name": "stdout",
     "output_type": "stream",
     "text": [
      "Index(['ROW_ID', 'SUBJECT_ID', 'HADM_ID', 'CHARTDATE', 'CHARTTIME',\n",
      "       'SPEC_ITEMID', 'SPEC_TYPE_DESC', 'ORG_ITEMID', 'ORG_NAME',\n",
      "       'ISOLATE_NUM', 'AB_ITEMID', 'AB_NAME', 'DILUTION_TEXT',\n",
      "       'DILUTION_COMPARISON', 'DILUTION_VALUE', 'INTERPRETATION'],\n",
      "      dtype='object')\n"
     ]
    },
    {
     "data": {
      "text/html": [
       "<div>\n",
       "<style scoped>\n",
       "    .dataframe tbody tr th:only-of-type {\n",
       "        vertical-align: middle;\n",
       "    }\n",
       "\n",
       "    .dataframe tbody tr th {\n",
       "        vertical-align: top;\n",
       "    }\n",
       "\n",
       "    .dataframe thead th {\n",
       "        text-align: right;\n",
       "    }\n",
       "</style>\n",
       "<table border=\"1\" class=\"dataframe\">\n",
       "  <thead>\n",
       "    <tr style=\"text-align: right;\">\n",
       "      <th></th>\n",
       "      <th>ROW_ID</th>\n",
       "      <th>SUBJECT_ID</th>\n",
       "      <th>HADM_ID</th>\n",
       "      <th>CHARTDATE</th>\n",
       "      <th>CHARTTIME</th>\n",
       "      <th>SPEC_ITEMID</th>\n",
       "      <th>SPEC_TYPE_DESC</th>\n",
       "      <th>ORG_ITEMID</th>\n",
       "      <th>ORG_NAME</th>\n",
       "      <th>ISOLATE_NUM</th>\n",
       "      <th>AB_ITEMID</th>\n",
       "      <th>AB_NAME</th>\n",
       "      <th>DILUTION_TEXT</th>\n",
       "      <th>DILUTION_COMPARISON</th>\n",
       "      <th>DILUTION_VALUE</th>\n",
       "      <th>INTERPRETATION</th>\n",
       "    </tr>\n",
       "  </thead>\n",
       "  <tbody>\n",
       "    <tr>\n",
       "      <th>0</th>\n",
       "      <td>744</td>\n",
       "      <td>96</td>\n",
       "      <td>170324</td>\n",
       "      <td>2156-04-13 00:00:00</td>\n",
       "      <td>2156-04-13 14:18:00</td>\n",
       "      <td>70021</td>\n",
       "      <td>BRONCHOALVEOLAR LAVAGE</td>\n",
       "      <td>80026.0</td>\n",
       "      <td>PSEUDOMONAS AERUGINOSA</td>\n",
       "      <td>1.0</td>\n",
       "      <td>NaN</td>\n",
       "      <td>NaN</td>\n",
       "      <td>NaN</td>\n",
       "      <td>NaN</td>\n",
       "      <td>NaN</td>\n",
       "      <td>NaN</td>\n",
       "    </tr>\n",
       "    <tr>\n",
       "      <th>1</th>\n",
       "      <td>745</td>\n",
       "      <td>96</td>\n",
       "      <td>170324</td>\n",
       "      <td>2156-04-20 00:00:00</td>\n",
       "      <td>2156-04-20 13:10:00</td>\n",
       "      <td>70062</td>\n",
       "      <td>SPUTUM</td>\n",
       "      <td>NaN</td>\n",
       "      <td>NaN</td>\n",
       "      <td>NaN</td>\n",
       "      <td>NaN</td>\n",
       "      <td>NaN</td>\n",
       "      <td>NaN</td>\n",
       "      <td>NaN</td>\n",
       "      <td>NaN</td>\n",
       "      <td>NaN</td>\n",
       "    </tr>\n",
       "    <tr>\n",
       "      <th>2</th>\n",
       "      <td>746</td>\n",
       "      <td>96</td>\n",
       "      <td>170324</td>\n",
       "      <td>2156-04-20 00:00:00</td>\n",
       "      <td>2156-04-20 16:00:00</td>\n",
       "      <td>70012</td>\n",
       "      <td>BLOOD CULTURE</td>\n",
       "      <td>NaN</td>\n",
       "      <td>NaN</td>\n",
       "      <td>NaN</td>\n",
       "      <td>NaN</td>\n",
       "      <td>NaN</td>\n",
       "      <td>NaN</td>\n",
       "      <td>NaN</td>\n",
       "      <td>NaN</td>\n",
       "      <td>NaN</td>\n",
       "    </tr>\n",
       "    <tr>\n",
       "      <th>3</th>\n",
       "      <td>747</td>\n",
       "      <td>96</td>\n",
       "      <td>170324</td>\n",
       "      <td>2156-04-20 00:00:00</td>\n",
       "      <td>NaN</td>\n",
       "      <td>70012</td>\n",
       "      <td>BLOOD CULTURE</td>\n",
       "      <td>NaN</td>\n",
       "      <td>NaN</td>\n",
       "      <td>NaN</td>\n",
       "      <td>NaN</td>\n",
       "      <td>NaN</td>\n",
       "      <td>NaN</td>\n",
       "      <td>NaN</td>\n",
       "      <td>NaN</td>\n",
       "      <td>NaN</td>\n",
       "    </tr>\n",
       "    <tr>\n",
       "      <th>4</th>\n",
       "      <td>748</td>\n",
       "      <td>96</td>\n",
       "      <td>170324</td>\n",
       "      <td>2156-04-20 00:00:00</td>\n",
       "      <td>NaN</td>\n",
       "      <td>70079</td>\n",
       "      <td>URINE</td>\n",
       "      <td>NaN</td>\n",
       "      <td>NaN</td>\n",
       "      <td>NaN</td>\n",
       "      <td>NaN</td>\n",
       "      <td>NaN</td>\n",
       "      <td>NaN</td>\n",
       "      <td>NaN</td>\n",
       "      <td>NaN</td>\n",
       "      <td>NaN</td>\n",
       "    </tr>\n",
       "  </tbody>\n",
       "</table>\n",
       "</div>"
      ],
      "text/plain": [
       "   ROW_ID  SUBJECT_ID  HADM_ID            CHARTDATE            CHARTTIME  \\\n",
       "0     744          96   170324  2156-04-13 00:00:00  2156-04-13 14:18:00   \n",
       "1     745          96   170324  2156-04-20 00:00:00  2156-04-20 13:10:00   \n",
       "2     746          96   170324  2156-04-20 00:00:00  2156-04-20 16:00:00   \n",
       "3     747          96   170324  2156-04-20 00:00:00                  NaN   \n",
       "4     748          96   170324  2156-04-20 00:00:00                  NaN   \n",
       "\n",
       "   SPEC_ITEMID          SPEC_TYPE_DESC  ORG_ITEMID                ORG_NAME  \\\n",
       "0        70021  BRONCHOALVEOLAR LAVAGE     80026.0  PSEUDOMONAS AERUGINOSA   \n",
       "1        70062                  SPUTUM         NaN                     NaN   \n",
       "2        70012           BLOOD CULTURE         NaN                     NaN   \n",
       "3        70012           BLOOD CULTURE         NaN                     NaN   \n",
       "4        70079                   URINE         NaN                     NaN   \n",
       "\n",
       "   ISOLATE_NUM  AB_ITEMID AB_NAME DILUTION_TEXT DILUTION_COMPARISON  \\\n",
       "0          1.0        NaN     NaN           NaN                 NaN   \n",
       "1          NaN        NaN     NaN           NaN                 NaN   \n",
       "2          NaN        NaN     NaN           NaN                 NaN   \n",
       "3          NaN        NaN     NaN           NaN                 NaN   \n",
       "4          NaN        NaN     NaN           NaN                 NaN   \n",
       "\n",
       "   DILUTION_VALUE INTERPRETATION  \n",
       "0             NaN            NaN  \n",
       "1             NaN            NaN  \n",
       "2             NaN            NaN  \n",
       "3             NaN            NaN  \n",
       "4             NaN            NaN  "
      ]
     },
     "execution_count": 14,
     "metadata": {},
     "output_type": "execute_result"
    }
   ],
   "source": [
    "import pandas as pd\n",
    "\n",
    "\n",
    "# Read only the first 1000 lines from the CSV file\n",
    "df_mb_events = pd.read_csv('mimic/MICROBIOLOGYEVENTS.csv', nrows=10000)\n",
    "\n",
    "# Print the columns\n",
    "print(df_mb_events.columns)\n",
    "df_mb_events.head()"
   ]
  },
  {
   "cell_type": "code",
   "execution_count": 32,
   "metadata": {},
   "outputs": [
    {
     "data": {
      "image/png": "[encoded data removed]",
      "text/plain": [
       "<Figure size 1000x600 with 1 Axes>"
      ]
     },
     "metadata": {},
     "output_type": "display_data"
    }
   ],
   "source": [
    "import pandas as pd\n",
    "import matplotlib.pyplot as plt\n",
    "import numpy as np\n",
    "\n",
    "# Join df_patients and df_mb_events on SUBJECT_ID\n",
    "merged_df = pd.merge(df_patients, df_mb_events, on='SUBJECT_ID')\n",
    "\n",
    "# Filter the grouped dataframe for the top 5 spec_type_desc\n",
    "top_5_spec_types = ['BRONCHOALVEOLAR LAVAGE', 'SPUTUM', 'BLOOD CULTURE', 'URINE', 'BLOOD CULTURE - NEONATE']\n",
    "top_5_grouped_df = merged_df[merged_df['SPEC_TYPE_DESC'].isin(top_5_spec_types)]\n",
    "\n",
    "# Group by SPEC_TYPE_DESC and EXPIRE_FLAG and count occurrences\n",
    "grouped = top_5_grouped_df.groupby(['SPEC_TYPE_DESC', 'EXPIRE_FLAG']).size().unstack(fill_value=0)\n",
    "\n",
    "# Plotting\n",
    "fig, ax = plt.subplots(figsize=(10, 6))\n",
    "\n",
    "# Define bar width and positions\n",
    "bar_width = 0.35\n",
    "index = np.arange(len(top_5_spec_types))\n",
    "\n",
    "# Bar positions\n",
    "bar1 = ax.bar(index - bar_width/2, grouped[0], bar_width, label='Alive', color='green')\n",
    "bar2 = ax.bar(index + bar_width/2, grouped[1], bar_width, label='Died', color='red')\n",
    "# Set bar color to red for expire_flag = 1 (Died)\n",
    "\n",
    "\n",
    "# Set bar color to green for expire_flag = 0 (Alive)\n",
    "\n",
    "# Set labels and title\n",
    "ax.set_xlabel('Spec Type Description')\n",
    "ax.set_ylabel('Count')\n",
    "ax.set_title('Microbiology Events by Expire Flag')\n",
    "ax.set_xticks(index)\n",
    "ax.set_xticklabels(top_5_spec_types)\n",
    "ax.legend()\n",
    "\n",
    "# Show the plot\n",
    "plt.xticks(rotation=45)\n",
    "plt.tight_layout()\n",
    "plt.show()\n"
   ]
  },
  {
   "cell_type": "code",
   "execution_count": null,
   "metadata": {},
   "outputs": [],
   "source": []
  }
 ],
 "metadata": {
  "kernelspec": {
   "display_name": "pytorch-rl",
   "language": "python",
   "name": "python3"
  },
  "language_info": {
   "codemirror_mode": {
    "name": "ipython",
    "version": 3
   },
   "file_extension": ".py",
   "mimetype": "text/x-python",
   "name": "python",
   "nbconvert_exporter": "python",
   "pygments_lexer": "ipython3",
   "version": "3.9.19"
  }
 },
 "nbformat": 4,
 "nbformat_minor": 2
}
