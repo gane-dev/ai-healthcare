{
 "cells": [
  {
   "cell_type": "markdown",
   "metadata": {},
   "source": [
    "\n",
    "# Self Learning Tutorial\n",
    "Vital signs: \n",
    "systolic blood pressure (SBP),\n",
    "mean arterial pressure (MAP), \n",
    "respiratory rate (RR), \n",
    "oxygen saturation (PulOx), \n",
    "heart rate (HR), \n",
    "temperature (Temp)\n",
    "\n",
    "Lab results: \n",
    "white blood cell count (WBC), \n",
    "bilirubin (Bili), \n",
    "blood urea nitrogen (BUN), \n",
    "lactate (Lac), \n",
    "creatinine (Creat), \n",
    "platelet count (Plat), \n",
    "neutrophils (Bands)\n",
    "\n",
    "Intervention: fraction of inspired Oxygen (FiO2)"
   ]
  },
  {
   "cell_type": "markdown",
   "metadata": {},
   "source": [
    "The CHARTEVENTS table in MIMIC III contains patient vitals. Key concepts related to vital signs can be identified by itemid. For example:​\n",
    "\n",
    "Systolic Blood Pressure (SBP): itemid = 220050 (ART BP Systolic)​\n",
    "\n",
    "Mean Arterial Pressure (MAP): itemid = 220052 (ART Mean BP)​\n",
    "\n",
    "Respiratory Rate (RR): itemid = 220210 (Respiratory Rate)​\n",
    "\n",
    "Oxygen Saturation (PulOx): itemid = 220277 (O2 saturation pulseoxymetry)​\n",
    "\n",
    "Heart Rate (HR): itemid = 220045 (Heart Rate)​\n",
    "\n",
    "Temperature (Temp): itemid = 223761 (Temperature Fahrenheit)"
   ]
  },
  {
   "cell_type": "code",
   "execution_count": 5,
   "metadata": {},
   "outputs": [],
   "source": [
    "# Get data from the CHARTEVENTS table in the MIMIC-III database\n",
    "dataset_labevents = 'mimic/LABEVENTS.csv'\n",
    "dataset_chartevents = 'mimic/CHARTEVENTS.csv'\n",
    "dataset_labitems = 'mimic/D_LABITEMS.csv'\n"
   ]
  },
  {
   "cell_type": "code",
   "execution_count": 6,
   "metadata": {},
   "outputs": [
    {
     "name": "stdout",
     "output_type": "stream",
     "text": [
      "       row_id  itemid                             label   abbreviation  \\\n",
      "11498   12712  220045                        Heart Rate             HR   \n",
      "11502   12716  220050  Arterial Blood Pressure systolic           ABPs   \n",
      "11504   12718  220052      Arterial Blood Pressure mean           ABPm   \n",
      "11524   12738  220210                  Respiratory Rate             RR   \n",
      "12355   12746  220277       O2 saturation pulseoxymetry           SpO2   \n",
      "12366   12757  223761            Temperature Fahrenheit  Temperature F   \n",
      "\n",
      "         dbsource      linksto             category  unitname param_type  \\\n",
      "11498  metavision  chartevents  Routine Vital Signs       bpm    Numeric   \n",
      "11502  metavision  chartevents  Routine Vital Signs      mmHg    Numeric   \n",
      "11504  metavision  chartevents  Routine Vital Signs      mmHg    Numeric   \n",
      "11524  metavision  chartevents          Respiratory  insp/min    Numeric   \n",
      "12355  metavision  chartevents          Respiratory         %    Numeric   \n",
      "12366  metavision  chartevents  Routine Vital Signs        ?F    Numeric   \n",
      "\n",
      "       conceptid  \n",
      "11498        NaN  \n",
      "11502        NaN  \n",
      "11504        NaN  \n",
      "11524        NaN  \n",
      "12355        NaN  \n",
      "12366        NaN  \n"
     ]
    }
   ],
   "source": [
    "# show the chart events\n",
    "import pandas as pd\n",
    "dataset_chartitems = 'mimic/D_ITEMS.csv'\n",
    "df_chartitems = pd.read_csv(dataset_chartitems)\n",
    "\n",
    "df_chartitems.columns = df_chartitems.columns.str.lower()\n",
    "result = df_chartitems.loc[df_chartitems['itemid'].isin([ 220050, 220052, 220210, 220277, 220045, 223761])]\n",
    "print(result)"
   ]
  },
  {
   "cell_type": "markdown",
   "metadata": {},
   "source": [
    "Lab Results:​\n",
    "\n",
    "The LABEVENTS table stores the laboratory measurements.​\n",
    "\n",
    "White Blood Cell Count (WBC): itemid = 51300 (White Blood Cells)​\n",
    "\n",
    "Bilirubin (Bili): itemid = 50885 (Bilirubin, Total)​\n",
    "\n",
    "Blood Urea Nitrogen (BUN): itemid = 51006 (Urea Nitrogen)​\n",
    "\n",
    "Lactate (Lac): itemid = 50813 (Lactate)​\n",
    "\n",
    "Creatinine (Creat): itemid = 50912 (Creatinine)​\n",
    "\n",
    "Platelet Count (Plat): itemid = 51265 (Platelets)​\n",
    "\n",
    "Neutrophils (Bands): itemid = 51146 (Bands - Neutrophils)"
   ]
  },
  {
   "cell_type": "code",
   "execution_count": 7,
   "metadata": {},
   "outputs": [
    {
     "name": "stdout",
     "output_type": "stream",
     "text": [
      "     row_id  itemid             label  fluid    category loinc_code\n",
      "140      14   50813           Lactate  Blood   Blood Gas    32693-4\n",
      "212      86   50885  Bilirubin, Total  Blood   Chemistry     1975-2\n",
      "239     113   50912        Creatinine  Blood   Chemistry     2160-0\n",
      "332     206   51006     Urea Nitrogen  Blood   Chemistry     3094-0\n",
      "472     346   51146         Basophils  Blood  Hematology      704-7\n",
      "591     465   51265    Platelet Count  Blood  Hematology      777-3\n",
      "626     500   51300         WBC Count  Blood  Hematology    26464-8\n"
     ]
    }
   ],
   "source": [
    "# show the lab items\n",
    "import pandas as pd\n",
    "df_labitems = pd.read_csv(dataset_labitems)\n",
    "\n",
    "df_labitems.columns = df_labitems.columns.str.lower()\n",
    "result = df_labitems.loc[df_labitems['itemid'].isin([51300, 50885, 51006, 50813, 50912, 51265, 51146])]\n",
    "print(result)\n"
   ]
  },
  {
   "cell_type": "markdown",
   "metadata": {},
   "source": [
    "Interventions:​\n",
    "\n",
    "The INPUTEVENTS_MV or INPUTEVENTS_CV table can be used to find oxygen administration values.​\n",
    "\n",
    "Fraction of Inspired Oxygen (FiO2): itemid = 223835 (FiO2 in the CHARTEVENTS table)"
   ]
  },
  {
   "cell_type": "code",
   "execution_count": 8,
   "metadata": {},
   "outputs": [
    {
     "name": "stdout",
     "output_type": "stream",
     "text": [
      "       row_id  itemid                 label abbreviation    dbsource  \\\n",
      "12413   12804  223835  Inspired O2 Fraction         FiO2  metavision   \n",
      "\n",
      "           linksto     category unitname param_type  conceptid  \n",
      "12413  chartevents  Respiratory      NaN    Numeric        NaN  \n"
     ]
    }
   ],
   "source": [
    "# show FiO2 item\n",
    "result = df_chartitems.loc[df_chartitems['itemid'].isin([223835])]\n",
    "print(result)\n"
   ]
  },
  {
   "cell_type": "markdown",
   "metadata": {},
   "source": [
    "ICD-9 Codes for Sepsis-Related Identification:\n",
    "To identify patients with sepsis and septic shock, ICD-9 codes are used in the DIAGNOSES_ICD table. Relevant codes include:\n",
    "\n",
    "Sepsis: 99591 (Sepsis), 99592 (Severe Sepsis)\n",
    "Septic Shock: 78552 (Septic Shock)"
   ]
  },
  {
   "cell_type": "code",
   "execution_count": 9,
   "metadata": {},
   "outputs": [
    {
     "name": "stdout",
     "output_type": "stream",
     "text": [
      "       row_id icd9_code    short_title     long_title\n",
      "10304   11403     99591         Sepsis         Sepsis\n",
      "10305   11404     99592  Severe sepsis  Severe sepsis\n",
      "13142   12991     78552   Septic shock   Septic shock\n"
     ]
    }
   ],
   "source": [
    "# Get data from DIAGNOSES_ICD table in the MIMIC-III database using ICD-9 codes for sepsis related identification\n",
    "dataset_icd9_code = 'mimic/D_ICD_DIAGNOSES.csv'\n",
    "df_icd9_code = pd.read_csv(dataset_icd9_code)\n",
    "\n",
    "df_icd9_code.columns = df_icd9_code.columns.str.lower()\n",
    "result = df_icd9_code.loc[df_icd9_code['icd9_code'].isin(['99591', '99592', '78552'])]\n",
    "print(result)"
   ]
  },
  {
   "cell_type": "markdown",
   "metadata": {},
   "source": [
    "Load chartevents in chunks to avoid overloading memory"
   ]
  },
  {
   "cell_type": "code",
   "execution_count": 10,
   "metadata": {},
   "outputs": [
    {
     "name": "stdout",
     "output_type": "stream",
     "text": [
      "   ROW_ID  SUBJECT_ID  HADM_ID  SEQ_NUM ICD9_CODE\n",
      "0    1297         109   172335      1.0     40301\n",
      "1    1298         109   172335      2.0       486\n",
      "2    1299         109   172335      3.0     58281\n",
      "3    1300         109   172335      4.0      5855\n",
      "4    1301         109   172335      5.0      4254\n"
     ]
    }
   ],
   "source": [
    "# This table contains the ICD-9 codes for the diagnoses of patients in the MIMIC-III database\n",
    "dataset_diagnoses = 'mimic/DIAGNOSES_ICD.csv'\n",
    "diagnoses_icd = pd.read_csv(dataset_diagnoses)\n",
    "print(diagnoses_icd.head())"
   ]
  },
  {
   "cell_type": "code",
   "execution_count": 11,
   "metadata": {},
   "outputs": [
    {
     "name": "stdout",
     "output_type": "stream",
     "text": [
      "SUBJECT_ID    651000\n",
      "HADM_ID       651000\n",
      "ICD9_CODE     651000\n",
      "dtype: int64\n"
     ]
    }
   ],
   "source": [
    "# Define the relevant itemids for vital signs and FiO2\n",
    "vital_signs_itemids = [220050, 220052, 220210, 220277, 220045, 223761]  # SBP, MAP, RR, PulOx, HR, Temp\n",
    "fio2_itemid = [223835]  # FiO2\n",
    "relevant_itemids = vital_signs_itemids + fio2_itemid\n",
    "\n",
    "# Load diagnoses to identify sepsis patients\n",
    "diagnoses_df = pd.read_csv(dataset_diagnoses, usecols=['SUBJECT_ID', 'HADM_ID', 'ICD9_CODE'])\n",
    "sepsis_icd9_codes = ['99591', '99592', '78552']  # Sepsis-related ICD-9 codes\n",
    "# drop rows with missing values\n",
    "diagnoses_df.dropna(inplace=True)\n",
    "print(diagnoses_df.count())\n",
    "# Create a set of hadm_ids for all patients for fast lookup\n",
    "all_hadm_ids = set(diagnoses_icd['HADM_ID'].unique())\n"
   ]
  },
  {
   "cell_type": "code",
   "execution_count": 12,
   "metadata": {},
   "outputs": [],
   "source": [
    "# save diagnoses_icd to a csv file\n",
    "diagnoses_df.to_csv('diagnoses.csv', index=False)"
   ]
  },
  {
   "cell_type": "code",
   "execution_count": 13,
   "metadata": {},
   "outputs": [
    {
     "name": "stdout",
     "output_type": "stream",
     "text": [
      "SUBJECT_ID    2297442\n",
      "HADM_ID       2297442\n",
      "ITEMID        2297442\n",
      "CHARTTIME     2297442\n",
      "VALUENUM      2297442\n",
      "dtype: int64\n"
     ]
    }
   ],
   "source": [
    "lab_results_itemids = [51300, 50885, 51006, 50813, 50912, 51265, 51146] # WBC, HCO3, PLATELET, PH, GLUCOSE, BUN, CREATININE\n",
    "labevents = pd.read_csv(dataset_labevents, usecols=['SUBJECT_ID', 'HADM_ID', 'CHARTTIME', 'ITEMID', 'VALUENUM'])\n",
    "labevents = labevents[labevents['ITEMID'].isin(lab_results_itemids) & labevents['HADM_ID'].isin(all_hadm_ids)]\n",
    "labevents.dropna(inplace=True)\n",
    "print(labevents.count())\n"
   ]
  },
  {
   "cell_type": "code",
   "execution_count": 14,
   "metadata": {},
   "outputs": [
    {
     "name": "stdout",
     "output_type": "stream",
     "text": [
      "     SUBJECT_ID   HADM_ID  ITEMID            CHARTTIME  VALUENUM\n",
      "166           3  145834.0   50912  2101-10-20 16:40:00       3.2\n",
      "177           3  145834.0   50885  2101-10-22 04:00:00       0.8\n",
      "180           3  145834.0   50912  2101-10-22 04:00:00       1.9\n",
      "187           3  145834.0   51006  2101-10-22 04:00:00      36.0\n",
      "189           3  145834.0   51146  2101-10-22 04:00:00       0.3\n"
     ]
    }
   ],
   "source": [
    "print(labevents.head())"
   ]
  },
  {
   "cell_type": "code",
   "execution_count": 15,
   "metadata": {},
   "outputs": [
    {
     "name": "stdout",
     "output_type": "stream",
     "text": [
      "ITEMID\n",
      "SUBJECT_ID    521799\n",
      "HADM_ID       521799\n",
      "YEAR          521799\n",
      "MONTH         521799\n",
      "DAY           521799\n",
      "50813         521799\n",
      "50885         521799\n",
      "50912         521799\n",
      "51006         521799\n",
      "51146         521799\n",
      "51265         521799\n",
      "51300         521799\n",
      "dtype: int64\n",
      "ITEMID  SUBJECT_ID   HADM_ID  YEAR  MONTH  DAY  50813  50885  50912  \\\n",
      "0                2  163353.0  2138      7   17  0.000    0.0    0.0   \n",
      "1                2  163353.0  2138      7   20  0.000    9.3    0.0   \n",
      "2                3  145834.0  2101     10   20  6.525    0.8    2.7   \n",
      "3                3  145834.0  2101     10   21  2.325    0.0    2.5   \n",
      "4                3  145834.0  2101     10   22  1.300    0.8    1.8   \n",
      "\n",
      "ITEMID      51006  51146       51265  51300  \n",
      "0        0.000000    0.0  153.500000    0.0  \n",
      "1        0.000000    0.0    0.000000    0.0  \n",
      "2       45.666667    0.0  241.666667    0.0  \n",
      "3       42.000000    0.0  289.000000    0.0  \n",
      "4       34.000000    0.3  179.000000    0.0  \n"
     ]
    }
   ],
   "source": [
    "# convert chartime to year, month, day\n",
    "labevents['CHARTTIME'] = pd.to_datetime(labevents['CHARTTIME'])\n",
    "labevents['YEAR'] = labevents['CHARTTIME'].dt.year\n",
    "labevents['MONTH'] = labevents['CHARTTIME'].dt.month\n",
    "labevents['DAY'] = labevents['CHARTTIME'].dt.day\n",
    "# pivot the labevents table\n",
    "labevents_pivot = labevents.pivot_table(index=['SUBJECT_ID', 'HADM_ID', 'YEAR','MONTH','DAY'], columns='ITEMID', values='VALUENUM')\n",
    "labevents_pivot.reset_index(inplace=True)\n",
    "# fill NaN values with 0\n",
    "labevents_pivot.fillna(0, inplace=True)\n",
    "print(labevents_pivot.count())\n",
    "print(labevents_pivot.head())"
   ]
  },
  {
   "cell_type": "code",
   "execution_count": 16,
   "metadata": {},
   "outputs": [],
   "source": [
    "# save labevents to a csv file\n",
    "labevents.to_csv('labevents_pivot.csv', index=False)"
   ]
  },
  {
   "cell_type": "code",
   "execution_count": 26,
   "metadata": {},
   "outputs": [],
   "source": [
    "# Initialize an empty list to store filtered data\n",
    "filtered_chartevents = []\n",
    "\n",
    "# Define the chunk size (number of rows to read at a time)\n",
    "chunk_size = 100000  # 100k rows per chunk\n",
    "\n",
    "# Read CHARTEVENTS in chunks\n",
    "chartevents_chunks = pd.read_csv(dataset_chartevents, usecols=['SUBJECT_ID', 'HADM_ID', 'CHARTTIME', 'ITEMID', 'VALUENUM'], chunksize=chunk_size)\n",
    "\n",
    "# Process each chunk\n",
    "for filtered_chunk in chartevents_chunks:\n",
    "    # Filter the chunk based on relevant itemid and sepsis patients' hadm_id\n",
    "    filtered_chunk = filtered_chunk[(filtered_chunk['ITEMID'].isin(relevant_itemids)) & (filtered_chunk['HADM_ID'].isin(all_hadm_ids))]\n",
    "    filtered_chunk.dropna(subset=['CHARTTIME'], inplace=True)\n",
    "    # pivot the filtered_chunk\n",
    "     # Use .loc to avoid SettingWithCopyWarning\n",
    "    filtered_chunk['CHARTTIME'] = pd.to_datetime(filtered_chunk['CHARTTIME'])\n",
    "    # drop NaT values for chartime\n",
    "    \n",
    "    filtered_chunk['YEAR'] = filtered_chunk['CHARTTIME'].dt.year\n",
    "    filtered_chunk['MONTH'] = filtered_chunk['CHARTTIME'].dt.month\n",
    "    filtered_chunk['DAY'] = filtered_chunk['CHARTTIME'].dt.day\n",
    "    \n",
    "    # drop CHARTTIME column\n",
    "    filtered_chunk.drop(columns=['CHARTTIME'], inplace=True)\n",
    "    filtered_chunk_pivot = filtered_chunk.pivot_table(index=['SUBJECT_ID', 'HADM_ID', 'YEAR', 'MONTH', 'DAY'], columns='ITEMID', values='VALUENUM')\n",
    "    filtered_chunk_pivot.reset_index(inplace=True)\n",
    "    # fill NaN values with 0\n",
    "    filtered_chunk_pivot.fillna(0, inplace=True)\n",
    "    # Append the filtered data to the list\n",
    "    filtered_chartevents.append(filtered_chunk_pivot)\n",
    "    \n",
    "    \n",
    "\n",
    "# Concatenate all the filtered chunks into a single DataFrame\n",
    "filtered_chartevents_df = pd.concat(filtered_chartevents, ignore_index=True)\n"
   ]
  },
  {
   "cell_type": "code",
   "execution_count": 27,
   "metadata": {},
   "outputs": [
    {
     "name": "stdout",
     "output_type": "stream",
     "text": [
      "ITEMID\n",
      "SUBJECT_ID    185724\n",
      "HADM_ID       185724\n",
      "YEAR          185724\n",
      "MONTH         185724\n",
      "DAY           185724\n",
      "220045        185724\n",
      "220050        185715\n",
      "220052        185715\n",
      "220210        185724\n",
      "220277        185724\n",
      "223761        185724\n",
      "223835        185724\n",
      "dtype: int64\n",
      "ITEMID  SUBJECT_ID  HADM_ID  YEAR  MONTH  DAY     220045      220050  \\\n",
      "0               23   124321  2157     10   21  74.941176  128.750000   \n",
      "1               23   124321  2157     10   22  78.263158  129.777778   \n",
      "2               34   144319  2191      2   23  54.047619    0.000000   \n",
      "3               34   144319  2191      2   24  58.250000    0.000000   \n",
      "4               36   165660  2134      5   12  84.526316    0.000000   \n",
      "\n",
      "ITEMID     220052     220210     220277  223761     223835  \n",
      "0       93.200000  16.312500  99.125000   96.60   0.000000  \n",
      "1       84.666667  17.789474  97.263158   97.90   0.000000  \n",
      "2        0.000000  16.952381  96.315789   97.00  60.000000  \n",
      "3        0.000000  17.687500  95.285714   97.75   0.000000  \n",
      "4        0.000000  18.894737  93.315789   98.45  86.666667  \n"
     ]
    }
   ],
   "source": [
    "print(filtered_chartevents_df.count())\n",
    "print(filtered_chartevents_df.head())   \n"
   ]
  },
  {
   "cell_type": "code",
   "execution_count": 28,
   "metadata": {},
   "outputs": [],
   "source": [
    "# write the filtered data to a CSV file\n",
    "filtered_chartevents_df.to_csv('filtered_chartevents.csv', index=False)"
   ]
  },
  {
   "cell_type": "code",
   "execution_count": 9,
   "metadata": {},
   "outputs": [],
   "source": [
    "# Load the filtered data csv files and merge them using subject id and hadm id\n",
    "import pandas as pd\n",
    "filtered_chartevents_df = pd.read_csv('filtered_chartevents.csv')\n",
    "labevents_pivot = pd.read_csv('labevents_pivot.csv')\n",
    "diagnoses_df = pd.read_csv('diagnoses.csv')\n"
   ]
  },
  {
   "cell_type": "code",
   "execution_count": 29,
   "metadata": {},
   "outputs": [
    {
     "name": "stdout",
     "output_type": "stream",
     "text": [
      "ITEMID  SUBJECT_ID  HADM_ID  YEAR  MONTH  DAY     220045      220050  \\\n",
      "0               23   124321  2157     10   21  74.941176  128.750000   \n",
      "1               23   124321  2157     10   22  78.263158  129.777778   \n",
      "2               34   144319  2191      2   23  54.047619    0.000000   \n",
      "3               34   144319  2191      2   24  58.250000    0.000000   \n",
      "4               36   165660  2134      5   12  84.526316    0.000000   \n",
      "\n",
      "ITEMID     220052     220210     220277  223761     223835  \n",
      "0       93.200000  16.312500  99.125000   96.60   0.000000  \n",
      "1       84.666667  17.789474  97.263158   97.90   0.000000  \n",
      "2        0.000000  16.952381  96.315789   97.00  60.000000  \n",
      "3        0.000000  17.687500  95.285714   97.75   0.000000  \n",
      "4        0.000000  18.894737  93.315789   98.45  86.666667  \n",
      "ITEMID  SUBJECT_ID   HADM_ID  YEAR  MONTH  DAY  50813  50885  50912  \\\n",
      "0                2  163353.0  2138      7   17  0.000    0.0    0.0   \n",
      "1                2  163353.0  2138      7   20  0.000    9.3    0.0   \n",
      "2                3  145834.0  2101     10   20  6.525    0.8    2.7   \n",
      "3                3  145834.0  2101     10   21  2.325    0.0    2.5   \n",
      "4                3  145834.0  2101     10   22  1.300    0.8    1.8   \n",
      "\n",
      "ITEMID      51006  51146       51265  51300  \n",
      "0        0.000000    0.0  153.500000    0.0  \n",
      "1        0.000000    0.0    0.000000    0.0  \n",
      "2       45.666667    0.0  241.666667    0.0  \n",
      "3       42.000000    0.0  289.000000    0.0  \n",
      "4       34.000000    0.3  179.000000    0.0  \n",
      "   SUBJECT_ID  HADM_ID ICD9_CODE\n",
      "0         109   172335     40301\n",
      "1         109   172335       486\n",
      "2         109   172335     58281\n",
      "3         109   172335      5855\n",
      "4         109   172335      4254\n"
     ]
    }
   ],
   "source": [
    "print(filtered_chartevents_df.head())\n",
    "print(labevents_pivot.head())\n",
    "print(diagnoses_df.head())\n"
   ]
  },
  {
   "cell_type": "code",
   "execution_count": 11,
   "metadata": {},
   "outputs": [
    {
     "name": "stdout",
     "output_type": "stream",
     "text": [
      "SUBJECT_ID    3140715\n",
      "HADM_ID       3140715\n",
      "CHARTTIME     3140715\n",
      "220045        3140715\n",
      "220050        3135367\n",
      "220052        3135367\n",
      "220210        3140715\n",
      "220277        3140715\n",
      "223761        3140715\n",
      "223835        3140715\n",
      "dtype: int64\n",
      "SUBJECT_ID    2297442\n",
      "HADM_ID       2297442\n",
      "ITEMID        2297442\n",
      "CHARTTIME     2297442\n",
      "VALUENUM      2297442\n",
      "dtype: int64\n",
      "SUBJECT_ID    651000\n",
      "HADM_ID       651000\n",
      "ICD9_CODE     651000\n",
      "dtype: int64\n"
     ]
    }
   ],
   "source": [
    "# counts\n",
    "print(filtered_chartevents_df.count())\n",
    "print(labevents_pivot.count())\n",
    "print(diagnoses_df.count())"
   ]
  },
  {
   "cell_type": "code",
   "execution_count": 36,
   "metadata": {},
   "outputs": [
    {
     "name": "stdout",
     "output_type": "stream",
     "text": [
      "   SUBJECT_ID  HADM_ID ICD9_CODE  SEPSIS\n",
      "0         109   172335     40301       0\n",
      "1         109   172335       486       0\n",
      "2         109   172335     58281       0\n",
      "3         109   172335      5855       0\n",
      "4         109   172335      4254       0\n",
      "SEPSIS\n",
      "0    643230\n",
      "1      7770\n",
      "Name: count, dtype: int64\n",
      "651000\n"
     ]
    }
   ],
   "source": [
    "diagnoses_df = pd.read_csv('diagnoses.csv')\n",
    "# add sepsis label to the diagnoses_df\n",
    "sepsis_icd9_codes = ['99591', '99592', '78552']  # Sepsis-related ICD-9 codes\n",
    "diagnoses_df['SEPSIS'] = diagnoses_df['ICD9_CODE'].isin(sepsis_icd9_codes).astype(int)\n",
    "print(diagnoses_df.head())\n",
    "print(diagnoses_df['SEPSIS'].value_counts())\n",
    "print(diagnoses_df['SEPSIS'].count())"
   ]
  },
  {
   "cell_type": "code",
   "execution_count": 37,
   "metadata": {},
   "outputs": [
    {
     "name": "stdout",
     "output_type": "stream",
     "text": [
      "SUBJECT_ID    64254\n",
      "HADM_ID       64254\n",
      "SEPSIS        64254\n",
      "dtype: int64\n"
     ]
    }
   ],
   "source": [
    "# drop icd9_code column\n",
    "diagnoses_df.drop(columns=['ICD9_CODE'], inplace=True)\n",
    "# remove duplicates\n",
    "diagnoses_df.drop_duplicates(inplace=True)\n",
    "print(diagnoses_df.count())\n",
    "\n"
   ]
  },
  {
   "cell_type": "code",
   "execution_count": 38,
   "metadata": {},
   "outputs": [
    {
     "name": "stdout",
     "output_type": "stream",
     "text": [
      "SEPSIS\n",
      "0    58929\n",
      "1     5325\n",
      "Name: count, dtype: int64\n",
      "64254\n"
     ]
    }
   ],
   "source": [
    "print(diagnoses_df['SEPSIS'].value_counts())\n",
    "print(diagnoses_df['SEPSIS'].count())"
   ]
  },
  {
   "cell_type": "code",
   "execution_count": 40,
   "metadata": {},
   "outputs": [
    {
     "name": "stdout",
     "output_type": "stream",
     "text": [
      "   SUBJECT_ID  HADM_ID  YEAR  MONTH  DAY     220045      220050     220052  \\\n",
      "0          23   124321  2157     10   21  74.941176  128.750000  93.200000   \n",
      "1          23   124321  2157     10   22  78.263158  129.777778  84.666667   \n",
      "2          34   144319  2191      2   23  54.047619    0.000000   0.000000   \n",
      "3          34   144319  2191      2   24  58.250000    0.000000   0.000000   \n",
      "4          36   165660  2134      5   12  84.526316    0.000000   0.000000   \n",
      "\n",
      "      220210     220277  223761     223835  SEPSIS  \n",
      "0  16.312500  99.125000   96.60   0.000000       0  \n",
      "1  17.789474  97.263158   97.90   0.000000       0  \n",
      "2  16.952381  96.315789   97.00  60.000000       0  \n",
      "3  17.687500  95.285714   97.75   0.000000       0  \n",
      "4  18.894737  93.315789   98.45  86.666667       0  \n",
      "SUBJECT_ID    228562\n",
      "HADM_ID       228562\n",
      "YEAR          228562\n",
      "MONTH         228562\n",
      "DAY           228562\n",
      "220045        228562\n",
      "220050        228546\n",
      "220052        228546\n",
      "220210        228562\n",
      "220277        228562\n",
      "223761        228562\n",
      "223835        228562\n",
      "SEPSIS        228562\n",
      "dtype: int64\n"
     ]
    }
   ],
   "source": [
    "# Merge the filtered chartevents and diagnoses dataframes\n",
    "# do it in chunks because of memory issues\n",
    "# Define chunk size (e.g., process 100,000 rows at a time)\n",
    "chunk_size = 100000\n",
    "chunks = []\n",
    "\n",
    "# Process the large DataFrame in chunks\n",
    "for chunk in pd.read_csv('filtered_chartevents.csv', chunksize=chunk_size):  # assuming large_df is read from a CSV\n",
    "    # Merge the chunk with the smaller DataFrame\n",
    "    merged_chunk = chunk.merge(diagnoses_df, on=['SUBJECT_ID','HADM_ID'], how='inner')\n",
    "    # Append the result to the list\n",
    "    chunks.append(merged_chunk)\n",
    "\n",
    "# Concatenate all chunks into a single| DataFrame\n",
    "chart_merged_df = pd.concat(chunks, ignore_index=True)\n",
    "\n",
    "print(chart_merged_df.head())\n",
    "print(chart_merged_df.count())\n",
    "\n"
   ]
  },
  {
   "cell_type": "code",
   "execution_count": 41,
   "metadata": {},
   "outputs": [
    {
     "name": "stdout",
     "output_type": "stream",
     "text": [
      "   SUBJECT_ID   HADM_ID  YEAR  MONTH  DAY  50813  50885  50912      51006  \\\n",
      "0           2  163353.0  2138      7   17  0.000    0.0    0.0   0.000000   \n",
      "1           2  163353.0  2138      7   20  0.000    9.3    0.0   0.000000   \n",
      "2           3  145834.0  2101     10   20  6.525    0.8    2.7  45.666667   \n",
      "3           3  145834.0  2101     10   21  2.325    0.0    2.5  42.000000   \n",
      "4           3  145834.0  2101     10   22  1.300    0.8    1.8  34.000000   \n",
      "\n",
      "   51146       51265  51300  SEPSIS  \n",
      "0    0.0  153.500000    0.0       0  \n",
      "1    0.0    0.000000    0.0       0  \n",
      "2    0.0  241.666667    0.0       0  \n",
      "3    0.0  289.000000    0.0       0  \n",
      "4    0.3  179.000000    0.0       0  \n",
      "SUBJECT_ID    601810\n",
      "HADM_ID       601810\n",
      "YEAR          601810\n",
      "MONTH         601810\n",
      "DAY           601810\n",
      "50813         601810\n",
      "50885         601810\n",
      "50912         601810\n",
      "51006         601810\n",
      "51146         601810\n",
      "51265         601810\n",
      "51300         601810\n",
      "SEPSIS        601810\n",
      "dtype: int64\n"
     ]
    }
   ],
   "source": [
    "\n",
    "\n",
    "# merge labevents_pivot with diagnoses_df\n",
    "labevents_merged_df = labevents_pivot.merge(diagnoses_df, on=['SUBJECT_ID','HADM_ID'], how='inner')\n",
    "print(labevents_merged_df.head())\n",
    "print(labevents_merged_df.count())"
   ]
  },
  {
   "cell_type": "code",
   "execution_count": 43,
   "metadata": {},
   "outputs": [
    {
     "name": "stdout",
     "output_type": "stream",
     "text": [
      "   SUBJECT_ID   HADM_ID  YEAR  MONTH  DAY     50813  50885  50912  51006  \\\n",
      "0          23  124321.0  2157     10   21  3.700000    0.0   0.70   16.0   \n",
      "1          23  124321.0  2157     10   22  0.000000    0.0   0.70   14.0   \n",
      "2          34  144319.0  2191      2   23  1.700000    0.0   1.65   37.0   \n",
      "3          34  144319.0  2191      2   24  0.000000    0.0   1.40   30.0   \n",
      "4          36  165660.0  2134      5   12  0.866667    0.0   0.95   19.5   \n",
      "\n",
      "   51146  ...  51300  SEPSIS_x     220045      220050     220052     220210  \\\n",
      "0    0.0  ...    0.0         0  74.941176  128.750000  93.200000  16.312500   \n",
      "1    0.0  ...    0.0         0  78.263158  129.777778  84.666667  17.789474   \n",
      "2    0.8  ...    0.0         0  54.047619    0.000000   0.000000  16.952381   \n",
      "3    0.0  ...    0.0         0  58.250000    0.000000   0.000000  17.687500   \n",
      "4    0.0  ...    0.0         0  84.526316    0.000000   0.000000  18.894737   \n",
      "\n",
      "      220277  223761     223835  SEPSIS_y  \n",
      "0  99.125000   96.60   0.000000         0  \n",
      "1  97.263158   97.90   0.000000         0  \n",
      "2  96.315789   97.00  60.000000         0  \n",
      "3  95.285714   97.75   0.000000         0  \n",
      "4  93.315789   98.45  86.666667         0  \n",
      "\n",
      "[5 rows x 21 columns]\n",
      "SUBJECT_ID    306511\n",
      "HADM_ID       306511\n",
      "YEAR          306511\n",
      "MONTH         306511\n",
      "DAY           306511\n",
      "50813         306511\n",
      "50885         306511\n",
      "50912         306511\n",
      "51006         306511\n",
      "51146         306511\n",
      "51265         306511\n",
      "51300         306511\n",
      "SEPSIS_x      306511\n",
      "220045        306511\n",
      "220050        306481\n",
      "220052        306481\n",
      "220210        306511\n",
      "220277        306511\n",
      "223761        306511\n",
      "223835        306511\n",
      "SEPSIS_y      306511\n",
      "dtype: int64\n"
     ]
    }
   ],
   "source": [
    "# combine labevents_merged_df and chart_merged_df\n",
    "combined_df = labevents_merged_df.merge(chart_merged_df, on=['SUBJECT_ID','HADM_ID', 'YEAR', 'MONTH', 'DAY'], how='inner')\n",
    "print(combined_df.head())\n",
    "print(combined_df.count())\n"
   ]
  },
  {
   "cell_type": "code",
   "execution_count": 44,
   "metadata": {},
   "outputs": [
    {
     "data": {
      "text/plain": [
       "Index(['SUBJECT_ID',    'HADM_ID',       'YEAR',      'MONTH',        'DAY',\n",
       "              50813,        50885,        50912,        51006,        51146,\n",
       "              51265,        51300,   'SEPSIS_x',     '220045',     '220050',\n",
       "           '220052',     '220210',     '220277',     '223761',     '223835',\n",
       "         'SEPSIS_y'],\n",
       "      dtype='object')"
      ]
     },
     "execution_count": 44,
     "metadata": {},
     "output_type": "execute_result"
    }
   ],
   "source": [
    "combined_df.columns"
   ]
  },
  {
   "cell_type": "code",
   "execution_count": 45,
   "metadata": {},
   "outputs": [
    {
     "name": "stdout",
     "output_type": "stream",
     "text": [
      "SEPSIS\n",
      "0    180631\n",
      "1    125880\n",
      "Name: count, dtype: int64\n",
      "306511\n"
     ]
    }
   ],
   "source": [
    "# add sepsis_x and sepsis_y columns\n",
    "combined_df['SEPSIS'] = combined_df['SEPSIS_x'] | combined_df['SEPSIS_y']\n",
    "print(combined_df['SEPSIS'].value_counts())\n",
    "print(combined_df['SEPSIS'].count())"
   ]
  },
  {
   "cell_type": "code",
   "execution_count": 48,
   "metadata": {},
   "outputs": [
    {
     "name": "stdout",
     "output_type": "stream",
     "text": [
      "SUBJECT_ID    0\n",
      "HADM_ID       0\n",
      "YEAR          0\n",
      "MONTH         0\n",
      "DAY           0\n",
      "50813         0\n",
      "50885         0\n",
      "50912         0\n",
      "51006         0\n",
      "51146         0\n",
      "51265         0\n",
      "51300         0\n",
      "220045        0\n",
      "220050        0\n",
      "220052        0\n",
      "220210        0\n",
      "220277        0\n",
      "223761        0\n",
      "223835        0\n",
      "SEPSIS        0\n",
      "dtype: int64\n"
     ]
    }
   ],
   "source": [
    "# drop the sepsis_x and sepsis_y columns\n",
    "combined_df.drop(columns=['SEPSIS_x', 'SEPSIS_y'], inplace=True)\n",
    "# fill NaN values with 0\n",
    "combined_df.fillna(0, inplace=True)\n",
    "# find count of empty values in the combined data\n",
    "print(combined_df.isnull().sum())"
   ]
  },
  {
   "cell_type": "code",
   "execution_count": 49,
   "metadata": {},
   "outputs": [],
   "source": [
    "# write the combined data to a CSV file\n",
    "combined_df.to_csv('combined_data_with_labels.csv', index=False)  "
   ]
  },
  {
   "cell_type": "code",
   "execution_count": 53,
   "metadata": {},
   "outputs": [
    {
     "data": {
      "text/plain": [
       "Index(['SUBJECT_ID',    'HADM_ID',       'YEAR',      'MONTH',        'DAY',\n",
       "              50813,        50885,        50912,        51006,        51146,\n",
       "              51265,        51300,     '220045',     '220050',     '220052',\n",
       "           '220210',     '220277',     '223761',     '223835',     'SEPSIS'],\n",
       "      dtype='object')"
      ]
     },
     "execution_count": 53,
     "metadata": {},
     "output_type": "execute_result"
    }
   ],
   "source": [
    "combined_df.columns"
   ]
  },
  {
   "cell_type": "markdown",
   "metadata": {},
   "source": [
    "Steps to Prepare the Dataset\n",
    " - Sort and Organize by Time: Ensure that the dataset is sorted by SUBJECT_ID, HADM_ID, and date columns (YEAR, MONTH, DAY) to maintain the time order for each patient.\n",
    "\n",
    "- Sequence Creation: Decide on the length of each sequence (e.g., last 30 days of records per patient). LSTMs require sequences of fixed length, so you may want to pad shorter sequences or truncate longer ones.\n",
    "\n",
    "Feature Selection and Scaling:\n",
    "\n",
    "- Select the feature columns (50813, 50885, etc.) as well as any relevant identifiers (SEPSIS label).\n",
    "- Scale these features using normalization or standardization. Typically, MinMaxScaler or StandardScaler from sklearn.preprocessing are good choices.\n",
    "\n",
    "Reshape Data for LSTM Input:\n",
    "\n",
    "- LSTM models expect 3D input with shape (samples, timesteps, features).\n",
    "- Reshape the data so each patient sequence is represented as a 3D array. For example, if you use a sequence length of 30 days and have 10 feature columns, each sample will have shape (30, 10).\n",
    "\n",
    "Split into Training and Testing Sets:\n",
    "\n",
    "- Split sequences by patient or admission ID to avoid data leakage.\n",
    "- Use a typical split ratio (e.g., 80% train, 20% test)."
   ]
  },
  {
   "cell_type": "code",
   "execution_count": 60,
   "metadata": {},
   "outputs": [
    {
     "name": "stdout",
     "output_type": "stream",
     "text": [
      "Index(['SUBJECT_ID',    'HADM_ID',       'YEAR',      'MONTH',        'DAY',\n",
      "              50813,        50885,        50912,        51006,        51146,\n",
      "              51265,        51300,     '220045',     '220050',     '220052',\n",
      "           '220210',     '220277',     '223761',     '223835',     'SEPSIS'],\n",
      "      dtype='object')\n",
      "All specified features are present in the DataFrame.\n"
     ]
    }
   ],
   "source": [
    "print(combined_df.columns )\n",
    "#Check if the specified feature columns exist in the DataFrame\n",
    "features = [50813, 50885, 50912, 51006, 51146, 51265, 51300, '220045', '220050', '220052', '220210', '220277', '223761', '223835']\n",
    "missing_features = [feature for feature in features if feature not in combined_df.columns]\n",
    "if missing_features:\n",
    "    print(f\"Missing features: {missing_features}\")\n",
    "else:\n",
    "    print(\"All specified features are present in the DataFrame.\")"
   ]
  },
  {
   "cell_type": "code",
   "execution_count": 71,
   "metadata": {},
   "outputs": [
    {
     "name": "stdout",
     "output_type": "stream",
     "text": [
      "torch.Size([21819, 30, 14]) torch.Size([21819])\n"
     ]
    }
   ],
   "source": [
    "from sklearn.preprocessing import MinMaxScaler\n",
    "from torch.nn.utils.rnn import pad_sequence\n",
    "import torch\n",
    "from torch.utils.data import Dataset, DataLoader\n",
    "import numpy as np\n",
    "\n",
    "label = 'SEPSIS'\n",
    "# Scale features\n",
    "scaler = MinMaxScaler()\n",
    "\n",
    "\n",
    "# Group by SUBJECT_ID and HADM_ID to create sequences for each patient\n",
    "sequences = []\n",
    "labels = []\n",
    "sequence_length = 30  # Define your desired sequence length\n",
    "\n",
    "for _, group in combined_df.groupby(['SUBJECT_ID', 'HADM_ID']):\n",
    "    \n",
    "    feature_sequence = group[features].values\n",
    "    label_sequence = group[label].values[-1]  # Use the last label as the target for each sequence\n",
    "\n",
    "    # Pad the sequence with zeros if it is shorter than the desired sequence length\n",
    "    if len(feature_sequence) < sequence_length:\n",
    "        feature_sequence = np.vstack([feature_sequence, np.zeros((sequence_length - len(feature_sequence), len(features)))])\n",
    "    else :\n",
    "        feature_sequence = feature_sequence[-sequence_length:]\n",
    "    \n",
    "    # Scale the features\n",
    "    feature_sequence = scaler.fit_transform(feature_sequence)\n",
    "    \n",
    "    sequences.append(feature_sequence)\n",
    "    labels.append(label_sequence)\n",
    "\n",
    "# Convert sequences and labels to numpy arrays\n",
    "\n",
    "sequences = np.array(sequences)\n",
    "labels = np.array(labels)\n",
    "\n",
    "# Convert sequences and labels to PyTorch tensors\n",
    "X = torch.tensor(sequences, dtype=torch.float32)  # Shape: (samples, timesteps, features)\n",
    "y = torch.tensor(labels, dtype=torch.float32)     # Shape: (samples, )\n",
    "print(X.shape, y.shape)\n",
    "\n",
    "\n"
   ]
  },
  {
   "cell_type": "code",
   "execution_count": 72,
   "metadata": {},
   "outputs": [
    {
     "name": "stdout",
     "output_type": "stream",
     "text": [
      "torch.Size([17455, 30, 14]) torch.Size([17455])\n",
      "torch.Size([4364, 30, 14]) torch.Size([4364])\n",
      "torch.Size([30, 14])\n"
     ]
    }
   ],
   "source": [
    "# Define a PyTorch Dataset\n",
    "class PatientDataset(Dataset):\n",
    "    def __init__(self, X, y):\n",
    "        self.X = X\n",
    "        self.y = y\n",
    "\n",
    "    def __len__(self):\n",
    "        return len(self.y)\n",
    "\n",
    "    def __getitem__(self, idx):\n",
    "        return self.X[idx], self.y[idx]\n",
    "\n",
    "# Split into train and test\n",
    "from sklearn.model_selection import train_test_split\n",
    "X_train, X_test, y_train, y_test = train_test_split(X, y, test_size=0.2, random_state=42)\n",
    "print(X_train.shape, y_train.shape)\n",
    "print(X_test.shape, y_test.shape)\n",
    "print(X_train[0].shape)\n"
   ]
  },
  {
   "cell_type": "code",
   "execution_count": 73,
   "metadata": {},
   "outputs": [],
   "source": [
    "# define LSTM model\n",
    "import torch\n",
    "import torch.nn as nn\n",
    "import torch.optim as optim\n",
    "from sklearn.metrics import accuracy_score, precision_score, recall_score, f1_score, roc_auc_score\n",
    "from sklearn.model_selection import train_test_split\n",
    "from torch.utils.data import DataLoader, TensorDataset\n",
    "\n",
    "class LSTMModel(nn.Module):\n",
    "    def __init__(self, input_size, hidden_size, output_size, num_layers=2):\n",
    "        super(LSTMModel, self).__init__()\n",
    "        self.hidden_size = hidden_size\n",
    "        self.num_layers = num_layers\n",
    "        self.lstm = nn.LSTM(input_size, hidden_size, num_layers, batch_first=True)\n",
    "        self.fc = nn.Linear(hidden_size, output_size)\n",
    "    \n",
    "    def forward(self, x):\n",
    "        # Initialize hidden state and cell state\n",
    "        h0 = torch.zeros(self.num_layers, x.size(0), self.hidden_size).to(x.device)\n",
    "        c0 = torch.zeros(self.num_layers, x.size(0), self.hidden_size).to(x.device)\n",
    "\n",
    "        # Forward propagate LSTM\n",
    "        out, _ = self.lstm(x, (h0, c0))\n",
    "\n",
    "        # Decode the last hidden state\n",
    "        out = self.fc(out[:, -1, :])  # Get the output from the last time step\n",
    "        return out"
   ]
  },
  {
   "cell_type": "code",
   "execution_count": 74,
   "metadata": {},
   "outputs": [],
   "source": [
    "# Define the hyperparameters\n",
    "input_size = X_train.shape[2]  # Number of features\n",
    "hidden_size = 64\n",
    "output_size = 1  # Binary classification (septic shock or not)\n",
    "num_layers = 2\n",
    "num_epochs = 20\n",
    "batch_size = 64\n",
    "learning_rate = 0.001"
   ]
  },
  {
   "cell_type": "code",
   "execution_count": 75,
   "metadata": {},
   "outputs": [
    {
     "data": {
      "text/plain": [
       "LSTMModel(\n",
       "  (lstm): LSTM(14, 64, num_layers=2, batch_first=True)\n",
       "  (fc): Linear(in_features=64, out_features=1, bias=True)\n",
       ")"
      ]
     },
     "execution_count": 75,
     "metadata": {},
     "output_type": "execute_result"
    }
   ],
   "source": [
    "\n",
    "# Create DataLoader for training and testing\n",
    "\n",
    "train_dataset = PatientDataset(X_train, y_train)\n",
    "test_dataset = PatientDataset(X_test, y_test)\n",
    "\n",
    "train_loader = DataLoader(dataset=train_dataset, batch_size=batch_size, shuffle=True)\n",
    "test_loader = DataLoader(dataset=test_dataset, batch_size=batch_size, shuffle=False)\n",
    "\n",
    "# Initialize the model, loss function, and optimizer\n",
    "model = LSTMModel(input_size, hidden_size, output_size, num_layers)\n",
    "criterion = nn.BCEWithLogitsLoss()  # Binary Cross-Entropy with logits\n",
    "optimizer = optim.Adam(model.parameters(), lr=learning_rate)\n",
    "\n",
    "# Training loop\n",
    "device = torch.device('cuda' if torch.cuda.is_available() else 'cpu')\n",
    "model.to(device)\n",
    "\n"
   ]
  },
  {
   "cell_type": "code",
   "execution_count": 78,
   "metadata": {},
   "outputs": [
    {
     "name": "stdout",
     "output_type": "stream",
     "text": [
      "Epoch 1/20, Loss: 0.0040\n",
      "Epoch 2/20, Loss: 0.0611\n",
      "Epoch 3/20, Loss: 0.0117\n",
      "Epoch 4/20, Loss: 0.0032\n",
      "Epoch 5/20, Loss: 0.0035\n",
      "Epoch 6/20, Loss: 0.0025\n",
      "Epoch 7/20, Loss: 0.0989\n",
      "Epoch 8/20, Loss: 0.0409\n",
      "Epoch 9/20, Loss: 0.0013\n",
      "Epoch 10/20, Loss: 0.0069\n",
      "Epoch 11/20, Loss: 0.0056\n",
      "Epoch 12/20, Loss: 0.0128\n",
      "Epoch 13/20, Loss: 0.0359\n",
      "Epoch 14/20, Loss: 0.0393\n",
      "Epoch 15/20, Loss: 0.1085\n",
      "Epoch 16/20, Loss: 0.0009\n",
      "Epoch 17/20, Loss: 0.0336\n",
      "Epoch 18/20, Loss: 0.0035\n",
      "Epoch 19/20, Loss: 0.0849\n",
      "Epoch 20/20, Loss: 0.0226\n",
      "Epoch [20/20], Loss: 0.0230\n"
     ]
    },
    {
     "data": {
      "image/png": "[encoded data removed]",
      "text/plain": [
       "<Figure size 640x480 with 1 Axes>"
      ]
     },
     "metadata": {},
     "output_type": "display_data"
    }
   ],
   "source": [
    "training_losses = []\n",
    "model.train()\n",
    "for epoch in range(num_epochs):\n",
    "    \n",
    "    running_loss = 0.0\n",
    "    for X_batch, y_batch in train_loader:\n",
    "        X_batch, y_batch = X_batch.to(device), y_batch.to(device)\n",
    "\n",
    "        # Forward pass\n",
    "        outputs = model(X_batch)\n",
    "        outputs = outputs.squeeze(dim=1)\n",
    "        loss = criterion(outputs, y_batch)\n",
    "\n",
    "        # Backward pass and optimization\n",
    "        optimizer.zero_grad()\n",
    "        loss.backward()\n",
    "        optimizer.step()\n",
    "\n",
    "        running_loss += loss.item()\n",
    "\n",
    "    training_losses.append(loss.item())\n",
    "    print(f\"Epoch {epoch + 1}/{num_epochs}, Loss: {loss.item():.4f}\")\n",
    "print(f'Epoch [{epoch+1}/{num_epochs}], Loss: {running_loss/len(train_loader):.4f}')\n",
    "import matplotlib.pyplot as plt\n",
    "\n",
    "plt.plot(training_losses, label='Training Loss')\n",
    "plt.xlabel('Epochs')\n",
    "plt.ylabel('Loss')\n",
    "plt.title('Training Loss Over Epochs')\n",
    "plt.legend()\n",
    "plt.show()\n",
    "\n"
   ]
  },
  {
   "cell_type": "code",
   "execution_count": 77,
   "metadata": {},
   "outputs": [
    {
     "name": "stdout",
     "output_type": "stream",
     "text": [
      "Accuracy: 0.9840\n",
      "Precision: 0.9247\n",
      "Recall: 0.9424\n",
      "F1 Score: 0.9335\n",
      "AUC: 0.9660\n"
     ]
    }
   ],
   "source": [
    "# Evaluation function\n",
    "\n",
    "model.eval()\n",
    "y_true = []\n",
    "y_pred = []\n",
    "\n",
    "with torch.no_grad():\n",
    "    for X_batch, y_batch in test_loader:\n",
    "        X_batch = X_batch.to(device)\n",
    "        outputs = model(X_batch)\n",
    "        preds = torch.sigmoid(outputs).cpu().numpy()  # Use sigmoid to get probabilities\n",
    "        y_pred.extend(preds)\n",
    "        y_true.extend(y_batch.numpy())\n",
    "\n",
    "y_pred = [1 if p > 0.5 else 0 for p in y_pred]  # Convert probabilities to binary labels\n",
    "accuracy = accuracy_score(y_true, y_pred)\n",
    "precision = precision_score(y_true, y_pred)\n",
    "recall = recall_score(y_true, y_pred)\n",
    "f1 = f1_score(y_true, y_pred)\n",
    "auc = roc_auc_score(y_true, y_pred)\n",
    "\n",
    "print(f'Accuracy: {accuracy:.4f}')\n",
    "print(f'Precision: {precision:.4f}')\n",
    "print(f'Recall: {recall:.4f}')\n",
    "print(f'F1 Score: {f1:.4f}')\n",
    "print(f'AUC: {auc:.4f}')\n",
    "\n"
   ]
  },
  {
   "cell_type": "code",
   "execution_count": 79,
   "metadata": {},
   "outputs": [
    {
     "name": "stdout",
     "output_type": "stream",
     "text": [
      "[[3803   40]\n",
      " [  30  491]]\n"
     ]
    }
   ],
   "source": [
    "# calculate the confusion matrix\n",
    "from sklearn.metrics import confusion_matrix\n",
    "cm = confusion_matrix(y_true, y_pred)\n",
    "print(cm)"
   ]
  },
  {
   "cell_type": "code",
   "execution_count": 85,
   "metadata": {},
   "outputs": [
    {
     "data": {
      "image/png": "[encoded data removed]",
      "text/plain": [
       "<Figure size 640x480 with 1 Axes>"
      ]
     },
     "metadata": {},
     "output_type": "display_data"
    }
   ],
   "source": [
    "# calculate the ROC curve\n",
    "from sklearn.metrics import roc_curve\n",
    "fpr, tpr, thresholds = roc_curve(y_true, y_pred)\n",
    "# Plot ROC curve\n",
    "plt.figure()\n",
    "plt.plot(fpr, tpr, color='darkorange', lw=2, label='ROC curve (area = %0.2f)' % auc)\n",
    "plt.plot([0, 1], [0, 1], color='navy', lw=2, linestyle='--')\n",
    "plt.xlim([0.0, 1.0])\n",
    "plt.ylim([0.0, 1.05])\n",
    "plt.xlabel('False Positive Rate')\n",
    "plt.ylabel('True Positive Rate')\n",
    "plt.title('Receiver Operating Characteristic (ROC) Curve')\n",
    "plt.legend(loc=\"lower right\")\n",
    "plt.show()\n"
   ]
  },
  {
   "cell_type": "code",
   "execution_count": null,
   "metadata": {},
   "outputs": [],
   "source": []
  }
 ],
 "metadata": {
  "kernelspec": {
   "display_name": "pytorch-rl-ds",
   "language": "python",
   "name": "python3"
  },
  "language_info": {
   "codemirror_mode": {
    "name": "ipython",
    "version": 3
   },
   "file_extension": ".py",
   "mimetype": "text/x-python",
   "name": "python",
   "nbconvert_exporter": "python",
   "pygments_lexer": "ipython3",
   "version": "3.9.18"
  }
 },
 "nbformat": 4,
 "nbformat_minor": 2
}
