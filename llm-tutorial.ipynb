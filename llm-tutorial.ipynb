{
 "cells": [
  {
   "cell_type": "code",
   "execution_count": 25,
   "metadata": {},
   "outputs": [],
   "source": [
    "import pandas as pd\n",
    "conditions_df = pd.read_csv(\"covid-data/conditions.csv\")\n",
    "patients_df = pd.read_csv(\"covid-data/patients.csv\")\n",
    "observations_df = pd.read_csv(\"covid-data/observations.csv\")\n",
    "care_plans_df = pd.read_csv(\"covid-data/careplans.csv\")\n",
    "encounters_df = pd.read_csv(\"covid-data/encounters.csv\")\n",
    "procedures_df = pd.read_csv(\"covid-data/procedures.csv\")\n",
    "medications_df = pd.read_csv(\"covid-data/medications.csv\")"
   ]
  },
  {
   "cell_type": "code",
   "execution_count": 26,
   "metadata": {},
   "outputs": [],
   "source": [
    "immunizations_df = pd.read_csv(\"covid-data/immunizations.csv\")\n",
    "allergies_df = pd.read_csv(\"covid-data/allergies.csv\")"
   ]
  },
  {
   "cell_type": "code",
   "execution_count": 13,
   "metadata": {},
   "outputs": [
    {
     "data": {
      "text/plain": [
       "Index(['Id', 'BIRTHDATE', 'DEATHDATE', 'SSN', 'DRIVERS', 'PASSPORT', 'PREFIX',\n",
       "       'FIRST', 'LAST', 'SUFFIX', 'MAIDEN', 'MARITAL', 'RACE', 'ETHNICITY',\n",
       "       'GENDER', 'BIRTHPLACE', 'ADDRESS', 'CITY', 'STATE', 'COUNTY', 'ZIP',\n",
       "       'LAT', 'LON', 'HEALTHCARE_EXPENSES', 'HEALTHCARE_COVERAGE'],\n",
       "      dtype='object')"
      ]
     },
     "execution_count": 13,
     "metadata": {},
     "output_type": "execute_result"
    }
   ],
   "source": [
    "patients_df.columns"
   ]
  },
  {
   "cell_type": "code",
   "execution_count": 16,
   "metadata": {},
   "outputs": [
    {
     "data": {
      "text/plain": [
       "Index(['DATE', 'PATIENT', 'ENCOUNTER', 'CODE', 'DESCRIPTION', 'VALUE', 'UNITS',\n",
       "       'TYPE'],\n",
       "      dtype='object')"
      ]
     },
     "execution_count": 16,
     "metadata": {},
     "output_type": "execute_result"
    }
   ],
   "source": [
    "observations_df.columns"
   ]
  },
  {
   "cell_type": "code",
   "execution_count": 18,
   "metadata": {},
   "outputs": [
    {
     "data": {
      "text/plain": [
       "Index(['DATE', 'PATIENT', 'ENCOUNTER', 'CODE', 'DESCRIPTION', 'BASE_COST'], dtype='object')"
      ]
     },
     "execution_count": 18,
     "metadata": {},
     "output_type": "execute_result"
    }
   ],
   "source": [
    "immunizations_df.columns"
   ]
  },
  {
   "cell_type": "code",
   "execution_count": 19,
   "metadata": {},
   "outputs": [
    {
     "data": {
      "text/plain": [
       "Index(['START', 'STOP', 'PATIENT', 'ENCOUNTER', 'CODE', 'DESCRIPTION'], dtype='object')"
      ]
     },
     "execution_count": 19,
     "metadata": {},
     "output_type": "execute_result"
    }
   ],
   "source": [
    "allergies_df.columns"
   ]
  },
  {
   "cell_type": "code",
   "execution_count": 20,
   "metadata": {},
   "outputs": [
    {
     "data": {
      "text/plain": [
       "Index(['Id', 'START', 'STOP', 'PATIENT', 'ENCOUNTER', 'CODE', 'DESCRIPTION',\n",
       "       'REASONCODE', 'REASONDESCRIPTION'],\n",
       "      dtype='object')"
      ]
     },
     "execution_count": 20,
     "metadata": {},
     "output_type": "execute_result"
    }
   ],
   "source": [
    "care_plans_df.columns"
   ]
  },
  {
   "cell_type": "code",
   "execution_count": 21,
   "metadata": {},
   "outputs": [
    {
     "data": {
      "text/plain": [
       "Index(['START', 'STOP', 'PATIENT', 'PAYER', 'ENCOUNTER', 'CODE', 'DESCRIPTION',\n",
       "       'BASE_COST', 'PAYER_COVERAGE', 'DISPENSES', 'TOTALCOST', 'REASONCODE',\n",
       "       'REASONDESCRIPTION'],\n",
       "      dtype='object')"
      ]
     },
     "execution_count": 21,
     "metadata": {},
     "output_type": "execute_result"
    }
   ],
   "source": [
    "medications_df.columns"
   ]
  },
  {
   "cell_type": "code",
   "execution_count": 36,
   "metadata": {},
   "outputs": [
    {
     "name": "stdout",
     "output_type": "stream",
     "text": [
      "\n",
      "        Patient Summary:\n",
      "        - Birth date: 2017-08-24\n",
      "        - Gender: M\n",
      "        - Observations: Body Height, Pain severity - 0-10 verbal numeric rating [Score] - Reported, Body Weight, Weight-for-length Per age and sex, Head Occipital-frontal circumference, Diastolic Blood Pressure, Systolic Blood Pressure, Heart rate, Respiratory rate, Tobacco smoking status NHIS, Body Height, Pain severity - 0-10 verbal numeric rating [Score] - Reported, Body Weight, Weight-for-length Per age and sex, Head Occipital-frontal circumference, Body Mass Index, Body mass index (BMI) [Percentile] Per age and gender, Diastolic Blood Pressure, Systolic Blood Pressure, Heart rate, Respiratory rate, Tobacco smoking status NHIS, Body temperature, Respiratory rate, Heart rate, Oxygen saturation in Arterial blood, Diastolic Blood Pressure, Systolic Blood Pressure, Body Weight, Influenza virus A RNA [Presence] in Respiratory specimen by NAA with probe detection, Influenza virus B RNA [Presence] in Respiratory specimen by NAA with probe detection, Respiratory syncytial virus RNA [Presence] in Respiratory specimen by NAA with probe detection, Parainfluenza virus 1 RNA [Presence] in Respiratory specimen by NAA with probe detection, Parainfluenza virus 2 RNA [Presence] in Respiratory specimen by NAA with probe detection, Parainfluenza virus 3 RNA [Presence] in Respiratory specimen by NAA with probe detection, Rhinovirus RNA [Presence] in Respiratory specimen by NAA with probe detection, Human metapneumovirus RNA [Presence] in Respiratory specimen by NAA with probe detection, Adenovirus A+B+C+D+E DNA [Presence] in Respiratory specimen by NAA with probe detection, SARS-CoV-2 RNA Pnl Resp NAA+probe, QALY, DALY, QOLS\n",
      "        - Immunizations: Influenza  seasonal  injectable  preservative free, Hep A  ped/adol  2 dose\n",
      "        - Allergies: \n",
      "        - Care Plans: Infectious disease care plan (record artifact), Infectious disease care plan (record artifact)\n",
      "        - Medications: Amoxicillin 250 MG Oral Capsule, Acetaminophen 160 MG Chewable Tablet\n",
      "\n",
      "        Based on the above information, provide a comprehensive summary of the patient's health status.\n",
      "        \n"
     ]
    }
   ],
   "source": [
    "def generate_patient_summary(patient_id,type='summary'):\n",
    "    # Extract patient information\n",
    "    patient_info = patients_df[patients_df['Id'] == patient_id].iloc[0]\n",
    "    observations = observations_df[observations_df['PATIENT'] == patient_id]\n",
    "    immunizations = immunizations_df[immunizations_df['PATIENT'] == patient_id]\n",
    "    careplans = care_plans_df[care_plans_df['PATIENT'] == patient_id]\n",
    "    medications = medications_df[medications_df['PATIENT'] == patient_id]\n",
    "    allergies = allergies_df[allergies_df['PATIENT'] == patient_id]\n",
    "\n",
    "    if type == 'summary':\n",
    "        # Generate a patient summary\n",
    "        \n",
    "        # Construct the prompt\n",
    "        prompt = f\"\"\"\n",
    "        Patient Summary:\n",
    "        - Birth date: {patient_info['BIRTHDATE']}\n",
    "        - Gender: {patient_info['GENDER']}\n",
    "        - Observations: {', '.join(observations['DESCRIPTION'].tolist())}\n",
    "        - Immunizations: {', '.join(immunizations['DESCRIPTION'].tolist())}\n",
    "        - Allergies: {', '.join(allergies['DESCRIPTION'].tolist())}\n",
    "        - Care Plans: {', '.join(careplans['DESCRIPTION'].tolist())}\n",
    "        - Medications: {', '.join(medications['DESCRIPTION'].tolist())}\n",
    "\n",
    "        Based on the above information, provide a comprehensive summary of the patient's health status.\n",
    "        \"\"\"\n",
    "    elif type == 'disease':\n",
    "        prompt = f\"\"\"\n",
    "        Analyze the following patient data step-by-step to assess disease risk:\n",
    "        \n",
    "        - Birth date: {patient_info['BIRTHDATE']}\n",
    "        - Gender: {patient_info['GENDER']}\n",
    "        - Observations: {', '.join(observations['DESCRIPTION'].tolist())}\n",
    "        - Immunizations: {', '.join(immunizations['DESCRIPTION'].tolist())}\n",
    "        - Allergies: {', '.join(allergies['DESCRIPTION'].tolist())}\n",
    "        - Care Plans: {', '.join(careplans['DESCRIPTION'].tolist())}\n",
    "        - Medications: {', '.join(medications['DESCRIPTION'].tolist())}\n",
    "\n",
    "        Step-by-step analysis:\n",
    "        \"\"\"\n",
    "    #print(prompt)\n",
    "    return prompt\n",
    "# Generate a patient summary for the first patient\n",
    "print(generate_patient_summary(\"f0f3bc8d-ef38-49ce-a2bd-dfdda982b271\"))"
   ]
  },
  {
   "cell_type": "code",
   "execution_count": 28,
   "metadata": {},
   "outputs": [
    {
     "data": {
      "text/plain": [
       "True"
      ]
     },
     "execution_count": 28,
     "metadata": {},
     "output_type": "execute_result"
    }
   ],
   "source": [
    "from dotenv import load_dotenv\n",
    "import os\n",
    "\n",
    "load_dotenv()"
   ]
  },
  {
   "cell_type": "code",
   "execution_count": 32,
   "metadata": {},
   "outputs": [
    {
     "name": "stdout",
     "output_type": "stream",
     "text": [
      "ChatCompletionMessage(content=\"**Patient Health Status Summary**\\n\\n**Demographics:**\\n- **Birth Date:** August 24, 2017\\n- **Gender:** Male\\n\\n**Clinical Observations:**\\n- The patient has undergone multiple clinical evaluations and screenings, including vital signs and respiratory assessments, which comprise:\\n  - **Body Height**: Measurement recorded.\\n  - **Body Weight**: Measurement recorded.\\n  - **Weight-for-Length**: Evaluated per age and sex.\\n  - **Head Circumference**: Recorded measurements of occipital-frontal circumference.\\n  - **Blood Pressure**: Both systolic and diastolic blood pressure were measured.\\n  - **Heart Rate and Respiratory Rate**: Both parameters recorded.\\n  - **Oxygen Saturation**: Assessed in arterial blood.\\n  - **Body Temperature**: Recorded.\\n\\n**Pain Assessment:**\\n- Reported pain severity on a 0-10 verbal numeric rating scale, indicating the patient's experience of pain.\\n\\n**Infectious Disease Screening:**\\n- Testing for the presence of various viral pathogens in respiratory specimens using Nucleic Acid Amplification (NAA) methods, including:\\n  - **SARS-CoV-2 (COVID-19)**\\n  - **Influenza A and B**\\n  - **Respiratory Syncytial Virus (RSV)**\\n  - **Parainfluenza Viruses 1, 2, and 3**\\n  - **Rhinovirus**\\n  - **Human Metapneumovirus**\\n  - **Adenovirus (A, B, C, D, E)**\\n\\n**Immunization History:**\\n- Received the following vaccinations:\\n  - **Influenza**: Seasonal injectable, preservative-free.\\n  - **Hepatitis A**: Pediatric/adolescent 2-dose series.\\n\\n**Allergies:**\\n- No known allergies reported.\\n\\n**Care Plans:**\\n- Two records of infectious disease care plans, suggesting ongoing monitoring and management of potential or active infections.\\n\\n**Medications:**\\n- Currently prescribed medications include:\\n  - **Amoxicillin 250 MG**: An antibiotic used for bacterial infections.\\n  - **Acetaminophen 160 MG Chewable Tablet**: Used for pain relief and fever reduction.\\n\\n**Health Metrics:**\\n- Body Mass Index (BMI) assessed, including percentiles relative to age and gender.\\n\\n**Quality of Life Metrics:**\\n- Quality-Adjusted Life Years (QALY) and Disability-Adjusted Life Years (DALY) recorded, indicating considerations for the patient’s overall health impact and quality of life.\\n\\n**Summary:**\\nThe patient is a male child with a comprehensive health assessment that includes regular measurement of vital signs, assessment of potential respiratory infections, immunization relevant to age, and current management strategies through care plans and prescribed medications. There are ongoing considerations regarding infectious diseases, given the multiple viral tests conducted, and care plans are in place to ensure the patient receives appropriate monitoring and treatment. The patient's pain level is being addressed, and their immunization history appears to be up-to-date. Further follow-up may be required to monitor the presence of respiratory pathogens, especially SARS-CoV-2, and the outcomes of the prescribed antibiotic treatment and other care plans.\", refusal=None, role='assistant', audio=None, function_call=None, tool_calls=None)\n",
      "**Patient Health Status Summary**\n",
      "\n",
      "**Demographics:**\n",
      "- **Birth Date:** August 24, 2017\n",
      "- **Gender:** Male\n",
      "\n",
      "**Clinical Observations:**\n",
      "- The patient has undergone multiple clinical evaluations and screenings, including vital signs and respiratory assessments, which comprise:\n",
      "  - **Body Height**: Measurement recorded.\n",
      "  - **Body Weight**: Measurement recorded.\n",
      "  - **Weight-for-Length**: Evaluated per age and sex.\n",
      "  - **Head Circumference**: Recorded measurements of occipital-frontal circumference.\n",
      "  - **Blood Pressure**: Both systolic and diastolic blood pressure were measured.\n",
      "  - **Heart Rate and Respiratory Rate**: Both parameters recorded.\n",
      "  - **Oxygen Saturation**: Assessed in arterial blood.\n",
      "  - **Body Temperature**: Recorded.\n",
      "\n",
      "**Pain Assessment:**\n",
      "- Reported pain severity on a 0-10 verbal numeric rating scale, indicating the patient's experience of pain.\n",
      "\n",
      "**Infectious Disease Screening:**\n",
      "- Testing for the presence of various viral pathogens in respiratory specimens using Nucleic Acid Amplification (NAA) methods, including:\n",
      "  - **SARS-CoV-2 (COVID-19)**\n",
      "  - **Influenza A and B**\n",
      "  - **Respiratory Syncytial Virus (RSV)**\n",
      "  - **Parainfluenza Viruses 1, 2, and 3**\n",
      "  - **Rhinovirus**\n",
      "  - **Human Metapneumovirus**\n",
      "  - **Adenovirus (A, B, C, D, E)**\n",
      "\n",
      "**Immunization History:**\n",
      "- Received the following vaccinations:\n",
      "  - **Influenza**: Seasonal injectable, preservative-free.\n",
      "  - **Hepatitis A**: Pediatric/adolescent 2-dose series.\n",
      "\n",
      "**Allergies:**\n",
      "- No known allergies reported.\n",
      "\n",
      "**Care Plans:**\n",
      "- Two records of infectious disease care plans, suggesting ongoing monitoring and management of potential or active infections.\n",
      "\n",
      "**Medications:**\n",
      "- Currently prescribed medications include:\n",
      "  - **Amoxicillin 250 MG**: An antibiotic used for bacterial infections.\n",
      "  - **Acetaminophen 160 MG Chewable Tablet**: Used for pain relief and fever reduction.\n",
      "\n",
      "**Health Metrics:**\n",
      "- Body Mass Index (BMI) assessed, including percentiles relative to age and gender.\n",
      "\n",
      "**Quality of Life Metrics:**\n",
      "- Quality-Adjusted Life Years (QALY) and Disability-Adjusted Life Years (DALY) recorded, indicating considerations for the patient’s overall health impact and quality of life.\n",
      "\n",
      "**Summary:**\n",
      "The patient is a male child with a comprehensive health assessment that includes regular measurement of vital signs, assessment of potential respiratory infections, immunization relevant to age, and current management strategies through care plans and prescribed medications. There are ongoing considerations regarding infectious diseases, given the multiple viral tests conducted, and care plans are in place to ensure the patient receives appropriate monitoring and treatment. The patient's pain level is being addressed, and their immunization history appears to be up-to-date. Further follow-up may be required to monitor the presence of respiratory pathogens, especially SARS-CoV-2, and the outcomes of the prescribed antibiotic treatment and other care plans.\n"
     ]
    }
   ],
   "source": [
    "\n",
    "from openai import OpenAI\n",
    "\n",
    "client = OpenAI(\n",
    "  organization='org-GXoJKN5nYBp1bYCBJjxDxF9I',\n",
    "  project='proj_sCh97WttAzvfhWXyvoOofMLh',\n",
    ")\n",
    "\n",
    "\n",
    "def get_summary(prompt):\n",
    "    # Call the OpenAI API\n",
    "    completion = client.chat.completions.create(\n",
    "    model=\"gpt-4o-mini\",\n",
    "    messages=[\n",
    "        {\"role\": \"system\", \"content\": \"You are a doctor specializing in covid-19.\"},\n",
    "        {\n",
    "            \"role\": \"user\",\n",
    "            \"content\": prompt\n",
    "        }\n",
    "    ]\n",
    "    )   \n",
    "    #print(completion.choices[0].message)\n",
    "    return completion.choices[0].message.content\n",
    "summary = get_summary(generate_patient_summary(\"f0f3bc8d-ef38-49ce-a2bd-dfdda982b271\"))\n",
    "print(summary)\n"
   ]
  },
  {
   "cell_type": "code",
   "execution_count": 35,
   "metadata": {},
   "outputs": [
    {
     "name": "stdout",
     "output_type": "stream",
     "text": [
      "ChatCompletionMessage(content=\"To assess the COVID-19 disease risk for the patient described based on the data provided, I'll analyze the relevant factors step-by-step:\\n\\n### Step 1: Patient Demographics\\n- **Birth date**: 2017-08-24\\n- **Gender**: Male\\n\\n**Analysis**: The child is currently 6 years old. Pediatric patients, especially those under 12, may have different risks and manifestations of COVID-19 compared to adults. Generally, children experience milder disease and lower hospitalization rates; however, they can still be infectious and transmit the virus.\\n\\n### Step 2: Immunization Status\\n- **Vaccinations**: Influenza seasonal injectable preservative free, Hepatitis A pediatric/adolescent (2 doses)\\n\\n**Analysis**: The patient appears to be up-to-date with routine vaccinations for influenza and hepatitis A. However, there is no mention of COVID-19 vaccination. The COVID-19 vaccine is recommended for eligible children (children aged 6 months and above). If the child has not been vaccinated against COVID-19, this increases their risk of severe outcomes if infected.\\n\\n### Step 3: Respiratory Symptoms and Testing\\n- **Observations**: \\n    - Multiple evaluations of respiratory symptoms (heart rate, respiratory rate, oxygen saturation).\\n    - Presence of respiratory viruses detected by NAA in specimens, including SARS-CoV-2 RNA.\\n\\n**Analysis**:\\n- **Viral Testing**: The presence of SARS-CoV-2 RNA indicates the child has been infected with COVID-19. This raises immediate concern for isolation and assessment of any potential severity based on symptoms. \\n- **Respiratory Examination**: Heart rate and respiratory rate evaluations, along with oxygen saturation, are crucial. If the oxygen saturation is below 92% or if there are signs of respiratory distress, the child may require emergency medical attention.\\n\\n### Step 4: Other Virological Evaluations\\n- **Additional viral presence**:\\n    - Influenza A and B\\n    - Respiratory syncytial virus\\n    - Parainfluenza viruses\\n    - Rhinovirus\\n    - Human metapneumovirus\\n    - Adenovirus\\n\\n**Analysis**: The presence of multiple respiratory viruses can complicate the clinical picture. Co-infection with other respiratory viruses can lead to exacerbated symptoms or increased risk for severe respiratory issues. Monitoring for fever, cough, or difficulty breathing is essential.\\n\\n### Step 5: Vital Signs and Physical Measurements\\n- **Body Temperature and Measurements**: Not specified in numeric form, but include heart rate, respiratory rate, and blood pressure assessments.\\n\\n**Analysis**: Routine monitoring of vital signs is critical. Early detection of abnormal readings (like elevated heart rate or respiratory rate) can help in assessing the child’s response to SARS-CoV-2 infection and guide management.\\n\\n### Step 6: Medical History, Allergies, and Medications\\n- **Current Medications**: Amoxicillin and Acetaminophen.\\n\\n**Analysis**: The child is on amoxicillin, which suggests a potential bacterial infection, which requires careful evaluation, particularly in the context of COVID-19. Acetaminophen can be safely used for fever and pain management but should be monitored to avoid overuse.\\n\\n### Step 7: Care Plans and Follow-Up\\n- **Infectious Disease Care Plans**: Two separate entries suggest close monitoring and management strategies.\\n\\n**Analysis**: The presence of infectious disease care plans indicates that the healthcare team is aware of ongoing issues related to infections and prepared for necessary interventions. This may include close monitoring for potential severe illness from COVID-19.\\n\\n### Step 8: Overall Risk Assessment\\n- Without further specific lab results (such as inflammatory markers, acute phase reactants, etc.) or details regarding the patient's clinical condition upon presentation (e.g., symptomatic vs. asymptomatic), it's challenging to provide a definitive assessment. \\n\\n**Recommendation**:\\n1. **COVID-19 Management**: Immediate isolation measures while awaiting further clinical evaluation.\\n2. **Oxygen Monitoring**: Monitor oxygen saturation closely.\\n3. **Vaccination**: Discuss options for COVID-19 vaccination if the patient hasn't been vaccinated yet.\\n4. **Symptoms Monitoring**: Monitor for any new symptoms that may develop and have a follow-up plan based on clinical condition.\\n\\nOverall, this child shows signs of being at risk due to confirmed COVID-19 infection, and the presence of respiratory viruses necessitates careful evaluation and management in a clinical setting.\", refusal=None, role='assistant', audio=None, function_call=None, tool_calls=None)\n",
      "To assess the COVID-19 disease risk for the patient described based on the data provided, I'll analyze the relevant factors step-by-step:\n",
      "\n",
      "### Step 1: Patient Demographics\n",
      "- **Birth date**: 2017-08-24\n",
      "- **Gender**: Male\n",
      "\n",
      "**Analysis**: The child is currently 6 years old. Pediatric patients, especially those under 12, may have different risks and manifestations of COVID-19 compared to adults. Generally, children experience milder disease and lower hospitalization rates; however, they can still be infectious and transmit the virus.\n",
      "\n",
      "### Step 2: Immunization Status\n",
      "- **Vaccinations**: Influenza seasonal injectable preservative free, Hepatitis A pediatric/adolescent (2 doses)\n",
      "\n",
      "**Analysis**: The patient appears to be up-to-date with routine vaccinations for influenza and hepatitis A. However, there is no mention of COVID-19 vaccination. The COVID-19 vaccine is recommended for eligible children (children aged 6 months and above). If the child has not been vaccinated against COVID-19, this increases their risk of severe outcomes if infected.\n",
      "\n",
      "### Step 3: Respiratory Symptoms and Testing\n",
      "- **Observations**: \n",
      "    - Multiple evaluations of respiratory symptoms (heart rate, respiratory rate, oxygen saturation).\n",
      "    - Presence of respiratory viruses detected by NAA in specimens, including SARS-CoV-2 RNA.\n",
      "\n",
      "**Analysis**:\n",
      "- **Viral Testing**: The presence of SARS-CoV-2 RNA indicates the child has been infected with COVID-19. This raises immediate concern for isolation and assessment of any potential severity based on symptoms. \n",
      "- **Respiratory Examination**: Heart rate and respiratory rate evaluations, along with oxygen saturation, are crucial. If the oxygen saturation is below 92% or if there are signs of respiratory distress, the child may require emergency medical attention.\n",
      "\n",
      "### Step 4: Other Virological Evaluations\n",
      "- **Additional viral presence**:\n",
      "    - Influenza A and B\n",
      "    - Respiratory syncytial virus\n",
      "    - Parainfluenza viruses\n",
      "    - Rhinovirus\n",
      "    - Human metapneumovirus\n",
      "    - Adenovirus\n",
      "\n",
      "**Analysis**: The presence of multiple respiratory viruses can complicate the clinical picture. Co-infection with other respiratory viruses can lead to exacerbated symptoms or increased risk for severe respiratory issues. Monitoring for fever, cough, or difficulty breathing is essential.\n",
      "\n",
      "### Step 5: Vital Signs and Physical Measurements\n",
      "- **Body Temperature and Measurements**: Not specified in numeric form, but include heart rate, respiratory rate, and blood pressure assessments.\n",
      "\n",
      "**Analysis**: Routine monitoring of vital signs is critical. Early detection of abnormal readings (like elevated heart rate or respiratory rate) can help in assessing the child’s response to SARS-CoV-2 infection and guide management.\n",
      "\n",
      "### Step 6: Medical History, Allergies, and Medications\n",
      "- **Current Medications**: Amoxicillin and Acetaminophen.\n",
      "\n",
      "**Analysis**: The child is on amoxicillin, which suggests a potential bacterial infection, which requires careful evaluation, particularly in the context of COVID-19. Acetaminophen can be safely used for fever and pain management but should be monitored to avoid overuse.\n",
      "\n",
      "### Step 7: Care Plans and Follow-Up\n",
      "- **Infectious Disease Care Plans**: Two separate entries suggest close monitoring and management strategies.\n",
      "\n",
      "**Analysis**: The presence of infectious disease care plans indicates that the healthcare team is aware of ongoing issues related to infections and prepared for necessary interventions. This may include close monitoring for potential severe illness from COVID-19.\n",
      "\n",
      "### Step 8: Overall Risk Assessment\n",
      "- Without further specific lab results (such as inflammatory markers, acute phase reactants, etc.) or details regarding the patient's clinical condition upon presentation (e.g., symptomatic vs. asymptomatic), it's challenging to provide a definitive assessment. \n",
      "\n",
      "**Recommendation**:\n",
      "1. **COVID-19 Management**: Immediate isolation measures while awaiting further clinical evaluation.\n",
      "2. **Oxygen Monitoring**: Monitor oxygen saturation closely.\n",
      "3. **Vaccination**: Discuss options for COVID-19 vaccination if the patient hasn't been vaccinated yet.\n",
      "4. **Symptoms Monitoring**: Monitor for any new symptoms that may develop and have a follow-up plan based on clinical condition.\n",
      "\n",
      "Overall, this child shows signs of being at risk due to confirmed COVID-19 infection, and the presence of respiratory viruses necessitates careful evaluation and management in a clinical setting.\n"
     ]
    }
   ],
   "source": [
    "# Implement Chain of though reasoning to articulate its reasoining step-by-step\n",
    "disease_analyis = get_summary(generate_patient_summary(\"f0f3bc8d-ef38-49ce-a2bd-dfdda982b271\",type='disease'))\n",
    "print(disease_analyis)"
   ]
  },
  {
   "cell_type": "code",
   "execution_count": 37,
   "metadata": {},
   "outputs": [
    {
     "name": "stdout",
     "output_type": "stream",
     "text": [
      "                                      Id   BIRTHDATE   DEATHDATE          SSN  \\\n",
      "11  58cac9ec-4baa-46c1-b919-0ed13572b51d  1970-06-13  2016-05-07  999-90-2484   \n",
      "\n",
      "      DRIVERS    PASSPORT PREFIX      FIRST         LAST SUFFIX  ...  \\\n",
      "11  S99989337  X48630763X    Ms.  Isabel214  Carvajal694    NaN  ...   \n",
      "\n",
      "                         BIRTHPLACE                     ADDRESS        CITY  \\\n",
      "11  Santiago  Santiago Province  CL  335 Morar Highlands Apt 75  Fall River   \n",
      "\n",
      "            STATE          COUNTY     ZIP        LAT        LON  \\\n",
      "11  Massachusetts  Bristol County  2720.0  41.687684 -71.055769   \n",
      "\n",
      "   HEALTHCARE_EXPENSES HEALTHCARE_COVERAGE  \n",
      "11          1145378.45              4941.2  \n",
      "\n",
      "[1 rows x 25 columns]\n"
     ]
    }
   ],
   "source": [
    "# Above patient was diagnosed with COVID-19, run the summary and analysis for the patient who died of COVID-19\n",
    "not_alive = patients_df[patients_df['DEATHDATE'].notnull()][0:1]\n",
    "print(not_alive)\n"
   ]
  },
  {
   "cell_type": "code",
   "execution_count": 38,
   "metadata": {},
   "outputs": [
    {
     "name": "stdout",
     "output_type": "stream",
     "text": [
      "\n",
      "        Patient Summary:\n",
      "        - Birth date: 1970-06-13\n",
      "        - Gender: F\n",
      "        - Observations: Cause of Death [US Standard Certificate of Death]\n",
      "        - Immunizations: \n",
      "        - Allergies: \n",
      "        - Care Plans: Diabetes self management plan\n",
      "        - Medications: Clopidogrel 75 MG Oral Tablet, Alteplase 100 MG Injection\n",
      "\n",
      "        Based on the above information, provide a comprehensive summary of the patient's health status.\n",
      "        \n"
     ]
    }
   ],
   "source": [
    "#58cac9ec-4baa-46c1-b919-0ed13572b51d\n",
    "print(generate_patient_summary(\"58cac9ec-4baa-46c1-b919-0ed13572b51d\"))"
   ]
  },
  {
   "cell_type": "code",
   "execution_count": 39,
   "metadata": {},
   "outputs": [
    {
     "name": "stdout",
     "output_type": "stream",
     "text": [
      "ChatCompletionMessage(content='Based on the provided information, here is a comprehensive summary of the patient\\'s health status:\\n\\n**Patient Profile:**\\n- **Age:** As of October 2023, the patient is 53 years old.\\n- **Gender:** Female\\n\\n**Medical History:**\\n- The patient has a care plan in place for diabetes self-management, indicating that she has a diagnosis of diabetes. This can affect her overall health, management of other conditions, and response to treatments.\\n- There is no information on the specific type of diabetes (Type 1 or Type 2) or details on her blood glucose control, which would be important in understanding her health status.\\n\\n**Medications:**\\n1. **Clopidogrel 75 MG Oral Tablet:** Clopidogrel is an antiplatelet medication used to prevent blood clots. Its use suggests that the patient may have a history of cardiovascular issues, such as heart disease, a previous heart attack, or stroke.\\n2. **Alteplase 100 MG Injection:** Alteplase is a thrombolytic agent used to dissolve blood clots, usually in cases of acute myocardial infarction (heart attack) or ischemic stroke. The necessity of this medication indicates that the patient may have experienced a significant cardiovascular event.\\n\\n**Allergies and Immunization History:**\\n- No allergy information is provided, which is important for understanding treatment risks and potential reactions to medications.\\n- There is also no information about her immunization status, particularly regarding COVID-19 or other vaccines. Given the ongoing relevance of COVID-19 in public health, it would be critical to assess her vaccination status.\\n\\n**Observations:**\\n- The mention of \"Cause of Death [US Standard Certificate of Death]\" indicates that the patient has passed away. While specific causes of death are not listed, the existing medications and care plan suggest cardiovascular issues may have contributed significantly.\\n\\n**Overall Assessment:**\\nThe patient had underlying health issues, particularly diabetes and likely cardiovascular disease, as indicated by the medications she was taking. These conditions would have required careful management, especially in the context of COVID-19, which can severely impact patients with pre-existing health issues.\\n\\n**Recommendations for Future Consideration:**\\n- It is essential to understand the patient\\'s complete health profile, including any relevant medical history, to better assess risks, prevention strategies, and treatment responses.\\n- Documenting allergies and vaccination status, particularly for COVID-19 and other relevant vaccines, is critical for comprehensive care and managing future health challenges.\\n- In the context of diabetes, regular follow-ups for glucose monitoring and cardiovascular health assessments would be recommended for similar patients in the future.\\n\\nIn summary, this patient was managing significant health concerns, and understanding these underlying conditions is essential for evaluating her death and the context surrounding her health outcomes.', refusal=None, role='assistant', audio=None, function_call=None, tool_calls=None)\n",
      "Based on the provided information, here is a comprehensive summary of the patient's health status:\n",
      "\n",
      "**Patient Profile:**\n",
      "- **Age:** As of October 2023, the patient is 53 years old.\n",
      "- **Gender:** Female\n",
      "\n",
      "**Medical History:**\n",
      "- The patient has a care plan in place for diabetes self-management, indicating that she has a diagnosis of diabetes. This can affect her overall health, management of other conditions, and response to treatments.\n",
      "- There is no information on the specific type of diabetes (Type 1 or Type 2) or details on her blood glucose control, which would be important in understanding her health status.\n",
      "\n",
      "**Medications:**\n",
      "1. **Clopidogrel 75 MG Oral Tablet:** Clopidogrel is an antiplatelet medication used to prevent blood clots. Its use suggests that the patient may have a history of cardiovascular issues, such as heart disease, a previous heart attack, or stroke.\n",
      "2. **Alteplase 100 MG Injection:** Alteplase is a thrombolytic agent used to dissolve blood clots, usually in cases of acute myocardial infarction (heart attack) or ischemic stroke. The necessity of this medication indicates that the patient may have experienced a significant cardiovascular event.\n",
      "\n",
      "**Allergies and Immunization History:**\n",
      "- No allergy information is provided, which is important for understanding treatment risks and potential reactions to medications.\n",
      "- There is also no information about her immunization status, particularly regarding COVID-19 or other vaccines. Given the ongoing relevance of COVID-19 in public health, it would be critical to assess her vaccination status.\n",
      "\n",
      "**Observations:**\n",
      "- The mention of \"Cause of Death [US Standard Certificate of Death]\" indicates that the patient has passed away. While specific causes of death are not listed, the existing medications and care plan suggest cardiovascular issues may have contributed significantly.\n",
      "\n",
      "**Overall Assessment:**\n",
      "The patient had underlying health issues, particularly diabetes and likely cardiovascular disease, as indicated by the medications she was taking. These conditions would have required careful management, especially in the context of COVID-19, which can severely impact patients with pre-existing health issues.\n",
      "\n",
      "**Recommendations for Future Consideration:**\n",
      "- It is essential to understand the patient's complete health profile, including any relevant medical history, to better assess risks, prevention strategies, and treatment responses.\n",
      "- Documenting allergies and vaccination status, particularly for COVID-19 and other relevant vaccines, is critical for comprehensive care and managing future health challenges.\n",
      "- In the context of diabetes, regular follow-ups for glucose monitoring and cardiovascular health assessments would be recommended for similar patients in the future.\n",
      "\n",
      "In summary, this patient was managing significant health concerns, and understanding these underlying conditions is essential for evaluating her death and the context surrounding her health outcomes.\n"
     ]
    }
   ],
   "source": [
    "print(get_summary(generate_patient_summary(\"58cac9ec-4baa-46c1-b919-0ed13572b51d\")))"
   ]
  },
  {
   "cell_type": "code",
   "execution_count": 40,
   "metadata": {},
   "outputs": [
    {
     "name": "stdout",
     "output_type": "stream",
     "text": [
      "ChatCompletionMessage(content=\"To analyze this patient data step-by-step regarding the risk of severe outcomes from COVID-19, we will consider each factor listed in the patient's profile.\\n\\n### Step 1: Basic Demographics\\n- **Birth date**: June 13, 1970\\n  - **Age**: As of today (October 2023), the patient is 53 years old. \\n  - **Age Factor**: Individuals aged 50 and older are at increased risk for severe illness from COVID-19.\\n\\n- **Gender**: Female\\n  - **Gender Consideration**: Studies have shown that males may have a higher risk of severe COVID-19 outcomes compared to females, although females still can experience significant risks depending on other conditions.\\n\\n### Step 2: Health Conditions\\n- **Observations**: Cause of Death [US Standard Certificate of Death]\\n  - Without specific details regarding the cause of death, we cannot determine the implications for current risk.\\n  \\n- **Care Plans**: Diabetes self-management plan\\n  - **Diabetes**: Diabetes is a recognized condition that can increase the risk of severe illness from COVID-19. Individuals with diabetes have a higher risk for complications if infected with the virus.\\n\\n### Step 3: Medications\\n- **Medications**:\\n  - **Clopidogrel**: This is an antiplatelet medication often prescribed for cardiovascular conditions. While not directly affecting COVID-19 risk, it may indicate underlying cardiovascular disease or risk, which is a concern in COVID-19.\\n  - **Alteplase**: This is a thrombolytic agent used to break down blood clots. Usage could indicate a past cardiovascular event (like a stroke or myocardial infarction) and suggests a history of vascular health issues, which can complicate COVID-19 outcomes.\\n\\n### Step 4: Immunizations\\n- **Immunizations**: The data does not provide any information on the patient's immunization history, particularly regarding COVID-19 vaccines. Vaccination status is critical in assessing risk:\\n  - If the patient is vaccinated, especially with booster doses, their risk for severe illness decreases significantly.\\n  - Lack of vaccination would place the patient at higher risk.\\n\\n### Step 5: Allergies\\n- **Allergies**: No information is provided.\\n  - Allergies themselves may not directly influence COVID-19 risk but could impact treatment options if the patient requires medications related to COVID-19 or its complications.\\n\\n### Step 6: Integration of Factors\\n- **Overall Assessment**:\\n  - The patient is 53 years old and female, placing her at increased risk due to age.\\n  - The presence of diabetes is a significant risk factor for poor outcomes with COVID-19.\\n  - History of cardiovascular issues indicated by the use of Clopidogrel and Alteplase could further elevate this risk.\\n  - Absence of information on COVID-19 vaccination status is a critical gap; vaccinated individuals typically have a lower risk of severe illness.\\n\\n### Final Conclusion and Recommendations:\\n1. **Higher Risk**: Given the patient’s age, diabetes, and cardiovascular medication, they are at a higher risk for severe outcomes from COVID-19.\\n2. **Vaccination Status**: It is essential to determine the COVID-19 vaccination status as it significantly influences risk and management strategies.\\n3. **Monitoring and Management**: The patient should be closely monitored for COVID-19 symptoms, and she should follow public health recommendations regarding COVID-19 preventive measures like masking, social distancing and considering booster vaccinations if not already done.\\n4. **Care Plan Adjustments**: The diabetes self-management plan should ensure proper glycemic control, as this may influence COVID-19 outcomes.\", refusal=None, role='assistant', audio=None, function_call=None, tool_calls=None)\n",
      "To analyze this patient data step-by-step regarding the risk of severe outcomes from COVID-19, we will consider each factor listed in the patient's profile.\n",
      "\n",
      "### Step 1: Basic Demographics\n",
      "- **Birth date**: June 13, 1970\n",
      "  - **Age**: As of today (October 2023), the patient is 53 years old. \n",
      "  - **Age Factor**: Individuals aged 50 and older are at increased risk for severe illness from COVID-19.\n",
      "\n",
      "- **Gender**: Female\n",
      "  - **Gender Consideration**: Studies have shown that males may have a higher risk of severe COVID-19 outcomes compared to females, although females still can experience significant risks depending on other conditions.\n",
      "\n",
      "### Step 2: Health Conditions\n",
      "- **Observations**: Cause of Death [US Standard Certificate of Death]\n",
      "  - Without specific details regarding the cause of death, we cannot determine the implications for current risk.\n",
      "  \n",
      "- **Care Plans**: Diabetes self-management plan\n",
      "  - **Diabetes**: Diabetes is a recognized condition that can increase the risk of severe illness from COVID-19. Individuals with diabetes have a higher risk for complications if infected with the virus.\n",
      "\n",
      "### Step 3: Medications\n",
      "- **Medications**:\n",
      "  - **Clopidogrel**: This is an antiplatelet medication often prescribed for cardiovascular conditions. While not directly affecting COVID-19 risk, it may indicate underlying cardiovascular disease or risk, which is a concern in COVID-19.\n",
      "  - **Alteplase**: This is a thrombolytic agent used to break down blood clots. Usage could indicate a past cardiovascular event (like a stroke or myocardial infarction) and suggests a history of vascular health issues, which can complicate COVID-19 outcomes.\n",
      "\n",
      "### Step 4: Immunizations\n",
      "- **Immunizations**: The data does not provide any information on the patient's immunization history, particularly regarding COVID-19 vaccines. Vaccination status is critical in assessing risk:\n",
      "  - If the patient is vaccinated, especially with booster doses, their risk for severe illness decreases significantly.\n",
      "  - Lack of vaccination would place the patient at higher risk.\n",
      "\n",
      "### Step 5: Allergies\n",
      "- **Allergies**: No information is provided.\n",
      "  - Allergies themselves may not directly influence COVID-19 risk but could impact treatment options if the patient requires medications related to COVID-19 or its complications.\n",
      "\n",
      "### Step 6: Integration of Factors\n",
      "- **Overall Assessment**:\n",
      "  - The patient is 53 years old and female, placing her at increased risk due to age.\n",
      "  - The presence of diabetes is a significant risk factor for poor outcomes with COVID-19.\n",
      "  - History of cardiovascular issues indicated by the use of Clopidogrel and Alteplase could further elevate this risk.\n",
      "  - Absence of information on COVID-19 vaccination status is a critical gap; vaccinated individuals typically have a lower risk of severe illness.\n",
      "\n",
      "### Final Conclusion and Recommendations:\n",
      "1. **Higher Risk**: Given the patient’s age, diabetes, and cardiovascular medication, they are at a higher risk for severe outcomes from COVID-19.\n",
      "2. **Vaccination Status**: It is essential to determine the COVID-19 vaccination status as it significantly influences risk and management strategies.\n",
      "3. **Monitoring and Management**: The patient should be closely monitored for COVID-19 symptoms, and she should follow public health recommendations regarding COVID-19 preventive measures like masking, social distancing and considering booster vaccinations if not already done.\n",
      "4. **Care Plan Adjustments**: The diabetes self-management plan should ensure proper glycemic control, as this may influence COVID-19 outcomes.\n"
     ]
    }
   ],
   "source": [
    "# disease analysis\n",
    "print(get_summary(generate_patient_summary(\"58cac9ec-4baa-46c1-b919-0ed13572b51d\",type='disease')))"
   ]
  },
  {
   "cell_type": "code",
   "execution_count": 41,
   "metadata": {},
   "outputs": [
    {
     "data": {
      "text/html": [
       "<div>\n",
       "<style scoped>\n",
       "    .dataframe tbody tr th:only-of-type {\n",
       "        vertical-align: middle;\n",
       "    }\n",
       "\n",
       "    .dataframe tbody tr th {\n",
       "        vertical-align: top;\n",
       "    }\n",
       "\n",
       "    .dataframe thead th {\n",
       "        text-align: right;\n",
       "    }\n",
       "</style>\n",
       "<table border=\"1\" class=\"dataframe\">\n",
       "  <thead>\n",
       "    <tr style=\"text-align: right;\">\n",
       "      <th></th>\n",
       "      <th>DATE</th>\n",
       "      <th>PATIENT</th>\n",
       "      <th>ENCOUNTER</th>\n",
       "      <th>CODE</th>\n",
       "      <th>DESCRIPTION</th>\n",
       "      <th>BASE_COST</th>\n",
       "      <th>REASONCODE</th>\n",
       "      <th>REASONDESCRIPTION</th>\n",
       "    </tr>\n",
       "  </thead>\n",
       "  <tbody>\n",
       "    <tr>\n",
       "      <th>86</th>\n",
       "      <td>2016-05-07</td>\n",
       "      <td>58cac9ec-4baa-46c1-b919-0ed13572b51d</td>\n",
       "      <td>15bcb310-ccbd-4371-bfe6-e9b79ec74aa9</td>\n",
       "      <td>40701008</td>\n",
       "      <td>Echocardiography (procedure)</td>\n",
       "      <td>819.51</td>\n",
       "      <td>230690007.0</td>\n",
       "      <td>Stroke</td>\n",
       "    </tr>\n",
       "    <tr>\n",
       "      <th>87</th>\n",
       "      <td>2016-05-07</td>\n",
       "      <td>58cac9ec-4baa-46c1-b919-0ed13572b51d</td>\n",
       "      <td>15bcb310-ccbd-4371-bfe6-e9b79ec74aa9</td>\n",
       "      <td>433112001</td>\n",
       "      <td>Percutaneous mechanical thrombectomy of portal...</td>\n",
       "      <td>27197.09</td>\n",
       "      <td>230690007.0</td>\n",
       "      <td>Stroke</td>\n",
       "    </tr>\n",
       "  </tbody>\n",
       "</table>\n",
       "</div>"
      ],
      "text/plain": [
       "          DATE                               PATIENT  \\\n",
       "86  2016-05-07  58cac9ec-4baa-46c1-b919-0ed13572b51d   \n",
       "87  2016-05-07  58cac9ec-4baa-46c1-b919-0ed13572b51d   \n",
       "\n",
       "                               ENCOUNTER       CODE  \\\n",
       "86  15bcb310-ccbd-4371-bfe6-e9b79ec74aa9   40701008   \n",
       "87  15bcb310-ccbd-4371-bfe6-e9b79ec74aa9  433112001   \n",
       "\n",
       "                                          DESCRIPTION  BASE_COST   REASONCODE  \\\n",
       "86                       Echocardiography (procedure)     819.51  230690007.0   \n",
       "87  Percutaneous mechanical thrombectomy of portal...   27197.09  230690007.0   \n",
       "\n",
       "   REASONDESCRIPTION  \n",
       "86            Stroke  \n",
       "87            Stroke  "
      ]
     },
     "execution_count": 41,
     "metadata": {},
     "output_type": "execute_result"
    }
   ],
   "source": [
    "# find out if any procedure was performed on the patient\n",
    "procedures_df[procedures_df['PATIENT'] == \"58cac9ec-4baa-46c1-b919-0ed13572b51d\"]"
   ]
  },
  {
   "cell_type": "code",
   "execution_count": 42,
   "metadata": {},
   "outputs": [
    {
     "name": "stdout",
     "output_type": "stream",
     "text": [
      "\n",
      "        Patient Summary:\n",
      "        - Birth date: 2017-08-24\n",
      "        - Gender: M\n",
      "        - Observations: Body Height, Pain severity - 0-10 verbal numeric rating [Score] - Reported, Body Weight, Weight-for-length Per age and sex, Head Occipital-frontal circumference, Diastolic Blood Pressure, Systolic Blood Pressure, Heart rate, Respiratory rate, Tobacco smoking status NHIS, Body Height, Pain severity - 0-10 verbal numeric rating [Score] - Reported, Body Weight, Weight-for-length Per age and sex, Head Occipital-frontal circumference, Body Mass Index, Body mass index (BMI) [Percentile] Per age and gender, Diastolic Blood Pressure, Systolic Blood Pressure, Heart rate, Respiratory rate, Tobacco smoking status NHIS, Body temperature, Respiratory rate, Heart rate, Oxygen saturation in Arterial blood, Diastolic Blood Pressure, Systolic Blood Pressure, Body Weight, Influenza virus A RNA [Presence] in Respiratory specimen by NAA with probe detection, Influenza virus B RNA [Presence] in Respiratory specimen by NAA with probe detection, Respiratory syncytial virus RNA [Presence] in Respiratory specimen by NAA with probe detection, Parainfluenza virus 1 RNA [Presence] in Respiratory specimen by NAA with probe detection, Parainfluenza virus 2 RNA [Presence] in Respiratory specimen by NAA with probe detection, Parainfluenza virus 3 RNA [Presence] in Respiratory specimen by NAA with probe detection, Rhinovirus RNA [Presence] in Respiratory specimen by NAA with probe detection, Human metapneumovirus RNA [Presence] in Respiratory specimen by NAA with probe detection, Adenovirus A+B+C+D+E DNA [Presence] in Respiratory specimen by NAA with probe detection, SARS-CoV-2 RNA Pnl Resp NAA+probe, QALY, DALY, QOLS\n",
      "        - Immunizations: Influenza  seasonal  injectable  preservative free, Hep A  ped/adol  2 dose\n",
      "        - Allergies: \n",
      "        - Care Plans: Infectious disease care plan (record artifact), Infectious disease care plan (record artifact)\n",
      "        - Medications: Amoxicillin 250 MG Oral Capsule, Acetaminophen 160 MG Chewable Tablet\n",
      "        - Procedures: Medication Reconciliation (procedure), Face mask (physical object)\n",
      "\n",
      "        Based on the above information, provide a comprehensive summary of the patient's health status.\n",
      "        \n"
     ]
    }
   ],
   "source": [
    "# add procedure to the patient summary to find out the impact of the procedure on the patient\n",
    "def generate_patient_procedure_summary(patient_id,type='summary'):\n",
    "    # Extract patient information\n",
    "    patient_info = patients_df[patients_df['Id'] == patient_id].iloc[0]\n",
    "    observations = observations_df[observations_df['PATIENT'] == patient_id]\n",
    "    immunizations = immunizations_df[immunizations_df['PATIENT'] == patient_id]\n",
    "    careplans = care_plans_df[care_plans_df['PATIENT'] == patient_id]\n",
    "    medications = medications_df[medications_df['PATIENT'] == patient_id]\n",
    "    allergies = allergies_df[allergies_df['PATIENT'] == patient_id]\n",
    "    procedures = procedures_df[procedures_df['PATIENT'] == patient_id]\n",
    "\n",
    "    if type == 'summary':\n",
    "        # Generate a patient summary\n",
    "        \n",
    "        # Construct the prompt\n",
    "        prompt = f\"\"\"\n",
    "        Patient Summary:\n",
    "        - Birth date: {patient_info['BIRTHDATE']}\n",
    "        - Gender: {patient_info['GENDER']}\n",
    "        - Observations: {', '.join(observations['DESCRIPTION'].tolist())}\n",
    "        - Immunizations: {', '.join(immunizations['DESCRIPTION'].tolist())}\n",
    "        - Allergies: {', '.join(allergies['DESCRIPTION'].tolist())}\n",
    "        - Care Plans: {', '.join(careplans['DESCRIPTION'].tolist())}\n",
    "        - Medications: {', '.join(medications['DESCRIPTION'].tolist())}\n",
    "        - Procedures: {', '.join(procedures['DESCRIPTION'].tolist())}\n",
    "\n",
    "        Based on the above information, provide a comprehensive summary of the patient's health status.\n",
    "        \"\"\"\n",
    "    elif type == 'disease':\n",
    "        prompt = f\"\"\"\n",
    "        Analyze the following patient data step-by-step to assess disease risk:\n",
    "        \n",
    "        - Birth date: {patient_info['BIRTHDATE']}\n",
    "        - Gender: {patient_info['GENDER']}\n",
    "        - Observations: {', '.join(observations['DESCRIPTION'].tolist())}\n",
    "        - Immunizations: {', '.join(immunizations['DESCRIPTION'].tolist())}\n",
    "        - Allergies: {', '.join(allergies['DESCRIPTION'].tolist())}\n",
    "        - Care Plans: {', '.join(careplans['DESCRIPTION'].tolist())}\n",
    "        - Medications: {', '.join(medications['DESCRIPTION'].tolist())}\n",
    "        - Procedures: {', '.join(procedures['DESCRIPTION'].tolist())}\n",
    "\n",
    "        Step-by-step analysis:\n",
    "        \"\"\"\n",
    "    #print(prompt)\n",
    "    return prompt\n",
    "# Generate a patient summary for the first patient\n",
    "print(generate_patient_procedure_summary(\"f0f3bc8d-ef38-49ce-a2bd-dfdda982b271\"))"
   ]
  },
  {
   "cell_type": "code",
   "execution_count": 43,
   "metadata": {},
   "outputs": [
    {
     "name": "stdout",
     "output_type": "stream",
     "text": [
      "\n",
      "        Patient Summary:\n",
      "        - Birth date: 1970-06-13\n",
      "        - Gender: F\n",
      "        - Observations: Cause of Death [US Standard Certificate of Death]\n",
      "        - Immunizations: \n",
      "        - Allergies: \n",
      "        - Care Plans: Diabetes self management plan\n",
      "        - Medications: Clopidogrel 75 MG Oral Tablet, Alteplase 100 MG Injection\n",
      "        - Procedures: Echocardiography (procedure), Percutaneous mechanical thrombectomy of portal vein using fluoroscopic guidance\n",
      "\n",
      "        Based on the above information, provide a comprehensive summary of the patient's health status.\n",
      "        \n"
     ]
    }
   ],
   "source": [
    "# Generate a patient summary for the patient died\n",
    "print(generate_patient_procedure_summary(\"58cac9ec-4baa-46c1-b919-0ed13572b51d\"))"
   ]
  },
  {
   "cell_type": "code",
   "execution_count": 44,
   "metadata": {},
   "outputs": [
    {
     "name": "stdout",
     "output_type": "stream",
     "text": [
      "ChatCompletionMessage(content=\"To assess the disease risk of this patient, we will analyze her demographic information, medical history, current medications, and any ongoing care plans. \\n\\n### Step 1: Demographic Information\\n- **Birth Date**: 1970-06-13\\n    - Age: As of October 2023, the patient is 53 years old. COVID-19 severity tends to increase with age, particularly in patients over 50. This age group, therefore, constitutes a moderate to high-risk group for severe outcomes associated with COVID-19.\\n    \\n- **Gender**: Female\\n    - While both genders can be severely affected by COVID-19, some studies have shown that men may have a slightly higher risk of severe illness. However, underlying health conditions play a more critical role. \\n\\n### Step 2: Existing Medical Conditions\\n- **Care Plans**: Diabetes self-management plan\\n    - Diabetes is a known risk factor for severe illness from COVID-19. Uncontrolled diabetes can further elevate this risk, making effective management crucial. \\n\\n### Step 3: Medications\\n- **Clopidogrel 75 MG Oral Tablet**: \\n    - Used for blood thinning, this indicates a potential history of cardiovascular issues, which may increase the risk of severe disease manifestations in the context of COVID-19.\\n\\n- **Alteplase 100 MG Injection**: \\n    - This medication is a thrombolytic agent often used to treat certain types of strokes or heart attacks. If the patient has had a history of cardiovascular events, it would heighten overall disease risk, including complications with infectious diseases like COVID-19. \\n\\n### Step 4: Procedures\\n- **Echocardiography**: \\n    - This procedure indicates a potential history of cardiac issues. Cardiovascular comorbidities significantly increase the risk of severe COVID-19 outcomes.\\n\\n- **Percutaneous Mechanical Thrombectomy of Portal Vein**: \\n    - A procedure of this nature suggests previous serious vascular or thrombotic events, further indicating a history of significant health issues—this raises the concern for severe complications in the event of a COVID-19 infection.\\n\\n### Step 5: Allergies and Immunizations\\n- **Immunizations**: \\n    - The absence of vaccine data limits our assessment. It is essential to know if the patient has received COVID-19 vaccinations, as vaccination significantly reduces the risk of severe disease outcomes. Finding out the vaccination status, including any booster shots, would be critical in risk assessment.\\n\\n- **Allergies**: \\n    - No recorded allergies could suggest a lack of significant adverse reactions to medications, but its absence does not provide any risk increase related to COVID-19.\\n\\n### Step 6: Conclusion and Recommendations\\nGiven this patient's age, their medical conditions (diabetes and potential cardiovascular issues), and the procedures they have undergone, she is at a higher risk for severe outcomes if infected with COVID-19. \\n\\n#### Recommendations:\\n1. **Monitor Blood Sugar Levels**: Ensure diabetes is well-managed to reduce risk.\\n2. **Vaccination**: Confirm COVID-19 vaccination status; encourage receiving the latest vaccines and boosters if not up-to-date.\\n3. **Regular Check-ups**: Given her cardiovascular history, regular follow-ups with a healthcare provider are essential.\\n4. **Preventive Measures**: Advise adherence to preventive measures (masking, hand hygiene) especially in high-risk settings.\\n5. **Seek Medical Attention**: Advise the patient to seek immediate medical attention if showing symptoms of COVID-19, considering her medical history. \\n\\nThis thorough assessment points to the need for close monitoring and proactive management of this patient’s health in relation to COVID-19.\", refusal=None, role='assistant', audio=None, function_call=None, tool_calls=None)\n",
      "To assess the disease risk of this patient, we will analyze her demographic information, medical history, current medications, and any ongoing care plans. \n",
      "\n",
      "### Step 1: Demographic Information\n",
      "- **Birth Date**: 1970-06-13\n",
      "    - Age: As of October 2023, the patient is 53 years old. COVID-19 severity tends to increase with age, particularly in patients over 50. This age group, therefore, constitutes a moderate to high-risk group for severe outcomes associated with COVID-19.\n",
      "    \n",
      "- **Gender**: Female\n",
      "    - While both genders can be severely affected by COVID-19, some studies have shown that men may have a slightly higher risk of severe illness. However, underlying health conditions play a more critical role. \n",
      "\n",
      "### Step 2: Existing Medical Conditions\n",
      "- **Care Plans**: Diabetes self-management plan\n",
      "    - Diabetes is a known risk factor for severe illness from COVID-19. Uncontrolled diabetes can further elevate this risk, making effective management crucial. \n",
      "\n",
      "### Step 3: Medications\n",
      "- **Clopidogrel 75 MG Oral Tablet**: \n",
      "    - Used for blood thinning, this indicates a potential history of cardiovascular issues, which may increase the risk of severe disease manifestations in the context of COVID-19.\n",
      "\n",
      "- **Alteplase 100 MG Injection**: \n",
      "    - This medication is a thrombolytic agent often used to treat certain types of strokes or heart attacks. If the patient has had a history of cardiovascular events, it would heighten overall disease risk, including complications with infectious diseases like COVID-19. \n",
      "\n",
      "### Step 4: Procedures\n",
      "- **Echocardiography**: \n",
      "    - This procedure indicates a potential history of cardiac issues. Cardiovascular comorbidities significantly increase the risk of severe COVID-19 outcomes.\n",
      "\n",
      "- **Percutaneous Mechanical Thrombectomy of Portal Vein**: \n",
      "    - A procedure of this nature suggests previous serious vascular or thrombotic events, further indicating a history of significant health issues—this raises the concern for severe complications in the event of a COVID-19 infection.\n",
      "\n",
      "### Step 5: Allergies and Immunizations\n",
      "- **Immunizations**: \n",
      "    - The absence of vaccine data limits our assessment. It is essential to know if the patient has received COVID-19 vaccinations, as vaccination significantly reduces the risk of severe disease outcomes. Finding out the vaccination status, including any booster shots, would be critical in risk assessment.\n",
      "\n",
      "- **Allergies**: \n",
      "    - No recorded allergies could suggest a lack of significant adverse reactions to medications, but its absence does not provide any risk increase related to COVID-19.\n",
      "\n",
      "### Step 6: Conclusion and Recommendations\n",
      "Given this patient's age, their medical conditions (diabetes and potential cardiovascular issues), and the procedures they have undergone, she is at a higher risk for severe outcomes if infected with COVID-19. \n",
      "\n",
      "#### Recommendations:\n",
      "1. **Monitor Blood Sugar Levels**: Ensure diabetes is well-managed to reduce risk.\n",
      "2. **Vaccination**: Confirm COVID-19 vaccination status; encourage receiving the latest vaccines and boosters if not up-to-date.\n",
      "3. **Regular Check-ups**: Given her cardiovascular history, regular follow-ups with a healthcare provider are essential.\n",
      "4. **Preventive Measures**: Advise adherence to preventive measures (masking, hand hygiene) especially in high-risk settings.\n",
      "5. **Seek Medical Attention**: Advise the patient to seek immediate medical attention if showing symptoms of COVID-19, considering her medical history. \n",
      "\n",
      "This thorough assessment points to the need for close monitoring and proactive management of this patient’s health in relation to COVID-19.\n"
     ]
    }
   ],
   "source": [
    "# step-by-step analysis\n",
    "print(get_summary(generate_patient_procedure_summary(\"58cac9ec-4baa-46c1-b919-0ed13572b51d\",type='disease')))"
   ]
  },
  {
   "cell_type": "code",
   "execution_count": 46,
   "metadata": {},
   "outputs": [
    {
     "name": "stdout",
     "output_type": "stream",
     "text": [
      "\n",
      "    - Birth date: 1970-06-13\n",
      "        - Gender: F\n",
      "        - Observations: Cause of Death [US Standard Certificate of Death]\n",
      "        - Immunizations: \n",
      "        - Allergies: \n",
      "        - Care Plans: Diabetes self management plan\n",
      "        - Medications: Clopidogrel 75 MG Oral Tablet, Alteplase 100 MG Injection\n",
      "        - Procedures: Echocardiography (procedure), Percutaneous mechanical thrombectomy of portal vein using fluoroscopic guidance\n",
      "\n"
     ]
    }
   ],
   "source": [
    "def get_patient_info(patient_id):\n",
    "    patient_info = patients_df[patients_df['Id'] == patient_id].iloc[0]\n",
    "    observations = observations_df[observations_df['PATIENT'] == patient_id]\n",
    "    immunizations = immunizations_df[immunizations_df['PATIENT'] == patient_id]\n",
    "    careplans = care_plans_df[care_plans_df['PATIENT'] == patient_id]\n",
    "    medications = medications_df[medications_df['PATIENT'] == patient_id]\n",
    "    allergies = allergies_df[allergies_df['PATIENT'] == patient_id]\n",
    "    procedures = procedures_df[procedures_df['PATIENT'] == patient_id]\n",
    "    return f\"\"\"\n",
    "    - Birth date: {patient_info['BIRTHDATE']}\n",
    "        - Gender: {patient_info['GENDER']}\n",
    "        - Observations: {', '.join(observations['DESCRIPTION'].tolist())}\n",
    "        - Immunizations: {', '.join(immunizations['DESCRIPTION'].tolist())}\n",
    "        - Allergies: {', '.join(allergies['DESCRIPTION'].tolist())}\n",
    "        - Care Plans: {', '.join(careplans['DESCRIPTION'].tolist())}\n",
    "        - Medications: {', '.join(medications['DESCRIPTION'].tolist())}\n",
    "        - Procedures: {', '.join(procedures['DESCRIPTION'].tolist())}\n",
    "\"\"\"\n",
    "print(get_patient_info(\"58cac9ec-4baa-46c1-b919-0ed13572b51d\"))"
   ]
  },
  {
   "cell_type": "code",
   "execution_count": 47,
   "metadata": {},
   "outputs": [
    {
     "name": "stdout",
     "output_type": "stream",
     "text": [
      "ChatCompletionMessage(content=\"Based on the provided patient summary, the following diseases or conditions can be predicted or considered likely:\\n\\n1. **Diabetes Mellitus**: The care plan indicates a diabetes self-management plan, suggesting that the patient has diabetes, which could be type 1 or type 2.\\n\\n2. **Cardiovascular Disease**: The use of Clopidogrel (an antiplatelet medication often prescribed to prevent blood clots in patients with cardiovascular diseases) and the echocardiography procedure may suggest a history of cardiovascular issues, such as coronary artery disease or a history of myocardial infarction.\\n\\n3. **Stroke or Transient Ischemic Attack (TIA)**: The administration of Alteplase (a thrombolytic agent) indicates that the patient may have experienced a stroke or TIA, as this medication is commonly used to dissolve clots in patients suffering from these conditions.\\n\\n4. **Portal Vein Thrombosis**: The mention of a percutaneous mechanical thrombectomy of the portal vein suggests that the patient may have portal vein thrombosis, a condition that can result from various causes including cirrhosis or a hypercoagulable state.\\n\\nOverall, the most likely diseases or conditions based on this patient's summary are:\\n- Diabetes Mellitus\\n- Cardiovascular Disease\\n- Stroke or TIA\\n- Portal Vein Thrombosis\", refusal=None, role='assistant', audio=None, function_call=None, tool_calls=None)\n",
      "Based on the provided patient summary, the following diseases or conditions can be predicted or considered likely:\n",
      "\n",
      "1. **Diabetes Mellitus**: The care plan indicates a diabetes self-management plan, suggesting that the patient has diabetes, which could be type 1 or type 2.\n",
      "\n",
      "2. **Cardiovascular Disease**: The use of Clopidogrel (an antiplatelet medication often prescribed to prevent blood clots in patients with cardiovascular diseases) and the echocardiography procedure may suggest a history of cardiovascular issues, such as coronary artery disease or a history of myocardial infarction.\n",
      "\n",
      "3. **Stroke or Transient Ischemic Attack (TIA)**: The administration of Alteplase (a thrombolytic agent) indicates that the patient may have experienced a stroke or TIA, as this medication is commonly used to dissolve clots in patients suffering from these conditions.\n",
      "\n",
      "4. **Portal Vein Thrombosis**: The mention of a percutaneous mechanical thrombectomy of the portal vein suggests that the patient may have portal vein thrombosis, a condition that can result from various causes including cirrhosis or a hypercoagulable state.\n",
      "\n",
      "Overall, the most likely diseases or conditions based on this patient's summary are:\n",
      "- Diabetes Mellitus\n",
      "- Cardiovascular Disease\n",
      "- Stroke or TIA\n",
      "- Portal Vein Thrombosis\n"
     ]
    }
   ],
   "source": [
    "# based on the patient information, predict the most likely diseases\n",
    "def predict_disease(patient_summary):\n",
    "    prompt = (\n",
    "        \"Given the following patient summary, predict the most likely diseases:\\n\\n\"\n",
    "        f\"{patient_summary}\\n\\n\"\n",
    "        \"Predicted diseases:\"\n",
    "    )\n",
    "    return get_summary(prompt)\n",
    "print(predict_disease(get_patient_info(\"58cac9ec-4baa-46c1-b919-0ed13572b51d\")))"
   ]
  },
  {
   "cell_type": "code",
   "execution_count": 48,
   "metadata": {},
   "outputs": [
    {
     "name": "stdout",
     "output_type": "stream",
     "text": [
      "ChatCompletionMessage(content=\"Based on the patient summary provided, several hypotheses for potential diseases or conditions can be generated, considering the patient's age, gender, medications, procedures performed, and existing care plans. Here are possible disease hypotheses:\\n\\n1. **Cardiovascular Disease**:\\n   - The use of Clopidogrel and the echocardiography suggests the patient may have a history of coronary artery disease or acute coronary syndrome.\\n   - The percutaneous mechanical thrombectomy indicates the presence of thrombosis, possibly related to cardiovascular conditions.\\n\\n2. **Diabetes Complications**:\\n   - The diabetes self-management plan implies the presence of diabetes mellitus, which could lead to various complications such as cardiovascular disease, neuropathy, or retinopathy.\\n   - The presence of vascular complications leading to thrombosis could be related to poorly managed diabetes.\\n\\n3. **Cerebrovascular Accident (Stroke)**:\\n   - The administration of Alteplase, a tissue plasminogen activator, indicates a treatment for acute ischemic stroke, suggesting the patient may have experienced a stroke due to thromboembolic disease.\\n\\n4. **Portal Vein Thrombosis**:\\n   - The procedure for mechanical thrombectomy of the portal vein indicates portal vein thrombosis, which can be associated with conditions such as liver cirrhosis, malignancy, or hypercoagulable states.\\n\\n5. **Atrial Fibrillation**:\\n   - If the patient has a history of atrial fibrillation, this could explain the anticoagulant therapy with Clopidogrel and the events leading to thrombosis and stroke.\\n\\n6. **Chronic Kidney Disease**:\\n   - Given the patient's age and comorbidities (diabetes), chronic kidney disease may be a factor, potentially contributing to cardiovascular issues and medication management challenges.\\n\\n7. **Thromboembolic Disease**:\\n   - While the specific mention of thrombosis may imply portal vein involvement, systemic thromboembolic disease may be ongoing, warranting further investigation of other vascular territories.\\n\\n8. **Malignancy**:\\n   - Depending on the clinical context and further diagnostic imaging, underlying malignancies could precipitate vascular complications and thrombosis, particularly in the case of portal vein issues.\\n\\nThese hypotheses should be further investigated through additional clinical history, laboratory results, imaging studies, and consultations with specialists as needed.\", refusal=None, role='assistant', audio=None, function_call=None, tool_calls=None)\n",
      "Based on the patient summary provided, several hypotheses for potential diseases or conditions can be generated, considering the patient's age, gender, medications, procedures performed, and existing care plans. Here are possible disease hypotheses:\n",
      "\n",
      "1. **Cardiovascular Disease**:\n",
      "   - The use of Clopidogrel and the echocardiography suggests the patient may have a history of coronary artery disease or acute coronary syndrome.\n",
      "   - The percutaneous mechanical thrombectomy indicates the presence of thrombosis, possibly related to cardiovascular conditions.\n",
      "\n",
      "2. **Diabetes Complications**:\n",
      "   - The diabetes self-management plan implies the presence of diabetes mellitus, which could lead to various complications such as cardiovascular disease, neuropathy, or retinopathy.\n",
      "   - The presence of vascular complications leading to thrombosis could be related to poorly managed diabetes.\n",
      "\n",
      "3. **Cerebrovascular Accident (Stroke)**:\n",
      "   - The administration of Alteplase, a tissue plasminogen activator, indicates a treatment for acute ischemic stroke, suggesting the patient may have experienced a stroke due to thromboembolic disease.\n",
      "\n",
      "4. **Portal Vein Thrombosis**:\n",
      "   - The procedure for mechanical thrombectomy of the portal vein indicates portal vein thrombosis, which can be associated with conditions such as liver cirrhosis, malignancy, or hypercoagulable states.\n",
      "\n",
      "5. **Atrial Fibrillation**:\n",
      "   - If the patient has a history of atrial fibrillation, this could explain the anticoagulant therapy with Clopidogrel and the events leading to thrombosis and stroke.\n",
      "\n",
      "6. **Chronic Kidney Disease**:\n",
      "   - Given the patient's age and comorbidities (diabetes), chronic kidney disease may be a factor, potentially contributing to cardiovascular issues and medication management challenges.\n",
      "\n",
      "7. **Thromboembolic Disease**:\n",
      "   - While the specific mention of thrombosis may imply portal vein involvement, systemic thromboembolic disease may be ongoing, warranting further investigation of other vascular territories.\n",
      "\n",
      "8. **Malignancy**:\n",
      "   - Depending on the clinical context and further diagnostic imaging, underlying malignancies could precipitate vascular complications and thrombosis, particularly in the case of portal vein issues.\n",
      "\n",
      "These hypotheses should be further investigated through additional clinical history, laboratory results, imaging studies, and consultations with specialists as needed.\n"
     ]
    }
   ],
   "source": [
    "# Generate multiple disease hypotheses\n",
    "def disease_hypotheses(patient_summary):\n",
    "    prompt = (\n",
    "        \"Given the following patient summary, generate multiple hypotheses for potential diseases:\\n\\n\"\n",
    "        f\"{patient_summary}\\n\\n\"\n",
    "        \"Disease hypotheses:\"\n",
    "    )\n",
    "    return get_summary(prompt)\n",
    "print(disease_hypotheses(get_patient_info(\"58cac9ec-4baa-46c1-b919-0ed13572b51d\")))"
   ]
  },
  {
   "cell_type": "code",
   "execution_count": null,
   "metadata": {},
   "outputs": [],
   "source": []
  }
 ],
 "metadata": {
  "kernelspec": {
   "display_name": "pytorch-ai",
   "language": "python",
   "name": "python3"
  },
  "language_info": {
   "codemirror_mode": {
    "name": "ipython",
    "version": 3
   },
   "file_extension": ".py",
   "mimetype": "text/x-python",
   "name": "python",
   "nbconvert_exporter": "python",
   "pygments_lexer": "ipython3",
   "version": "3.9.20"
  }
 },
 "nbformat": 4,
 "nbformat_minor": 2
}
