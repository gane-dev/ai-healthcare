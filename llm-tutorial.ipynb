{
 "cells": [
  {
   "cell_type": "code",
   "execution_count": 1,
   "metadata": {},
   "outputs": [],
   "source": [
    "import pandas as pd\n",
    "conditions_df = pd.read_csv(\"covid-data/conditions.csv\")\n",
    "patients_df = pd.read_csv(\"covid-data/patients.csv\")\n",
    "observations_df = pd.read_csv(\"covid-data/observations.csv\")\n",
    "care_plans_df = pd.read_csv(\"covid-data/careplans.csv\")\n",
    "encounters_df = pd.read_csv(\"covid-data/encounters.csv\")\n",
    "procedures_df = pd.read_csv(\"covid-data/procedures.csv\")\n",
    "medications_df = pd.read_csv(\"covid-data/medications.csv\")"
   ]
  },
  {
   "cell_type": "code",
   "execution_count": 2,
   "metadata": {},
   "outputs": [],
   "source": [
    "immunizations_df = pd.read_csv(\"covid-data/immunizations.csv\")\n",
    "allergies_df = pd.read_csv(\"covid-data/allergies.csv\")"
   ]
  },
  {
   "cell_type": "code",
   "execution_count": 6,
   "metadata": {},
   "outputs": [
    {
     "data": {
      "text/plain": [
       "Index(['Id', 'BIRTHDATE', 'DEATHDATE', 'SSN', 'DRIVERS', 'PASSPORT', 'PREFIX',\n",
       "       'FIRST', 'LAST', 'SUFFIX', 'MAIDEN', 'MARITAL', 'RACE', 'ETHNICITY',\n",
       "       'GENDER', 'BIRTHPLACE', 'ADDRESS', 'CITY', 'STATE', 'COUNTY', 'ZIP',\n",
       "       'LAT', 'LON', 'HEALTHCARE_EXPENSES', 'HEALTHCARE_COVERAGE'],\n",
       "      dtype='object')"
      ]
     },
     "execution_count": 6,
     "metadata": {},
     "output_type": "execute_result"
    }
   ],
   "source": [
    "patients_df.columns"
   ]
  },
  {
   "cell_type": "code",
   "execution_count": 16,
   "metadata": {},
   "outputs": [
    {
     "data": {
      "text/plain": [
       "Index(['DATE', 'PATIENT', 'ENCOUNTER', 'CODE', 'DESCRIPTION', 'VALUE', 'UNITS',\n",
       "       'TYPE'],\n",
       "      dtype='object')"
      ]
     },
     "execution_count": 16,
     "metadata": {},
     "output_type": "execute_result"
    }
   ],
   "source": [
    "observations_df.columns"
   ]
  },
  {
   "cell_type": "code",
   "execution_count": 18,
   "metadata": {},
   "outputs": [
    {
     "data": {
      "text/plain": [
       "Index(['DATE', 'PATIENT', 'ENCOUNTER', 'CODE', 'DESCRIPTION', 'BASE_COST'], dtype='object')"
      ]
     },
     "execution_count": 18,
     "metadata": {},
     "output_type": "execute_result"
    }
   ],
   "source": [
    "immunizations_df.columns"
   ]
  },
  {
   "cell_type": "code",
   "execution_count": 19,
   "metadata": {},
   "outputs": [
    {
     "data": {
      "text/plain": [
       "Index(['START', 'STOP', 'PATIENT', 'ENCOUNTER', 'CODE', 'DESCRIPTION'], dtype='object')"
      ]
     },
     "execution_count": 19,
     "metadata": {},
     "output_type": "execute_result"
    }
   ],
   "source": [
    "allergies_df.columns"
   ]
  },
  {
   "cell_type": "code",
   "execution_count": 20,
   "metadata": {},
   "outputs": [
    {
     "data": {
      "text/plain": [
       "Index(['Id', 'START', 'STOP', 'PATIENT', 'ENCOUNTER', 'CODE', 'DESCRIPTION',\n",
       "       'REASONCODE', 'REASONDESCRIPTION'],\n",
       "      dtype='object')"
      ]
     },
     "execution_count": 20,
     "metadata": {},
     "output_type": "execute_result"
    }
   ],
   "source": [
    "care_plans_df.columns"
   ]
  },
  {
   "cell_type": "code",
   "execution_count": 21,
   "metadata": {},
   "outputs": [
    {
     "data": {
      "text/plain": [
       "Index(['START', 'STOP', 'PATIENT', 'PAYER', 'ENCOUNTER', 'CODE', 'DESCRIPTION',\n",
       "       'BASE_COST', 'PAYER_COVERAGE', 'DISPENSES', 'TOTALCOST', 'REASONCODE',\n",
       "       'REASONDESCRIPTION'],\n",
       "      dtype='object')"
      ]
     },
     "execution_count": 21,
     "metadata": {},
     "output_type": "execute_result"
    }
   ],
   "source": [
    "medications_df.columns"
   ]
  },
  {
   "cell_type": "code",
   "execution_count": 7,
   "metadata": {},
   "outputs": [
    {
     "name": "stdout",
     "output_type": "stream",
     "text": [
      "\n",
      "        Patient Summary:\n",
      "        - Birth date: 2017-08-24\n",
      "        - Gender: M\n",
      "        - Observations: Body Height, Pain severity - 0-10 verbal numeric rating [Score] - Reported, Body Weight, Weight-for-length Per age and sex, Head Occipital-frontal circumference, Diastolic Blood Pressure, Systolic Blood Pressure, Heart rate, Respiratory rate, Tobacco smoking status NHIS, Body Height, Pain severity - 0-10 verbal numeric rating [Score] - Reported, Body Weight, Weight-for-length Per age and sex, Head Occipital-frontal circumference, Body Mass Index, Body mass index (BMI) [Percentile] Per age and gender, Diastolic Blood Pressure, Systolic Blood Pressure, Heart rate, Respiratory rate, Tobacco smoking status NHIS, Body temperature, Respiratory rate, Heart rate, Oxygen saturation in Arterial blood, Diastolic Blood Pressure, Systolic Blood Pressure, Body Weight, Influenza virus A RNA [Presence] in Respiratory specimen by NAA with probe detection, Influenza virus B RNA [Presence] in Respiratory specimen by NAA with probe detection, Respiratory syncytial virus RNA [Presence] in Respiratory specimen by NAA with probe detection, Parainfluenza virus 1 RNA [Presence] in Respiratory specimen by NAA with probe detection, Parainfluenza virus 2 RNA [Presence] in Respiratory specimen by NAA with probe detection, Parainfluenza virus 3 RNA [Presence] in Respiratory specimen by NAA with probe detection, Rhinovirus RNA [Presence] in Respiratory specimen by NAA with probe detection, Human metapneumovirus RNA [Presence] in Respiratory specimen by NAA with probe detection, Adenovirus A+B+C+D+E DNA [Presence] in Respiratory specimen by NAA with probe detection, SARS-CoV-2 RNA Pnl Resp NAA+probe, QALY, DALY, QOLS\n",
      "        - Immunizations: Influenza  seasonal  injectable  preservative free, Hep A  ped/adol  2 dose\n",
      "        - Allergies: \n",
      "        - Care Plans: Infectious disease care plan (record artifact), Infectious disease care plan (record artifact)\n",
      "        - Medications: Amoxicillin 250 MG Oral Capsule, Acetaminophen 160 MG Chewable Tablet\n",
      "\n",
      "        Based on the above information, provide a comprehensive summary of the patient's health status.\n",
      "        \n"
     ]
    }
   ],
   "source": [
    "def generate_patient_summary(patient_id,type='summary'):\n",
    "    # Extract patient information\n",
    "    patient_info = patients_df[patients_df['Id'] == patient_id].iloc[0]\n",
    "    observations = observations_df[observations_df['PATIENT'] == patient_id]\n",
    "    immunizations = immunizations_df[immunizations_df['PATIENT'] == patient_id]\n",
    "    careplans = care_plans_df[care_plans_df['PATIENT'] == patient_id]\n",
    "    medications = medications_df[medications_df['PATIENT'] == patient_id]\n",
    "    allergies = allergies_df[allergies_df['PATIENT'] == patient_id]\n",
    "\n",
    "    if type == 'summary':\n",
    "        # Generate a patient summary\n",
    "        \n",
    "        # Construct the prompt\n",
    "        prompt = f\"\"\"\n",
    "        Patient Summary:\n",
    "        - Birth date: {patient_info['BIRTHDATE']}\n",
    "        - Gender: {patient_info['GENDER']}\n",
    "        - Observations: {', '.join(observations['DESCRIPTION'].tolist())}\n",
    "        - Immunizations: {', '.join(immunizations['DESCRIPTION'].tolist())}\n",
    "        - Allergies: {', '.join(allergies['DESCRIPTION'].tolist())}\n",
    "        - Care Plans: {', '.join(careplans['DESCRIPTION'].tolist())}\n",
    "        - Medications: {', '.join(medications['DESCRIPTION'].tolist())}\n",
    "\n",
    "        Based on the above information, provide a comprehensive summary of the patient's health status.\n",
    "        \"\"\"\n",
    "    elif type == 'disease':\n",
    "        prompt = f\"\"\"\n",
    "        Analyze the following patient data step-by-step to assess disease risk:\n",
    "        \n",
    "        - Birth date: {patient_info['BIRTHDATE']}\n",
    "        - Gender: {patient_info['GENDER']}\n",
    "        - Observations: {', '.join(observations['DESCRIPTION'].tolist())}\n",
    "        - Immunizations: {', '.join(immunizations['DESCRIPTION'].tolist())}\n",
    "        - Allergies: {', '.join(allergies['DESCRIPTION'].tolist())}\n",
    "        - Care Plans: {', '.join(careplans['DESCRIPTION'].tolist())}\n",
    "        - Medications: {', '.join(medications['DESCRIPTION'].tolist())}\n",
    "\n",
    "        Step-by-step analysis:\n",
    "        \"\"\"\n",
    "    #print(prompt)\n",
    "    return prompt\n",
    "# Generate a patient summary for the first patient\n",
    "print(generate_patient_summary(\"f0f3bc8d-ef38-49ce-a2bd-dfdda982b271\"))"
   ]
  },
  {
   "cell_type": "code",
   "execution_count": 5,
   "metadata": {},
   "outputs": [
    {
     "data": {
      "text/plain": [
       "True"
      ]
     },
     "execution_count": 5,
     "metadata": {},
     "output_type": "execute_result"
    }
   ],
   "source": [
    "from dotenv import load_dotenv\n",
    "import os\n",
    "\n",
    "load_dotenv()"
   ]
  },
  {
   "cell_type": "code",
   "execution_count": 8,
   "metadata": {},
   "outputs": [
    {
     "name": "stdout",
     "output_type": "stream",
     "text": [
      "**Patient Health Summary**\n",
      "\n",
      "**Demographics:**\n",
      "- **Date of Birth**: August 24, 2017\n",
      "- **Gender**: Male\n",
      "\n",
      "**Immunization Status:**\n",
      "- **Influenza Vaccination**: Received seasonal injectable (preservative-free)\n",
      "- **Hepatitis A Vaccination**: Completed two-dose series for pediatric/adolescent\n",
      "\n",
      "**Health Observations:**\n",
      "The patient has undergone a comprehensive range of observations, although specific numerical results are not provided. The observations include:\n",
      "\n",
      "- **Vital Signs:**\n",
      "  - **Body Temperature**: Not specified\n",
      "  - **Heart Rate**: Not specified\n",
      "  - **Respiratory Rate**: Not specified\n",
      "  - **Oxygen Saturation**: Not specified\n",
      "  - **Blood Pressure**: (Systolic and Diastolic) - Not specified\n",
      "\n",
      "- **Growth Parameters:**\n",
      "  - **Body Height & Weight**: Not specified\n",
      "  - **Body Mass Index (BMI)**: Not specified\n",
      "  - **Weight-for-Length Percentile**: Not specified\n",
      "  - **Head Circumference (Occipital-Frontal)**: Not specified\n",
      "\n",
      "- **Pain Assessment**: The patient reported a pain severity score on a scale of 0-10, but specific data is not provided.\n",
      "\n",
      "**Infectious Disease Screening:**\n",
      "A comprehensive respiratory virus panel was conducted, testing for the presence of various viruses through NAA with probe detection. The results for the following viruses are critical:\n",
      "- **Influenza Viruses**: Type A and B\n",
      "- **Respiratory Syncytial Virus (RSV)**\n",
      "- **Parainfluenza Viruses 1, 2, and 3**\n",
      "- **Rhinovirus**\n",
      "- **Human Metapneumovirus**\n",
      "- **Adenoviruses (types A, B, C, D, E)**\n",
      "- **SARS-CoV-2 (COVID-19)**\n",
      "\n",
      "The presence of any of these viruses would significantly impact the patient's health status, especially given that respiratory infections can lead to complications in pediatrics. The actual results of these tests would need to be examined to evaluate potential infections.\n",
      "\n",
      "**Current Medications:**\n",
      "- **Amoxicillin 250 MG Oral Capsule**: Typically used for bacterial infections.\n",
      "- **Acetaminophen 160 MG Chewable Tablet**: Used for pain relief and to reduce fever.\n",
      "\n",
      "**Allergies:**\n",
      "- The patient has no documented allergies.\n",
      "\n",
      "**Care Plans:**\n",
      "- The patient is under an infectious disease care plan, which is a critical component for management and treatment of any diagnosed infections. \n",
      "\n",
      "**Quality of Life Indicators:**\n",
      "- **QALY (Quality-Adjusted Life Years)**, **DALY (Disability-Adjusted Life Years)**, and **QOLS (Quality of Life Score)** are mentioned, but no specific data is provided. These measures are essential in assessing the patient's overall health status and recovery in relation to infectious diseases.\n",
      "\n",
      "**Summary:**\n",
      "The patient is a young male (6 years old) with a completed immunization history relevant for influenza and Hepatitis A. There has been recent testing for a variety of respiratory viruses, including SARS-CoV-2; however, specific results concerning the presence of these viruses are crucial for determining the next steps in management. He is currently on antibiotics and acetaminophen, which suggests there may be an ongoing medical issue requiring treatment. Close monitoring of vital signs and symptoms, alongside the infectious disease care plan, is recommended to ensure optimal recovery and management of his health status. Further information about laboratory test results and current symptoms would help further clarify his condition.\n"
     ]
    }
   ],
   "source": [
    "\n",
    "from openai import OpenAI\n",
    "\n",
    "client = OpenAI(\n",
    "  organization='org-GXoJKN5nYBp1bYCBJjxDxF9I',\n",
    "  project='proj_sCh97WttAzvfhWXyvoOofMLh',\n",
    ")\n",
    "\n",
    "\n",
    "def get_summary(prompt):\n",
    "    # Call the OpenAI API\n",
    "    completion = client.chat.completions.create(\n",
    "    model=\"gpt-4o-mini\",\n",
    "    messages=[\n",
    "        {\"role\": \"system\", \"content\": \"You are a doctor specializing in covid-19.\"},\n",
    "        {\n",
    "            \"role\": \"user\",\n",
    "            \"content\": prompt\n",
    "        }\n",
    "    ]\n",
    "    )   \n",
    "    #print(completion.choices[0].message)\n",
    "    return completion.choices[0].message.content\n",
    "summary = get_summary(generate_patient_summary(\"f0f3bc8d-ef38-49ce-a2bd-dfdda982b271\"))\n",
    "print(summary)\n"
   ]
  },
  {
   "cell_type": "code",
   "execution_count": 35,
   "metadata": {},
   "outputs": [
    {
     "name": "stdout",
     "output_type": "stream",
     "text": [
      "ChatCompletionMessage(content=\"To assess the COVID-19 disease risk for the patient described based on the data provided, I'll analyze the relevant factors step-by-step:\\n\\n### Step 1: Patient Demographics\\n- **Birth date**: 2017-08-24\\n- **Gender**: Male\\n\\n**Analysis**: The child is currently 6 years old. Pediatric patients, especially those under 12, may have different risks and manifestations of COVID-19 compared to adults. Generally, children experience milder disease and lower hospitalization rates; however, they can still be infectious and transmit the virus.\\n\\n### Step 2: Immunization Status\\n- **Vaccinations**: Influenza seasonal injectable preservative free, Hepatitis A pediatric/adolescent (2 doses)\\n\\n**Analysis**: The patient appears to be up-to-date with routine vaccinations for influenza and hepatitis A. However, there is no mention of COVID-19 vaccination. The COVID-19 vaccine is recommended for eligible children (children aged 6 months and above). If the child has not been vaccinated against COVID-19, this increases their risk of severe outcomes if infected.\\n\\n### Step 3: Respiratory Symptoms and Testing\\n- **Observations**: \\n    - Multiple evaluations of respiratory symptoms (heart rate, respiratory rate, oxygen saturation).\\n    - Presence of respiratory viruses detected by NAA in specimens, including SARS-CoV-2 RNA.\\n\\n**Analysis**:\\n- **Viral Testing**: The presence of SARS-CoV-2 RNA indicates the child has been infected with COVID-19. This raises immediate concern for isolation and assessment of any potential severity based on symptoms. \\n- **Respiratory Examination**: Heart rate and respiratory rate evaluations, along with oxygen saturation, are crucial. If the oxygen saturation is below 92% or if there are signs of respiratory distress, the child may require emergency medical attention.\\n\\n### Step 4: Other Virological Evaluations\\n- **Additional viral presence**:\\n    - Influenza A and B\\n    - Respiratory syncytial virus\\n    - Parainfluenza viruses\\n    - Rhinovirus\\n    - Human metapneumovirus\\n    - Adenovirus\\n\\n**Analysis**: The presence of multiple respiratory viruses can complicate the clinical picture. Co-infection with other respiratory viruses can lead to exacerbated symptoms or increased risk for severe respiratory issues. Monitoring for fever, cough, or difficulty breathing is essential.\\n\\n### Step 5: Vital Signs and Physical Measurements\\n- **Body Temperature and Measurements**: Not specified in numeric form, but include heart rate, respiratory rate, and blood pressure assessments.\\n\\n**Analysis**: Routine monitoring of vital signs is critical. Early detection of abnormal readings (like elevated heart rate or respiratory rate) can help in assessing the child’s response to SARS-CoV-2 infection and guide management.\\n\\n### Step 6: Medical History, Allergies, and Medications\\n- **Current Medications**: Amoxicillin and Acetaminophen.\\n\\n**Analysis**: The child is on amoxicillin, which suggests a potential bacterial infection, which requires careful evaluation, particularly in the context of COVID-19. Acetaminophen can be safely used for fever and pain management but should be monitored to avoid overuse.\\n\\n### Step 7: Care Plans and Follow-Up\\n- **Infectious Disease Care Plans**: Two separate entries suggest close monitoring and management strategies.\\n\\n**Analysis**: The presence of infectious disease care plans indicates that the healthcare team is aware of ongoing issues related to infections and prepared for necessary interventions. This may include close monitoring for potential severe illness from COVID-19.\\n\\n### Step 8: Overall Risk Assessment\\n- Without further specific lab results (such as inflammatory markers, acute phase reactants, etc.) or details regarding the patient's clinical condition upon presentation (e.g., symptomatic vs. asymptomatic), it's challenging to provide a definitive assessment. \\n\\n**Recommendation**:\\n1. **COVID-19 Management**: Immediate isolation measures while awaiting further clinical evaluation.\\n2. **Oxygen Monitoring**: Monitor oxygen saturation closely.\\n3. **Vaccination**: Discuss options for COVID-19 vaccination if the patient hasn't been vaccinated yet.\\n4. **Symptoms Monitoring**: Monitor for any new symptoms that may develop and have a follow-up plan based on clinical condition.\\n\\nOverall, this child shows signs of being at risk due to confirmed COVID-19 infection, and the presence of respiratory viruses necessitates careful evaluation and management in a clinical setting.\", refusal=None, role='assistant', audio=None, function_call=None, tool_calls=None)\n",
      "To assess the COVID-19 disease risk for the patient described based on the data provided, I'll analyze the relevant factors step-by-step:\n",
      "\n",
      "### Step 1: Patient Demographics\n",
      "- **Birth date**: 2017-08-24\n",
      "- **Gender**: Male\n",
      "\n",
      "**Analysis**: The child is currently 6 years old. Pediatric patients, especially those under 12, may have different risks and manifestations of COVID-19 compared to adults. Generally, children experience milder disease and lower hospitalization rates; however, they can still be infectious and transmit the virus.\n",
      "\n",
      "### Step 2: Immunization Status\n",
      "- **Vaccinations**: Influenza seasonal injectable preservative free, Hepatitis A pediatric/adolescent (2 doses)\n",
      "\n",
      "**Analysis**: The patient appears to be up-to-date with routine vaccinations for influenza and hepatitis A. However, there is no mention of COVID-19 vaccination. The COVID-19 vaccine is recommended for eligible children (children aged 6 months and above). If the child has not been vaccinated against COVID-19, this increases their risk of severe outcomes if infected.\n",
      "\n",
      "### Step 3: Respiratory Symptoms and Testing\n",
      "- **Observations**: \n",
      "    - Multiple evaluations of respiratory symptoms (heart rate, respiratory rate, oxygen saturation).\n",
      "    - Presence of respiratory viruses detected by NAA in specimens, including SARS-CoV-2 RNA.\n",
      "\n",
      "**Analysis**:\n",
      "- **Viral Testing**: The presence of SARS-CoV-2 RNA indicates the child has been infected with COVID-19. This raises immediate concern for isolation and assessment of any potential severity based on symptoms. \n",
      "- **Respiratory Examination**: Heart rate and respiratory rate evaluations, along with oxygen saturation, are crucial. If the oxygen saturation is below 92% or if there are signs of respiratory distress, the child may require emergency medical attention.\n",
      "\n",
      "### Step 4: Other Virological Evaluations\n",
      "- **Additional viral presence**:\n",
      "    - Influenza A and B\n",
      "    - Respiratory syncytial virus\n",
      "    - Parainfluenza viruses\n",
      "    - Rhinovirus\n",
      "    - Human metapneumovirus\n",
      "    - Adenovirus\n",
      "\n",
      "**Analysis**: The presence of multiple respiratory viruses can complicate the clinical picture. Co-infection with other respiratory viruses can lead to exacerbated symptoms or increased risk for severe respiratory issues. Monitoring for fever, cough, or difficulty breathing is essential.\n",
      "\n",
      "### Step 5: Vital Signs and Physical Measurements\n",
      "- **Body Temperature and Measurements**: Not specified in numeric form, but include heart rate, respiratory rate, and blood pressure assessments.\n",
      "\n",
      "**Analysis**: Routine monitoring of vital signs is critical. Early detection of abnormal readings (like elevated heart rate or respiratory rate) can help in assessing the child’s response to SARS-CoV-2 infection and guide management.\n",
      "\n",
      "### Step 6: Medical History, Allergies, and Medications\n",
      "- **Current Medications**: Amoxicillin and Acetaminophen.\n",
      "\n",
      "**Analysis**: The child is on amoxicillin, which suggests a potential bacterial infection, which requires careful evaluation, particularly in the context of COVID-19. Acetaminophen can be safely used for fever and pain management but should be monitored to avoid overuse.\n",
      "\n",
      "### Step 7: Care Plans and Follow-Up\n",
      "- **Infectious Disease Care Plans**: Two separate entries suggest close monitoring and management strategies.\n",
      "\n",
      "**Analysis**: The presence of infectious disease care plans indicates that the healthcare team is aware of ongoing issues related to infections and prepared for necessary interventions. This may include close monitoring for potential severe illness from COVID-19.\n",
      "\n",
      "### Step 8: Overall Risk Assessment\n",
      "- Without further specific lab results (such as inflammatory markers, acute phase reactants, etc.) or details regarding the patient's clinical condition upon presentation (e.g., symptomatic vs. asymptomatic), it's challenging to provide a definitive assessment. \n",
      "\n",
      "**Recommendation**:\n",
      "1. **COVID-19 Management**: Immediate isolation measures while awaiting further clinical evaluation.\n",
      "2. **Oxygen Monitoring**: Monitor oxygen saturation closely.\n",
      "3. **Vaccination**: Discuss options for COVID-19 vaccination if the patient hasn't been vaccinated yet.\n",
      "4. **Symptoms Monitoring**: Monitor for any new symptoms that may develop and have a follow-up plan based on clinical condition.\n",
      "\n",
      "Overall, this child shows signs of being at risk due to confirmed COVID-19 infection, and the presence of respiratory viruses necessitates careful evaluation and management in a clinical setting.\n"
     ]
    }
   ],
   "source": [
    "# Implement Chain of though reasoning to articulate its reasoining step-by-step\n",
    "disease_analyis = get_summary(generate_patient_summary(\"f0f3bc8d-ef38-49ce-a2bd-dfdda982b271\",type='disease'))\n",
    "print(disease_analyis)"
   ]
  },
  {
   "cell_type": "code",
   "execution_count": 37,
   "metadata": {},
   "outputs": [
    {
     "name": "stdout",
     "output_type": "stream",
     "text": [
      "                                      Id   BIRTHDATE   DEATHDATE          SSN  \\\n",
      "11  58cac9ec-4baa-46c1-b919-0ed13572b51d  1970-06-13  2016-05-07  999-90-2484   \n",
      "\n",
      "      DRIVERS    PASSPORT PREFIX      FIRST         LAST SUFFIX  ...  \\\n",
      "11  S99989337  X48630763X    Ms.  Isabel214  Carvajal694    NaN  ...   \n",
      "\n",
      "                         BIRTHPLACE                     ADDRESS        CITY  \\\n",
      "11  Santiago  Santiago Province  CL  335 Morar Highlands Apt 75  Fall River   \n",
      "\n",
      "            STATE          COUNTY     ZIP        LAT        LON  \\\n",
      "11  Massachusetts  Bristol County  2720.0  41.687684 -71.055769   \n",
      "\n",
      "   HEALTHCARE_EXPENSES HEALTHCARE_COVERAGE  \n",
      "11          1145378.45              4941.2  \n",
      "\n",
      "[1 rows x 25 columns]\n"
     ]
    }
   ],
   "source": [
    "# Above patient was diagnosed with COVID-19, run the summary and analysis for the patient who died of COVID-19\n",
    "not_alive = patients_df[patients_df['DEATHDATE'].notnull()][0:1]\n",
    "print(not_alive)\n"
   ]
  },
  {
   "cell_type": "code",
   "execution_count": 38,
   "metadata": {},
   "outputs": [
    {
     "name": "stdout",
     "output_type": "stream",
     "text": [
      "\n",
      "        Patient Summary:\n",
      "        - Birth date: 1970-06-13\n",
      "        - Gender: F\n",
      "        - Observations: Cause of Death [US Standard Certificate of Death]\n",
      "        - Immunizations: \n",
      "        - Allergies: \n",
      "        - Care Plans: Diabetes self management plan\n",
      "        - Medications: Clopidogrel 75 MG Oral Tablet, Alteplase 100 MG Injection\n",
      "\n",
      "        Based on the above information, provide a comprehensive summary of the patient's health status.\n",
      "        \n"
     ]
    }
   ],
   "source": [
    "#58cac9ec-4baa-46c1-b919-0ed13572b51d\n",
    "print(generate_patient_summary(\"58cac9ec-4baa-46c1-b919-0ed13572b51d\"))"
   ]
  },
  {
   "cell_type": "code",
   "execution_count": 39,
   "metadata": {},
   "outputs": [
    {
     "name": "stdout",
     "output_type": "stream",
     "text": [
      "ChatCompletionMessage(content='Based on the provided information, here is a comprehensive summary of the patient\\'s health status:\\n\\n**Patient Profile:**\\n- **Age:** As of October 2023, the patient is 53 years old.\\n- **Gender:** Female\\n\\n**Medical History:**\\n- The patient has a care plan in place for diabetes self-management, indicating that she has a diagnosis of diabetes. This can affect her overall health, management of other conditions, and response to treatments.\\n- There is no information on the specific type of diabetes (Type 1 or Type 2) or details on her blood glucose control, which would be important in understanding her health status.\\n\\n**Medications:**\\n1. **Clopidogrel 75 MG Oral Tablet:** Clopidogrel is an antiplatelet medication used to prevent blood clots. Its use suggests that the patient may have a history of cardiovascular issues, such as heart disease, a previous heart attack, or stroke.\\n2. **Alteplase 100 MG Injection:** Alteplase is a thrombolytic agent used to dissolve blood clots, usually in cases of acute myocardial infarction (heart attack) or ischemic stroke. The necessity of this medication indicates that the patient may have experienced a significant cardiovascular event.\\n\\n**Allergies and Immunization History:**\\n- No allergy information is provided, which is important for understanding treatment risks and potential reactions to medications.\\n- There is also no information about her immunization status, particularly regarding COVID-19 or other vaccines. Given the ongoing relevance of COVID-19 in public health, it would be critical to assess her vaccination status.\\n\\n**Observations:**\\n- The mention of \"Cause of Death [US Standard Certificate of Death]\" indicates that the patient has passed away. While specific causes of death are not listed, the existing medications and care plan suggest cardiovascular issues may have contributed significantly.\\n\\n**Overall Assessment:**\\nThe patient had underlying health issues, particularly diabetes and likely cardiovascular disease, as indicated by the medications she was taking. These conditions would have required careful management, especially in the context of COVID-19, which can severely impact patients with pre-existing health issues.\\n\\n**Recommendations for Future Consideration:**\\n- It is essential to understand the patient\\'s complete health profile, including any relevant medical history, to better assess risks, prevention strategies, and treatment responses.\\n- Documenting allergies and vaccination status, particularly for COVID-19 and other relevant vaccines, is critical for comprehensive care and managing future health challenges.\\n- In the context of diabetes, regular follow-ups for glucose monitoring and cardiovascular health assessments would be recommended for similar patients in the future.\\n\\nIn summary, this patient was managing significant health concerns, and understanding these underlying conditions is essential for evaluating her death and the context surrounding her health outcomes.', refusal=None, role='assistant', audio=None, function_call=None, tool_calls=None)\n",
      "Based on the provided information, here is a comprehensive summary of the patient's health status:\n",
      "\n",
      "**Patient Profile:**\n",
      "- **Age:** As of October 2023, the patient is 53 years old.\n",
      "- **Gender:** Female\n",
      "\n",
      "**Medical History:**\n",
      "- The patient has a care plan in place for diabetes self-management, indicating that she has a diagnosis of diabetes. This can affect her overall health, management of other conditions, and response to treatments.\n",
      "- There is no information on the specific type of diabetes (Type 1 or Type 2) or details on her blood glucose control, which would be important in understanding her health status.\n",
      "\n",
      "**Medications:**\n",
      "1. **Clopidogrel 75 MG Oral Tablet:** Clopidogrel is an antiplatelet medication used to prevent blood clots. Its use suggests that the patient may have a history of cardiovascular issues, such as heart disease, a previous heart attack, or stroke.\n",
      "2. **Alteplase 100 MG Injection:** Alteplase is a thrombolytic agent used to dissolve blood clots, usually in cases of acute myocardial infarction (heart attack) or ischemic stroke. The necessity of this medication indicates that the patient may have experienced a significant cardiovascular event.\n",
      "\n",
      "**Allergies and Immunization History:**\n",
      "- No allergy information is provided, which is important for understanding treatment risks and potential reactions to medications.\n",
      "- There is also no information about her immunization status, particularly regarding COVID-19 or other vaccines. Given the ongoing relevance of COVID-19 in public health, it would be critical to assess her vaccination status.\n",
      "\n",
      "**Observations:**\n",
      "- The mention of \"Cause of Death [US Standard Certificate of Death]\" indicates that the patient has passed away. While specific causes of death are not listed, the existing medications and care plan suggest cardiovascular issues may have contributed significantly.\n",
      "\n",
      "**Overall Assessment:**\n",
      "The patient had underlying health issues, particularly diabetes and likely cardiovascular disease, as indicated by the medications she was taking. These conditions would have required careful management, especially in the context of COVID-19, which can severely impact patients with pre-existing health issues.\n",
      "\n",
      "**Recommendations for Future Consideration:**\n",
      "- It is essential to understand the patient's complete health profile, including any relevant medical history, to better assess risks, prevention strategies, and treatment responses.\n",
      "- Documenting allergies and vaccination status, particularly for COVID-19 and other relevant vaccines, is critical for comprehensive care and managing future health challenges.\n",
      "- In the context of diabetes, regular follow-ups for glucose monitoring and cardiovascular health assessments would be recommended for similar patients in the future.\n",
      "\n",
      "In summary, this patient was managing significant health concerns, and understanding these underlying conditions is essential for evaluating her death and the context surrounding her health outcomes.\n"
     ]
    }
   ],
   "source": [
    "print(get_summary(generate_patient_summary(\"58cac9ec-4baa-46c1-b919-0ed13572b51d\")))"
   ]
  },
  {
   "cell_type": "code",
   "execution_count": 40,
   "metadata": {},
   "outputs": [
    {
     "name": "stdout",
     "output_type": "stream",
     "text": [
      "ChatCompletionMessage(content=\"To analyze this patient data step-by-step regarding the risk of severe outcomes from COVID-19, we will consider each factor listed in the patient's profile.\\n\\n### Step 1: Basic Demographics\\n- **Birth date**: June 13, 1970\\n  - **Age**: As of today (October 2023), the patient is 53 years old. \\n  - **Age Factor**: Individuals aged 50 and older are at increased risk for severe illness from COVID-19.\\n\\n- **Gender**: Female\\n  - **Gender Consideration**: Studies have shown that males may have a higher risk of severe COVID-19 outcomes compared to females, although females still can experience significant risks depending on other conditions.\\n\\n### Step 2: Health Conditions\\n- **Observations**: Cause of Death [US Standard Certificate of Death]\\n  - Without specific details regarding the cause of death, we cannot determine the implications for current risk.\\n  \\n- **Care Plans**: Diabetes self-management plan\\n  - **Diabetes**: Diabetes is a recognized condition that can increase the risk of severe illness from COVID-19. Individuals with diabetes have a higher risk for complications if infected with the virus.\\n\\n### Step 3: Medications\\n- **Medications**:\\n  - **Clopidogrel**: This is an antiplatelet medication often prescribed for cardiovascular conditions. While not directly affecting COVID-19 risk, it may indicate underlying cardiovascular disease or risk, which is a concern in COVID-19.\\n  - **Alteplase**: This is a thrombolytic agent used to break down blood clots. Usage could indicate a past cardiovascular event (like a stroke or myocardial infarction) and suggests a history of vascular health issues, which can complicate COVID-19 outcomes.\\n\\n### Step 4: Immunizations\\n- **Immunizations**: The data does not provide any information on the patient's immunization history, particularly regarding COVID-19 vaccines. Vaccination status is critical in assessing risk:\\n  - If the patient is vaccinated, especially with booster doses, their risk for severe illness decreases significantly.\\n  - Lack of vaccination would place the patient at higher risk.\\n\\n### Step 5: Allergies\\n- **Allergies**: No information is provided.\\n  - Allergies themselves may not directly influence COVID-19 risk but could impact treatment options if the patient requires medications related to COVID-19 or its complications.\\n\\n### Step 6: Integration of Factors\\n- **Overall Assessment**:\\n  - The patient is 53 years old and female, placing her at increased risk due to age.\\n  - The presence of diabetes is a significant risk factor for poor outcomes with COVID-19.\\n  - History of cardiovascular issues indicated by the use of Clopidogrel and Alteplase could further elevate this risk.\\n  - Absence of information on COVID-19 vaccination status is a critical gap; vaccinated individuals typically have a lower risk of severe illness.\\n\\n### Final Conclusion and Recommendations:\\n1. **Higher Risk**: Given the patient’s age, diabetes, and cardiovascular medication, they are at a higher risk for severe outcomes from COVID-19.\\n2. **Vaccination Status**: It is essential to determine the COVID-19 vaccination status as it significantly influences risk and management strategies.\\n3. **Monitoring and Management**: The patient should be closely monitored for COVID-19 symptoms, and she should follow public health recommendations regarding COVID-19 preventive measures like masking, social distancing and considering booster vaccinations if not already done.\\n4. **Care Plan Adjustments**: The diabetes self-management plan should ensure proper glycemic control, as this may influence COVID-19 outcomes.\", refusal=None, role='assistant', audio=None, function_call=None, tool_calls=None)\n",
      "To analyze this patient data step-by-step regarding the risk of severe outcomes from COVID-19, we will consider each factor listed in the patient's profile.\n",
      "\n",
      "### Step 1: Basic Demographics\n",
      "- **Birth date**: June 13, 1970\n",
      "  - **Age**: As of today (October 2023), the patient is 53 years old. \n",
      "  - **Age Factor**: Individuals aged 50 and older are at increased risk for severe illness from COVID-19.\n",
      "\n",
      "- **Gender**: Female\n",
      "  - **Gender Consideration**: Studies have shown that males may have a higher risk of severe COVID-19 outcomes compared to females, although females still can experience significant risks depending on other conditions.\n",
      "\n",
      "### Step 2: Health Conditions\n",
      "- **Observations**: Cause of Death [US Standard Certificate of Death]\n",
      "  - Without specific details regarding the cause of death, we cannot determine the implications for current risk.\n",
      "  \n",
      "- **Care Plans**: Diabetes self-management plan\n",
      "  - **Diabetes**: Diabetes is a recognized condition that can increase the risk of severe illness from COVID-19. Individuals with diabetes have a higher risk for complications if infected with the virus.\n",
      "\n",
      "### Step 3: Medications\n",
      "- **Medications**:\n",
      "  - **Clopidogrel**: This is an antiplatelet medication often prescribed for cardiovascular conditions. While not directly affecting COVID-19 risk, it may indicate underlying cardiovascular disease or risk, which is a concern in COVID-19.\n",
      "  - **Alteplase**: This is a thrombolytic agent used to break down blood clots. Usage could indicate a past cardiovascular event (like a stroke or myocardial infarction) and suggests a history of vascular health issues, which can complicate COVID-19 outcomes.\n",
      "\n",
      "### Step 4: Immunizations\n",
      "- **Immunizations**: The data does not provide any information on the patient's immunization history, particularly regarding COVID-19 vaccines. Vaccination status is critical in assessing risk:\n",
      "  - If the patient is vaccinated, especially with booster doses, their risk for severe illness decreases significantly.\n",
      "  - Lack of vaccination would place the patient at higher risk.\n",
      "\n",
      "### Step 5: Allergies\n",
      "- **Allergies**: No information is provided.\n",
      "  - Allergies themselves may not directly influence COVID-19 risk but could impact treatment options if the patient requires medications related to COVID-19 or its complications.\n",
      "\n",
      "### Step 6: Integration of Factors\n",
      "- **Overall Assessment**:\n",
      "  - The patient is 53 years old and female, placing her at increased risk due to age.\n",
      "  - The presence of diabetes is a significant risk factor for poor outcomes with COVID-19.\n",
      "  - History of cardiovascular issues indicated by the use of Clopidogrel and Alteplase could further elevate this risk.\n",
      "  - Absence of information on COVID-19 vaccination status is a critical gap; vaccinated individuals typically have a lower risk of severe illness.\n",
      "\n",
      "### Final Conclusion and Recommendations:\n",
      "1. **Higher Risk**: Given the patient’s age, diabetes, and cardiovascular medication, they are at a higher risk for severe outcomes from COVID-19.\n",
      "2. **Vaccination Status**: It is essential to determine the COVID-19 vaccination status as it significantly influences risk and management strategies.\n",
      "3. **Monitoring and Management**: The patient should be closely monitored for COVID-19 symptoms, and she should follow public health recommendations regarding COVID-19 preventive measures like masking, social distancing and considering booster vaccinations if not already done.\n",
      "4. **Care Plan Adjustments**: The diabetes self-management plan should ensure proper glycemic control, as this may influence COVID-19 outcomes.\n"
     ]
    }
   ],
   "source": [
    "# disease analysis\n",
    "print(get_summary(generate_patient_summary(\"58cac9ec-4baa-46c1-b919-0ed13572b51d\",type='disease')))"
   ]
  },
  {
   "cell_type": "code",
   "execution_count": 41,
   "metadata": {},
   "outputs": [
    {
     "data": {
      "text/html": [
       "<div>\n",
       "<style scoped>\n",
       "    .dataframe tbody tr th:only-of-type {\n",
       "        vertical-align: middle;\n",
       "    }\n",
       "\n",
       "    .dataframe tbody tr th {\n",
       "        vertical-align: top;\n",
       "    }\n",
       "\n",
       "    .dataframe thead th {\n",
       "        text-align: right;\n",
       "    }\n",
       "</style>\n",
       "<table border=\"1\" class=\"dataframe\">\n",
       "  <thead>\n",
       "    <tr style=\"text-align: right;\">\n",
       "      <th></th>\n",
       "      <th>DATE</th>\n",
       "      <th>PATIENT</th>\n",
       "      <th>ENCOUNTER</th>\n",
       "      <th>CODE</th>\n",
       "      <th>DESCRIPTION</th>\n",
       "      <th>BASE_COST</th>\n",
       "      <th>REASONCODE</th>\n",
       "      <th>REASONDESCRIPTION</th>\n",
       "    </tr>\n",
       "  </thead>\n",
       "  <tbody>\n",
       "    <tr>\n",
       "      <th>86</th>\n",
       "      <td>2016-05-07</td>\n",
       "      <td>58cac9ec-4baa-46c1-b919-0ed13572b51d</td>\n",
       "      <td>15bcb310-ccbd-4371-bfe6-e9b79ec74aa9</td>\n",
       "      <td>40701008</td>\n",
       "      <td>Echocardiography (procedure)</td>\n",
       "      <td>819.51</td>\n",
       "      <td>230690007.0</td>\n",
       "      <td>Stroke</td>\n",
       "    </tr>\n",
       "    <tr>\n",
       "      <th>87</th>\n",
       "      <td>2016-05-07</td>\n",
       "      <td>58cac9ec-4baa-46c1-b919-0ed13572b51d</td>\n",
       "      <td>15bcb310-ccbd-4371-bfe6-e9b79ec74aa9</td>\n",
       "      <td>433112001</td>\n",
       "      <td>Percutaneous mechanical thrombectomy of portal...</td>\n",
       "      <td>27197.09</td>\n",
       "      <td>230690007.0</td>\n",
       "      <td>Stroke</td>\n",
       "    </tr>\n",
       "  </tbody>\n",
       "</table>\n",
       "</div>"
      ],
      "text/plain": [
       "          DATE                               PATIENT  \\\n",
       "86  2016-05-07  58cac9ec-4baa-46c1-b919-0ed13572b51d   \n",
       "87  2016-05-07  58cac9ec-4baa-46c1-b919-0ed13572b51d   \n",
       "\n",
       "                               ENCOUNTER       CODE  \\\n",
       "86  15bcb310-ccbd-4371-bfe6-e9b79ec74aa9   40701008   \n",
       "87  15bcb310-ccbd-4371-bfe6-e9b79ec74aa9  433112001   \n",
       "\n",
       "                                          DESCRIPTION  BASE_COST   REASONCODE  \\\n",
       "86                       Echocardiography (procedure)     819.51  230690007.0   \n",
       "87  Percutaneous mechanical thrombectomy of portal...   27197.09  230690007.0   \n",
       "\n",
       "   REASONDESCRIPTION  \n",
       "86            Stroke  \n",
       "87            Stroke  "
      ]
     },
     "execution_count": 41,
     "metadata": {},
     "output_type": "execute_result"
    }
   ],
   "source": [
    "# find out if any procedure was performed on the patient\n",
    "procedures_df[procedures_df['PATIENT'] == \"58cac9ec-4baa-46c1-b919-0ed13572b51d\"]"
   ]
  },
  {
   "cell_type": "code",
   "execution_count": 42,
   "metadata": {},
   "outputs": [
    {
     "name": "stdout",
     "output_type": "stream",
     "text": [
      "\n",
      "        Patient Summary:\n",
      "        - Birth date: 2017-08-24\n",
      "        - Gender: M\n",
      "        - Observations: Body Height, Pain severity - 0-10 verbal numeric rating [Score] - Reported, Body Weight, Weight-for-length Per age and sex, Head Occipital-frontal circumference, Diastolic Blood Pressure, Systolic Blood Pressure, Heart rate, Respiratory rate, Tobacco smoking status NHIS, Body Height, Pain severity - 0-10 verbal numeric rating [Score] - Reported, Body Weight, Weight-for-length Per age and sex, Head Occipital-frontal circumference, Body Mass Index, Body mass index (BMI) [Percentile] Per age and gender, Diastolic Blood Pressure, Systolic Blood Pressure, Heart rate, Respiratory rate, Tobacco smoking status NHIS, Body temperature, Respiratory rate, Heart rate, Oxygen saturation in Arterial blood, Diastolic Blood Pressure, Systolic Blood Pressure, Body Weight, Influenza virus A RNA [Presence] in Respiratory specimen by NAA with probe detection, Influenza virus B RNA [Presence] in Respiratory specimen by NAA with probe detection, Respiratory syncytial virus RNA [Presence] in Respiratory specimen by NAA with probe detection, Parainfluenza virus 1 RNA [Presence] in Respiratory specimen by NAA with probe detection, Parainfluenza virus 2 RNA [Presence] in Respiratory specimen by NAA with probe detection, Parainfluenza virus 3 RNA [Presence] in Respiratory specimen by NAA with probe detection, Rhinovirus RNA [Presence] in Respiratory specimen by NAA with probe detection, Human metapneumovirus RNA [Presence] in Respiratory specimen by NAA with probe detection, Adenovirus A+B+C+D+E DNA [Presence] in Respiratory specimen by NAA with probe detection, SARS-CoV-2 RNA Pnl Resp NAA+probe, QALY, DALY, QOLS\n",
      "        - Immunizations: Influenza  seasonal  injectable  preservative free, Hep A  ped/adol  2 dose\n",
      "        - Allergies: \n",
      "        - Care Plans: Infectious disease care plan (record artifact), Infectious disease care plan (record artifact)\n",
      "        - Medications: Amoxicillin 250 MG Oral Capsule, Acetaminophen 160 MG Chewable Tablet\n",
      "        - Procedures: Medication Reconciliation (procedure), Face mask (physical object)\n",
      "\n",
      "        Based on the above information, provide a comprehensive summary of the patient's health status.\n",
      "        \n"
     ]
    }
   ],
   "source": [
    "# add procedure to the patient summary to find out the impact of the procedure on the patient\n",
    "def generate_patient_procedure_summary(patient_id,type='summary'):\n",
    "    # Extract patient information\n",
    "    patient_info = patients_df[patients_df['Id'] == patient_id].iloc[0]\n",
    "    observations = observations_df[observations_df['PATIENT'] == patient_id]\n",
    "    immunizations = immunizations_df[immunizations_df['PATIENT'] == patient_id]\n",
    "    careplans = care_plans_df[care_plans_df['PATIENT'] == patient_id]\n",
    "    medications = medications_df[medications_df['PATIENT'] == patient_id]\n",
    "    allergies = allergies_df[allergies_df['PATIENT'] == patient_id]\n",
    "    procedures = procedures_df[procedures_df['PATIENT'] == patient_id]\n",
    "\n",
    "    if type == 'summary':\n",
    "        # Generate a patient summary\n",
    "        \n",
    "        # Construct the prompt\n",
    "        prompt = f\"\"\"\n",
    "        Patient Summary:\n",
    "        - Birth date: {patient_info['BIRTHDATE']}\n",
    "        - Gender: {patient_info['GENDER']}\n",
    "        - Observations: {', '.join(observations['DESCRIPTION'].tolist())}\n",
    "        - Immunizations: {', '.join(immunizations['DESCRIPTION'].tolist())}\n",
    "        - Allergies: {', '.join(allergies['DESCRIPTION'].tolist())}\n",
    "        - Care Plans: {', '.join(careplans['DESCRIPTION'].tolist())}\n",
    "        - Medications: {', '.join(medications['DESCRIPTION'].tolist())}\n",
    "        - Procedures: {', '.join(procedures['DESCRIPTION'].tolist())}\n",
    "\n",
    "        Based on the above information, provide a comprehensive summary of the patient's health status.\n",
    "        \"\"\"\n",
    "    elif type == 'disease':\n",
    "        prompt = f\"\"\"\n",
    "        Analyze the following patient data step-by-step to assess disease risk:\n",
    "        \n",
    "        - Birth date: {patient_info['BIRTHDATE']}\n",
    "        - Gender: {patient_info['GENDER']}\n",
    "        - Observations: {', '.join(observations['DESCRIPTION'].tolist())}\n",
    "        - Immunizations: {', '.join(immunizations['DESCRIPTION'].tolist())}\n",
    "        - Allergies: {', '.join(allergies['DESCRIPTION'].tolist())}\n",
    "        - Care Plans: {', '.join(careplans['DESCRIPTION'].tolist())}\n",
    "        - Medications: {', '.join(medications['DESCRIPTION'].tolist())}\n",
    "        - Procedures: {', '.join(procedures['DESCRIPTION'].tolist())}\n",
    "\n",
    "        Step-by-step analysis:\n",
    "        \"\"\"\n",
    "    #print(prompt)\n",
    "    return prompt\n",
    "# Generate a patient summary for the first patient\n",
    "print(generate_patient_procedure_summary(\"f0f3bc8d-ef38-49ce-a2bd-dfdda982b271\"))"
   ]
  },
  {
   "cell_type": "code",
   "execution_count": 43,
   "metadata": {},
   "outputs": [
    {
     "name": "stdout",
     "output_type": "stream",
     "text": [
      "\n",
      "        Patient Summary:\n",
      "        - Birth date: 1970-06-13\n",
      "        - Gender: F\n",
      "        - Observations: Cause of Death [US Standard Certificate of Death]\n",
      "        - Immunizations: \n",
      "        - Allergies: \n",
      "        - Care Plans: Diabetes self management plan\n",
      "        - Medications: Clopidogrel 75 MG Oral Tablet, Alteplase 100 MG Injection\n",
      "        - Procedures: Echocardiography (procedure), Percutaneous mechanical thrombectomy of portal vein using fluoroscopic guidance\n",
      "\n",
      "        Based on the above information, provide a comprehensive summary of the patient's health status.\n",
      "        \n"
     ]
    }
   ],
   "source": [
    "# Generate a patient summary for the patient died\n",
    "print(generate_patient_procedure_summary(\"58cac9ec-4baa-46c1-b919-0ed13572b51d\"))"
   ]
  },
  {
   "cell_type": "code",
   "execution_count": 44,
   "metadata": {},
   "outputs": [
    {
     "name": "stdout",
     "output_type": "stream",
     "text": [
      "ChatCompletionMessage(content=\"To assess the disease risk of this patient, we will analyze her demographic information, medical history, current medications, and any ongoing care plans. \\n\\n### Step 1: Demographic Information\\n- **Birth Date**: 1970-06-13\\n    - Age: As of October 2023, the patient is 53 years old. COVID-19 severity tends to increase with age, particularly in patients over 50. This age group, therefore, constitutes a moderate to high-risk group for severe outcomes associated with COVID-19.\\n    \\n- **Gender**: Female\\n    - While both genders can be severely affected by COVID-19, some studies have shown that men may have a slightly higher risk of severe illness. However, underlying health conditions play a more critical role. \\n\\n### Step 2: Existing Medical Conditions\\n- **Care Plans**: Diabetes self-management plan\\n    - Diabetes is a known risk factor for severe illness from COVID-19. Uncontrolled diabetes can further elevate this risk, making effective management crucial. \\n\\n### Step 3: Medications\\n- **Clopidogrel 75 MG Oral Tablet**: \\n    - Used for blood thinning, this indicates a potential history of cardiovascular issues, which may increase the risk of severe disease manifestations in the context of COVID-19.\\n\\n- **Alteplase 100 MG Injection**: \\n    - This medication is a thrombolytic agent often used to treat certain types of strokes or heart attacks. If the patient has had a history of cardiovascular events, it would heighten overall disease risk, including complications with infectious diseases like COVID-19. \\n\\n### Step 4: Procedures\\n- **Echocardiography**: \\n    - This procedure indicates a potential history of cardiac issues. Cardiovascular comorbidities significantly increase the risk of severe COVID-19 outcomes.\\n\\n- **Percutaneous Mechanical Thrombectomy of Portal Vein**: \\n    - A procedure of this nature suggests previous serious vascular or thrombotic events, further indicating a history of significant health issues—this raises the concern for severe complications in the event of a COVID-19 infection.\\n\\n### Step 5: Allergies and Immunizations\\n- **Immunizations**: \\n    - The absence of vaccine data limits our assessment. It is essential to know if the patient has received COVID-19 vaccinations, as vaccination significantly reduces the risk of severe disease outcomes. Finding out the vaccination status, including any booster shots, would be critical in risk assessment.\\n\\n- **Allergies**: \\n    - No recorded allergies could suggest a lack of significant adverse reactions to medications, but its absence does not provide any risk increase related to COVID-19.\\n\\n### Step 6: Conclusion and Recommendations\\nGiven this patient's age, their medical conditions (diabetes and potential cardiovascular issues), and the procedures they have undergone, she is at a higher risk for severe outcomes if infected with COVID-19. \\n\\n#### Recommendations:\\n1. **Monitor Blood Sugar Levels**: Ensure diabetes is well-managed to reduce risk.\\n2. **Vaccination**: Confirm COVID-19 vaccination status; encourage receiving the latest vaccines and boosters if not up-to-date.\\n3. **Regular Check-ups**: Given her cardiovascular history, regular follow-ups with a healthcare provider are essential.\\n4. **Preventive Measures**: Advise adherence to preventive measures (masking, hand hygiene) especially in high-risk settings.\\n5. **Seek Medical Attention**: Advise the patient to seek immediate medical attention if showing symptoms of COVID-19, considering her medical history. \\n\\nThis thorough assessment points to the need for close monitoring and proactive management of this patient’s health in relation to COVID-19.\", refusal=None, role='assistant', audio=None, function_call=None, tool_calls=None)\n",
      "To assess the disease risk of this patient, we will analyze her demographic information, medical history, current medications, and any ongoing care plans. \n",
      "\n",
      "### Step 1: Demographic Information\n",
      "- **Birth Date**: 1970-06-13\n",
      "    - Age: As of October 2023, the patient is 53 years old. COVID-19 severity tends to increase with age, particularly in patients over 50. This age group, therefore, constitutes a moderate to high-risk group for severe outcomes associated with COVID-19.\n",
      "    \n",
      "- **Gender**: Female\n",
      "    - While both genders can be severely affected by COVID-19, some studies have shown that men may have a slightly higher risk of severe illness. However, underlying health conditions play a more critical role. \n",
      "\n",
      "### Step 2: Existing Medical Conditions\n",
      "- **Care Plans**: Diabetes self-management plan\n",
      "    - Diabetes is a known risk factor for severe illness from COVID-19. Uncontrolled diabetes can further elevate this risk, making effective management crucial. \n",
      "\n",
      "### Step 3: Medications\n",
      "- **Clopidogrel 75 MG Oral Tablet**: \n",
      "    - Used for blood thinning, this indicates a potential history of cardiovascular issues, which may increase the risk of severe disease manifestations in the context of COVID-19.\n",
      "\n",
      "- **Alteplase 100 MG Injection**: \n",
      "    - This medication is a thrombolytic agent often used to treat certain types of strokes or heart attacks. If the patient has had a history of cardiovascular events, it would heighten overall disease risk, including complications with infectious diseases like COVID-19. \n",
      "\n",
      "### Step 4: Procedures\n",
      "- **Echocardiography**: \n",
      "    - This procedure indicates a potential history of cardiac issues. Cardiovascular comorbidities significantly increase the risk of severe COVID-19 outcomes.\n",
      "\n",
      "- **Percutaneous Mechanical Thrombectomy of Portal Vein**: \n",
      "    - A procedure of this nature suggests previous serious vascular or thrombotic events, further indicating a history of significant health issues—this raises the concern for severe complications in the event of a COVID-19 infection.\n",
      "\n",
      "### Step 5: Allergies and Immunizations\n",
      "- **Immunizations**: \n",
      "    - The absence of vaccine data limits our assessment. It is essential to know if the patient has received COVID-19 vaccinations, as vaccination significantly reduces the risk of severe disease outcomes. Finding out the vaccination status, including any booster shots, would be critical in risk assessment.\n",
      "\n",
      "- **Allergies**: \n",
      "    - No recorded allergies could suggest a lack of significant adverse reactions to medications, but its absence does not provide any risk increase related to COVID-19.\n",
      "\n",
      "### Step 6: Conclusion and Recommendations\n",
      "Given this patient's age, their medical conditions (diabetes and potential cardiovascular issues), and the procedures they have undergone, she is at a higher risk for severe outcomes if infected with COVID-19. \n",
      "\n",
      "#### Recommendations:\n",
      "1. **Monitor Blood Sugar Levels**: Ensure diabetes is well-managed to reduce risk.\n",
      "2. **Vaccination**: Confirm COVID-19 vaccination status; encourage receiving the latest vaccines and boosters if not up-to-date.\n",
      "3. **Regular Check-ups**: Given her cardiovascular history, regular follow-ups with a healthcare provider are essential.\n",
      "4. **Preventive Measures**: Advise adherence to preventive measures (masking, hand hygiene) especially in high-risk settings.\n",
      "5. **Seek Medical Attention**: Advise the patient to seek immediate medical attention if showing symptoms of COVID-19, considering her medical history. \n",
      "\n",
      "This thorough assessment points to the need for close monitoring and proactive management of this patient’s health in relation to COVID-19.\n"
     ]
    }
   ],
   "source": [
    "# step-by-step analysis\n",
    "print(get_summary(generate_patient_procedure_summary(\"58cac9ec-4baa-46c1-b919-0ed13572b51d\",type='disease')))"
   ]
  },
  {
   "cell_type": "code",
   "execution_count": 3,
   "metadata": {},
   "outputs": [
    {
     "name": "stdout",
     "output_type": "stream",
     "text": [
      "\n",
      "    - Birth date: 1970-06-13\n",
      "        - Gender: F\n",
      "        - Observations: Cause of Death [US Standard Certificate of Death]\n",
      "        - Immunizations: \n",
      "        - Allergies: \n",
      "        - Care Plans: Diabetes self management plan\n",
      "        - Medications: Clopidogrel 75 MG Oral Tablet, Alteplase 100 MG Injection\n",
      "        - Procedures: Echocardiography (procedure), Percutaneous mechanical thrombectomy of portal vein using fluoroscopic guidance\n",
      "\n"
     ]
    }
   ],
   "source": [
    "def get_patient_info(patient_id):\n",
    "    patient_info = patients_df[patients_df['Id'] == patient_id].iloc[0]\n",
    "    observations = observations_df[observations_df['PATIENT'] == patient_id]\n",
    "    immunizations = immunizations_df[immunizations_df['PATIENT'] == patient_id]\n",
    "    careplans = care_plans_df[care_plans_df['PATIENT'] == patient_id]\n",
    "    medications = medications_df[medications_df['PATIENT'] == patient_id]\n",
    "    allergies = allergies_df[allergies_df['PATIENT'] == patient_id]\n",
    "    procedures = procedures_df[procedures_df['PATIENT'] == patient_id]\n",
    "    return f\"\"\"\n",
    "    - Birth date: {patient_info['BIRTHDATE']}\n",
    "        - Gender: {patient_info['GENDER']}\n",
    "        - Observations: {', '.join(observations['DESCRIPTION'].tolist())}\n",
    "        - Immunizations: {', '.join(immunizations['DESCRIPTION'].tolist())}\n",
    "        - Allergies: {', '.join(allergies['DESCRIPTION'].tolist())}\n",
    "        - Care Plans: {', '.join(careplans['DESCRIPTION'].tolist())}\n",
    "        - Medications: {', '.join(medications['DESCRIPTION'].tolist())}\n",
    "        - Procedures: {', '.join(procedures['DESCRIPTION'].tolist())}\n",
    "\"\"\"\n",
    "print(get_patient_info(\"58cac9ec-4baa-46c1-b919-0ed13572b51d\"))"
   ]
  },
  {
   "cell_type": "code",
   "execution_count": 47,
   "metadata": {},
   "outputs": [
    {
     "name": "stdout",
     "output_type": "stream",
     "text": [
      "ChatCompletionMessage(content=\"Based on the provided patient summary, the following diseases or conditions can be predicted or considered likely:\\n\\n1. **Diabetes Mellitus**: The care plan indicates a diabetes self-management plan, suggesting that the patient has diabetes, which could be type 1 or type 2.\\n\\n2. **Cardiovascular Disease**: The use of Clopidogrel (an antiplatelet medication often prescribed to prevent blood clots in patients with cardiovascular diseases) and the echocardiography procedure may suggest a history of cardiovascular issues, such as coronary artery disease or a history of myocardial infarction.\\n\\n3. **Stroke or Transient Ischemic Attack (TIA)**: The administration of Alteplase (a thrombolytic agent) indicates that the patient may have experienced a stroke or TIA, as this medication is commonly used to dissolve clots in patients suffering from these conditions.\\n\\n4. **Portal Vein Thrombosis**: The mention of a percutaneous mechanical thrombectomy of the portal vein suggests that the patient may have portal vein thrombosis, a condition that can result from various causes including cirrhosis or a hypercoagulable state.\\n\\nOverall, the most likely diseases or conditions based on this patient's summary are:\\n- Diabetes Mellitus\\n- Cardiovascular Disease\\n- Stroke or TIA\\n- Portal Vein Thrombosis\", refusal=None, role='assistant', audio=None, function_call=None, tool_calls=None)\n",
      "Based on the provided patient summary, the following diseases or conditions can be predicted or considered likely:\n",
      "\n",
      "1. **Diabetes Mellitus**: The care plan indicates a diabetes self-management plan, suggesting that the patient has diabetes, which could be type 1 or type 2.\n",
      "\n",
      "2. **Cardiovascular Disease**: The use of Clopidogrel (an antiplatelet medication often prescribed to prevent blood clots in patients with cardiovascular diseases) and the echocardiography procedure may suggest a history of cardiovascular issues, such as coronary artery disease or a history of myocardial infarction.\n",
      "\n",
      "3. **Stroke or Transient Ischemic Attack (TIA)**: The administration of Alteplase (a thrombolytic agent) indicates that the patient may have experienced a stroke or TIA, as this medication is commonly used to dissolve clots in patients suffering from these conditions.\n",
      "\n",
      "4. **Portal Vein Thrombosis**: The mention of a percutaneous mechanical thrombectomy of the portal vein suggests that the patient may have portal vein thrombosis, a condition that can result from various causes including cirrhosis or a hypercoagulable state.\n",
      "\n",
      "Overall, the most likely diseases or conditions based on this patient's summary are:\n",
      "- Diabetes Mellitus\n",
      "- Cardiovascular Disease\n",
      "- Stroke or TIA\n",
      "- Portal Vein Thrombosis\n"
     ]
    }
   ],
   "source": [
    "# based on the patient information, predict the most likely diseases\n",
    "def predict_disease(patient_summary):\n",
    "    prompt = (\n",
    "        \"Given the following patient summary, predict the most likely diseases:\\n\\n\"\n",
    "        f\"{patient_summary}\\n\\n\"\n",
    "        \"Predicted diseases:\"\n",
    "    )\n",
    "    return get_summary(prompt)\n",
    "print(predict_disease(get_patient_info(\"58cac9ec-4baa-46c1-b919-0ed13572b51d\")))"
   ]
  },
  {
   "cell_type": "code",
   "execution_count": 48,
   "metadata": {},
   "outputs": [
    {
     "name": "stdout",
     "output_type": "stream",
     "text": [
      "ChatCompletionMessage(content=\"Based on the patient summary provided, several hypotheses for potential diseases or conditions can be generated, considering the patient's age, gender, medications, procedures performed, and existing care plans. Here are possible disease hypotheses:\\n\\n1. **Cardiovascular Disease**:\\n   - The use of Clopidogrel and the echocardiography suggests the patient may have a history of coronary artery disease or acute coronary syndrome.\\n   - The percutaneous mechanical thrombectomy indicates the presence of thrombosis, possibly related to cardiovascular conditions.\\n\\n2. **Diabetes Complications**:\\n   - The diabetes self-management plan implies the presence of diabetes mellitus, which could lead to various complications such as cardiovascular disease, neuropathy, or retinopathy.\\n   - The presence of vascular complications leading to thrombosis could be related to poorly managed diabetes.\\n\\n3. **Cerebrovascular Accident (Stroke)**:\\n   - The administration of Alteplase, a tissue plasminogen activator, indicates a treatment for acute ischemic stroke, suggesting the patient may have experienced a stroke due to thromboembolic disease.\\n\\n4. **Portal Vein Thrombosis**:\\n   - The procedure for mechanical thrombectomy of the portal vein indicates portal vein thrombosis, which can be associated with conditions such as liver cirrhosis, malignancy, or hypercoagulable states.\\n\\n5. **Atrial Fibrillation**:\\n   - If the patient has a history of atrial fibrillation, this could explain the anticoagulant therapy with Clopidogrel and the events leading to thrombosis and stroke.\\n\\n6. **Chronic Kidney Disease**:\\n   - Given the patient's age and comorbidities (diabetes), chronic kidney disease may be a factor, potentially contributing to cardiovascular issues and medication management challenges.\\n\\n7. **Thromboembolic Disease**:\\n   - While the specific mention of thrombosis may imply portal vein involvement, systemic thromboembolic disease may be ongoing, warranting further investigation of other vascular territories.\\n\\n8. **Malignancy**:\\n   - Depending on the clinical context and further diagnostic imaging, underlying malignancies could precipitate vascular complications and thrombosis, particularly in the case of portal vein issues.\\n\\nThese hypotheses should be further investigated through additional clinical history, laboratory results, imaging studies, and consultations with specialists as needed.\", refusal=None, role='assistant', audio=None, function_call=None, tool_calls=None)\n",
      "Based on the patient summary provided, several hypotheses for potential diseases or conditions can be generated, considering the patient's age, gender, medications, procedures performed, and existing care plans. Here are possible disease hypotheses:\n",
      "\n",
      "1. **Cardiovascular Disease**:\n",
      "   - The use of Clopidogrel and the echocardiography suggests the patient may have a history of coronary artery disease or acute coronary syndrome.\n",
      "   - The percutaneous mechanical thrombectomy indicates the presence of thrombosis, possibly related to cardiovascular conditions.\n",
      "\n",
      "2. **Diabetes Complications**:\n",
      "   - The diabetes self-management plan implies the presence of diabetes mellitus, which could lead to various complications such as cardiovascular disease, neuropathy, or retinopathy.\n",
      "   - The presence of vascular complications leading to thrombosis could be related to poorly managed diabetes.\n",
      "\n",
      "3. **Cerebrovascular Accident (Stroke)**:\n",
      "   - The administration of Alteplase, a tissue plasminogen activator, indicates a treatment for acute ischemic stroke, suggesting the patient may have experienced a stroke due to thromboembolic disease.\n",
      "\n",
      "4. **Portal Vein Thrombosis**:\n",
      "   - The procedure for mechanical thrombectomy of the portal vein indicates portal vein thrombosis, which can be associated with conditions such as liver cirrhosis, malignancy, or hypercoagulable states.\n",
      "\n",
      "5. **Atrial Fibrillation**:\n",
      "   - If the patient has a history of atrial fibrillation, this could explain the anticoagulant therapy with Clopidogrel and the events leading to thrombosis and stroke.\n",
      "\n",
      "6. **Chronic Kidney Disease**:\n",
      "   - Given the patient's age and comorbidities (diabetes), chronic kidney disease may be a factor, potentially contributing to cardiovascular issues and medication management challenges.\n",
      "\n",
      "7. **Thromboembolic Disease**:\n",
      "   - While the specific mention of thrombosis may imply portal vein involvement, systemic thromboembolic disease may be ongoing, warranting further investigation of other vascular territories.\n",
      "\n",
      "8. **Malignancy**:\n",
      "   - Depending on the clinical context and further diagnostic imaging, underlying malignancies could precipitate vascular complications and thrombosis, particularly in the case of portal vein issues.\n",
      "\n",
      "These hypotheses should be further investigated through additional clinical history, laboratory results, imaging studies, and consultations with specialists as needed.\n"
     ]
    }
   ],
   "source": [
    "# Generate multiple disease hypotheses\n",
    "def disease_hypotheses(patient_summary):\n",
    "    prompt = (\n",
    "        \"Given the following patient summary, generate multiple hypotheses for potential diseases:\\n\\n\"\n",
    "        f\"{patient_summary}\\n\\n\"\n",
    "        \"Disease hypotheses:\"\n",
    "    )\n",
    "    return get_summary(prompt)\n",
    "print(disease_hypotheses(get_patient_info(\"58cac9ec-4baa-46c1-b919-0ed13572b51d\")))"
   ]
  },
  {
   "cell_type": "code",
   "execution_count": 4,
   "metadata": {},
   "outputs": [],
   "source": [
    "\n",
    "from openai import OpenAI\n",
    "\n",
    "client = OpenAI(\n",
    "  organization='org-GXoJKN5nYBp1bYCBJjxDxF9I',\n",
    "  project='proj_sCh97WttAzvfhWXyvoOofMLh',\n",
    ")\n"
   ]
  },
  {
   "cell_type": "code",
   "execution_count": 15,
   "metadata": {},
   "outputs": [],
   "source": [
    "#Structured Outputs: OpenAI's Structured Outputs feature\n",
    "def get_patient_info_strucuted(prompt):\n",
    "    completion = client.chat.completions.create(\n",
    "    model=\"gpt-4o-mini\",\n",
    "    messages=[\n",
    "        {\"role\": \"system\", \"content\": \"You are a doctor specializing in covid-19.\"},\n",
    "        {\n",
    "            \"role\": \"user\",\n",
    "            \"content\": prompt\n",
    "        }\n",
    "    ]\n",
    "        ,\n",
    "        functions=[\n",
    "            {\n",
    "                \"name\": \"extract_patient_info\",\n",
    "                \"description\": \"Extracts patient information from the text.\",\n",
    "                \"parameters\": {\n",
    "                    \"type\": \"object\",\n",
    "                    \"properties\": {\n",
    "                        \"age\": {\"type\": \"integer\"},\n",
    "                        \"gender\": {\"type\": \"string\"},\n",
    "                        \"symptoms\": {\"type\": \"array\", \"items\": {\"type\": \"string\"}},\n",
    "                        \"medical_history\": {\"type\": \"array\", \"items\": {\"type\": \"string\"}}\n",
    "                    },\n",
    "                    \"required\": [\"age\", \"gender\", \"symptoms\", \"medical_history\"]\n",
    "                }\n",
    "            }\n",
    "        ],\n",
    "        function_call={\"name\": \"extract_patient_info\"}\n",
    "    )\n",
    "    print(completion.choices[0].message)\n",
    "    return completion.choices[0].message.function_call.arguments\n"
   ]
  },
  {
   "cell_type": "code",
   "execution_count": 16,
   "metadata": {},
   "outputs": [
    {
     "name": "stdout",
     "output_type": "stream",
     "text": [
      "ChatCompletionMessage(content=None, refusal=None, role='assistant', audio=None, function_call=FunctionCall(arguments='{\"age\":53,\"gender\":\"F\",\"symptoms\":[],\"medical_history\":[\"Diabetes\",\"Recent thrombectomy procedure\"]}', name='extract_patient_info'), tool_calls=None)\n",
      "{\"age\":53,\"gender\":\"F\",\"symptoms\":[],\"medical_history\":[\"Diabetes\",\"Recent thrombectomy procedure\"]}\n"
     ]
    }
   ],
   "source": [
    "print(get_patient_info_strucuted(get_patient_info(\"58cac9ec-4baa-46c1-b919-0ed13572b51d\")))"
   ]
  },
  {
   "cell_type": "markdown",
   "metadata": {},
   "source": [
    "Tree of Thoughts Framework\n",
    "1. Generate thoughts\n",
    "2. Evaluate Thoughts\n",
    "3. Select Best thought\n",
    "4. Prediction"
   ]
  },
  {
   "cell_type": "code",
   "execution_count": 29,
   "metadata": {},
   "outputs": [],
   "source": [
    "def generate_thoughts(prompt):\n",
    "    completion = client.chat.completions.create(\n",
    "        model=\"gpt-4o-mini\",\n",
    "       \n",
    "        n=5,  # Generate multiple thoughts\n",
    "        stop=None,\n",
    "        temperature=0.7,\n",
    "        messages=[\n",
    "        {\"role\": \"system\", \"content\": \"You are a doctor specializing in covid-19.\"},\n",
    "           {\n",
    "            \"role\": \"user\",\n",
    "            \"content\": prompt\n",
    "        }\n",
    "        ]  \n",
    "    )\n",
    "    thoughts = [choice.message.content for choice in completion.choices]\n",
    "    \n",
    "    return thoughts"
   ]
  },
  {
   "cell_type": "code",
   "execution_count": 30,
   "metadata": {},
   "outputs": [
    {
     "name": "stdout",
     "output_type": "stream",
     "text": [
      "[\"Based on the provided patient data, here's an initial assessment:\\n\\n### Patient Profile:\\n- **Age**: 53 years old (as of June 2023)\\n- **Gender**: Female\\n- **Medical History**: \\n  - Diabetes (managed with a self-management plan)\\n  - Possible cardiovascular issues (indicated by the use of clopidogrel and alteplase, as well as the echocardiography and thrombectomy procedures)\\n\\n### Current Medications:\\n- **Clopidogrel 75 MG**: An antiplatelet medication commonly prescribed to prevent blood clots.\\n- **Alteplase 100 MG**: A thrombolytic agent used to dissolve blood clots, which suggests a recent event of thrombosis or stroke.\\n\\n### Recent Procedures:\\n- **Echocardiography**: This imaging test suggests monitoring for cardiac function or structure, which may be relevant due to the patient's use of anticoagulants and history of thrombosis.\\n- **Percutaneous mechanical thrombectomy**: Indicates a significant vascular event, possibly related to a stroke or severe thrombosis, requiring immediate intervention.\\n\\n### Observations:\\n- The cause of death is specified but not detailed in the provided information. Understanding the circumstances surrounding the death (e.g., was it related to COVID-19, complications from diabetes, cardiovascular issues, etc.) is crucial for further assessment.\\n\\n### Risk Factors:\\n- **Age and Gender**: The patient is middle-aged and female, which can influence risk profiles for both cardiovascular issues and COVID-19 complications.\\n- **Diabetes**: A known risk factor for severe outcomes in COVID-19 infections.\\n- **Recent Medical Interventions**: The use of thrombolytics and antiplatelets indicates a recent acute health crisis, likely involving severe cardiovascular compromise.\\n\\n### Considerations for COVID-19:\\n- Given the patient’s medical history, any potential exposure or symptoms related to COVID-19 should be closely monitored. \\n- The presence of diabetes and recent cardiovascular interventions may increase the risk of severe complications from COVID-19.\\n\\n### Recommendations:\\n- If the cause of death is related to COVID-19, it is imperative to understand the timeline of infection, vaccination status, and any complications that arose.\\n- Ensure that the family is counseled regarding the underlying health issues that may have contributed to the patient's morbidity and mortality.\\n- Consider post-mortem testing for COVID-19 if the cause of death is uncertain or if the patient showed symptoms consistent with the virus shortly before death.\\n\\n### Next Steps:\\n- Review the complete medical history, including vaccination status against COVID-19 and any recent respiratory symptoms.\\n- Evaluate the cause of death more thoroughly to determine if there are additional factors to consider in the context of COVID-19 and other comorbidities.\", 'Based on the provided patient data, here is an initial assessment:\\n\\n**Patient Profile:**\\n- **Age:** 53 years old (as of October 2023)\\n- **Gender:** Female\\n- **Medical History:** The patient has a care plan for diabetes management, which indicates a history of diabetes. This is a significant risk factor for complications in the context of COVID-19.\\n\\n**Current Medications:**\\n- **Clopidogrel 75 MG Oral Tablet:** This medication is an antiplatelet agent, which suggests a history of cardiovascular issues or a need for prevention of thrombotic events.\\n- **Alteplase 100 MG Injection:** This is a thrombolytic agent used for treating blood clots. Its use indicates that the patient may have experienced a significant thrombotic event, such as a stroke or pulmonary embolism.\\n\\n**Procedures:**\\n- **Echocardiography:** This test assesses heart function and structure, likely done due to underlying cardiovascular concerns.\\n- **Percutaneous mechanical thrombectomy of portal vein using fluoroscopic guidance:** This invasive procedure suggests a severe vascular condition, potentially related to a clot in the portal vein, which can have significant implications for liver function and overall health.\\n\\n**Observations:**\\n- The mention of \"Cause of Death\" implies that the patient may no longer be alive or is in critical condition. If this is a postmortem assessment, the cause of death would be essential for further evaluation.\\n\\n**Risk Factors:**\\n- The combination of diabetes, use of anticoagulants, and a history of thrombotic events places this patient at elevated risk for severe complications from COVID-19, should they be infected. Additionally, age is a significant risk factor for severe illness.\\n\\n**Next Steps:**\\n1. **History and Review of Systems:** A thorough history should be collected, including any COVID-19 symptoms, exposure history, and vaccination status.\\n2. **Testing:** If the patient is alive, COVID-19 testing should be performed, considering the clinical risk factors.\\n3. **Management Plan:** If the patient is confirmed to have COVID-19, a management plan should include monitoring for respiratory distress, considering the use of anticoagulation therapy, and managing blood glucose levels due to diabetes.\\n4. **Palliative Care Consideration:** If this assessment is postmortem, a review of the potential role of COVID-19 in complications leading to death would be necessary, including any contributions from underlying health conditions.\\n\\nThis assessment highlights the need for a comprehensive approach to managing this patient\\'s health, especially in light of COVID-19 exposure risks.', \"Based on the provided patient data, here’s an initial assessment:\\n\\n### Patient Profile:\\n- **Age**: 53 years old (as of October 2023)\\n- **Gender**: Female\\n- **Medical History**: The patient has a diabetes self-management plan, indicating a history of diabetes, which may complicate any acute illness or recovery process. \\n\\n### Current Medications:\\n- **Clopidogrel 75 MG Oral Tablet**: An antiplatelet medication often used to prevent blood clots. It may be relevant in the context of any cardiovascular issues.\\n- **Alteplase 100 MG Injection**: A thrombolytic agent used to dissolve blood clots. This suggests that the patient has had a recent thrombotic event, possibly a stroke or myocardial infarction.\\n\\n### Procedures:\\n- **Echocardiography**: This imaging study is used to evaluate heart function and structure, indicating that there may have been concerns regarding heart health.\\n- **Percutaneous mechanical thrombectomy of portal vein using fluoroscopic guidance**: This procedure indicates a significant vascular event, likely involving thrombosis in the portal vein, which could lead to complications such as portal hypertension or liver dysfunction.\\n\\n### Observations:\\n- The cause of death is noted, but further details are required to determine the direct link to COVID-19 or other health conditions.\\n\\n### Considerations:\\n1. **Risk Factors**: The patient is at an increased risk for severe complications from COVID-19 due to age, diabetes, and potential cardiovascular health issues.\\n2. **Immunization Status**: There is no information provided regarding COVID-19 vaccinations, which is crucial to assess her risk and potential protection against severe illness.\\n3. **Potential Impact of Current Conditions**: The presence of a diabetes self-management plan and recent thrombotic events may complicate the clinical picture if the patient were to contract COVID-19.\\n\\n### Recommendations:\\n- **COVID-19 Testing**: If there are any symptoms suggestive of COVID-19, testing should be prioritized.\\n- **Vaccination**: If the patient has not been vaccinated against COVID-19, discussions regarding vaccination should be initiated, considering her health history.\\n- **Monitoring**: Close monitoring for any signs of respiratory distress, fever, or other COVID-19 symptoms, along with regular assessment of her diabetes and cardiovascular health.\\n- **Consultations**: Consider involving specialists in cardiology and infectious diseases for comprehensive management if COVID-19 is confirmed or suspected.\\n\\n### Conclusion:\\nThis assessment outlines the patient's health profile and identifies key areas of concern, particularly in the context of COVID-19. Further details regarding her current status, particularly in relation to COVID-19, would be necessary for a more comprehensive evaluation and management plan.\", \"Based on the provided patient data, here is an initial assessment:\\n\\n### Patient Profile:\\n- **Age**: 53 years old (as of the current date in 2023)\\n- **Gender**: Female\\n- **Relevant Medical History**: \\n  - Diabetes (managed through a self-management plan)\\n  - Possible cardiovascular concerns (indicated by the medications Clopidogrel and Alteplase, and procedures such as echocardiography and mechanical thrombectomy)\\n\\n### Current Medications:\\n- **Clopidogrel 75 MG Oral Tablet**: An antiplatelet medication used to prevent blood clots.\\n- **Alteplase 100 MG Injection**: A thrombolytic agent used to dissolve blood clots, often used in acute situations such as ischemic stroke or myocardial infarction.\\n\\n### Procedures:\\n- **Echocardiography**: A diagnostic ultrasound of the heart, indicating a potential evaluation for cardiac function or structure.\\n- **Percutaneous mechanical thrombectomy of portal vein using fluoroscopic guidance**: This suggests a significant vascular complication, possibly related to thrombosis in the portal vein, which may be linked to underlying conditions such as diabetes or cardiovascular disease.\\n\\n### Observations:\\n- The cause of death is noted, which may indicate a serious underlying condition or acute event that led to mortality. This information will be crucial for understanding the patient's overall health and the potential impact of COVID-19 if relevant.\\n\\n### Considerations:\\n1. **Risk Factors**: The patient's age, gender, and medical history (diabetes and possible cardiovascular disease) place her at increased risk for severe outcomes from COVID-19.\\n2. **Vaccination Status**: The immunization status is not provided. Given the current landscape of COVID-19, it is essential to know if the patient was vaccinated and if she received any boosters, especially considering her risk factors.\\n3. **Allergies**: No allergies are documented, which suggests she may tolerate her medications well, but this should be confirmed.\\n4. **Current Health Status**: Given the medications and procedures, it is crucial to assess her current health status, including any recent symptoms, vital signs, and laboratory results.\\n\\n### Next Steps:\\n- Further investigation into the cause of death, including any potential relationship to COVID-19, is necessary.\\n- Assess the patient's vaccination status against COVID-19.\\n- Review the management of her diabetes in the context of her current health issues.\\n- Monitor for any signs of acute illness, particularly respiratory symptoms that could indicate a COVID-19 infection.\\n\\nOverall, this assessment highlights the need for a comprehensive review of the patient’s health, especially in the context of COVID-19 and other underlying conditions.\", 'Based on the provided patient data, here is an initial assessment:\\n\\n**Patient Profile:**\\n- **Age:** 53 years old (as of October 2023)\\n- **Gender:** Female\\n- **Medical History:** The patient has a care plan for diabetes self-management, which indicates the presence of diabetes. The specifics of the diabetes type (Type 1 or Type 2) are not provided, but this condition typically requires careful monitoring and management, especially during acute illnesses like COVID-19.\\n\\n**Current Medications:**\\n- **Clopidogrel 75 MG Oral Tablet:** This medication is an antiplatelet agent, often prescribed to reduce the risk of stroke and heart attack. It indicates that the patient may have underlying cardiovascular issues.\\n- **Alteplase 100 MG Injection:** This is a thrombolytic medication used to dissolve blood clots. Its use suggests that the patient has experienced an acute thrombotic event, likely related to the procedures performed (e.g., percutaneous mechanical thrombectomy).\\n\\n**Procedures:**\\n- **Echocardiography:** This procedure assesses heart function and structure, suggesting possible cardiovascular concerns.\\n- **Percutaneous mechanical thrombectomy of the portal vein:** This procedure indicates a significant clot-related event in the portal vein, which could lead to serious complications, including portal hypertension or ischemia.\\n\\n**Observations:**\\n- The mention of \"Cause of Death\" suggests that the patient may have succumbed to her condition, potentially related to complications from diabetes, cardiovascular events, or thrombotic issues.\\n\\n**Risk Factors:**\\n- **Diabetes:** This condition is known to increase the risk of severe outcomes from COVID-19 and other infections.\\n- **Cardiovascular disease:** The use of Clopidogrel and the need for thrombectomy indicate significant cardiovascular risk, which can also exacerbate COVID-19 symptoms and complications.\\n\\n**Considerations for COVID-19:**\\n- Patients with diabetes and cardiovascular conditions are at higher risk for severe COVID-19 illness. It is crucial to monitor for respiratory symptoms, signs of acute illness, and any exacerbation of existing conditions.\\n- Vaccination status and prior COVID-19 infections should be assessed to determine potential immunity and risk for reinfection.\\n\\n**Conclusion:**\\nThe patient presents with complex health issues, including diabetes and cardiovascular disease, which complicate her overall health status. Close monitoring and management of her conditions are essential, particularly in the context of any viral infections like COVID-19. Further information on immunization status and any acute symptoms would be critical for a comprehensive assessment.']\n"
     ]
    }
   ],
   "source": [
    "patient_data = get_patient_info(\"58cac9ec-4baa-46c1-b919-0ed13572b51d\")\n",
    "prompt = f\"Patient data:\\n{patient_data}\\n\\nInitial assessment:\"\n",
    "thoughts = generate_thoughts(prompt)\n",
    "print(thoughts)"
   ]
  },
  {
   "cell_type": "code",
   "execution_count": 22,
   "metadata": {},
   "outputs": [],
   "source": [
    "# Function to evaluate thoughts\n",
    "def evaluate_thoughts(thoughts):\n",
    "    evaluations = []\n",
    "    for thought in thoughts:\n",
    "        prompt = f\"Evaluate the following thought for its relevance and plausibility:\\n\\n{thought}\\n\\nEvaluation:\"\n",
    "        completion = client.chat.completions.create(\n",
    "        model=\"gpt-4o-mini\",\n",
    "        \n",
    "        temperature=0.5,\n",
    "        messages=[\n",
    "        {\"role\": \"system\", \"content\": \"You are a doctor specializing in covid-19.\"},\n",
    "       {\n",
    "            \"role\": \"user\",\n",
    "            \"content\": prompt\n",
    "        }\n",
    "        ]   \n",
    "        )\n",
    "        evaluation = completion.choices[0].message\n",
    "        evaluations.append((thought, evaluation))\n",
    "   \n",
    "    return evaluations"
   ]
  },
  {
   "cell_type": "code",
   "execution_count": 17,
   "metadata": {},
   "outputs": [],
   "source": [
    "# Function to select the best thought\n",
    "def select_best_thought(evaluations):\n",
    "    # Implement your selection logic here\n",
    "    # For simplicity, select the first thought\n",
    "    return evaluations[0][0]"
   ]
  },
  {
   "cell_type": "code",
   "execution_count": 24,
   "metadata": {},
   "outputs": [],
   "source": [
    "# Function to perform disease prediction using ToT\n",
    "def disease_prediction(patient_data):\n",
    "    # Initial prompt with patient data\n",
    "    prompt = f\"Patient data:\\n{patient_data}\\n\\nInitial assessment:\"\n",
    "    thoughts = generate_thoughts(prompt)\n",
    "    evaluations = evaluate_thoughts(thoughts)\n",
    "    best_thought = select_best_thought(evaluations)\n",
    "    \n",
    "    # Continue the process as needed\n",
    "    # For simplicity, we stop after one iteration\n",
    "    final_prompt = f\"Based on the assessment:\\n{best_thought}\\n\\nFinal diagnosis:\"\n",
    "    completion = client.chat.completions.create(\n",
    "        model=\"gpt-4o-mini\",\n",
    "         messages=[\n",
    "        {\"role\": \"system\", \"content\": \"You are a doctor specializing in covid-19.\"},\n",
    "       {\n",
    "            \"role\": \"user\",\n",
    "            \"content\": final_prompt\n",
    "        }\n",
    "        ]   ,\n",
    "        \n",
    "        temperature=0.5)\n",
    "   \n",
    "    \n",
    "    diagnosis = completion.choices[0].message\n",
    "    return diagnosis"
   ]
  },
  {
   "cell_type": "code",
   "execution_count": 31,
   "metadata": {},
   "outputs": [
    {
     "name": "stdout",
     "output_type": "stream",
     "text": [
      "[(\"Based on the provided patient data, here is a preliminary assessment:\\n\\n### Patient Profile:\\n- **Age:** 53 years old (as of the date of assessment in 2023)\\n- **Gender:** Female\\n- **Chronic Conditions:** Diabetes (managed through a self-management plan)\\n- **Medications:**\\n  - **Clopidogrel 75 MG Oral Tablet:** An antiplatelet medication, often prescribed for cardiovascular issues to prevent blood clots.\\n  - **Alteplase 100 MG Injection:** A thrombolytic agent used to dissolve blood clots in cases of certain types of strokes, heart attacks, or pulmonary embolism.\\n  \\n### Recent Medical Procedures:\\n- **Echocardiography:** A diagnostic test that uses ultrasound to visualize the heart's structure and function, indicating a need for cardiac evaluation.\\n- **Percutaneous Mechanical Thrombectomy of Portal Vein:** A procedure indicating significant vascular issues, possibly related to thrombosis (blood clots) in the portal vein.\\n\\n### Observations and Considerations:\\n- **Cause of Death:** This patient has been noted with a cause of death listed, which suggests that this assessment may be part of a retrospective analysis or case review.\\n- **Diabetes Management:** The effectiveness of the diabetes self-management plan should be evaluated, especially in the context of cardiovascular health, as diabetes is a significant risk factor for complications such as heart disease and stroke.\\n- **Medication Management:** The combination of Clopidogrel and Alteplase indicates the patient may have experienced an acute cardiovascular event or stroke, necessitating careful monitoring and management of bleeding risks, especially with Alteplase.\\n- **Risk Factors:** The patient’s age, gender, and chronic conditions (diabetes) contribute to an increased risk for cardiovascular diseases and complications.\\n\\n### Recommendations for Further Assessment:\\n1. **Review of Medical History:** Detailed history of cardiovascular events, diabetes management, and any previous hospitalizations.\\n2. **Follow-Up on Procedures:** Assess outcomes of the echocardiography and thrombectomy, including any complications or subsequent interventions needed.\\n3. **Monitoring:** Close monitoring of cardiovascular health, blood pressure, blood glucose levels, and adherence to diabetes management protocols.\\n4. **Multidisciplinary Approach:** Consider involving a cardiologist, endocrinologist, and possibly a hematologist if clotting disorders are suspected.\\n\\n### Conclusion:\\nThe patient profile presents significant cardiovascular risks, particularly in the context of diabetes and recent interventions. This situation requires ongoing management and monitoring to optimize health outcomes and prevent future complications.\", ChatCompletionMessage(content=\"The thought presented in the preliminary assessment is both relevant and plausible, given the patient profile and the medical context provided. Here’s a breakdown of the evaluation:\\n\\n### Relevance:\\n1. **Patient Profile:** The age (53 years old), gender (female), and chronic condition (diabetes) are all relevant factors that significantly influence cardiovascular health. Diabetes is a well-known risk factor for cardiovascular diseases, making the assessment pertinent.\\n\\n2. **Chronic Conditions and Medications:** The medications listed (Clopidogrel and Alteplase) indicate a history of serious cardiovascular events, such as a stroke or myocardial infarction, which aligns with the patient's profile and highlights the need for careful management of her health. The inclusion of both an antiplatelet and a thrombolytic agent suggests acute intervention for a significant cardiovascular event.\\n\\n3. **Recent Medical Procedures:** The echocardiography and mechanical thrombectomy of the portal vein further emphasize the patient’s vascular issues, reinforcing the need for ongoing evaluation and management.\\n\\n4. **Cause of Death:** Mentioning the cause of death indicates that this assessment is likely part of a retrospective analysis, which is crucial for understanding the patient's overall health trajectory and the effectiveness of interventions.\\n\\n### Plausibility:\\n1. **Risk Factors:** The assessment accurately identifies the interplay of age, gender, and diabetes as risk factors for cardiovascular complications. This understanding is essential for developing a management plan.\\n\\n2. **Recommendations for Further Assessment:** The suggestions for further evaluation, including a review of medical history, follow-up on procedures, and a multidisciplinary approach, are practical and reflect standard clinical practices for managing complex cases.\\n\\n3. **Monitoring and Management:** The emphasis on monitoring cardiovascular health, blood pressure, and blood glucose levels is consistent with best practices in managing patients with diabetes and cardiovascular risks.\\n\\n4. **Multidisciplinary Approach:** The recommendation to involve specialists (cardiologist, endocrinologist, hematologist) is plausible and reflects a comprehensive approach to managing a patient with multiple health concerns.\\n\\n### Conclusion:\\nOverall, the assessment is well-founded, addressing the significant cardiovascular risks associated with the patient’s profile. The recommendations for further assessment and management are appropriate and align with current medical standards. Continuous monitoring and a multidisciplinary approach are critical for optimizing health outcomes in patients with complex medical histories, particularly those with diabetes and cardiovascular issues.\", refusal=None, role='assistant', audio=None, function_call=None, tool_calls=None)), (\"Based on the provided patient data, here is an initial assessment:\\n\\n### Patient Information\\n- **Age**: 53 years old (as of the current year, 2023)\\n- **Gender**: Female\\n\\n### Medical History\\n- **Diabetes**: The patient is on a diabetes self-management plan, suggesting a diagnosis of diabetes mellitus, which could be type 1 or type 2. Further information about blood glucose control, duration of diabetes, and any complications would be useful for a comprehensive assessment.\\n  \\n### Current Medications\\n- **Clopidogrel 75 MG Oral Tablet**: This is an antiplatelet medication often used to prevent blood clots in patients with cardiovascular disease. It suggests a history of cardiovascular issues, such as coronary artery disease or a previous myocardial infarction.\\n- **Alteplase 100 MG Injection**: This is a thrombolytic agent used to dissolve blood clots. The use of alteplase implies that the patient has suffered from an acute thrombotic event, possibly a stroke or myocardial infarction.\\n  \\n### Procedures\\n- **Echocardiography**: This non-invasive imaging test assesses the heart's function and structure. The necessity for this procedure may relate to underlying cardiac issues.\\n- **Percutaneous Mechanical Thrombectomy of Portal Vein**: This procedure indicates a significant thrombotic event in the portal vein, which could relate to conditions such as portal vein thrombosis or complications of cirrhosis or liver disease.\\n\\n### Observations\\n- **Cause of Death**: The specific details regarding the cause of death are not provided, but the context of thrombotic events and potential complications from diabetes might be relevant factors.\\n\\n### Summary\\nThe patient has a complex medical history involving diabetes management and significant cardiovascular and thromboembolic events. \\n\\n### Recommendations for Further Evaluation\\n1. **Diabetes Management**: Assess the patient's glycemic control (e.g., HbA1c levels) and any complications related to diabetes.\\n2. **Cardiac Evaluation**: Review the results of the echocardiogram and any other cardiac evaluations to assess cardiac function.\\n3. **Thrombosis Management**: Evaluate the underlying causes of thrombosis, including possible hypercoagulable states, and ensure appropriate anticoagulation management.\\n4. **Review of Medical History**: Gathering more information on the patient's medical history, including any previous hospitalizations, comorbidities, and lifestyle factors.\\n\\nThis initial assessment provides a basis for further investigation and management of the patient’s health status.\", ChatCompletionMessage(content=\"The thought presented in the initial assessment is relevant and plausible, particularly in the context of a patient with multiple health concerns. Here’s a breakdown of its components:\\n\\n### Relevance:\\n\\n1. **Patient Demographics**: The age and gender of the patient are relevant factors that can influence the risk of cardiovascular disease and diabetes complications.\\n\\n2. **Medical History**: Diabetes is a significant risk factor for cardiovascular disease and thrombotic events. The mention of a self-management plan indicates the patient is engaged in their care, which is crucial for diabetes management.\\n\\n3. **Current Medications**: The use of clopidogrel and alteplase suggests a history of serious cardiovascular events, which aligns with the potential for complications from both diabetes and thrombotic conditions. This indicates a high-risk patient for further cardiovascular issues.\\n\\n4. **Procedures**: The echocardiogram and percutaneous mechanical thrombectomy of the portal vein highlight serious underlying health issues, including potential heart failure and significant vascular complications. These procedures are relevant in understanding the patient's condition and risks.\\n\\n5. **Cause of Death**: While not explicitly detailed, the assessment correctly identifies that thrombotic events and diabetes-related complications could contribute to mortality, making the inquiry into the cause of death relevant.\\n\\n### Plausibility:\\n\\n1. **Complex Medical History**: The assessment accurately reflects the complexity of the patient's medical history, which is plausible given the combination of diabetes, cardiovascular issues, and thrombotic events.\\n\\n2. **Recommendations for Further Evaluation**: The suggested evaluations, including diabetes management, cardiac evaluation, and thrombosis management, are appropriate and necessary steps in managing a patient with such a complex presentation.\\n\\n3. **Interconnectedness of Conditions**: The connections drawn between diabetes, cardiovascular disease, and thrombotic events are well-established in medical literature, making the assessment plausible.\\n\\n### Summary:\\nOverall, the thought process is well-structured and logically follows from the patient's medical history and current condition. The recommendations for further evaluation are appropriate given the patient's complexity. It emphasizes the need for a multidisciplinary approach to manage the patient effectively, which is crucial in cases involving multiple comorbidities like diabetes and cardiovascular disease. This assessment serves as a solid foundation for further investigation and management of the patient’s health status.\", refusal=None, role='assistant', audio=None, function_call=None, tool_calls=None)), ('Based on the provided patient data, here is an initial assessment:\\n\\n**Patient Profile:**\\n- **Age:** 53 years old (as of October 2023)\\n- **Gender:** Female\\n- **Underlying Conditions:** Diabetes (as indicated by the care plan for diabetes self-management)\\n- **Medications:** \\n  - Clopidogrel (an antiplatelet medication, often used to prevent blood clots)\\n  - Alteplase (a thrombolytic used for acute ischemic stroke, myocardial infarction, or pulmonary embolism)\\n- **Procedures:** \\n  - Echocardiography (to assess heart function and structure)\\n  - Percutaneous mechanical thrombectomy of the portal vein (an invasive procedure to remove a clot from the portal vein, indicating a serious vascular event, likely related to thrombosis)\\n\\n**Observations:**\\n- The mention of \"Cause of Death\" suggests that this patient may have passed away. A thorough review of circumstances surrounding the death would be necessary, including any potential links to COVID-19 if applicable.\\n- The lack of immunization information is significant, especially concerning COVID-19. Vaccination status could impact the patient\\'s risk profile for severe disease.\\n\\n**Risk Factors:**\\n- Age (53 years old)\\n- Diabetes (a chronic condition that can increase the risk of severe outcomes from infections, including COVID-19)\\n- Recent procedures (suggesting possible acute illness or complications)\\n\\n**Considerations:**\\n- If the cause of death is related to COVID-19, it is important to review any history of symptoms, testing, and treatment for the virus.\\n- Evaluate any complications arising from the underlying conditions (diabetes) and recent procedures (thrombectomy).\\n- Determine if there were any known allergies or other medications that could have influenced the patient\\'s health status.\\n\\n**Next Steps:**\\n1. Confirm the cause of death and investigate any connection to COVID-19, particularly if the patient had tested positive or exhibited symptoms.\\n2. Assess the patient\\'s immunization history, especially regarding COVID-19 vaccines, as this may influence the interpretation of the clinical scenario.\\n3. Review the patient’s medical records for additional context regarding her health leading up to the death, including any recent infections, hospitalizations, or changes in health status. \\n\\nOverall, further investigation into the circumstances of the death is essential for a comprehensive understanding of the patient\\'s health and any potential links to COVID-19 or other health complications.', ChatCompletionMessage(content=\"The thought presented offers a comprehensive and systematic approach to evaluating a patient profile with significant underlying health conditions and recent medical interventions. Here's an evaluation of its relevance and plausibility:\\n\\n**Relevance:**\\n1. **Patient Profile Consideration:** The details about the patient's age, gender, underlying conditions (diabetes), and medications are crucial. These factors play a significant role in assessing the patient's overall risk for severe outcomes from infections, including COVID-19.\\n  \\n2. **Underlying Conditions and Medications:** Diabetes is a well-known risk factor for severe COVID-19 outcomes. The medications listed (Clopidogrel and Alteplase) indicate a history of cardiovascular issues, which could further complicate the patient's response to infections.\\n\\n3. **Procedures:** The mention of a recent percutaneous mechanical thrombectomy suggests a serious vascular event, which could indicate underlying health concerns that may have been exacerbated by an infection or other complications.\\n\\n4. **Cause of Death:** The inquiry into the cause of death is particularly relevant, especially in the context of the ongoing COVID-19 pandemic. Understanding whether COVID-19 played a role is essential in assessing the patient's health trajectory.\\n\\n5. **Immunization Status:** The lack of information about the patient's vaccination status against COVID-19 is a significant gap. Vaccination can greatly reduce the risk of severe illness and death, making this a critical factor in the evaluation.\\n\\n**Plausibility:**\\n1. **Investigation of COVID-19 Link:** The proposed next steps are plausible and align with best practices in clinical evaluation. Confirming the cause of death and investigating any connections to COVID-19 is a logical approach, given the pandemic context.\\n\\n2. **Assessment of Complications:** The recommendation to review potential complications from underlying conditions and recent procedures is relevant. This aligns with a holistic view of patient health and recognizes the interplay between various health factors.\\n\\n3. **Comprehensive Review of Medical Records:** Suggesting a thorough review of the patient's medical history, including any recent infections or hospitalizations, is a sensible step to gain a complete understanding of the patient's health status leading up to the death.\\n\\n**Conclusion:**\\nOverall, the thought is both relevant and plausible. It reflects a thorough and nuanced approach to a complex clinical scenario, emphasizing the need for further investigation into the patient's health status, potential COVID-19 involvement, and the impact of underlying conditions and treatments. This approach is essential for accurate clinical assessment and understanding the broader implications of the patient's health outcomes.\", refusal=None, role='assistant', audio=None, function_call=None, tool_calls=None)), ('Based on the provided patient data, the following initial assessment can be made:\\n\\n### Patient Demographics:\\n- **Age:** 53 years old (as of October 2023)\\n- **Gender:** Female\\n\\n### Medical History:\\n1. **Diabetes:** The patient has a care plan for diabetes self-management, indicating a diagnosis of diabetes. It\\'s important to assess her current glycemic control, any complications, and medication adherence.\\n  \\n2. **Medications:** \\n   - **Clopidogrel (75 MG Oral Tablet):** An antiplatelet medication often used to prevent blood clots. This indicates a history of cardiovascular issues, such as coronary artery disease or a previous stroke.\\n   - **Alteplase (100 MG Injection):** A thrombolytic agent used to dissolve clots, suggesting a recent acute event, likely a stroke or myocardial infarction.\\n\\n3. **Procedures:**\\n   - **Echocardiography:** Performed to assess cardiac function and structure, which may be necessary due to her underlying conditions.\\n   - **Percutaneous Mechanical Thrombectomy of Portal Vein:** This indicates a serious condition such as portal vein thrombosis, which can be related to the recent use of alteplase.\\n\\n### Observations:\\n- The mention of \"Cause of Death\" suggests that this patient\\'s condition may have been critical or resulted in a significant health decline leading to mortality. Further investigation into the cause is essential for understanding the context of her treatment and end-of-life care.\\n\\n### Considerations:\\n- **Cardiovascular Risk:** With diabetes and the use of antiplatelet medication, she is at increased risk for cardiovascular events. Monitoring and management of cardiovascular health are crucial.\\n  \\n- **Diabetes Management:** Assess her blood glucose levels, HbA1c, and any complications related to diabetes, such as neuropathy, nephropathy, or retinopathy.\\n\\n- **Thrombotic Events:** Given the use of alteplase and the thrombectomy procedure, a review of her thrombotic history and any potential underlying causes (like dehydration, malignancy, or genetic conditions) is necessary.\\n\\n### Action Plan:\\n1. **Detailed Review of Medical Records:** Investigate the specific circumstances leading to her treatment with alteplase and the thrombectomy.\\n2. **Assess Current Health Status:** Monitor vital signs, neurological status, and any signs of complications from procedures or medications.\\n3. **Coordinate with Specialists:** Engage with cardiologists and endocrinologists for comprehensive management of her conditions.\\n4. **Discuss End-of-Life Care:** If applicable, ensure that the patient\\'s wishes regarding care and treatment are understood and respected.\\n\\n### Conclusion:\\nThis initial assessment highlights the need for a comprehensive review of the patient\\'s medical history and current treatment to guide future management and address any critical health issues that may have contributed to her decline.', ChatCompletionMessage(content='The thought presented offers a thorough and structured assessment of a hypothetical patient with a complex medical history. Here\\'s an evaluation of its relevance and plausibility:\\n\\n### Relevance:\\n1. **Patient Demographics and Medical History:** The demographics and medical history provided are relevant for understanding the patient\\'s overall health status. The age and gender are appropriate indicators for risk factors associated with cardiovascular disease and diabetes.\\n\\n2. **Medication Review:** The medications listed (Clopidogrel and Alteplase) are pertinent to the patient\\'s history of cardiovascular issues and acute events. This highlights the importance of assessing the implications of these medications on her health outcomes.\\n\\n3. **Procedures:** The mention of echocardiography and percutaneous mechanical thrombectomy of the portal vein is relevant, as these procedures are directly linked to the patient\\'s existing health conditions and can inform potential complications.\\n\\n4. **Observations and Considerations:** The assessment of cardiovascular risk, diabetes management, and thrombotic events is highly relevant given the patient\\'s history. These factors are crucial in determining the patient\\'s prognosis and guiding treatment.\\n\\n5. **Action Plan:** The proposed action plan is practical and aligns with standard medical practice. It emphasizes the need for a comprehensive review and interdisciplinary collaboration, which is essential in managing complex cases.\\n\\n### Plausibility:\\n1. **Medical History and Treatment Rationale:** The combination of diabetes, antiplatelet therapy, and thrombolytic treatment is plausible and reflects real-world scenarios where patients present with both diabetes and cardiovascular complications.\\n\\n2. **Cause of Death Consideration:** The mention of \"Cause of Death\" is plausible and indicates a serious condition that warrants further investigation. It is realistic to consider how the patient\\'s medical history and treatment could lead to critical health declines.\\n\\n3. **Specialist Coordination:** The recommendation to coordinate with specialists is a standard practice in managing patients with multiple comorbidities, making it a plausible approach for comprehensive care.\\n\\n4. **End-of-Life Care Discussion:** The acknowledgment of end-of-life care considerations is appropriate, especially for patients with serious health conditions. This reflects a holistic approach to patient care.\\n\\n### Conclusion:\\nOverall, the assessment is both relevant and plausible. It effectively outlines the complexities of the patient\\'s health status and provides a logical framework for further management. The focus on interdisciplinary care and patient-centered discussions about treatment and end-of-life options aligns well with contemporary medical practices.', refusal=None, role='assistant', audio=None, function_call=None, tool_calls=None)), (\"Based on the provided patient data, here is an initial assessment:\\n\\n**Patient Profile:**\\n- **Age:** 53 years old (as of October 2023)\\n- **Gender:** Female\\n- **Medical History:** The patient has a diabetes self-management plan, indicating a history of diabetes, which can complicate other health issues, including infections and recovery from illnesses.\\n  \\n**Current Medications:**\\n- **Clopidogrel 75 MG Oral Tablet:** This is an antiplatelet medication used to prevent blood clots. It suggests that the patient may have a history of cardiovascular issues.\\n- **Alteplase 100 MG Injection:** This is a thrombolytic agent used to dissolve blood clots. The use of this medication, along with the procedure for percutaneous mechanical thrombectomy, indicates a significant vascular event, likely an acute thromboembolic incident.\\n\\n**Procedures:**\\n- **Echocardiography:** This imaging test assesses cardiac function and structure; the results can provide insights into underlying heart conditions that may be present.\\n- **Percutaneous mechanical thrombectomy of portal vein using fluoroscopic guidance:** This suggests a serious vascular issue affecting the portal vein, likely due to thrombosis. \\n\\n**Observations:**\\n- The patient's cause of death is noted, but specific details are not provided. Given the history of anticoagulation treatment and procedures related to thrombus management, the cause of death may be related to cardiovascular complications or thrombotic events.\\n\\n**Considerations:**\\n1. **Cardiovascular Stability:** Given the medication and procedures, ongoing monitoring of cardiovascular status is critical.\\n2. **Diabetes Management:** Effective diabetes management is essential to prevent further complications. This includes monitoring blood glucose levels and adhering to the diabetes care plan.\\n3. **Risk of Infection:** Patients with diabetes and who have undergone significant procedures may have an increased risk of infections, including respiratory infections like COVID-19.\\n4. **COVID-19 Considerations:** Given the ongoing nature of the pandemic, it is important to assess the patient's vaccination status against COVID-19 and the potential risk factors associated with her current health conditions, especially if she presents with respiratory symptoms.\\n\\n**Next Steps:**\\n- Review the patient's vaccination history for COVID-19 and other relevant immunizations.\\n- Evaluate for signs of acute respiratory distress or infection.\\n- Conduct further laboratory tests, including complete blood count, inflammatory markers, and possibly COVID-19 testing if indicated.\\n- Consider a multidisciplinary approach for comprehensive care, especially concerning the patient's diabetes management and cardiovascular health.\\n\\nThis assessment should be further refined with additional clinical data and results from ongoing assessments.\", ChatCompletionMessage(content=\"The thought presented in the initial assessment is highly relevant and plausible, given the patient's profile and current medical context. Here’s a detailed evaluation of its components:\\n\\n1. **Patient Profile and Medical History:**\\n   - The age (53 years old) and gender (female) provide a context for potential health risks, including cardiovascular diseases and diabetes complications.\\n   - The mention of diabetes is particularly relevant, as it is known to increase the risk of infections and can complicate recovery from illnesses, including COVID-19.\\n\\n2. **Current Medications and Procedures:**\\n   - The use of **Clopidogrel** indicates a history of cardiovascular issues, which is significant in assessing the patient's overall health risk, especially concerning thrombotic events.\\n   - The administration of **Alteplase** and the procedure for **percutaneous mechanical thrombectomy** suggest a serious acute condition, likely involving significant vascular compromise. This context is crucial when considering the patient's prognosis and risk factors for complications.\\n\\n3. **Observations:**\\n   - The assessment correctly identifies potential causes of death related to cardiovascular complications or thrombotic events, which aligns with the patient's medical history and current treatments.\\n\\n4. **Considerations:**\\n   - The focus on **cardiovascular stability** and **diabetes management** is critical. Poorly managed diabetes can exacerbate cardiovascular issues and increase the risk of complications from infections.\\n   - The point about the **risk of infection**, particularly respiratory infections like COVID-19, is very relevant. Patients with underlying conditions such as diabetes and recent vascular procedures are at increased risk for severe outcomes if they contract COVID-19.\\n   - The mention of **COVID-19 considerations** is timely, given the ongoing pandemic. Assessing vaccination status and potential exposure risks is essential in this context.\\n\\n5. **Next Steps:**\\n   - The proposed next steps are appropriate and reflect a comprehensive approach to patient care. Reviewing vaccination history, evaluating for signs of infection, and conducting laboratory tests are all critical components of ongoing assessment and management.\\n   - The recommendation for a **multidisciplinary approach** is particularly important, as it ensures that all aspects of the patient’s health—cardiovascular, diabetic, and potential infectious concerns—are addressed holistically.\\n\\nOverall, the assessment is well-structured, relevant, and plausible. It demonstrates an understanding of the complexities involved in managing a patient with multiple health issues, particularly in the context of COVID-19. Further refinement with additional clinical data will enhance the assessment and inform treatment decisions moving forward.\", refusal=None, role='assistant', audio=None, function_call=None, tool_calls=None))]\n",
      "ChatCompletionMessage(content='Based on the provided patient data and assessment, the final diagnosis for this patient may be classified as follows:\\n\\n### Final Diagnosis:\\n- **Acute Cardiovascular Event** (likely a stroke or myocardial infarction) leading to the need for thrombolytic therapy (Alteplase) and subsequent mechanical thrombectomy.\\n- **Diabetes Mellitus** (Type 2) with potential complications affecting cardiovascular health.\\n- **Chronic Thromboembolic Disease** (indicated by the need for mechanical thrombectomy of the portal vein).\\n- **Hypertension** (if not explicitly stated, but often associated with diabetes and cardiovascular issues).\\n\\n### Summary:\\nThis patient is a 53-year-old female with a history of diabetes and significant cardiovascular risk factors, who has experienced an acute cardiovascular event requiring advanced interventions. Her management plan should focus on controlling her diabetes, preventing further thromboembolic events, and monitoring her cardiovascular health closely to mitigate the risk of future complications.', refusal=None, role='assistant', audio=None, function_call=None, tool_calls=None)\n"
     ]
    }
   ],
   "source": [
    "patient_data = get_patient_info(\"58cac9ec-4baa-46c1-b919-0ed13572b51d\")\n",
    "diagnosis = disease_prediction(patient_data)\n",
    "print(diagnosis)"
   ]
  },
  {
   "cell_type": "code",
   "execution_count": null,
   "metadata": {},
   "outputs": [],
   "source": []
  }
 ],
 "metadata": {
  "kernelspec": {
   "display_name": "pytorch-ai",
   "language": "python",
   "name": "python3"
  },
  "language_info": {
   "codemirror_mode": {
    "name": "ipython",
    "version": 3
   },
   "file_extension": ".py",
   "mimetype": "text/x-python",
   "name": "python",
   "nbconvert_exporter": "python",
   "pygments_lexer": "ipython3",
   "version": "3.9.20"
  }
 },
 "nbformat": 4,
 "nbformat_minor": 2
}
